{
 "cells": [
  {
   "cell_type": "code",
   "execution_count": 1,
   "metadata": {},
   "outputs": [],
   "source": [
    "import numpy as np\n",
    "import pandas as pd\n",
    "import pickle\n",
    "import lightgbm as lgb\n",
    "import sklearn as sk\n",
    "from sklearn import ensemble"
   ]
  },
  {
   "cell_type": "code",
   "execution_count": 2,
   "metadata": {},
   "outputs": [],
   "source": [
    "x_val_list = pickle.load(open('../gen_data/test_data_enriched--enrich1.ipynb--.pickle','rb'))\n",
    "x_train_list = pickle.load(open('../gen_data/x_train--simple_validation_split.ipynb--.pickle','rb'))\n",
    "y_train_list = pickle.load(open('../gen_data/y_train--simple_validation_split.ipynb--.pickle','rb'))\n",
    "y_val_list = pickle.load(open('../gen_data/y_val--simple_validation_split.ipynb--.pickle','rb'))\n",
    "test0 = pd.read_csv('../original_data/test.csv.gz')"
   ]
  },
  {
   "cell_type": "code",
   "execution_count": 3,
   "metadata": {},
   "outputs": [],
   "source": [
    "RUN_ON_TEST=False\n",
    "FILE_NUM = 2"
   ]
  },
  {
   "cell_type": "code",
   "execution_count": 4,
   "metadata": {},
   "outputs": [],
   "source": [
    "#assign variables to full train - test split\n",
    "if RUN_ON_TEST:\n",
    "    x_train = x_train_list.pop()\n",
    "    y_train = y_train_list.pop()\n",
    "    x_val = x_val_list.pop()\n",
    "    y_val = y_val_list.pop()\n",
    "else:\n",
    "    # with train - validation split\n",
    "    x_train = x_train_list[0]\n",
    "    y_train = y_train_list[0]\n",
    "    x_val = x_val_list[0]\n",
    "    y_val = y_val_list[0]"
   ]
  },
  {
   "cell_type": "code",
   "execution_count": 5,
   "metadata": {},
   "outputs": [],
   "source": [
    "#write these files to analyse in R to make sure theyre correct\n",
    "\n",
    "if RUN_ON_TEST:\n",
    "    x_val.to_csv('../gen_data/x_val_testfold.csv',index=False,na_rep=np.nan)\n",
    "    y_val.to_csv('../gen_data/y_val_testfold.csv',index=False,na_rep=np.nan)\n",
    "    x_train.to_csv('../gen_data/x_train_testfold.csv',index=False,na_rep=np.nan)\n",
    "    y_train.to_csv('../gen_data/y_train_testfold.csv',index=False,na_rep=np.nan)\n",
    "else:\n",
    "    x_val.to_csv('../gen_data/x_val_valfold.csv',index=False,na_rep=np.nan)\n",
    "    y_val.to_csv('../gen_data/y_val_valfold.csv',index=False,na_rep=np.nan)\n",
    "    x_train.to_csv('../gen_data/x_train_valfold.csv',index=False,na_rep=np.nan)\n",
    "    y_train.to_csv('../gen_data/y_train_valfold.csv',index=False,na_rep=np.nan)\n"
   ]
  },
  {
   "cell_type": "code",
   "execution_count": 6,
   "metadata": {},
   "outputs": [],
   "source": [
    "#model specific preprocessing\n",
    "def model1_preproc(x,*args):\n",
    "    x = x.fillna(999)\n",
    "    if len(args):\n",
    "        y = args[0]\n",
    "        return([x.drop(['shop_name','item_name','item_category_name'],axis=1),y])\n",
    "    else:\n",
    "        return(x.drop(['shop_name','item_name','item_category_name'],axis=1))"
   ]
  },
  {
   "cell_type": "code",
   "execution_count": 7,
   "metadata": {},
   "outputs": [
    {
     "name": "stderr",
     "output_type": "stream",
     "text": [
      "[Parallel(n_jobs=4)]: Using backend ThreadingBackend with 4 concurrent workers.\n"
     ]
    },
    {
     "name": "stdout",
     "output_type": "stream",
     "text": [
      "building tree 1 of 10building tree 2 of 10building tree 3 of 10\n",
      "building tree 4 of 10\n",
      "\n",
      "\n",
      "building tree 5 of 10\n",
      "building tree 6 of 10\n",
      "building tree 7 of 10\n",
      "building tree 8 of 10\n"
     ]
    },
    {
     "name": "stderr",
     "output_type": "stream",
     "text": [
      "[Parallel(n_jobs=4)]: Done   5 out of  10 | elapsed:   10.8s remaining:   10.8s\n"
     ]
    },
    {
     "name": "stdout",
     "output_type": "stream",
     "text": [
      "building tree 9 of 10\n",
      "building tree 10 of 10\n"
     ]
    },
    {
     "name": "stderr",
     "output_type": "stream",
     "text": [
      "[Parallel(n_jobs=4)]: Done   7 out of  10 | elapsed:   11.2s remaining:    4.7s\n",
      "[Parallel(n_jobs=4)]: Done  10 out of  10 | elapsed:   15.0s finished\n"
     ]
    },
    {
     "data": {
      "text/plain": [
       "RandomForestRegressor(bootstrap=True, criterion='mse', max_depth=None,\n",
       "           max_features='auto', max_leaf_nodes=None,\n",
       "           min_impurity_decrease=0.0, min_impurity_split=None,\n",
       "           min_samples_leaf=1, min_samples_split=2,\n",
       "           min_weight_fraction_leaf=0.0, n_estimators=10, n_jobs=4,\n",
       "           oob_score=False, random_state=0, verbose=10, warm_start=False)"
      ]
     },
     "execution_count": 7,
     "metadata": {},
     "output_type": "execute_result"
    }
   ],
   "source": [
    "xtp , ytp = model1_preproc(x_train,y_train) \n",
    "model = ensemble.RandomForestRegressor(verbose=10,n_jobs=4,n_estimators=10,random_state=0)\n",
    "model.fit(xtp,ytp)"
   ]
  },
  {
   "cell_type": "code",
   "execution_count": 8,
   "metadata": {},
   "outputs": [],
   "source": [
    "xvp  = model1_preproc(x_val)"
   ]
  },
  {
   "cell_type": "code",
   "execution_count": 9,
   "metadata": {},
   "outputs": [
    {
     "name": "stderr",
     "output_type": "stream",
     "text": [
      "[Parallel(n_jobs=4)]: Using backend ThreadingBackend with 4 concurrent workers.\n",
      "[Parallel(n_jobs=4)]: Done   5 out of  10 | elapsed:    0.1s remaining:    0.1s\n",
      "[Parallel(n_jobs=4)]: Done   7 out of  10 | elapsed:    0.1s remaining:    0.0s\n",
      "[Parallel(n_jobs=4)]: Done  10 out of  10 | elapsed:    0.1s finished\n"
     ]
    }
   ],
   "source": [
    "preds = model.predict(xvp)"
   ]
  },
  {
   "cell_type": "code",
   "execution_count": 10,
   "metadata": {},
   "outputs": [
    {
     "data": {
      "text/plain": [
       "5.221515674727515"
      ]
     },
     "execution_count": 10,
     "metadata": {},
     "output_type": "execute_result"
    }
   ],
   "source": [
    "np.sqrt(np.mean((preds-y_val)**2))\n",
    "#4.683318375274549\n",
    "#7.11131996802233"
   ]
  },
  {
   "cell_type": "code",
   "execution_count": 11,
   "metadata": {},
   "outputs": [
    {
     "data": {
      "text/html": [
       "<div>\n",
       "<style scoped>\n",
       "    .dataframe tbody tr th:only-of-type {\n",
       "        vertical-align: middle;\n",
       "    }\n",
       "\n",
       "    .dataframe tbody tr th {\n",
       "        vertical-align: top;\n",
       "    }\n",
       "\n",
       "    .dataframe thead th {\n",
       "        text-align: right;\n",
       "    }\n",
       "</style>\n",
       "<table border=\"1\" class=\"dataframe\">\n",
       "  <thead>\n",
       "    <tr style=\"text-align: right;\">\n",
       "      <th></th>\n",
       "      <th>date_block_num</th>\n",
       "      <th>shop_id</th>\n",
       "      <th>item_id</th>\n",
       "      <th>item_category_id</th>\n",
       "      <th>shop_name</th>\n",
       "      <th>item_name</th>\n",
       "      <th>item_category_name</th>\n",
       "    </tr>\n",
       "  </thead>\n",
       "  <tbody>\n",
       "    <tr>\n",
       "      <th>0</th>\n",
       "      <td>33</td>\n",
       "      <td>5</td>\n",
       "      <td>5037</td>\n",
       "      <td>19.0</td>\n",
       "      <td>Вологда ТРЦ \"Мармелад\"</td>\n",
       "      <td>NHL 15 [PS3, русские субтитры]</td>\n",
       "      <td>Игры - PS3</td>\n",
       "    </tr>\n",
       "    <tr>\n",
       "      <th>1</th>\n",
       "      <td>33</td>\n",
       "      <td>5</td>\n",
       "      <td>5320</td>\n",
       "      <td>NaN</td>\n",
       "      <td>NaN</td>\n",
       "      <td>NaN</td>\n",
       "      <td>NaN</td>\n",
       "    </tr>\n",
       "    <tr>\n",
       "      <th>2</th>\n",
       "      <td>33</td>\n",
       "      <td>5</td>\n",
       "      <td>5233</td>\n",
       "      <td>19.0</td>\n",
       "      <td>Вологда ТРЦ \"Мармелад\"</td>\n",
       "      <td>Need for Speed Rivals (Essentials) [PS3, русск...</td>\n",
       "      <td>Игры - PS3</td>\n",
       "    </tr>\n",
       "    <tr>\n",
       "      <th>3</th>\n",
       "      <td>33</td>\n",
       "      <td>5</td>\n",
       "      <td>5232</td>\n",
       "      <td>23.0</td>\n",
       "      <td>Вологда ТРЦ \"Мармелад\"</td>\n",
       "      <td>Need for Speed Rivals (Classics) [Xbox 360, ру...</td>\n",
       "      <td>Игры - XBOX 360</td>\n",
       "    </tr>\n",
       "    <tr>\n",
       "      <th>4</th>\n",
       "      <td>33</td>\n",
       "      <td>5</td>\n",
       "      <td>5268</td>\n",
       "      <td>NaN</td>\n",
       "      <td>NaN</td>\n",
       "      <td>NaN</td>\n",
       "      <td>NaN</td>\n",
       "    </tr>\n",
       "  </tbody>\n",
       "</table>\n",
       "</div>"
      ],
      "text/plain": [
       "   date_block_num  shop_id  item_id  item_category_id               shop_name  \\\n",
       "0              33        5     5037              19.0  Вологда ТРЦ \"Мармелад\"   \n",
       "1              33        5     5320               NaN                     NaN   \n",
       "2              33        5     5233              19.0  Вологда ТРЦ \"Мармелад\"   \n",
       "3              33        5     5232              23.0  Вологда ТРЦ \"Мармелад\"   \n",
       "4              33        5     5268               NaN                     NaN   \n",
       "\n",
       "                                           item_name item_category_name  \n",
       "0                     NHL 15 [PS3, русские субтитры]         Игры - PS3  \n",
       "1                                                NaN                NaN  \n",
       "2  Need for Speed Rivals (Essentials) [PS3, русск...         Игры - PS3  \n",
       "3  Need for Speed Rivals (Classics) [Xbox 360, ру...    Игры - XBOX 360  \n",
       "4                                                NaN                NaN  "
      ]
     },
     "execution_count": 11,
     "metadata": {},
     "output_type": "execute_result"
    }
   ],
   "source": [
    "x_val.head()"
   ]
  },
  {
   "cell_type": "code",
   "execution_count": null,
   "metadata": {},
   "outputs": [],
   "source": []
  },
  {
   "cell_type": "code",
   "execution_count": 12,
   "metadata": {},
   "outputs": [],
   "source": [
    "if RUN_ON_TEST:\n",
    "    submission = x_val.copy()\n",
    "    submission['item_cnt_month'] = preds\n",
    "    submission.drop(['date_block_num','item_category_id','shop_name','item_name','item_category_name'],axis=1,inplace=True)\n",
    "    submission = test0.merge(submission,'right',on=['shop_id','item_id']).drop(['shop_id','item_id'],axis=1)\n",
    "    submission.to_csv('../gen_data/model1sub_'+str(FILE_NUM)+'_--model1_script1.ipynb--.csv',index=False)\n",
    "    "
   ]
  },
  {
   "cell_type": "code",
   "execution_count": null,
   "metadata": {},
   "outputs": [],
   "source": []
  }
 ],
 "metadata": {
  "kernelspec": {
   "display_name": "Python 3",
   "language": "python",
   "name": "python3"
  },
  "language_info": {
   "codemirror_mode": {
    "name": "ipython",
    "version": 3
   },
   "file_extension": ".py",
   "mimetype": "text/x-python",
   "name": "python",
   "nbconvert_exporter": "python",
   "pygments_lexer": "ipython3",
   "version": "3.7.1"
  }
 },
 "nbformat": 4,
 "nbformat_minor": 2
}
