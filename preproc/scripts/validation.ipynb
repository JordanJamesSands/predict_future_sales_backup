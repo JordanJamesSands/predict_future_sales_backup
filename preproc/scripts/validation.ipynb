{
 "cells": [
  {
   "cell_type": "code",
   "execution_count": 95,
   "metadata": {},
   "outputs": [],
   "source": [
    "#import sys\n",
    "#!{sys.executable} -m pip install lightgbm"
   ]
  },
  {
   "cell_type": "code",
   "execution_count": 105,
   "metadata": {},
   "outputs": [],
   "source": [
    "import numpy as np\n",
    "import pandas as pd\n",
    "import pickle\n",
    "import lightgbm as lgb"
   ]
  },
  {
   "cell_type": "code",
   "execution_count": 110,
   "metadata": {},
   "outputs": [],
   "source": [
    "f = open('../../gen_data/master_validation_list.pickle','rb')\n",
    "x_train_list , y_train_list , x_val_list, y_val_list = pickle.load(f)"
   ]
  },
  {
   "cell_type": "code",
   "execution_count": 111,
   "metadata": {},
   "outputs": [],
   "source": [
    "#saved in validation_library.py\n",
    "def dropstrings(df):\n",
    "    return(df.drop(['item_name','item_category_name','shop_name'],axis=1))"
   ]
  },
  {
   "cell_type": "code",
   "execution_count": 112,
   "metadata": {},
   "outputs": [
    {
     "data": {
      "text/plain": [
       "128"
      ]
     },
     "execution_count": 112,
     "metadata": {},
     "output_type": "execute_result"
    }
   ],
   "source": [
    "2**7"
   ]
  },
  {
   "cell_type": "code",
   "execution_count": 113,
   "metadata": {},
   "outputs": [],
   "source": [
    "#this will be saved to validation_library.py\n",
    "def custom_validation(model,x_train_list,y_train_list,x_val_list,y_val_list,**kwargs):\n",
    "    n_folds = len(x_train_list)\n",
    "    #assuming all lists are same length\n",
    "    loss_list=[]\n",
    "    for i in range(n_folds):\n",
    "        model.fit(dropstrings(x_train_list[i]),y_train_list[i],**kwargs)\n",
    "        preds = model.predict(dropstrings(x_val_list[i]))\n",
    "        loss = np.sqrt(np.mean((preds - y_val_list[i])**2))\n",
    "        loss_list.append(loss)\n",
    "    return(loss_list)"
   ]
  },
  {
   "cell_type": "code",
   "execution_count": 97,
   "metadata": {},
   "outputs": [],
   "source": [
    "lgbmod = lgb.LGBMRegressor(max_depth=10,learning_rate=0.1,n_estimators=100)\n",
    "scores = custom_validation(lgbmod,x_train_list,y_train_list,x_val_list,y_val_list)"
   ]
  },
  {
   "cell_type": "code",
   "execution_count": 98,
   "metadata": {},
   "outputs": [
    {
     "data": {
      "text/plain": [
       "array([575, 506, 982, 937])"
      ]
     },
     "execution_count": 98,
     "metadata": {},
     "output_type": "execute_result"
    }
   ],
   "source": [
    "lgbmod.feature_importances_"
   ]
  },
  {
   "cell_type": "code",
   "execution_count": 101,
   "metadata": {},
   "outputs": [
    {
     "data": {
      "text/plain": [
       "0           0\n",
       "1           0\n",
       "2           0\n",
       "3           0\n",
       "4           0\n",
       "5           0\n",
       "6           0\n",
       "7           0\n",
       "8           0\n",
       "9           0\n",
       "10          0\n",
       "11          0\n",
       "12          0\n",
       "13          0\n",
       "14          0\n",
       "15          0\n",
       "16          0\n",
       "17          0\n",
       "18          0\n",
       "19          0\n",
       "20          0\n",
       "21          0\n",
       "22          0\n",
       "23          0\n",
       "24          0\n",
       "25          0\n",
       "26          0\n",
       "27          0\n",
       "28          0\n",
       "29          0\n",
       "           ..\n",
       "1107614    59\n",
       "1107615    59\n",
       "1107616    59\n",
       "1107617    59\n",
       "1107618    59\n",
       "1107619    59\n",
       "1107620    59\n",
       "1107621    59\n",
       "1107622    59\n",
       "1107623    59\n",
       "1107624    59\n",
       "1107625    59\n",
       "1107626    59\n",
       "1107627    59\n",
       "1107628    59\n",
       "1107629    59\n",
       "1107630    59\n",
       "1107631    59\n",
       "1107632    59\n",
       "1107633    59\n",
       "1107634    59\n",
       "1107635    59\n",
       "1107636    59\n",
       "1107637    59\n",
       "1107638    59\n",
       "1107639    59\n",
       "1107640    59\n",
       "1107641    59\n",
       "1107642    59\n",
       "1107643    59\n",
       "Name: shop_id, Length: 1107644, dtype: category\n",
       "Categories (57, int64): [0, 1, 2, 3, ..., 56, 57, 58, 59]"
      ]
     },
     "execution_count": 101,
     "metadata": {},
     "output_type": "execute_result"
    }
   ],
   "source": [
    "pd.Series(x_train_list[0]['shop_id'],dtype='category')"
   ]
  },
  {
   "cell_type": "code",
   "execution_count": 114,
   "metadata": {},
   "outputs": [
    {
     "data": {
      "text/plain": [
       "lightgbm.sklearn.LGBMRegressor"
      ]
     },
     "execution_count": 114,
     "metadata": {},
     "output_type": "execute_result"
    }
   ],
   "source": [
    "type(lgbmod)"
   ]
  },
  {
   "cell_type": "code",
   "execution_count": null,
   "metadata": {},
   "outputs": [],
   "source": []
  }
 ],
 "metadata": {
  "kernelspec": {
   "display_name": "Python 3",
   "language": "python",
   "name": "python3"
  },
  "language_info": {
   "codemirror_mode": {
    "name": "ipython",
    "version": 3
   },
   "file_extension": ".py",
   "mimetype": "text/x-python",
   "name": "python",
   "nbconvert_exporter": "python",
   "pygments_lexer": "ipython3",
   "version": "3.7.0"
  }
 },
 "nbformat": 4,
 "nbformat_minor": 2
}
