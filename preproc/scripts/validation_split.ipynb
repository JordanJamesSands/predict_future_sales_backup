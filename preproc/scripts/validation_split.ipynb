{
 "cells": [
  {
   "cell_type": "code",
   "execution_count": 75,
   "metadata": {},
   "outputs": [],
   "source": [
    "import numpy as np\n",
    "import pandas as pd\n",
    "import sklearn\n",
    "from sklearn import model_selection\n",
    "import pickle"
   ]
  },
  {
   "cell_type": "code",
   "execution_count": 76,
   "metadata": {},
   "outputs": [],
   "source": [
    "train2 = pd.read_csv('../../gen_data/train2.csv')\n",
    "test0py = pd.read_csv('../../original_data/test.csv.gz')"
   ]
  },
  {
   "cell_type": "code",
   "execution_count": 77,
   "metadata": {},
   "outputs": [
    {
     "data": {
      "text/plain": [
       "date_block_num         int64\n",
       "shop_id                int64\n",
       "item_id                int64\n",
       "item_category_id       int64\n",
       "shop_name             object\n",
       "item_name             object\n",
       "item_category_name    object\n",
       "sales                  int64\n",
       "dtype: object"
      ]
     },
     "execution_count": 77,
     "metadata": {},
     "output_type": "execute_result"
    }
   ],
   "source": [
    "train2.dtypes "
   ]
  },
  {
   "cell_type": "code",
   "execution_count": 78,
   "metadata": {},
   "outputs": [
    {
     "data": {
      "text/plain": [
       "date_block_num           int32\n",
       "shop_id                  int32\n",
       "item_id                  int32\n",
       "item_category_id         int32\n",
       "shop_name             category\n",
       "item_name             category\n",
       "item_category_name    category\n",
       "sales                    int32\n",
       "dtype: object"
      ]
     },
     "execution_count": 78,
     "metadata": {},
     "output_type": "execute_result"
    }
   ],
   "source": [
    "#im sure theres a better way of doing this\n",
    "train2['date_block_num'] =   pd.Series(train2['date_block_num'],dtype=np.int32)\n",
    "train2['shop_id'] =          pd.Series(train2['shop_id'],dtype=np.int32)\n",
    "train2['item_id'] =          pd.Series(train2['item_id'],dtype=np.int32)\n",
    "train2['item_category_id'] = pd.Series(train2['item_category_id'],dtype=np.int32)\n",
    "train2['sales'] =            pd.Series(train2['sales'],dtype=np.int32)\n",
    "\n",
    "train2['shop_name'] = pd.Series(train2['shop_name'],dtype='category')\n",
    "train2['item_name'] = pd.Series(train2['item_name'],dtype='category')\n",
    "train2['item_category_name'] = pd.Series(train2['item_category_name'],dtype='category')\n",
    "\n",
    "train2.dtypes"
   ]
  },
  {
   "cell_type": "code",
   "execution_count": 81,
   "metadata": {},
   "outputs": [],
   "source": [
    "#need to split in to many train validation sets, keep it simple and space *inefficient*\n",
    "x_train_list = []\n",
    "x_val_list = []\n",
    "y_train_list = []\n",
    "y_val_list = []\n",
    "\n",
    "\n",
    "for val_month in range(21,34):\n",
    "    \n",
    "    val =   train2[train2['date_block_num']==val_month]\n",
    "    val = val.merge(test0py,'right',on=['shop_id','item_id']).sort_values('ID')\n",
    "    val['sales'] = val['sales'].fillna(0)\n",
    "    \n",
    "    train = train2[train2['date_block_num']<val_month]\n",
    "    \n",
    "    y_train = train['sales']\n",
    "    x_train = train.drop('sales',axis=1)\n",
    "    y_val = val['sales']\n",
    "    x_val = val.drop('sales',axis=1)\n",
    "    \n",
    "    \n",
    "    \n",
    "    x_val_list.append(x_val)\n",
    "    x_train_list.append(x_train)\n",
    "    y_val_list.append(y_val)\n",
    "    y_train_list.append(y_train)\n",
    "    \n",
    "\n",
    "    "
   ]
  },
  {
   "cell_type": "code",
   "execution_count": 83,
   "metadata": {},
   "outputs": [],
   "source": [
    "#x_val_list[0]"
   ]
  },
  {
   "cell_type": "code",
   "execution_count": 62,
   "metadata": {},
   "outputs": [],
   "source": [
    "f = open('../../gen_data/master_validation_list.pickle','wb')\n",
    "pickle.dump([x_train_list,y_train_list,x_val_list,y_val_list],f)\n",
    "f.close()"
   ]
  },
  {
   "cell_type": "code",
   "execution_count": 65,
   "metadata": {},
   "outputs": [],
   "source": [
    "#v = y_val_list[12]\n",
    "#newval = val.merge(test0py,'right',on=['shop_id','item_id'])[['ID','sales']].sort_values('ID')\n",
    "#newval.fillna(0,inplace=True)"
   ]
  },
  {
   "cell_type": "code",
   "execution_count": 66,
   "metadata": {},
   "outputs": [],
   "source": [
    "#val_counts = train2['date_block_num'].value_counts()\n",
    "#val_counts = val_counts.sort_index()\n",
    "#val_counts"
   ]
  },
  {
   "cell_type": "code",
   "execution_count": 67,
   "metadata": {},
   "outputs": [],
   "source": [
    "#np.cumsum(val_counts)"
   ]
  },
  {
   "cell_type": "code",
   "execution_count": 68,
   "metadata": {},
   "outputs": [],
   "source": [
    "#x_train_list[0].shape\n",
    "#should be 1107644"
   ]
  },
  {
   "cell_type": "code",
   "execution_count": 69,
   "metadata": {},
   "outputs": [],
   "source": [
    "#x_val_list[0].shape\n",
    "#should be 42595"
   ]
  },
  {
   "cell_type": "code",
   "execution_count": 70,
   "metadata": {},
   "outputs": [],
   "source": [
    "#x_val_list[-1].shape\n",
    "#should be 31531"
   ]
  },
  {
   "cell_type": "code",
   "execution_count": 71,
   "metadata": {},
   "outputs": [],
   "source": [
    "#y_val_list[-1].shape\n",
    "#should be 31531"
   ]
  },
  {
   "cell_type": "code",
   "execution_count": 72,
   "metadata": {},
   "outputs": [],
   "source": [
    "#mvl = list()\n",
    "#mvl.append(x_train_list)\n",
    "#mvl.append(y_train_list)\n",
    "#mvl.append(x_val_list)\n",
    "#mvl.append(y_val_list)"
   ]
  },
  {
   "cell_type": "code",
   "execution_count": 73,
   "metadata": {},
   "outputs": [],
   "source": [
    "#master_validation_list = mvl"
   ]
  },
  {
   "cell_type": "code",
   "execution_count": 61,
   "metadata": {},
   "outputs": [],
   "source": []
  },
  {
   "cell_type": "code",
   "execution_count": null,
   "metadata": {},
   "outputs": [],
   "source": []
  }
 ],
 "metadata": {
  "kernelspec": {
   "display_name": "Python 3",
   "language": "python",
   "name": "python3"
  },
  "language_info": {
   "codemirror_mode": {
    "name": "ipython",
    "version": 3
   },
   "file_extension": ".py",
   "mimetype": "text/x-python",
   "name": "python",
   "nbconvert_exporter": "python",
   "pygments_lexer": "ipython3",
   "version": "3.7.0"
  }
 },
 "nbformat": 4,
 "nbformat_minor": 2
}
