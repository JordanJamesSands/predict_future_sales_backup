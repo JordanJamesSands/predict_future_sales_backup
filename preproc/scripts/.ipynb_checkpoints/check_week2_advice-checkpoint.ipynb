{
 "cells": [
  {
   "cell_type": "code",
   "execution_count": 7,
   "metadata": {},
   "outputs": [],
   "source": [
    "import pandas as pd\n",
    "import numpy as np"
   ]
  },
  {
   "cell_type": "code",
   "execution_count": 12,
   "metadata": {},
   "outputs": [],
   "source": [
    "test0py = pd.read_csv('../../original_data/test.csv.gz')"
   ]
  },
  {
   "cell_type": "code",
   "execution_count": 14,
   "metadata": {},
   "outputs": [],
   "source": [
    "train2 = pd.read_csv('../../gen_data/train2.csv')"
   ]
  },
  {
   "cell_type": "code",
   "execution_count": 27,
   "metadata": {},
   "outputs": [],
   "source": [
    "X = train2[train2['date_block_num']==33].drop(['date_block_num','shop_name','item_name','item_category_name','item_category_id'],axis=1)"
   ]
  },
  {
   "cell_type": "code",
   "execution_count": 52,
   "metadata": {},
   "outputs": [
    {
     "data": {
      "text/html": [
       "<div>\n",
       "<style scoped>\n",
       "    .dataframe tbody tr th:only-of-type {\n",
       "        vertical-align: middle;\n",
       "    }\n",
       "\n",
       "    .dataframe tbody tr th {\n",
       "        vertical-align: top;\n",
       "    }\n",
       "\n",
       "    .dataframe thead th {\n",
       "        text-align: right;\n",
       "    }\n",
       "</style>\n",
       "<table border=\"1\" class=\"dataframe\">\n",
       "  <thead>\n",
       "    <tr style=\"text-align: right;\">\n",
       "      <th></th>\n",
       "      <th>ID</th>\n",
       "      <th>item_cnt_month</th>\n",
       "    </tr>\n",
       "  </thead>\n",
       "  <tbody>\n",
       "    <tr>\n",
       "      <th>0</th>\n",
       "      <td>0</td>\n",
       "      <td>0.0</td>\n",
       "    </tr>\n",
       "    <tr>\n",
       "      <th>1</th>\n",
       "      <td>1</td>\n",
       "      <td>0.0</td>\n",
       "    </tr>\n",
       "    <tr>\n",
       "      <th>2</th>\n",
       "      <td>2</td>\n",
       "      <td>1.0</td>\n",
       "    </tr>\n",
       "    <tr>\n",
       "      <th>3</th>\n",
       "      <td>3</td>\n",
       "      <td>0.0</td>\n",
       "    </tr>\n",
       "    <tr>\n",
       "      <th>4</th>\n",
       "      <td>4</td>\n",
       "      <td>0.0</td>\n",
       "    </tr>\n",
       "  </tbody>\n",
       "</table>\n",
       "</div>"
      ],
      "text/plain": [
       "   ID  item_cnt_month\n",
       "0   0             0.0\n",
       "1   1             0.0\n",
       "2   2             1.0\n",
       "3   3             0.0\n",
       "4   4             0.0"
      ]
     },
     "execution_count": 52,
     "metadata": {},
     "output_type": "execute_result"
    }
   ],
   "source": [
    "week2_advice = pd.merge(test0py,X,how='left',on=['shop_id','item_id']).drop(['shop_id','item_id'],axis=1)\n",
    "week2_advice.columns = ['ID','item_cnt_month']\n",
    "week2_advice['item_cnt_month'] = np.where(week2_advice['item_cnt_month'].isna(),0,week2_advice['item_cnt_month'])\n",
    "week2_advice.head()"
   ]
  },
  {
   "cell_type": "code",
   "execution_count": 47,
   "metadata": {},
   "outputs": [],
   "source": [
    "week2_advice.to_csv('../../gen_data/week2_advice.csv',index=False)"
   ]
  },
  {
   "cell_type": "code",
   "execution_count": 62,
   "metadata": {},
   "outputs": [],
   "source": [
    "#this code, (or something similar) will be saved in customModels.py\n",
    "test0py = pd.read_csv('../../original_data/test.csv.gz')\n",
    "class aggModel:\n",
    "    \n",
    "    def __init__(self,agg_len):\n",
    "        self.agg_len = agg_len\n",
    "    def fit(self,x_data,y_data):\n",
    "        max_date_block = max(x_data['date_block_num'])\n",
    "        \n",
    "        X = x_data[(x_data['date_block_num']<=max_date_block) & (x_data['date_block_num'] > (max_date_block - self.agg_len))]\n",
    "        \n",
    "        X = pd.merge(test0py,X,how='left',on=['shop_id','item_id'])\n",
    "        X = X.fillna(0)\n",
    "        self.pred = X['sales']\n",
    "        \n",
    "    def predict(self,x_data):\n",
    "        return(self.pred)"
   ]
  },
  {
   "cell_type": "code",
   "execution_count": 75,
   "metadata": {},
   "outputs": [],
   "source": [
    "mod = aggModel(1)"
   ]
  },
  {
   "cell_type": "code",
   "execution_count": 76,
   "metadata": {},
   "outputs": [
    {
     "data": {
      "text/plain": [
       "1"
      ]
     },
     "execution_count": 76,
     "metadata": {},
     "output_type": "execute_result"
    }
   ],
   "source": [
    "mod.agg_len"
   ]
  },
  {
   "cell_type": "code",
   "execution_count": null,
   "metadata": {},
   "outputs": [],
   "source": []
  },
  {
   "cell_type": "code",
   "execution_count": 77,
   "metadata": {},
   "outputs": [],
   "source": [
    "mod.fit(train2,train2['sales'])"
   ]
  },
  {
   "cell_type": "code",
   "execution_count": 78,
   "metadata": {},
   "outputs": [
    {
     "data": {
      "text/plain": [
       "0         0.0\n",
       "1         0.0\n",
       "2         1.0\n",
       "3         0.0\n",
       "4         0.0\n",
       "5         1.0\n",
       "6         2.0\n",
       "7         0.0\n",
       "8         0.0\n",
       "9         0.0\n",
       "10        3.0\n",
       "11        0.0\n",
       "12        0.0\n",
       "13        0.0\n",
       "14        2.0\n",
       "15        6.0\n",
       "16        0.0\n",
       "17        0.0\n",
       "18        2.0\n",
       "19        0.0\n",
       "20        1.0\n",
       "21        0.0\n",
       "22        1.0\n",
       "23        1.0\n",
       "24        3.0\n",
       "25        0.0\n",
       "26        0.0\n",
       "27        0.0\n",
       "28        2.0\n",
       "29        7.0\n",
       "         ... \n",
       "214170    0.0\n",
       "214171    0.0\n",
       "214172    0.0\n",
       "214173    0.0\n",
       "214174    0.0\n",
       "214175    0.0\n",
       "214176    0.0\n",
       "214177    0.0\n",
       "214178    0.0\n",
       "214179    0.0\n",
       "214180    0.0\n",
       "214181    0.0\n",
       "214182    0.0\n",
       "214183    0.0\n",
       "214184    0.0\n",
       "214185    0.0\n",
       "214186    0.0\n",
       "214187    1.0\n",
       "214188    0.0\n",
       "214189    0.0\n",
       "214190    0.0\n",
       "214191    0.0\n",
       "214192    0.0\n",
       "214193    0.0\n",
       "214194    0.0\n",
       "214195    1.0\n",
       "214196    0.0\n",
       "214197    0.0\n",
       "214198    0.0\n",
       "214199    0.0\n",
       "Name: sales, Length: 214200, dtype: float64"
      ]
     },
     "execution_count": 78,
     "metadata": {},
     "output_type": "execute_result"
    }
   ],
   "source": [
    "mod.predict(train2)"
   ]
  },
  {
   "cell_type": "code",
   "execution_count": null,
   "metadata": {},
   "outputs": [],
   "source": []
  }
 ],
 "metadata": {
  "kernelspec": {
   "display_name": "Python 3",
   "language": "python",
   "name": "python3"
  },
  "language_info": {
   "codemirror_mode": {
    "name": "ipython",
    "version": 3
   },
   "file_extension": ".py",
   "mimetype": "text/x-python",
   "name": "python",
   "nbconvert_exporter": "python",
   "pygments_lexer": "ipython3",
   "version": "3.7.0"
  }
 },
 "nbformat": 4,
 "nbformat_minor": 2
}
