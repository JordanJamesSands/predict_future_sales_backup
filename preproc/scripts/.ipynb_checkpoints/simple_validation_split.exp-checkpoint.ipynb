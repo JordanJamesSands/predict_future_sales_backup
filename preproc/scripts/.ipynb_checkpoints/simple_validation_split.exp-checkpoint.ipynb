{
 "cells": [
  {
   "cell_type": "code",
   "execution_count": 1,
   "metadata": {},
   "outputs": [],
   "source": [
    "#the purpose of this notebook is to split ../../gen_data/train2.csv into training set(s), targets , \n",
    "#validation set(s), validation targets.\n",
    "\n",
    "#inputs: ../../gen_data/train2.csv\n",
    "#outputs:\n",
    "            #python list of training set(s)\n",
    "            #python list of targets\n",
    "            #python list of validation set(s) identical in format to ../../original_data/test.csv.gz"
   ]
  },
  {
   "cell_type": "code",
   "execution_count": 2,
   "metadata": {},
   "outputs": [],
   "source": [
    "import numpy as np\n",
    "import pandas as pd\n",
    "import pickle\n"
   ]
  },
  {
   "cell_type": "code",
   "execution_count": 3,
   "metadata": {},
   "outputs": [
    {
     "data": {
      "text/html": [
       "<div>\n",
       "<style scoped>\n",
       "    .dataframe tbody tr th:only-of-type {\n",
       "        vertical-align: middle;\n",
       "    }\n",
       "\n",
       "    .dataframe tbody tr th {\n",
       "        vertical-align: top;\n",
       "    }\n",
       "\n",
       "    .dataframe thead th {\n",
       "        text-align: right;\n",
       "    }\n",
       "</style>\n",
       "<table border=\"1\" class=\"dataframe\">\n",
       "  <thead>\n",
       "    <tr style=\"text-align: right;\">\n",
       "      <th></th>\n",
       "      <th>date_block_num</th>\n",
       "      <th>shop_id</th>\n",
       "      <th>item_id</th>\n",
       "      <th>item_category_id</th>\n",
       "      <th>shop_name</th>\n",
       "      <th>item_name</th>\n",
       "      <th>item_category_name</th>\n",
       "      <th>item_cnt_month</th>\n",
       "    </tr>\n",
       "  </thead>\n",
       "  <tbody>\n",
       "    <tr>\n",
       "      <th>0</th>\n",
       "      <td>0</td>\n",
       "      <td>0</td>\n",
       "      <td>32</td>\n",
       "      <td>40</td>\n",
       "      <td>!Якутск Орджоникидзе, 56 фран</td>\n",
       "      <td>1+1</td>\n",
       "      <td>Кино - DVD</td>\n",
       "      <td>6</td>\n",
       "    </tr>\n",
       "    <tr>\n",
       "      <th>1</th>\n",
       "      <td>0</td>\n",
       "      <td>0</td>\n",
       "      <td>33</td>\n",
       "      <td>37</td>\n",
       "      <td>!Якутск Орджоникидзе, 56 фран</td>\n",
       "      <td>1+1 (BD)</td>\n",
       "      <td>Кино - Blu-Ray</td>\n",
       "      <td>3</td>\n",
       "    </tr>\n",
       "    <tr>\n",
       "      <th>2</th>\n",
       "      <td>0</td>\n",
       "      <td>0</td>\n",
       "      <td>35</td>\n",
       "      <td>40</td>\n",
       "      <td>!Якутск Орджоникидзе, 56 фран</td>\n",
       "      <td>10 ЛЕТ СПУСТЯ</td>\n",
       "      <td>Кино - DVD</td>\n",
       "      <td>1</td>\n",
       "    </tr>\n",
       "    <tr>\n",
       "      <th>3</th>\n",
       "      <td>0</td>\n",
       "      <td>0</td>\n",
       "      <td>43</td>\n",
       "      <td>40</td>\n",
       "      <td>!Якутск Орджоникидзе, 56 фран</td>\n",
       "      <td>100 МИЛЛИОНОВ ЕВРО</td>\n",
       "      <td>Кино - DVD</td>\n",
       "      <td>1</td>\n",
       "    </tr>\n",
       "    <tr>\n",
       "      <th>4</th>\n",
       "      <td>0</td>\n",
       "      <td>0</td>\n",
       "      <td>51</td>\n",
       "      <td>57</td>\n",
       "      <td>!Якутск Орджоникидзе, 56 фран</td>\n",
       "      <td>100 лучших произведений классики (mp3-CD) (Dig...</td>\n",
       "      <td>Музыка - MP3</td>\n",
       "      <td>2</td>\n",
       "    </tr>\n",
       "  </tbody>\n",
       "</table>\n",
       "</div>"
      ],
      "text/plain": [
       "   date_block_num  shop_id  item_id  item_category_id  \\\n",
       "0               0        0       32                40   \n",
       "1               0        0       33                37   \n",
       "2               0        0       35                40   \n",
       "3               0        0       43                40   \n",
       "4               0        0       51                57   \n",
       "\n",
       "                       shop_name  \\\n",
       "0  !Якутск Орджоникидзе, 56 фран   \n",
       "1  !Якутск Орджоникидзе, 56 фран   \n",
       "2  !Якутск Орджоникидзе, 56 фран   \n",
       "3  !Якутск Орджоникидзе, 56 фран   \n",
       "4  !Якутск Орджоникидзе, 56 фран   \n",
       "\n",
       "                                           item_name item_category_name  \\\n",
       "0                                                1+1         Кино - DVD   \n",
       "1                                           1+1 (BD)     Кино - Blu-Ray   \n",
       "2                                      10 ЛЕТ СПУСТЯ         Кино - DVD   \n",
       "3                                 100 МИЛЛИОНОВ ЕВРО         Кино - DVD   \n",
       "4  100 лучших произведений классики (mp3-CD) (Dig...       Музыка - MP3   \n",
       "\n",
       "   item_cnt_month  \n",
       "0               6  \n",
       "1               3  \n",
       "2               1  \n",
       "3               1  \n",
       "4               2  "
      ]
     },
     "execution_count": 3,
     "metadata": {},
     "output_type": "execute_result"
    },
    {
     "data": {
      "text/html": [
       "<div>\n",
       "<style scoped>\n",
       "    .dataframe tbody tr th:only-of-type {\n",
       "        vertical-align: middle;\n",
       "    }\n",
       "\n",
       "    .dataframe tbody tr th {\n",
       "        vertical-align: top;\n",
       "    }\n",
       "\n",
       "    .dataframe thead th {\n",
       "        text-align: right;\n",
       "    }\n",
       "</style>\n",
       "<table border=\"1\" class=\"dataframe\">\n",
       "  <thead>\n",
       "    <tr style=\"text-align: right;\">\n",
       "      <th></th>\n",
       "      <th>date_block_num</th>\n",
       "      <th>shop_id</th>\n",
       "      <th>item_id</th>\n",
       "      <th>item_category_id</th>\n",
       "      <th>shop_name</th>\n",
       "      <th>item_name</th>\n",
       "      <th>item_category_name</th>\n",
       "      <th>item_cnt_month</th>\n",
       "    </tr>\n",
       "  </thead>\n",
       "  <tbody>\n",
       "    <tr>\n",
       "      <th>0</th>\n",
       "      <td>0</td>\n",
       "      <td>0</td>\n",
       "      <td>32</td>\n",
       "      <td>40</td>\n",
       "      <td>!Якутск Орджоникидзе, 56 фран</td>\n",
       "      <td>1+1</td>\n",
       "      <td>Кино - DVD</td>\n",
       "      <td>6</td>\n",
       "    </tr>\n",
       "    <tr>\n",
       "      <th>1</th>\n",
       "      <td>0</td>\n",
       "      <td>0</td>\n",
       "      <td>33</td>\n",
       "      <td>37</td>\n",
       "      <td>!Якутск Орджоникидзе, 56 фран</td>\n",
       "      <td>1+1 (BD)</td>\n",
       "      <td>Кино - Blu-Ray</td>\n",
       "      <td>3</td>\n",
       "    </tr>\n",
       "    <tr>\n",
       "      <th>2</th>\n",
       "      <td>0</td>\n",
       "      <td>0</td>\n",
       "      <td>35</td>\n",
       "      <td>40</td>\n",
       "      <td>!Якутск Орджоникидзе, 56 фран</td>\n",
       "      <td>10 ЛЕТ СПУСТЯ</td>\n",
       "      <td>Кино - DVD</td>\n",
       "      <td>1</td>\n",
       "    </tr>\n",
       "    <tr>\n",
       "      <th>3</th>\n",
       "      <td>0</td>\n",
       "      <td>0</td>\n",
       "      <td>43</td>\n",
       "      <td>40</td>\n",
       "      <td>!Якутск Орджоникидзе, 56 фран</td>\n",
       "      <td>100 МИЛЛИОНОВ ЕВРО</td>\n",
       "      <td>Кино - DVD</td>\n",
       "      <td>1</td>\n",
       "    </tr>\n",
       "    <tr>\n",
       "      <th>4</th>\n",
       "      <td>0</td>\n",
       "      <td>0</td>\n",
       "      <td>51</td>\n",
       "      <td>57</td>\n",
       "      <td>!Якутск Орджоникидзе, 56 фран</td>\n",
       "      <td>100 лучших произведений классики (mp3-CD) (Dig...</td>\n",
       "      <td>Музыка - MP3</td>\n",
       "      <td>2</td>\n",
       "    </tr>\n",
       "  </tbody>\n",
       "</table>\n",
       "</div>"
      ],
      "text/plain": [
       "   date_block_num  shop_id  item_id  item_category_id  \\\n",
       "0               0        0       32                40   \n",
       "1               0        0       33                37   \n",
       "2               0        0       35                40   \n",
       "3               0        0       43                40   \n",
       "4               0        0       51                57   \n",
       "\n",
       "                       shop_name  \\\n",
       "0  !Якутск Орджоникидзе, 56 фран   \n",
       "1  !Якутск Орджоникидзе, 56 фран   \n",
       "2  !Якутск Орджоникидзе, 56 фран   \n",
       "3  !Якутск Орджоникидзе, 56 фран   \n",
       "4  !Якутск Орджоникидзе, 56 фран   \n",
       "\n",
       "                                           item_name item_category_name  \\\n",
       "0                                                1+1         Кино - DVD   \n",
       "1                                           1+1 (BD)     Кино - Blu-Ray   \n",
       "2                                      10 ЛЕТ СПУСТЯ         Кино - DVD   \n",
       "3                                 100 МИЛЛИОНОВ ЕВРО         Кино - DVD   \n",
       "4  100 лучших произведений классики (mp3-CD) (Dig...       Музыка - MP3   \n",
       "\n",
       "   item_cnt_month  \n",
       "0               6  \n",
       "1               3  \n",
       "2               1  \n",
       "3               1  \n",
       "4               2  "
      ]
     },
     "execution_count": 3,
     "metadata": {},
     "output_type": "execute_result"
    }
   ],
   "source": [
    "train2 = pd.read_csv('../../gen_data/train2.csv')\n",
    "train2.head()"
   ]
  },
  {
   "cell_type": "code",
   "execution_count": null,
   "metadata": {},
   "outputs": [],
   "source": [
    "#as a reference, get test\n",
    "test = pd.read_csv('../../original_data/test.csv.gz')\n",
    "test.head()"
   ]
  },
  {
   "cell_type": "code",
   "execution_count": null,
   "metadata": {},
   "outputs": [],
   "source": [
    "training_bool = train2['date_block_num']<33\n",
    "y_train_to_32 = train2['item_cnt_month'][training_bool]\n",
    "x_train_to_32 = train2.drop('item_cnt_month',axis=1)[training_bool]"
   ]
  },
  {
   "cell_type": "code",
   "execution_count": null,
   "metadata": {},
   "outputs": [],
   "source": [
    "validation_bool = train2['date_block_num']==33\n",
    "validation_33 = train2[validation_bool].merge(test,'right',on=['item_id','shop_id'])"
   ]
  },
  {
   "cell_type": "code",
   "execution_count": null,
   "metadata": {
    "scrolled": true
   },
   "outputs": [],
   "source": [
    "validation_33.head()"
   ]
  },
  {
   "cell_type": "code",
   "execution_count": null,
   "metadata": {},
   "outputs": [],
   "source": [
    "#dropped this, x_valid_33 is the same as test, only need y_valid_33\n",
    "\n",
    "#need to drop columns to make it like test.csv in original_data\n",
    "#validation_33.drop(['date_block_num','item_category_id','shop_name','item_name','item_category_name'],axis=1,inplace=True)\n",
    "#validation_33.head()"
   ]
  },
  {
   "cell_type": "code",
   "execution_count": null,
   "metadata": {},
   "outputs": [],
   "source": [
    "#dropped this, x_valid_33 is the same as test, only need y_valid_33\n",
    "\n",
    "#x_valid_33 = validation_33[['ID','shop_id','item_id']]\n",
    "y_valid_33 = validation_33['item_cnt_month']\n",
    "#x_valid_33.head()"
   ]
  },
  {
   "cell_type": "code",
   "execution_count": null,
   "metadata": {},
   "outputs": [],
   "source": [
    "#now prep train test data\n",
    "y_train_to_33 = train2['item_cnt_month']\n",
    "x_train_to_33 = train2.drop('item_cnt_month',axis=1)\n"
   ]
  },
  {
   "cell_type": "code",
   "execution_count": null,
   "metadata": {},
   "outputs": [],
   "source": [
    "#dropped this, x_valid_33 is the same as test, only need y_valid_33\n",
    "\n",
    "#x_valid_33 = x_valid_33.sort_values('ID')"
   ]
  },
  {
   "cell_type": "code",
   "execution_count": null,
   "metadata": {},
   "outputs": [],
   "source": [
    "y_test_nans = pd.Series(np.full(test.shape[0],np.nan))"
   ]
  },
  {
   "cell_type": "code",
   "execution_count": null,
   "metadata": {},
   "outputs": [],
   "source": [
    "#save items as a list so that I can add more validation schemes later\n",
    "pickle.dump([x_train_to_32,x_train_to_33],open('../../gen_data/x_train--simple_validation_split.ipynb--.pickle','wb'))\n",
    "pickle.dump([y_train_to_32,y_train_to_33],open('../../gen_data/y_train--simple_validation_split.ipynb--.pickle','wb'))\n",
    "pickle.dump([test,test],open('../../gen_data/x_val--simple_validation_split.ipynb--.pickle','wb'))\n",
    "pickle.dump([y_valid_33,y_test_nans],open('../../gen_data/y_val--simple_validation_split.ipynb--.pickle','wb'))"
   ]
  }
 ],
 "metadata": {
  "kernelspec": {
   "display_name": "Python 3",
   "language": "python",
   "name": "python3"
  },
  "language_info": {
   "codemirror_mode": {
    "name": "ipython",
    "version": 3
   },
   "file_extension": ".py",
   "mimetype": "text/x-python",
   "name": "python",
   "nbconvert_exporter": "python",
   "pygments_lexer": "ipython3",
   "version": "3.7.1"
  }
 },
 "nbformat": 4,
 "nbformat_minor": 2
}
