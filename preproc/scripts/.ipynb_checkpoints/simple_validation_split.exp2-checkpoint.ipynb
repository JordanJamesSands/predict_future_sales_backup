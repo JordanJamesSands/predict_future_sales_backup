{
 "cells": [
  {
   "cell_type": "code",
   "execution_count": 1,
   "metadata": {},
   "outputs": [],
   "source": [
    "import numpy as np\n",
    "import pandas as pd\n",
    "import pickle\n"
   ]
  },
  {
   "cell_type": "markdown",
   "metadata": {},
   "source": [
    "# Read in Data"
   ]
  },
  {
   "cell_type": "code",
   "execution_count": 2,
   "metadata": {},
   "outputs": [],
   "source": [
    "train2 = pd.read_csv('../../gen_data/train2.csv')\n",
    "#as a reference, get test\n",
    "test_df = pd.read_csv('../../original_data/test.csv.gz')"
   ]
  },
  {
   "cell_type": "markdown",
   "metadata": {},
   "source": [
    "# Split data"
   ]
  },
  {
   "cell_type": "markdown",
   "metadata": {},
   "source": [
    "### Generate X training data"
   ]
  },
  {
   "cell_type": "code",
   "execution_count": 3,
   "metadata": {},
   "outputs": [],
   "source": [
    "x_train_list = []\n",
    "x_train_list.append(train2[train2.date_block_num<33])\n",
    "x_train_list.append(train2)"
   ]
  },
  {
   "cell_type": "markdown",
   "metadata": {},
   "source": [
    "### Generate Y training data"
   ]
  },
  {
   "cell_type": "code",
   "execution_count": 4,
   "metadata": {},
   "outputs": [],
   "source": [
    "y_train_list = []\n",
    "y_train_list.append(x_train_list[0].item_cnt_month)\n",
    "y_train_list.append(x_train_list[1].item_cnt_month)"
   ]
  },
  {
   "cell_type": "markdown",
   "metadata": {},
   "source": [
    "### Delete target from x training data"
   ]
  },
  {
   "cell_type": "code",
   "execution_count": 5,
   "metadata": {},
   "outputs": [],
   "source": [
    "x_train_list[0] = x_train_list[0].drop('item_cnt_month',axis=1)\n",
    "x_train_list[1] = x_train_list[1].drop('item_cnt_month',axis=1)"
   ]
  },
  {
   "cell_type": "markdown",
   "metadata": {},
   "source": [
    "### Generate x test data"
   ]
  },
  {
   "cell_type": "code",
   "execution_count": 6,
   "metadata": {},
   "outputs": [],
   "source": [
    "x_test_list = []\n",
    "x_test_list.append(train2[train2.date_block_num==33].drop(['item_name','item_category_id','item_category_name','shop_name'],axis=1))\n",
    "x_test_list.append(test_df.drop('ID',axis=1))\n"
   ]
  },
  {
   "cell_type": "markdown",
   "metadata": {},
   "source": [
    "x_test_list[0] is missing rows from test_list[1], test_df is missing columns"
   ]
  },
  {
   "cell_type": "markdown",
   "metadata": {},
   "source": [
    "# Fix up test_list[0]"
   ]
  },
  {
   "cell_type": "markdown",
   "metadata": {},
   "source": [
    "### Add rows to test_list[0]"
   ]
  },
  {
   "cell_type": "code",
   "execution_count": 7,
   "metadata": {},
   "outputs": [],
   "source": [
    "x_test_list[0] = test_df.merge(x_test_list[0],how='left').drop('ID',axis=1)\n",
    "x_test_list[0]['item_cnt_month'] = x_test_list[0].item_cnt_month.fillna(0)"
   ]
  },
  {
   "cell_type": "markdown",
   "metadata": {},
   "source": [
    "### Fill in columns using only data that is available at the time"
   ]
  },
  {
   "cell_type": "code",
   "execution_count": 8,
   "metadata": {},
   "outputs": [],
   "source": [
    "x_test_list[0].date_block_num = 33"
   ]
  },
  {
   "cell_type": "markdown",
   "metadata": {},
   "source": [
    "##### Fill in item data"
   ]
  },
  {
   "cell_type": "code",
   "execution_count": 9,
   "metadata": {},
   "outputs": [],
   "source": [
    "#using x_train_list[0], (which goes up to and including month 32)\n",
    "x_train_32_item_data = x_train_list[0][['item_id','item_category_id','item_name','item_category_name']].drop_duplicates()\n",
    "x_test_list[0] = x_test_list[0].merge(x_train_32_item_data,how='left',on='item_id')"
   ]
  },
  {
   "cell_type": "markdown",
   "metadata": {},
   "source": [
    "##### Fill in shop data"
   ]
  },
  {
   "cell_type": "code",
   "execution_count": 10,
   "metadata": {},
   "outputs": [],
   "source": [
    "x_train_32_shop_data = x_train_list[0][['shop_id','shop_name']].drop_duplicates()\n",
    "x_test_list[0] = x_test_list[0].merge(x_train_32_shop_data,how='left',on='shop_id')"
   ]
  },
  {
   "cell_type": "markdown",
   "metadata": {},
   "source": [
    "# Fix up test_list[1]"
   ]
  },
  {
   "cell_type": "code",
   "execution_count": 11,
   "metadata": {},
   "outputs": [],
   "source": [
    "x_test_list[1]['date_block_num'] = 34"
   ]
  },
  {
   "cell_type": "code",
   "execution_count": 12,
   "metadata": {},
   "outputs": [],
   "source": [
    "x_train_33_item_data = x_train_list[1][['item_id','item_category_id','item_name','item_category_name']].drop_duplicates()\n",
    "x_test_list[1] = x_test_list[1].merge(x_train_33_item_data,how='left',on='item_id')"
   ]
  },
  {
   "cell_type": "code",
   "execution_count": 13,
   "metadata": {},
   "outputs": [],
   "source": [
    "x_train_33_shop_data = x_train_list[1][['shop_id','shop_name']].drop_duplicates()\n",
    "x_test_list[1] = x_test_list[1].merge(x_train_33_shop_data,how='left',on='shop_id')"
   ]
  },
  {
   "cell_type": "markdown",
   "metadata": {},
   "source": [
    "### split x and y"
   ]
  },
  {
   "cell_type": "code",
   "execution_count": 14,
   "metadata": {},
   "outputs": [],
   "source": [
    "y_test_list = []\n",
    "y_test_list.append(x_test_list[0].item_cnt_month)\n",
    "y_test_list.append(pd.Series(np.full(test_df.shape[0],np.nan),index=x_test_list[1]))\n",
    "\n",
    "x_test_list[0] = x_test_list[0].drop('item_cnt_month',axis=1)"
   ]
  },
  {
   "cell_type": "code",
   "execution_count": 15,
   "metadata": {},
   "outputs": [],
   "source": [
    "#save items as a list so that I can add more validation schemes later\n",
    "pickle.dump(x_train_list,open('../../gen_data/x_train--simple_validation_split.ipynb--.pickle','wb'))\n",
    "pickle.dump(y_train_list,open('../../gen_data/y_train--simple_validation_split.ipynb--.pickle','wb'))\n",
    "pickle.dump(x_test_list,open('../../gen_data/x_val--simple_validation_split.ipynb--.pickle','wb'))\n",
    "pickle.dump(y_test_list,open('../../gen_data/y_val--simple_validation_split.ipynb--.pickle','wb'))"
   ]
  },
  {
   "cell_type": "markdown",
   "metadata": {},
   "source": [
    "Ive just straight up paired month33 sales with test, like, linking the rows"
   ]
  },
  {
   "cell_type": "markdown",
   "metadata": {},
   "source": [
    "# exp"
   ]
  },
  {
   "cell_type": "code",
   "execution_count": 16,
   "metadata": {},
   "outputs": [],
   "source": [
    "train2 = pd.read_csv('../../gen_data/train2.csv')\n",
    "train2_33 = train2[train2.date_block_num==33]\n",
    "\n"
   ]
  },
  {
   "cell_type": "code",
   "execution_count": 17,
   "metadata": {},
   "outputs": [
    {
     "data": {
      "text/html": [
       "<div>\n",
       "<style scoped>\n",
       "    .dataframe tbody tr th:only-of-type {\n",
       "        vertical-align: middle;\n",
       "    }\n",
       "\n",
       "    .dataframe tbody tr th {\n",
       "        vertical-align: top;\n",
       "    }\n",
       "\n",
       "    .dataframe thead th {\n",
       "        text-align: right;\n",
       "    }\n",
       "</style>\n",
       "<table border=\"1\" class=\"dataframe\">\n",
       "  <thead>\n",
       "    <tr style=\"text-align: right;\">\n",
       "      <th></th>\n",
       "      <th>shop_id</th>\n",
       "      <th>item_id</th>\n",
       "      <th>date_block_num</th>\n",
       "      <th>item_category_id</th>\n",
       "      <th>item_name</th>\n",
       "      <th>item_category_name</th>\n",
       "      <th>shop_name</th>\n",
       "    </tr>\n",
       "  </thead>\n",
       "  <tbody>\n",
       "    <tr>\n",
       "      <th>0</th>\n",
       "      <td>5</td>\n",
       "      <td>5037</td>\n",
       "      <td>33</td>\n",
       "      <td>19.0</td>\n",
       "      <td>NHL 15 [PS3, русские субтитры]</td>\n",
       "      <td>Игры - PS3</td>\n",
       "      <td>Вологда ТРЦ \"Мармелад\"</td>\n",
       "    </tr>\n",
       "    <tr>\n",
       "      <th>1</th>\n",
       "      <td>5</td>\n",
       "      <td>5320</td>\n",
       "      <td>33</td>\n",
       "      <td>NaN</td>\n",
       "      <td>NaN</td>\n",
       "      <td>NaN</td>\n",
       "      <td>Вологда ТРЦ \"Мармелад\"</td>\n",
       "    </tr>\n",
       "    <tr>\n",
       "      <th>2</th>\n",
       "      <td>5</td>\n",
       "      <td>5233</td>\n",
       "      <td>33</td>\n",
       "      <td>19.0</td>\n",
       "      <td>Need for Speed Rivals (Essentials) [PS3, русск...</td>\n",
       "      <td>Игры - PS3</td>\n",
       "      <td>Вологда ТРЦ \"Мармелад\"</td>\n",
       "    </tr>\n",
       "    <tr>\n",
       "      <th>3</th>\n",
       "      <td>5</td>\n",
       "      <td>5232</td>\n",
       "      <td>33</td>\n",
       "      <td>23.0</td>\n",
       "      <td>Need for Speed Rivals (Classics) [Xbox 360, ру...</td>\n",
       "      <td>Игры - XBOX 360</td>\n",
       "      <td>Вологда ТРЦ \"Мармелад\"</td>\n",
       "    </tr>\n",
       "    <tr>\n",
       "      <th>4</th>\n",
       "      <td>5</td>\n",
       "      <td>5268</td>\n",
       "      <td>33</td>\n",
       "      <td>NaN</td>\n",
       "      <td>NaN</td>\n",
       "      <td>NaN</td>\n",
       "      <td>Вологда ТРЦ \"Мармелад\"</td>\n",
       "    </tr>\n",
       "  </tbody>\n",
       "</table>\n",
       "</div>"
      ],
      "text/plain": [
       "   shop_id  item_id  date_block_num  item_category_id  \\\n",
       "0        5     5037              33              19.0   \n",
       "1        5     5320              33               NaN   \n",
       "2        5     5233              33              19.0   \n",
       "3        5     5232              33              23.0   \n",
       "4        5     5268              33               NaN   \n",
       "\n",
       "                                           item_name item_category_name  \\\n",
       "0                     NHL 15 [PS3, русские субтитры]         Игры - PS3   \n",
       "1                                                NaN                NaN   \n",
       "2  Need for Speed Rivals (Essentials) [PS3, русск...         Игры - PS3   \n",
       "3  Need for Speed Rivals (Classics) [Xbox 360, ру...    Игры - XBOX 360   \n",
       "4                                                NaN                NaN   \n",
       "\n",
       "                shop_name  \n",
       "0  Вологда ТРЦ \"Мармелад\"  \n",
       "1  Вологда ТРЦ \"Мармелад\"  \n",
       "2  Вологда ТРЦ \"Мармелад\"  \n",
       "3  Вологда ТРЦ \"Мармелад\"  \n",
       "4  Вологда ТРЦ \"Мармелад\"  "
      ]
     },
     "execution_count": 17,
     "metadata": {},
     "output_type": "execute_result"
    }
   ],
   "source": [
    "x_test_list[0].head()"
   ]
  },
  {
   "cell_type": "code",
   "execution_count": 18,
   "metadata": {},
   "outputs": [
    {
     "data": {
      "text/plain": [
       "0    0.0\n",
       "1    0.0\n",
       "2    1.0\n",
       "3    0.0\n",
       "4    0.0\n",
       "Name: item_cnt_month, dtype: float64"
      ]
     },
     "execution_count": 18,
     "metadata": {},
     "output_type": "execute_result"
    }
   ],
   "source": [
    "y_test_list[0].head()"
   ]
  },
  {
   "cell_type": "code",
   "execution_count": 19,
   "metadata": {},
   "outputs": [
    {
     "data": {
      "text/html": [
       "<div>\n",
       "<style scoped>\n",
       "    .dataframe tbody tr th:only-of-type {\n",
       "        vertical-align: middle;\n",
       "    }\n",
       "\n",
       "    .dataframe tbody tr th {\n",
       "        vertical-align: top;\n",
       "    }\n",
       "\n",
       "    .dataframe thead th {\n",
       "        text-align: right;\n",
       "    }\n",
       "</style>\n",
       "<table border=\"1\" class=\"dataframe\">\n",
       "  <thead>\n",
       "    <tr style=\"text-align: right;\">\n",
       "      <th></th>\n",
       "      <th>date_block_num</th>\n",
       "      <th>shop_id</th>\n",
       "      <th>item_id</th>\n",
       "      <th>item_category_id</th>\n",
       "      <th>shop_name</th>\n",
       "      <th>item_name</th>\n",
       "      <th>item_category_name</th>\n",
       "      <th>item_cnt_month</th>\n",
       "    </tr>\n",
       "  </thead>\n",
       "  <tbody>\n",
       "    <tr>\n",
       "      <th>1579057</th>\n",
       "      <td>33</td>\n",
       "      <td>5</td>\n",
       "      <td>5233</td>\n",
       "      <td>19</td>\n",
       "      <td>Вологда ТРЦ \"Мармелад\"</td>\n",
       "      <td>Need for Speed Rivals (Essentials) [PS3, русск...</td>\n",
       "      <td>Игры - PS3</td>\n",
       "      <td>1.0</td>\n",
       "    </tr>\n",
       "  </tbody>\n",
       "</table>\n",
       "</div>"
      ],
      "text/plain": [
       "         date_block_num  shop_id  item_id  item_category_id  \\\n",
       "1579057              33        5     5233                19   \n",
       "\n",
       "                      shop_name  \\\n",
       "1579057  Вологда ТРЦ \"Мармелад\"   \n",
       "\n",
       "                                                 item_name item_category_name  \\\n",
       "1579057  Need for Speed Rivals (Essentials) [PS3, русск...         Игры - PS3   \n",
       "\n",
       "         item_cnt_month  \n",
       "1579057             1.0  "
      ]
     },
     "execution_count": 19,
     "metadata": {},
     "output_type": "execute_result"
    }
   ],
   "source": [
    "train2_33[(train2_33.item_id==5233)&(train2_33.shop_id==5)]"
   ]
  },
  {
   "cell_type": "code",
   "execution_count": null,
   "metadata": {},
   "outputs": [],
   "source": []
  },
  {
   "cell_type": "code",
   "execution_count": 20,
   "metadata": {},
   "outputs": [
    {
     "name": "stdout",
     "output_type": "stream",
     "text": [
      "(1577593, 7)\n",
      "(1609124, 7)\n",
      "(214200, 7)\n",
      "(214200, 7)\n",
      "(214200,)\n",
      "(214200,)\n",
      "(1577593,)\n",
      "(1609124,)\n"
     ]
    }
   ],
   "source": [
    "print(x_train_list[0].shape)\n",
    "print(x_train_list[1].shape)\n",
    "print(x_test_list[0].shape)\n",
    "print(x_test_list[1].shape)\n",
    "print(y_test_list[0].shape)\n",
    "print(y_test_list[1].shape)\n",
    "print(y_train_list[0].shape)\n",
    "print(y_train_list[1].shape)\n"
   ]
  },
  {
   "cell_type": "markdown",
   "metadata": {},
   "source": [
    "# end exp"
   ]
  },
  {
   "cell_type": "code",
   "execution_count": null,
   "metadata": {},
   "outputs": [],
   "source": []
  }
 ],
 "metadata": {
  "kernelspec": {
   "display_name": "Python 3",
   "language": "python",
   "name": "python3"
  },
  "language_info": {
   "codemirror_mode": {
    "name": "ipython",
    "version": 3
   },
   "file_extension": ".py",
   "mimetype": "text/x-python",
   "name": "python",
   "nbconvert_exporter": "python",
   "pygments_lexer": "ipython3",
   "version": "3.7.1"
  }
 },
 "nbformat": 4,
 "nbformat_minor": 2
}
