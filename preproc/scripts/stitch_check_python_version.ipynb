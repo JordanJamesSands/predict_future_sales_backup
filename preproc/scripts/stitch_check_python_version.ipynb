{
 "cells": [
  {
   "cell_type": "code",
   "execution_count": 1,
   "metadata": {},
   "outputs": [],
   "source": [
    "import pandas as pd\n",
    "import numpy as np"
   ]
  },
  {
   "cell_type": "code",
   "execution_count": 2,
   "metadata": {},
   "outputs": [],
   "source": [
    "items = pd.read_csv('../../original_data/items.csv')\n",
    "shops= pd.read_csv('../../original_data/shops.csv')\n",
    "item_cats= pd.read_csv('../../original_data/item_categories.csv')\n",
    "train0= pd.read_csv('../../original_data/sales_train.csv.gz')"
   ]
  },
  {
   "cell_type": "code",
   "execution_count": 3,
   "metadata": {},
   "outputs": [],
   "source": [
    "train1 = train0.merge(items).merge(item_cats).merge(shops)\n",
    "train1 = train1[['shop_id','item_id','item_category_id','item_name','item_category_name','date','date_block_num','item_price','item_cnt_day','shop_name']]\n",
    "train1 = train1.sort_values(train1.columns.tolist()).reset_index(drop=True)"
   ]
  },
  {
   "cell_type": "markdown",
   "metadata": {},
   "source": [
    "# compare"
   ]
  },
  {
   "cell_type": "code",
   "execution_count": 5,
   "metadata": {},
   "outputs": [],
   "source": [
    "train1_R = pd.read_csv('../../gen_data/train1.csv')\n",
    "train1_R = train1_R.sort_values(train1_R.columns.tolist()).reset_index(drop=True)\n",
    "train1_R['item_cnt_day'] = train1_R.item_cnt_day.astype(np.float64)"
   ]
  },
  {
   "cell_type": "code",
   "execution_count": 7,
   "metadata": {},
   "outputs": [
    {
     "data": {
      "text/plain": [
       "True"
      ]
     },
     "execution_count": 7,
     "metadata": {},
     "output_type": "execute_result"
    }
   ],
   "source": [
    "train1_R.equals(train1)"
   ]
  }
 ],
 "metadata": {
  "kernelspec": {
   "display_name": "Python 3",
   "language": "python",
   "name": "python3"
  },
  "language_info": {
   "codemirror_mode": {
    "name": "ipython",
    "version": 3
   },
   "file_extension": ".py",
   "mimetype": "text/x-python",
   "name": "python",
   "nbconvert_exporter": "python",
   "pygments_lexer": "ipython3",
   "version": "3.7.1"
  }
 },
 "nbformat": 4,
 "nbformat_minor": 2
}
