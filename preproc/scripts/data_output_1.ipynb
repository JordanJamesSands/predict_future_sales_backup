{
 "cells": [
  {
   "cell_type": "code",
   "execution_count": 1,
   "metadata": {},
   "outputs": [],
   "source": [
    "import pickle\n",
    "import numpy as np\n",
    "import pandas as pd\n",
    "import os"
   ]
  },
  {
   "cell_type": "code",
   "execution_count": 2,
   "metadata": {},
   "outputs": [],
   "source": [
    "x_train_list = pickle.load(open('../../gen_data/x_train--features3.ipynb--.pickle','rb'))\n",
    "x_test_list = pickle.load(open('../../gen_data/x_test--features3.ipynb--.pickle','rb'))\n",
    "y_train_list = pickle.load(open('../../gen_data/y_train--features1.1.ipynb--.pickle','rb'))\n",
    "y_test_list = pickle.load(open('../../gen_data/y_val--simple_validation_split.ipynb--.pickle','rb'))"
   ]
  },
  {
   "cell_type": "code",
   "execution_count": 3,
   "metadata": {},
   "outputs": [
    {
     "data": {
      "text/plain": [
       "(214200,)"
      ]
     },
     "execution_count": 3,
     "metadata": {},
     "output_type": "execute_result"
    }
   ],
   "source": [
    "y_test_list[0].shape"
   ]
  },
  {
   "cell_type": "code",
   "execution_count": 4,
   "metadata": {},
   "outputs": [
    {
     "data": {
      "text/plain": [
       "(214200, 160)"
      ]
     },
     "execution_count": 4,
     "metadata": {},
     "output_type": "execute_result"
    }
   ],
   "source": [
    "x_test_list[0].shape"
   ]
  },
  {
   "cell_type": "code",
   "execution_count": 5,
   "metadata": {},
   "outputs": [
    {
     "data": {
      "text/plain": [
       "['shop_id',\n",
       " 'item_id',\n",
       " 'date_block_num',\n",
       " 'item_category_id',\n",
       " 'first_sale_date_block',\n",
       " 'new_item',\n",
       " 'city',\n",
       " 'item_type',\n",
       " 'item_info',\n",
       " 'prop_median_item_price',\n",
       " 'sum_item_sales_back_1',\n",
       " 'sum_shop_sales_back_1',\n",
       " 'item_cnt_month_back_1',\n",
       " 'sum_item_cat_sales_back_1',\n",
       " 'sum_item_cat_shop_sales_back_1',\n",
       " 'sum_city_back_1',\n",
       " 'sum_itemtype_back_1',\n",
       " 'sum_iteminfo_back_1',\n",
       " 'sum_city_item_back_1',\n",
       " 'sum_city_item_cat_back_1',\n",
       " 'sum_itemtype_shop_back_1',\n",
       " 'sum_itemtype_city_back_1',\n",
       " 'sum_item_sales_back_2',\n",
       " 'sum_shop_sales_back_2',\n",
       " 'item_cnt_month_back_2',\n",
       " 'sum_item_cat_sales_back_2',\n",
       " 'sum_item_cat_shop_sales_back_2',\n",
       " 'sum_city_back_2',\n",
       " 'sum_itemtype_back_2',\n",
       " 'sum_iteminfo_back_2',\n",
       " 'sum_city_item_back_2',\n",
       " 'sum_city_item_cat_back_2',\n",
       " 'sum_itemtype_shop_back_2',\n",
       " 'sum_itemtype_city_back_2',\n",
       " 'sum_item_sales_back_3',\n",
       " 'sum_shop_sales_back_3',\n",
       " 'item_cnt_month_back_3',\n",
       " 'sum_item_cat_sales_back_3',\n",
       " 'sum_item_cat_shop_sales_back_3',\n",
       " 'sum_city_back_3',\n",
       " 'sum_itemtype_back_3',\n",
       " 'sum_iteminfo_back_3',\n",
       " 'sum_city_item_back_3',\n",
       " 'sum_city_item_cat_back_3',\n",
       " 'sum_itemtype_shop_back_3',\n",
       " 'sum_itemtype_city_back_3',\n",
       " 'sum_item_sales_back_4',\n",
       " 'sum_shop_sales_back_4',\n",
       " 'item_cnt_month_back_4',\n",
       " 'sum_item_cat_sales_back_4',\n",
       " 'sum_item_cat_shop_sales_back_4',\n",
       " 'sum_city_back_4',\n",
       " 'sum_itemtype_back_4',\n",
       " 'sum_iteminfo_back_4',\n",
       " 'sum_city_item_back_4',\n",
       " 'sum_city_item_cat_back_4',\n",
       " 'sum_itemtype_shop_back_4',\n",
       " 'sum_itemtype_city_back_4',\n",
       " 'sum_item_sales_back_5',\n",
       " 'sum_shop_sales_back_5',\n",
       " 'item_cnt_month_back_5',\n",
       " 'sum_item_cat_sales_back_5',\n",
       " 'sum_item_cat_shop_sales_back_5',\n",
       " 'sum_city_back_5',\n",
       " 'sum_itemtype_back_5',\n",
       " 'sum_iteminfo_back_5',\n",
       " 'sum_city_item_back_5',\n",
       " 'sum_city_item_cat_back_5',\n",
       " 'sum_itemtype_shop_back_5',\n",
       " 'sum_itemtype_city_back_5',\n",
       " 'sum_item_sales_back_6',\n",
       " 'sum_shop_sales_back_6',\n",
       " 'item_cnt_month_back_6',\n",
       " 'sum_item_cat_sales_back_6',\n",
       " 'sum_item_cat_shop_sales_back_6',\n",
       " 'sum_city_back_6',\n",
       " 'sum_itemtype_back_6',\n",
       " 'sum_iteminfo_back_6',\n",
       " 'sum_city_item_back_6',\n",
       " 'sum_city_item_cat_back_6',\n",
       " 'sum_itemtype_shop_back_6',\n",
       " 'sum_itemtype_city_back_6',\n",
       " 'sum_item_sales_back_7',\n",
       " 'sum_shop_sales_back_7',\n",
       " 'item_cnt_month_back_7',\n",
       " 'sum_item_cat_sales_back_7',\n",
       " 'sum_item_cat_shop_sales_back_7',\n",
       " 'sum_city_back_7',\n",
       " 'sum_itemtype_back_7',\n",
       " 'sum_iteminfo_back_7',\n",
       " 'sum_city_item_back_7',\n",
       " 'sum_city_item_cat_back_7',\n",
       " 'sum_itemtype_shop_back_7',\n",
       " 'sum_itemtype_city_back_7',\n",
       " 'sum_item_sales_back_8',\n",
       " 'sum_shop_sales_back_8',\n",
       " 'item_cnt_month_back_8',\n",
       " 'sum_item_cat_sales_back_8',\n",
       " 'sum_item_cat_shop_sales_back_8',\n",
       " 'sum_city_back_8',\n",
       " 'sum_itemtype_back_8',\n",
       " 'sum_iteminfo_back_8',\n",
       " 'sum_city_item_back_8',\n",
       " 'sum_city_item_cat_back_8',\n",
       " 'sum_itemtype_shop_back_8',\n",
       " 'sum_itemtype_city_back_8',\n",
       " 'sum_item_sales_back_9',\n",
       " 'sum_shop_sales_back_9',\n",
       " 'item_cnt_month_back_9',\n",
       " 'sum_item_cat_sales_back_9',\n",
       " 'sum_item_cat_shop_sales_back_9',\n",
       " 'sum_city_back_9',\n",
       " 'sum_itemtype_back_9',\n",
       " 'sum_iteminfo_back_9',\n",
       " 'sum_city_item_back_9',\n",
       " 'sum_city_item_cat_back_9',\n",
       " 'sum_itemtype_shop_back_9',\n",
       " 'sum_itemtype_city_back_9',\n",
       " 'sum_item_sales_back_10',\n",
       " 'sum_shop_sales_back_10',\n",
       " 'item_cnt_month_back_10',\n",
       " 'sum_item_cat_sales_back_10',\n",
       " 'sum_item_cat_shop_sales_back_10',\n",
       " 'sum_city_back_10',\n",
       " 'sum_itemtype_back_10',\n",
       " 'sum_iteminfo_back_10',\n",
       " 'sum_city_item_back_10',\n",
       " 'sum_city_item_cat_back_10',\n",
       " 'sum_itemtype_shop_back_10',\n",
       " 'sum_itemtype_city_back_10',\n",
       " 'sum_item_sales_back_11',\n",
       " 'sum_shop_sales_back_11',\n",
       " 'item_cnt_month_back_11',\n",
       " 'sum_item_cat_sales_back_11',\n",
       " 'sum_item_cat_shop_sales_back_11',\n",
       " 'sum_city_back_11',\n",
       " 'sum_itemtype_back_11',\n",
       " 'sum_iteminfo_back_11',\n",
       " 'sum_city_item_back_11',\n",
       " 'sum_city_item_cat_back_11',\n",
       " 'sum_itemtype_shop_back_11',\n",
       " 'sum_itemtype_city_back_11',\n",
       " 'sum_item_sales_back_12',\n",
       " 'sum_shop_sales_back_12',\n",
       " 'item_cnt_month_back_12',\n",
       " 'sum_item_cat_sales_back_12',\n",
       " 'sum_item_cat_shop_sales_back_12',\n",
       " 'sum_city_back_12',\n",
       " 'sum_itemtype_back_12',\n",
       " 'sum_iteminfo_back_12',\n",
       " 'sum_city_item_back_12',\n",
       " 'sum_city_item_cat_back_12',\n",
       " 'sum_itemtype_shop_back_12',\n",
       " 'sum_itemtype_city_back_12',\n",
       " 'month',\n",
       " 'numdays',\n",
       " 'mean_prevmonth_item_price',\n",
       " 'std_prevmonth_item_price',\n",
       " 'median_prevmonth_item_price',\n",
       " 'median_prevmonth_shop_item_price']"
      ]
     },
     "execution_count": 5,
     "metadata": {},
     "output_type": "execute_result"
    }
   ],
   "source": [
    "x_test_list[0].columns.tolist()\n"
   ]
  },
  {
   "cell_type": "code",
   "execution_count": 6,
   "metadata": {},
   "outputs": [],
   "source": [
    "s = x_test_list[0]\n",
    "s['target'] = y_test_list[0]\n"
   ]
  },
  {
   "cell_type": "markdown",
   "metadata": {},
   "source": [
    "# is s correct?"
   ]
  },
  {
   "cell_type": "code",
   "execution_count": 7,
   "metadata": {},
   "outputs": [
    {
     "data": {
      "text/html": [
       "<div>\n",
       "<style scoped>\n",
       "    .dataframe tbody tr th:only-of-type {\n",
       "        vertical-align: middle;\n",
       "    }\n",
       "\n",
       "    .dataframe tbody tr th {\n",
       "        vertical-align: top;\n",
       "    }\n",
       "\n",
       "    .dataframe thead th {\n",
       "        text-align: right;\n",
       "    }\n",
       "</style>\n",
       "<table border=\"1\" class=\"dataframe\">\n",
       "  <thead>\n",
       "    <tr style=\"text-align: right;\">\n",
       "      <th></th>\n",
       "      <th>shop_id</th>\n",
       "      <th>item_id</th>\n",
       "      <th>target</th>\n",
       "    </tr>\n",
       "  </thead>\n",
       "  <tbody>\n",
       "    <tr>\n",
       "      <th>0</th>\n",
       "      <td>5</td>\n",
       "      <td>5037</td>\n",
       "      <td>0.0</td>\n",
       "    </tr>\n",
       "    <tr>\n",
       "      <th>1</th>\n",
       "      <td>5</td>\n",
       "      <td>5320</td>\n",
       "      <td>0.0</td>\n",
       "    </tr>\n",
       "    <tr>\n",
       "      <th>2</th>\n",
       "      <td>5</td>\n",
       "      <td>5233</td>\n",
       "      <td>1.0</td>\n",
       "    </tr>\n",
       "    <tr>\n",
       "      <th>3</th>\n",
       "      <td>5</td>\n",
       "      <td>5232</td>\n",
       "      <td>0.0</td>\n",
       "    </tr>\n",
       "    <tr>\n",
       "      <th>4</th>\n",
       "      <td>5</td>\n",
       "      <td>5268</td>\n",
       "      <td>0.0</td>\n",
       "    </tr>\n",
       "  </tbody>\n",
       "</table>\n",
       "</div>"
      ],
      "text/plain": [
       "   shop_id  item_id  target\n",
       "0        5     5037     0.0\n",
       "1        5     5320     0.0\n",
       "2        5     5233     1.0\n",
       "3        5     5232     0.0\n",
       "4        5     5268     0.0"
      ]
     },
     "execution_count": 7,
     "metadata": {},
     "output_type": "execute_result"
    }
   ],
   "source": [
    "s.head()[['shop_id','item_id','target']]"
   ]
  },
  {
   "cell_type": "code",
   "execution_count": 8,
   "metadata": {},
   "outputs": [
    {
     "data": {
      "text/html": [
       "<div>\n",
       "<style scoped>\n",
       "    .dataframe tbody tr th:only-of-type {\n",
       "        vertical-align: middle;\n",
       "    }\n",
       "\n",
       "    .dataframe tbody tr th {\n",
       "        vertical-align: top;\n",
       "    }\n",
       "\n",
       "    .dataframe thead th {\n",
       "        text-align: right;\n",
       "    }\n",
       "</style>\n",
       "<table border=\"1\" class=\"dataframe\">\n",
       "  <thead>\n",
       "    <tr style=\"text-align: right;\">\n",
       "      <th></th>\n",
       "      <th>date_block_num</th>\n",
       "      <th>shop_id</th>\n",
       "      <th>item_id</th>\n",
       "      <th>item_category_id</th>\n",
       "      <th>shop_name</th>\n",
       "      <th>item_name</th>\n",
       "      <th>item_category_name</th>\n",
       "      <th>item_cnt_month</th>\n",
       "    </tr>\n",
       "  </thead>\n",
       "  <tbody>\n",
       "  </tbody>\n",
       "</table>\n",
       "</div>"
      ],
      "text/plain": [
       "Empty DataFrame\n",
       "Columns: [date_block_num, shop_id, item_id, item_category_id, shop_name, item_name, item_category_name, item_cnt_month]\n",
       "Index: []"
      ]
     },
     "execution_count": 8,
     "metadata": {},
     "output_type": "execute_result"
    }
   ],
   "source": [
    "train2 = pd.read_csv('../../gen_data/train2.csv')\n",
    "train2_33 = train2[(train2.date_block_num==33)]\n",
    "\n",
    "train2_33[(train2_33.shop_id==5)&(train2_33.item_id==5037)]"
   ]
  },
  {
   "cell_type": "code",
   "execution_count": 9,
   "metadata": {},
   "outputs": [
    {
     "data": {
      "text/html": [
       "<div>\n",
       "<style scoped>\n",
       "    .dataframe tbody tr th:only-of-type {\n",
       "        vertical-align: middle;\n",
       "    }\n",
       "\n",
       "    .dataframe tbody tr th {\n",
       "        vertical-align: top;\n",
       "    }\n",
       "\n",
       "    .dataframe thead th {\n",
       "        text-align: right;\n",
       "    }\n",
       "</style>\n",
       "<table border=\"1\" class=\"dataframe\">\n",
       "  <thead>\n",
       "    <tr style=\"text-align: right;\">\n",
       "      <th></th>\n",
       "      <th>date_block_num</th>\n",
       "      <th>shop_id</th>\n",
       "      <th>item_id</th>\n",
       "      <th>item_category_id</th>\n",
       "      <th>shop_name</th>\n",
       "      <th>item_name</th>\n",
       "      <th>item_category_name</th>\n",
       "      <th>item_cnt_month</th>\n",
       "    </tr>\n",
       "  </thead>\n",
       "  <tbody>\n",
       "  </tbody>\n",
       "</table>\n",
       "</div>"
      ],
      "text/plain": [
       "Empty DataFrame\n",
       "Columns: [date_block_num, shop_id, item_id, item_category_id, shop_name, item_name, item_category_name, item_cnt_month]\n",
       "Index: []"
      ]
     },
     "execution_count": 9,
     "metadata": {},
     "output_type": "execute_result"
    }
   ],
   "source": [
    "train2_33[(train2_33.shop_id==5)&(train2_33.item_id==5320)]"
   ]
  },
  {
   "cell_type": "code",
   "execution_count": 10,
   "metadata": {},
   "outputs": [
    {
     "data": {
      "text/html": [
       "<div>\n",
       "<style scoped>\n",
       "    .dataframe tbody tr th:only-of-type {\n",
       "        vertical-align: middle;\n",
       "    }\n",
       "\n",
       "    .dataframe tbody tr th {\n",
       "        vertical-align: top;\n",
       "    }\n",
       "\n",
       "    .dataframe thead th {\n",
       "        text-align: right;\n",
       "    }\n",
       "</style>\n",
       "<table border=\"1\" class=\"dataframe\">\n",
       "  <thead>\n",
       "    <tr style=\"text-align: right;\">\n",
       "      <th></th>\n",
       "      <th>date_block_num</th>\n",
       "      <th>shop_id</th>\n",
       "      <th>item_id</th>\n",
       "      <th>item_category_id</th>\n",
       "      <th>shop_name</th>\n",
       "      <th>item_name</th>\n",
       "      <th>item_category_name</th>\n",
       "      <th>item_cnt_month</th>\n",
       "    </tr>\n",
       "  </thead>\n",
       "  <tbody>\n",
       "    <tr>\n",
       "      <th>1579057</th>\n",
       "      <td>33</td>\n",
       "      <td>5</td>\n",
       "      <td>5233</td>\n",
       "      <td>19</td>\n",
       "      <td>Вологда ТРЦ \"Мармелад\"</td>\n",
       "      <td>Need for Speed Rivals (Essentials) [PS3, русск...</td>\n",
       "      <td>Игры - PS3</td>\n",
       "      <td>1.0</td>\n",
       "    </tr>\n",
       "  </tbody>\n",
       "</table>\n",
       "</div>"
      ],
      "text/plain": [
       "         date_block_num  shop_id  item_id  item_category_id  \\\n",
       "1579057              33        5     5233                19   \n",
       "\n",
       "                      shop_name  \\\n",
       "1579057  Вологда ТРЦ \"Мармелад\"   \n",
       "\n",
       "                                                 item_name item_category_name  \\\n",
       "1579057  Need for Speed Rivals (Essentials) [PS3, русск...         Игры - PS3   \n",
       "\n",
       "         item_cnt_month  \n",
       "1579057             1.0  "
      ]
     },
     "execution_count": 10,
     "metadata": {},
     "output_type": "execute_result"
    }
   ],
   "source": [
    "train2_33[(train2_33.shop_id==5)&(train2_33.item_id==5233)]"
   ]
  },
  {
   "cell_type": "code",
   "execution_count": 11,
   "metadata": {},
   "outputs": [
    {
     "data": {
      "text/html": [
       "<div>\n",
       "<style scoped>\n",
       "    .dataframe tbody tr th:only-of-type {\n",
       "        vertical-align: middle;\n",
       "    }\n",
       "\n",
       "    .dataframe tbody tr th {\n",
       "        vertical-align: top;\n",
       "    }\n",
       "\n",
       "    .dataframe thead th {\n",
       "        text-align: right;\n",
       "    }\n",
       "</style>\n",
       "<table border=\"1\" class=\"dataframe\">\n",
       "  <thead>\n",
       "    <tr style=\"text-align: right;\">\n",
       "      <th></th>\n",
       "      <th>date_block_num</th>\n",
       "      <th>shop_id</th>\n",
       "      <th>item_id</th>\n",
       "      <th>item_category_id</th>\n",
       "      <th>shop_name</th>\n",
       "      <th>item_name</th>\n",
       "      <th>item_category_name</th>\n",
       "      <th>item_cnt_month</th>\n",
       "    </tr>\n",
       "  </thead>\n",
       "  <tbody>\n",
       "  </tbody>\n",
       "</table>\n",
       "</div>"
      ],
      "text/plain": [
       "Empty DataFrame\n",
       "Columns: [date_block_num, shop_id, item_id, item_category_id, shop_name, item_name, item_category_name, item_cnt_month]\n",
       "Index: []"
      ]
     },
     "execution_count": 11,
     "metadata": {},
     "output_type": "execute_result"
    }
   ],
   "source": [
    "train2_33[(train2_33.shop_id==5)&(train2_33.item_id==5232)]"
   ]
  },
  {
   "cell_type": "code",
   "execution_count": 12,
   "metadata": {},
   "outputs": [
    {
     "data": {
      "text/html": [
       "<div>\n",
       "<style scoped>\n",
       "    .dataframe tbody tr th:only-of-type {\n",
       "        vertical-align: middle;\n",
       "    }\n",
       "\n",
       "    .dataframe tbody tr th {\n",
       "        vertical-align: top;\n",
       "    }\n",
       "\n",
       "    .dataframe thead th {\n",
       "        text-align: right;\n",
       "    }\n",
       "</style>\n",
       "<table border=\"1\" class=\"dataframe\">\n",
       "  <thead>\n",
       "    <tr style=\"text-align: right;\">\n",
       "      <th></th>\n",
       "      <th>date_block_num</th>\n",
       "      <th>shop_id</th>\n",
       "      <th>item_id</th>\n",
       "      <th>item_category_id</th>\n",
       "      <th>shop_name</th>\n",
       "      <th>item_name</th>\n",
       "      <th>item_category_name</th>\n",
       "      <th>item_cnt_month</th>\n",
       "    </tr>\n",
       "  </thead>\n",
       "  <tbody>\n",
       "  </tbody>\n",
       "</table>\n",
       "</div>"
      ],
      "text/plain": [
       "Empty DataFrame\n",
       "Columns: [date_block_num, shop_id, item_id, item_category_id, shop_name, item_name, item_category_name, item_cnt_month]\n",
       "Index: []"
      ]
     },
     "execution_count": 12,
     "metadata": {},
     "output_type": "execute_result"
    }
   ],
   "source": [
    "train2_33[(train2_33.shop_id==5)&(train2_33.item_id==5268)]"
   ]
  },
  {
   "cell_type": "code",
   "execution_count": null,
   "metadata": {},
   "outputs": [],
   "source": []
  },
  {
   "cell_type": "markdown",
   "metadata": {},
   "source": [
    "# yes, now it is correct"
   ]
  },
  {
   "cell_type": "code",
   "execution_count": null,
   "metadata": {},
   "outputs": [],
   "source": []
  },
  {
   "cell_type": "code",
   "execution_count": null,
   "metadata": {},
   "outputs": [],
   "source": []
  },
  {
   "cell_type": "code",
   "execution_count": null,
   "metadata": {},
   "outputs": [],
   "source": []
  },
  {
   "cell_type": "code",
   "execution_count": null,
   "metadata": {},
   "outputs": [],
   "source": []
  },
  {
   "cell_type": "code",
   "execution_count": null,
   "metadata": {},
   "outputs": [],
   "source": []
  },
  {
   "cell_type": "code",
   "execution_count": 13,
   "metadata": {},
   "outputs": [],
   "source": [
    "save_loc = '../../saved_datasets/19-3-19,pipeline_A_reduced_frommaster,dateback=12/'\n",
    "if not os.path.exists(save_loc):\n",
    "    os.mkdir(save_loc)\n",
    "filename = 'xtrain_xtest_ytrain_ytest.pickle'\n",
    "pickle.dump([x_train_list,x_test_list,y_train_list,y_test_list],open(save_loc+filename,'wb'))"
   ]
  },
  {
   "cell_type": "markdown",
   "metadata": {},
   "source": [
    "# Now Save CSVs"
   ]
  },
  {
   "cell_type": "code",
   "execution_count": 14,
   "metadata": {},
   "outputs": [],
   "source": [
    "if False:\n",
    "    x_train_list[1].to_csv(save_loc+'x_train[1].csv')\n",
    "    x_test_list[1].to_csv(save_loc+'x_test[1].csv')\n",
    "    y_train_list[1].to_csv(save_loc+'y_train[1].csv')\n",
    "\n",
    "    y_test_list[0].to_csv(save_loc+'y_test[0].csv')\n",
    "    #x_train[0] is a subset of x_train[1]\n",
    "    x_test_list[0].to_csv(save_loc+'x_test[0].csv')\n",
    "    y_train_list[0].to_csv(save_loc+'y_train[0].csv')"
   ]
  },
  {
   "cell_type": "code",
   "execution_count": 15,
   "metadata": {},
   "outputs": [
    {
     "data": {
      "text/plain": [
       "28348"
      ]
     },
     "execution_count": 15,
     "metadata": {},
     "output_type": "execute_result"
    }
   ],
   "source": [
    "#31531\n",
    "np.sum(y_test_list[0]>0)"
   ]
  }
 ],
 "metadata": {
  "kernelspec": {
   "display_name": "Python 3",
   "language": "python",
   "name": "python3"
  },
  "language_info": {
   "codemirror_mode": {
    "name": "ipython",
    "version": 3
   },
   "file_extension": ".py",
   "mimetype": "text/x-python",
   "name": "python",
   "nbconvert_exporter": "python",
   "pygments_lexer": "ipython3",
   "version": "3.7.1"
  }
 },
 "nbformat": 4,
 "nbformat_minor": 2
}
