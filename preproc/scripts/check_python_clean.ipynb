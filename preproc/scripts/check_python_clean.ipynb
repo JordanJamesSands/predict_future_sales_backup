{
 "cells": [
  {
   "cell_type": "code",
   "execution_count": 1,
   "metadata": {},
   "outputs": [],
   "source": [
    "import pandas as pd\n",
    "import numpy as np\n"
   ]
  },
  {
   "cell_type": "code",
   "execution_count": 2,
   "metadata": {},
   "outputs": [],
   "source": [
    "new_saved = pd.read_csv('../../gen_data/train1_cleaned_new.csv')\n",
    "old_saved = pd.read_csv('../../gen_data/train1_cleaned.csv')"
   ]
  },
  {
   "cell_type": "code",
   "execution_count": 3,
   "metadata": {},
   "outputs": [],
   "source": [
    "new = new_saved\n",
    "old = old_saved"
   ]
  },
  {
   "cell_type": "code",
   "execution_count": 4,
   "metadata": {},
   "outputs": [],
   "source": [
    "newcols = new.columns.tolist()\n",
    "old = old[newcols]\n",
    "new = new[newcols]\n",
    "\n",
    "old['item_cnt_day'] = old.item_cnt_day.astype(np.float64)\n",
    "\n",
    "new = new.sort_values(newcols).reset_index(drop=True)\n",
    "old = old.sort_values(newcols).reset_index(drop=True)\n"
   ]
  },
  {
   "cell_type": "code",
   "execution_count": 5,
   "metadata": {},
   "outputs": [
    {
     "data": {
      "text/plain": [
       "False"
      ]
     },
     "execution_count": 5,
     "metadata": {},
     "output_type": "execute_result"
    }
   ],
   "source": [
    "old.equals(new)"
   ]
  },
  {
   "cell_type": "code",
   "execution_count": 6,
   "metadata": {},
   "outputs": [
    {
     "name": "stdout",
     "output_type": "stream",
     "text": [
      "date\t\t\tFalse\n",
      "date_block_num\t\t\tFalse\n",
      "shop_id\t\t\tFalse\n",
      "item_id\t\t\tFalse\n",
      "item_price\t\t\tFalse\n",
      "item_cnt_day\t\t\tFalse\n",
      "item_name\t\t\tFalse\n",
      "item_category_id\t\t\tFalse\n",
      "item_category_name\t\t\tFalse\n",
      "shop_name\t\t\tFalse\n"
     ]
    }
   ],
   "source": [
    "for col in newcols:\n",
    "    print(col + '\\t\\t\\t' + str(all(old[col]==new[col])))"
   ]
  },
  {
   "cell_type": "code",
   "execution_count": 7,
   "metadata": {},
   "outputs": [
    {
     "data": {
      "text/plain": [
       "True"
      ]
     },
     "execution_count": 7,
     "metadata": {},
     "output_type": "execute_result"
    }
   ],
   "source": [
    "all(old.date.head(10) == new.date.head(10))"
   ]
  },
  {
   "cell_type": "code",
   "execution_count": 8,
   "metadata": {},
   "outputs": [
    {
     "data": {
      "text/plain": [
       "0          False\n",
       "1          False\n",
       "2          False\n",
       "3          False\n",
       "4          False\n",
       "5          False\n",
       "6          False\n",
       "7          False\n",
       "8          False\n",
       "9          False\n",
       "10         False\n",
       "11         False\n",
       "12         False\n",
       "13         False\n",
       "14         False\n",
       "15         False\n",
       "16         False\n",
       "17         False\n",
       "18         False\n",
       "19         False\n",
       "20         False\n",
       "21         False\n",
       "22         False\n",
       "23         False\n",
       "24         False\n",
       "25         False\n",
       "26         False\n",
       "27         False\n",
       "28         False\n",
       "29         False\n",
       "           ...  \n",
       "2935818    False\n",
       "2935819    False\n",
       "2935820    False\n",
       "2935821    False\n",
       "2935822    False\n",
       "2935823    False\n",
       "2935824    False\n",
       "2935825    False\n",
       "2935826    False\n",
       "2935827    False\n",
       "2935828    False\n",
       "2935829    False\n",
       "2935830    False\n",
       "2935831    False\n",
       "2935832    False\n",
       "2935833    False\n",
       "2935834    False\n",
       "2935835    False\n",
       "2935836    False\n",
       "2935837    False\n",
       "2935838    False\n",
       "2935839    False\n",
       "2935840    False\n",
       "2935841    False\n",
       "2935842    False\n",
       "2935843    False\n",
       "2935844    False\n",
       "2935845    False\n",
       "2935846    False\n",
       "2935847    False\n",
       "Name: date, Length: 2935848, dtype: bool"
      ]
     },
     "execution_count": 8,
     "metadata": {},
     "output_type": "execute_result"
    }
   ],
   "source": [
    "b = old.date!=new.date\n",
    "b"
   ]
  },
  {
   "cell_type": "code",
   "execution_count": 9,
   "metadata": {},
   "outputs": [],
   "source": [
    "old_diff_date = old[b]"
   ]
  },
  {
   "cell_type": "code",
   "execution_count": 10,
   "metadata": {},
   "outputs": [],
   "source": [
    "new_diff_date = new[b]"
   ]
  },
  {
   "cell_type": "code",
   "execution_count": 11,
   "metadata": {},
   "outputs": [
    {
     "data": {
      "text/plain": [
       "array([2, 3], dtype=int64)"
      ]
     },
     "execution_count": 11,
     "metadata": {},
     "output_type": "execute_result"
    }
   ],
   "source": [
    "old_diff_date.shop_id.unique()"
   ]
  },
  {
   "cell_type": "code",
   "execution_count": 12,
   "metadata": {},
   "outputs": [
    {
     "data": {
      "text/plain": [
       "array([59], dtype=int64)"
      ]
     },
     "execution_count": 12,
     "metadata": {},
     "output_type": "execute_result"
    }
   ],
   "source": [
    "new_diff_date.shop_id.unique()"
   ]
  },
  {
   "cell_type": "code",
   "execution_count": 13,
   "metadata": {},
   "outputs": [
    {
     "data": {
      "text/plain": [
       "(34, 10)"
      ]
     },
     "execution_count": 13,
     "metadata": {},
     "output_type": "execute_result"
    }
   ],
   "source": [
    "old_diff_date.shape"
   ]
  },
  {
   "cell_type": "code",
   "execution_count": 14,
   "metadata": {},
   "outputs": [
    {
     "data": {
      "text/plain": [
       "(34, 10)"
      ]
     },
     "execution_count": 14,
     "metadata": {},
     "output_type": "execute_result"
    }
   ],
   "source": [
    "new_diff_date.shape"
   ]
  }
 ],
 "metadata": {
  "kernelspec": {
   "display_name": "Python 3",
   "language": "python",
   "name": "python3"
  },
  "language_info": {
   "codemirror_mode": {
    "name": "ipython",
    "version": 3
   },
   "file_extension": ".py",
   "mimetype": "text/x-python",
   "name": "python",
   "nbconvert_exporter": "python",
   "pygments_lexer": "ipython3",
   "version": "3.7.1"
  }
 },
 "nbformat": 4,
 "nbformat_minor": 2
}
