{
 "cells": [
  {
   "cell_type": "code",
   "execution_count": 1,
   "metadata": {},
   "outputs": [],
   "source": [
    "import numpy as np\n",
    "import pandas as pd\n",
    "import pickle\n"
   ]
  },
  {
   "cell_type": "markdown",
   "metadata": {},
   "source": [
    "# Read in Data"
   ]
  },
  {
   "cell_type": "code",
   "execution_count": 2,
   "metadata": {},
   "outputs": [],
   "source": [
    "train2 = pd.read_csv('../../gen_data/train2.csv')\n",
    "#as a reference, get test\n",
    "test_df = pd.read_csv('../../original_data/test.csv.gz')"
   ]
  },
  {
   "cell_type": "markdown",
   "metadata": {},
   "source": [
    "# Split data"
   ]
  },
  {
   "cell_type": "markdown",
   "metadata": {},
   "source": [
    "### Generate X training data"
   ]
  },
  {
   "cell_type": "code",
   "execution_count": 3,
   "metadata": {},
   "outputs": [],
   "source": [
    "x_train_list = []\n",
    "x_train_list.append(train2[train2.date_block_num<33])\n",
    "x_train_list.append(train2)"
   ]
  },
  {
   "cell_type": "markdown",
   "metadata": {},
   "source": [
    "### Generate Y training data"
   ]
  },
  {
   "cell_type": "code",
   "execution_count": 4,
   "metadata": {},
   "outputs": [],
   "source": [
    "y_train_list = []\n",
    "y_train_list.append(x_train_list[0].item_cnt_month)\n",
    "y_train_list.append(x_train_list[1].item_cnt_month)"
   ]
  },
  {
   "cell_type": "markdown",
   "metadata": {},
   "source": [
    "### Delete target from x training data"
   ]
  },
  {
   "cell_type": "code",
   "execution_count": 5,
   "metadata": {},
   "outputs": [],
   "source": [
    "x_train_list[0] = x_train_list[0].drop('item_cnt_month',axis=1)\n",
    "x_train_list[1] = x_train_list[1].drop('item_cnt_month',axis=1)"
   ]
  },
  {
   "cell_type": "markdown",
   "metadata": {},
   "source": [
    "### Generate x test data"
   ]
  },
  {
   "cell_type": "code",
   "execution_count": 6,
   "metadata": {},
   "outputs": [],
   "source": [
    "x_test_list = []\n",
    "x_test_list.append(train2[train2.date_block_num==33].drop(['item_name','item_category_id','item_category_name','shop_name'],axis=1))\n",
    "x_test_list.append(test_df.drop('ID',axis=1))\n"
   ]
  },
  {
   "cell_type": "markdown",
   "metadata": {},
   "source": [
    "x_test_list[0] is missing rows from test_list[1], test_df is missing columns"
   ]
  },
  {
   "cell_type": "markdown",
   "metadata": {},
   "source": [
    "# Fix up test_list[0]"
   ]
  },
  {
   "cell_type": "markdown",
   "metadata": {},
   "source": [
    "### Add rows to test_list[0]"
   ]
  },
  {
   "cell_type": "code",
   "execution_count": 7,
   "metadata": {},
   "outputs": [],
   "source": [
    "x_test_list[0] = test_df.merge(x_test_list[0],how='left').drop('ID',axis=1)\n",
    "x_test_list[0]['item_cnt_month'] = x_test_list[0].item_cnt_month.fillna(0)"
   ]
  },
  {
   "cell_type": "markdown",
   "metadata": {},
   "source": [
    "### Fill in columns using only data that is available at the time"
   ]
  },
  {
   "cell_type": "code",
   "execution_count": 8,
   "metadata": {},
   "outputs": [],
   "source": [
    "x_test_list[0].date_block_num = 33"
   ]
  },
  {
   "cell_type": "markdown",
   "metadata": {},
   "source": [
    "##### Fill in item data"
   ]
  },
  {
   "cell_type": "code",
   "execution_count": 9,
   "metadata": {},
   "outputs": [],
   "source": [
    "#using x_train_list[0], (which goes up to and including month 32)\n",
    "x_train_32_item_data = x_train_list[0][['item_id','item_category_id','item_name','item_category_name']].drop_duplicates()\n",
    "x_test_list[0] = x_test_list[0].merge(x_train_32_item_data,how='left',on='item_id')"
   ]
  },
  {
   "cell_type": "markdown",
   "metadata": {},
   "source": [
    "##### Fill in shop data"
   ]
  },
  {
   "cell_type": "code",
   "execution_count": 10,
   "metadata": {},
   "outputs": [],
   "source": [
    "x_train_32_shop_data = x_train_list[0][['shop_id','shop_name']].drop_duplicates()\n",
    "x_test_list[0] = x_test_list[0].merge(x_train_32_shop_data,how='left',on='shop_id')"
   ]
  },
  {
   "cell_type": "markdown",
   "metadata": {},
   "source": [
    "# Fix up test_list[1]"
   ]
  },
  {
   "cell_type": "code",
   "execution_count": 11,
   "metadata": {},
   "outputs": [],
   "source": [
    "x_test_list[1]['date_block_num'] = 34"
   ]
  },
  {
   "cell_type": "code",
   "execution_count": 12,
   "metadata": {},
   "outputs": [],
   "source": [
    "x_train_33_item_data = x_train_list[1][['item_id','item_category_id','item_name','item_category_name']].drop_duplicates()\n",
    "x_test_list[1] = x_test_list[1].merge(x_train_33_item_data,how='left',on='item_id')"
   ]
  },
  {
   "cell_type": "code",
   "execution_count": 13,
   "metadata": {},
   "outputs": [],
   "source": [
    "x_train_33_shop_data = x_train_list[1][['shop_id','shop_name']].drop_duplicates()\n",
    "x_test_list[1] = x_test_list[1].merge(x_train_33_shop_data,how='left',on='shop_id')"
   ]
  },
  {
   "cell_type": "markdown",
   "metadata": {},
   "source": [
    "### split x and y"
   ]
  },
  {
   "cell_type": "code",
   "execution_count": 14,
   "metadata": {},
   "outputs": [],
   "source": [
    "y_test_list = []\n",
    "y_test_list.append(x_test_list[0].item_cnt_month)\n",
    "y_test_list.append(pd.Series(np.full(test_df.shape[0],np.nan),index=x_test_list[1]))\n",
    "\n",
    "x_test_list[0] = x_test_list[0].drop('item_cnt_month',axis=1)"
   ]
  },
  {
   "cell_type": "code",
   "execution_count": 15,
   "metadata": {},
   "outputs": [],
   "source": [
    "#save items as a list so that I can add more validation schemes later\n",
    "pickle.dump(x_train_list,open('../../gen_data/x_train--simple_validation_split.ipynb--.pickle','wb'))\n",
    "pickle.dump(y_train_list,open('../../gen_data/y_train--simple_validation_split.ipynb--.pickle','wb'))\n",
    "pickle.dump(x_test_list,open('../../gen_data/x_val--simple_validation_split.ipynb--.pickle','wb'))\n",
    "pickle.dump(y_test_list,open('../../gen_data/y_val--simple_validation_split.ipynb--.pickle','wb'))"
   ]
  }
 ],
 "metadata": {
  "kernelspec": {
   "display_name": "Python 3",
   "language": "python",
   "name": "python3"
  },
  "language_info": {
   "codemirror_mode": {
    "name": "ipython",
    "version": 3
   },
   "file_extension": ".py",
   "mimetype": "text/x-python",
   "name": "python",
   "nbconvert_exporter": "python",
   "pygments_lexer": "ipython3",
   "version": "3.7.1"
  }
 },
 "nbformat": 4,
 "nbformat_minor": 2
}
