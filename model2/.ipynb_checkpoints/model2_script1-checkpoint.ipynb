{
 "cells": [
  {
   "cell_type": "code",
   "execution_count": 1,
   "metadata": {},
   "outputs": [],
   "source": [
    "import pickle\n",
    "import pandas as pd\n",
    "import numpy as np\n",
    "import catboost"
   ]
  },
  {
   "cell_type": "code",
   "execution_count": 2,
   "metadata": {},
   "outputs": [],
   "source": [
    "x_train_list = pickle.load(open('../gen_data/x_train--features2.ipynb--.pickle','rb'))\n",
    "x_test_list= pickle.load(open('../gen_data/x_test--features2.ipynb--.pickle','rb'))\n",
    "y_train_list = pickle.load(open('../gen_data/y_train--features1.ipynb--.pickle','rb'))\n",
    "y_test_list = pickle.load(open('../gen_data/y_val--simple_validation_split.ipynb--.pickle','rb'))"
   ]
  },
  {
   "cell_type": "code",
   "execution_count": 3,
   "metadata": {},
   "outputs": [
    {
     "data": {
      "text/plain": [
       "(214200,)"
      ]
     },
     "execution_count": 3,
     "metadata": {},
     "output_type": "execute_result"
    }
   ],
   "source": [
    "y_test_list[0].shape"
   ]
  },
  {
   "cell_type": "code",
   "execution_count": 4,
   "metadata": {},
   "outputs": [
    {
     "data": {
      "text/plain": [
       "(214200, 57)"
      ]
     },
     "execution_count": 4,
     "metadata": {},
     "output_type": "execute_result"
    }
   ],
   "source": [
    "x_test_list[1].shape"
   ]
  },
  {
   "cell_type": "code",
   "execution_count": 5,
   "metadata": {},
   "outputs": [
    {
     "data": {
      "text/plain": [
       "(6186922,)"
      ]
     },
     "execution_count": 5,
     "metadata": {},
     "output_type": "execute_result"
    }
   ],
   "source": [
    "y_train_list[0].shape"
   ]
  },
  {
   "cell_type": "code",
   "execution_count": 6,
   "metadata": {},
   "outputs": [
    {
     "data": {
      "text/plain": [
       "(6186922, 58)"
      ]
     },
     "execution_count": 6,
     "metadata": {},
     "output_type": "execute_result"
    }
   ],
   "source": [
    "x_train_list[0].shape"
   ]
  },
  {
   "cell_type": "code",
   "execution_count": 3,
   "metadata": {},
   "outputs": [],
   "source": [
    "#model specific preprocessing\n",
    "def model2_preproc(x,*args):\n",
    "    x = x.fillna(999)\n",
    "    if len(args):\n",
    "        y = args[0]\n",
    "        return([x.drop(['shop_name','item_name','item_category_name'],axis=1),y])\n",
    "    else:\n",
    "        return(x.drop(['shop_name','item_name','item_category_name'],axis=1))"
   ]
  },
  {
   "cell_type": "code",
   "execution_count": 18,
   "metadata": {},
   "outputs": [],
   "source": [
    "xtp , ytp = model2_preproc(x_train_list[0],y_train_list[0])"
   ]
  },
  {
   "cell_type": "code",
   "execution_count": 19,
   "metadata": {},
   "outputs": [
    {
     "data": {
      "text/html": [
       "<div>\n",
       "<style scoped>\n",
       "    .dataframe tbody tr th:only-of-type {\n",
       "        vertical-align: middle;\n",
       "    }\n",
       "\n",
       "    .dataframe tbody tr th {\n",
       "        vertical-align: top;\n",
       "    }\n",
       "\n",
       "    .dataframe thead th {\n",
       "        text-align: right;\n",
       "    }\n",
       "</style>\n",
       "<table border=\"1\" class=\"dataframe\">\n",
       "  <thead>\n",
       "    <tr style=\"text-align: right;\">\n",
       "      <th></th>\n",
       "      <th>date_block_num</th>\n",
       "      <th>shop_id</th>\n",
       "      <th>item_id</th>\n",
       "      <th>item_category_id</th>\n",
       "      <th>sum_item_sales_back_1</th>\n",
       "      <th>sum_shop_sales_back_1</th>\n",
       "      <th>item_cnt_month_back_1</th>\n",
       "      <th>sum_item_cat_sales_back_1</th>\n",
       "      <th>sum_item_sales_back_2</th>\n",
       "      <th>sum_shop_sales_back_2</th>\n",
       "      <th>...</th>\n",
       "      <th>sum_item_sales_back_11</th>\n",
       "      <th>sum_shop_sales_back_11</th>\n",
       "      <th>item_cnt_month_back_11</th>\n",
       "      <th>sum_item_cat_sales_back_11</th>\n",
       "      <th>sum_item_sales_back_12</th>\n",
       "      <th>sum_shop_sales_back_12</th>\n",
       "      <th>item_cnt_month_back_12</th>\n",
       "      <th>sum_item_cat_sales_back_12</th>\n",
       "      <th>month</th>\n",
       "      <th>numdays</th>\n",
       "    </tr>\n",
       "  </thead>\n",
       "  <tbody>\n",
       "    <tr>\n",
       "      <th>4488756</th>\n",
       "      <td>12</td>\n",
       "      <td>2</td>\n",
       "      <td>32</td>\n",
       "      <td>40.0</td>\n",
       "      <td>0.0</td>\n",
       "      <td>0.0</td>\n",
       "      <td>0.0</td>\n",
       "      <td>0.0</td>\n",
       "      <td>0.0</td>\n",
       "      <td>0.0</td>\n",
       "      <td>...</td>\n",
       "      <td>0.0</td>\n",
       "      <td>0.0</td>\n",
       "      <td>0.0</td>\n",
       "      <td>0.0</td>\n",
       "      <td>0.0</td>\n",
       "      <td>0.0</td>\n",
       "      <td>0.0</td>\n",
       "      <td>0.0</td>\n",
       "      <td>jan</td>\n",
       "      <td>31</td>\n",
       "    </tr>\n",
       "    <tr>\n",
       "      <th>4488757</th>\n",
       "      <td>12</td>\n",
       "      <td>2</td>\n",
       "      <td>33</td>\n",
       "      <td>37.0</td>\n",
       "      <td>42.0</td>\n",
       "      <td>1255.0</td>\n",
       "      <td>1.0</td>\n",
       "      <td>9906.0</td>\n",
       "      <td>15.0</td>\n",
       "      <td>814.0</td>\n",
       "      <td>...</td>\n",
       "      <td>0.0</td>\n",
       "      <td>0.0</td>\n",
       "      <td>0.0</td>\n",
       "      <td>0.0</td>\n",
       "      <td>61.0</td>\n",
       "      <td>1146.0</td>\n",
       "      <td>1.0</td>\n",
       "      <td>5982.0</td>\n",
       "      <td>jan</td>\n",
       "      <td>31</td>\n",
       "    </tr>\n",
       "    <tr>\n",
       "      <th>4488758</th>\n",
       "      <td>12</td>\n",
       "      <td>2</td>\n",
       "      <td>99</td>\n",
       "      <td>37.0</td>\n",
       "      <td>0.0</td>\n",
       "      <td>0.0</td>\n",
       "      <td>0.0</td>\n",
       "      <td>0.0</td>\n",
       "      <td>0.0</td>\n",
       "      <td>0.0</td>\n",
       "      <td>...</td>\n",
       "      <td>0.0</td>\n",
       "      <td>0.0</td>\n",
       "      <td>0.0</td>\n",
       "      <td>0.0</td>\n",
       "      <td>0.0</td>\n",
       "      <td>0.0</td>\n",
       "      <td>0.0</td>\n",
       "      <td>0.0</td>\n",
       "      <td>jan</td>\n",
       "      <td>31</td>\n",
       "    </tr>\n",
       "    <tr>\n",
       "      <th>4488759</th>\n",
       "      <td>12</td>\n",
       "      <td>2</td>\n",
       "      <td>482</td>\n",
       "      <td>73.0</td>\n",
       "      <td>88.0</td>\n",
       "      <td>1255.0</td>\n",
       "      <td>1.0</td>\n",
       "      <td>412.0</td>\n",
       "      <td>85.0</td>\n",
       "      <td>814.0</td>\n",
       "      <td>...</td>\n",
       "      <td>95.0</td>\n",
       "      <td>489.0</td>\n",
       "      <td>1.0</td>\n",
       "      <td>711.0</td>\n",
       "      <td>118.0</td>\n",
       "      <td>1146.0</td>\n",
       "      <td>1.0</td>\n",
       "      <td>664.0</td>\n",
       "      <td>jan</td>\n",
       "      <td>31</td>\n",
       "    </tr>\n",
       "    <tr>\n",
       "      <th>4488760</th>\n",
       "      <td>12</td>\n",
       "      <td>2</td>\n",
       "      <td>485</td>\n",
       "      <td>73.0</td>\n",
       "      <td>111.0</td>\n",
       "      <td>1255.0</td>\n",
       "      <td>1.0</td>\n",
       "      <td>412.0</td>\n",
       "      <td>0.0</td>\n",
       "      <td>0.0</td>\n",
       "      <td>...</td>\n",
       "      <td>0.0</td>\n",
       "      <td>0.0</td>\n",
       "      <td>0.0</td>\n",
       "      <td>0.0</td>\n",
       "      <td>0.0</td>\n",
       "      <td>0.0</td>\n",
       "      <td>0.0</td>\n",
       "      <td>0.0</td>\n",
       "      <td>jan</td>\n",
       "      <td>31</td>\n",
       "    </tr>\n",
       "  </tbody>\n",
       "</table>\n",
       "<p>5 rows × 54 columns</p>\n",
       "</div>"
      ],
      "text/plain": [
       "         date_block_num  shop_id  item_id  item_category_id  \\\n",
       "4488756              12        2       32              40.0   \n",
       "4488757              12        2       33              37.0   \n",
       "4488758              12        2       99              37.0   \n",
       "4488759              12        2      482              73.0   \n",
       "4488760              12        2      485              73.0   \n",
       "\n",
       "         sum_item_sales_back_1  sum_shop_sales_back_1  item_cnt_month_back_1  \\\n",
       "4488756                    0.0                    0.0                    0.0   \n",
       "4488757                   42.0                 1255.0                    1.0   \n",
       "4488758                    0.0                    0.0                    0.0   \n",
       "4488759                   88.0                 1255.0                    1.0   \n",
       "4488760                  111.0                 1255.0                    1.0   \n",
       "\n",
       "         sum_item_cat_sales_back_1  sum_item_sales_back_2  \\\n",
       "4488756                        0.0                    0.0   \n",
       "4488757                     9906.0                   15.0   \n",
       "4488758                        0.0                    0.0   \n",
       "4488759                      412.0                   85.0   \n",
       "4488760                      412.0                    0.0   \n",
       "\n",
       "         sum_shop_sales_back_2   ...     sum_item_sales_back_11  \\\n",
       "4488756                    0.0   ...                        0.0   \n",
       "4488757                  814.0   ...                        0.0   \n",
       "4488758                    0.0   ...                        0.0   \n",
       "4488759                  814.0   ...                       95.0   \n",
       "4488760                    0.0   ...                        0.0   \n",
       "\n",
       "         sum_shop_sales_back_11  item_cnt_month_back_11  \\\n",
       "4488756                     0.0                     0.0   \n",
       "4488757                     0.0                     0.0   \n",
       "4488758                     0.0                     0.0   \n",
       "4488759                   489.0                     1.0   \n",
       "4488760                     0.0                     0.0   \n",
       "\n",
       "         sum_item_cat_sales_back_11  sum_item_sales_back_12  \\\n",
       "4488756                         0.0                     0.0   \n",
       "4488757                         0.0                    61.0   \n",
       "4488758                         0.0                     0.0   \n",
       "4488759                       711.0                   118.0   \n",
       "4488760                         0.0                     0.0   \n",
       "\n",
       "         sum_shop_sales_back_12  item_cnt_month_back_12  \\\n",
       "4488756                     0.0                     0.0   \n",
       "4488757                  1146.0                     1.0   \n",
       "4488758                     0.0                     0.0   \n",
       "4488759                  1146.0                     1.0   \n",
       "4488760                     0.0                     0.0   \n",
       "\n",
       "         sum_item_cat_sales_back_12  month  numdays  \n",
       "4488756                         0.0    jan       31  \n",
       "4488757                      5982.0    jan       31  \n",
       "4488758                         0.0    jan       31  \n",
       "4488759                       664.0    jan       31  \n",
       "4488760                         0.0    jan       31  \n",
       "\n",
       "[5 rows x 54 columns]"
      ]
     },
     "execution_count": 19,
     "metadata": {},
     "output_type": "execute_result"
    }
   ],
   "source": [
    "xtp.head()"
   ]
  },
  {
   "cell_type": "code",
   "execution_count": 10,
   "metadata": {},
   "outputs": [
    {
     "ename": "CatboostError",
     "evalue": "Bad value for num_feature[0,49]=\"jan\": Cannot convert 'b'jan'' to float",
     "output_type": "error",
     "traceback": [
      "\u001b[1;31m---------------------------------------------------------------------------\u001b[0m",
      "\u001b[1;31mTypeError\u001b[0m                                 Traceback (most recent call last)",
      "\u001b[1;32m_catboost.pyx\u001b[0m in \u001b[0;36m_catboost.get_float_feature\u001b[1;34m()\u001b[0m\n",
      "\u001b[1;32m_catboost.pyx\u001b[0m in \u001b[0;36m_catboost._FloatOrNan\u001b[1;34m()\u001b[0m\n",
      "\u001b[1;32m_catboost.pyx\u001b[0m in \u001b[0;36m_catboost._FloatOrNanFromString\u001b[1;34m()\u001b[0m\n",
      "\u001b[1;31mTypeError\u001b[0m: Cannot convert 'b'jan'' to float",
      "\nDuring handling of the above exception, another exception occurred:\n",
      "\u001b[1;31mCatboostError\u001b[0m                             Traceback (most recent call last)",
      "\u001b[1;32m<ipython-input-10-b4da5b257d71>\u001b[0m in \u001b[0;36m<module>\u001b[1;34m\u001b[0m\n\u001b[0;32m      1\u001b[0m \u001b[0mmod\u001b[0m \u001b[1;33m=\u001b[0m \u001b[0mcatboost\u001b[0m\u001b[1;33m.\u001b[0m\u001b[0mCatBoostRegressor\u001b[0m\u001b[1;33m(\u001b[0m\u001b[0mcat_features\u001b[0m\u001b[1;33m=\u001b[0m\u001b[1;33m[\u001b[0m\u001b[1;36m1\u001b[0m\u001b[1;33m,\u001b[0m\u001b[1;36m2\u001b[0m\u001b[1;33m,\u001b[0m\u001b[1;36m3\u001b[0m\u001b[1;33m,\u001b[0m\u001b[1;36m40\u001b[0m\u001b[1;33m]\u001b[0m\u001b[1;33m)\u001b[0m\u001b[1;33m\u001b[0m\u001b[1;33m\u001b[0m\u001b[0m\n\u001b[0;32m      2\u001b[0m \u001b[0mmod\u001b[0m\u001b[1;33m.\u001b[0m\u001b[0mset_params\u001b[0m\u001b[1;33m(\u001b[0m\u001b[0mthread_count\u001b[0m\u001b[1;33m=\u001b[0m\u001b[1;36m4\u001b[0m\u001b[1;33m,\u001b[0m\u001b[0miterations\u001b[0m\u001b[1;33m=\u001b[0m\u001b[1;36m1\u001b[0m\u001b[1;33m)\u001b[0m\u001b[1;33m\u001b[0m\u001b[1;33m\u001b[0m\u001b[0m\n\u001b[1;32m----> 3\u001b[1;33m \u001b[0mmod\u001b[0m\u001b[1;33m.\u001b[0m\u001b[0mfit\u001b[0m\u001b[1;33m(\u001b[0m\u001b[0mxtp\u001b[0m\u001b[1;33m,\u001b[0m\u001b[0mytp\u001b[0m\u001b[1;33m)\u001b[0m\u001b[1;33m\u001b[0m\u001b[1;33m\u001b[0m\u001b[0m\n\u001b[0m",
      "\u001b[1;32mC:\\ProgramData\\Anaconda3\\lib\\site-packages\\catboost\\core.py\u001b[0m in \u001b[0;36mfit\u001b[1;34m(self, X, y, cat_features, sample_weight, baseline, use_best_model, eval_set, verbose, logging_level, plot, column_description, verbose_eval, metric_period, silent, early_stopping_rounds, save_snapshot, snapshot_file, snapshot_interval)\u001b[0m\n\u001b[0;32m   2547\u001b[0m                          \u001b[0muse_best_model\u001b[0m\u001b[1;33m,\u001b[0m \u001b[0meval_set\u001b[0m\u001b[1;33m,\u001b[0m \u001b[0mverbose\u001b[0m\u001b[1;33m,\u001b[0m \u001b[0mlogging_level\u001b[0m\u001b[1;33m,\u001b[0m \u001b[0mplot\u001b[0m\u001b[1;33m,\u001b[0m \u001b[0mcolumn_description\u001b[0m\u001b[1;33m,\u001b[0m\u001b[1;33m\u001b[0m\u001b[1;33m\u001b[0m\u001b[0m\n\u001b[0;32m   2548\u001b[0m                          \u001b[0mverbose_eval\u001b[0m\u001b[1;33m,\u001b[0m \u001b[0mmetric_period\u001b[0m\u001b[1;33m,\u001b[0m \u001b[0msilent\u001b[0m\u001b[1;33m,\u001b[0m \u001b[0mearly_stopping_rounds\u001b[0m\u001b[1;33m,\u001b[0m\u001b[1;33m\u001b[0m\u001b[1;33m\u001b[0m\u001b[0m\n\u001b[1;32m-> 2549\u001b[1;33m                          save_snapshot, snapshot_file, snapshot_interval)\n\u001b[0m\u001b[0;32m   2550\u001b[0m \u001b[1;33m\u001b[0m\u001b[0m\n\u001b[0;32m   2551\u001b[0m     \u001b[1;32mdef\u001b[0m \u001b[0mpredict\u001b[0m\u001b[1;33m(\u001b[0m\u001b[0mself\u001b[0m\u001b[1;33m,\u001b[0m \u001b[0mdata\u001b[0m\u001b[1;33m,\u001b[0m \u001b[0mntree_start\u001b[0m\u001b[1;33m=\u001b[0m\u001b[1;36m0\u001b[0m\u001b[1;33m,\u001b[0m \u001b[0mntree_end\u001b[0m\u001b[1;33m=\u001b[0m\u001b[1;36m0\u001b[0m\u001b[1;33m,\u001b[0m \u001b[0mthread_count\u001b[0m\u001b[1;33m=\u001b[0m\u001b[1;33m-\u001b[0m\u001b[1;36m1\u001b[0m\u001b[1;33m,\u001b[0m \u001b[0mverbose\u001b[0m\u001b[1;33m=\u001b[0m\u001b[1;32mNone\u001b[0m\u001b[1;33m)\u001b[0m\u001b[1;33m:\u001b[0m\u001b[1;33m\u001b[0m\u001b[1;33m\u001b[0m\u001b[0m\n",
      "\u001b[1;32mC:\\ProgramData\\Anaconda3\\lib\\site-packages\\catboost\\core.py\u001b[0m in \u001b[0;36m_fit\u001b[1;34m(self, X, y, cat_features, pairs, sample_weight, group_id, group_weight, subgroup_id, pairs_weight, baseline, use_best_model, eval_set, verbose, logging_level, plot, column_description, verbose_eval, metric_period, silent, early_stopping_rounds, save_snapshot, snapshot_file, snapshot_interval)\u001b[0m\n\u001b[0;32m   1087\u001b[0m         \u001b[0m_check_train_params\u001b[0m\u001b[1;33m(\u001b[0m\u001b[0mparams\u001b[0m\u001b[1;33m)\u001b[0m\u001b[1;33m\u001b[0m\u001b[1;33m\u001b[0m\u001b[0m\n\u001b[0;32m   1088\u001b[0m \u001b[1;33m\u001b[0m\u001b[0m\n\u001b[1;32m-> 1089\u001b[1;33m         \u001b[0mtrain_pool\u001b[0m \u001b[1;33m=\u001b[0m \u001b[0m_build_train_pool\u001b[0m\u001b[1;33m(\u001b[0m\u001b[0mX\u001b[0m\u001b[1;33m,\u001b[0m \u001b[0my\u001b[0m\u001b[1;33m,\u001b[0m \u001b[0mcat_features\u001b[0m\u001b[1;33m,\u001b[0m \u001b[0mpairs\u001b[0m\u001b[1;33m,\u001b[0m \u001b[0msample_weight\u001b[0m\u001b[1;33m,\u001b[0m \u001b[0mgroup_id\u001b[0m\u001b[1;33m,\u001b[0m \u001b[0mgroup_weight\u001b[0m\u001b[1;33m,\u001b[0m \u001b[0msubgroup_id\u001b[0m\u001b[1;33m,\u001b[0m \u001b[0mpairs_weight\u001b[0m\u001b[1;33m,\u001b[0m \u001b[0mbaseline\u001b[0m\u001b[1;33m,\u001b[0m \u001b[0mcolumn_description\u001b[0m\u001b[1;33m)\u001b[0m\u001b[1;33m\u001b[0m\u001b[1;33m\u001b[0m\u001b[0m\n\u001b[0m\u001b[0;32m   1090\u001b[0m         \u001b[1;32mif\u001b[0m \u001b[0mtrain_pool\u001b[0m\u001b[1;33m.\u001b[0m\u001b[0mis_empty_\u001b[0m\u001b[1;33m:\u001b[0m\u001b[1;33m\u001b[0m\u001b[1;33m\u001b[0m\u001b[0m\n\u001b[0;32m   1091\u001b[0m             \u001b[1;32mraise\u001b[0m \u001b[0mCatboostError\u001b[0m\u001b[1;33m(\u001b[0m\u001b[1;34m\"X is empty.\"\u001b[0m\u001b[1;33m)\u001b[0m\u001b[1;33m\u001b[0m\u001b[1;33m\u001b[0m\u001b[0m\n",
      "\u001b[1;32mC:\\ProgramData\\Anaconda3\\lib\\site-packages\\catboost\\core.py\u001b[0m in \u001b[0;36m_build_train_pool\u001b[1;34m(X, y, cat_features, pairs, sample_weight, group_id, group_weight, subgroup_id, pairs_weight, baseline, column_description)\u001b[0m\n\u001b[0;32m    653\u001b[0m             \u001b[1;32mraise\u001b[0m \u001b[0mCatboostError\u001b[0m\u001b[1;33m(\u001b[0m\u001b[1;34m\"y has not initialized in fit(): X is not catboost.Pool object, y must be not None in fit().\"\u001b[0m\u001b[1;33m)\u001b[0m\u001b[1;33m\u001b[0m\u001b[1;33m\u001b[0m\u001b[0m\n\u001b[0;32m    654\u001b[0m         train_pool = Pool(X, y, cat_features=cat_features, pairs=pairs, weight=sample_weight, group_id=group_id,\n\u001b[1;32m--> 655\u001b[1;33m                           group_weight=group_weight, subgroup_id=subgroup_id, pairs_weight=pairs_weight, baseline=baseline)\n\u001b[0m\u001b[0;32m    656\u001b[0m     \u001b[1;32mreturn\u001b[0m \u001b[0mtrain_pool\u001b[0m\u001b[1;33m\u001b[0m\u001b[1;33m\u001b[0m\u001b[0m\n\u001b[0;32m    657\u001b[0m \u001b[1;33m\u001b[0m\u001b[0m\n",
      "\u001b[1;32mC:\\ProgramData\\Anaconda3\\lib\\site-packages\\catboost\\core.py\u001b[0m in \u001b[0;36m__init__\u001b[1;34m(self, data, label, cat_features, column_description, pairs, delimiter, has_header, weight, group_id, group_weight, subgroup_id, pairs_weight, baseline, feature_names, thread_count)\u001b[0m\n\u001b[0;32m    284\u001b[0m                         )\n\u001b[0;32m    285\u001b[0m \u001b[1;33m\u001b[0m\u001b[0m\n\u001b[1;32m--> 286\u001b[1;33m                 \u001b[0mself\u001b[0m\u001b[1;33m.\u001b[0m\u001b[0m_init\u001b[0m\u001b[1;33m(\u001b[0m\u001b[0mdata\u001b[0m\u001b[1;33m,\u001b[0m \u001b[0mlabel\u001b[0m\u001b[1;33m,\u001b[0m \u001b[0mcat_features\u001b[0m\u001b[1;33m,\u001b[0m \u001b[0mpairs\u001b[0m\u001b[1;33m,\u001b[0m \u001b[0mweight\u001b[0m\u001b[1;33m,\u001b[0m \u001b[0mgroup_id\u001b[0m\u001b[1;33m,\u001b[0m \u001b[0mgroup_weight\u001b[0m\u001b[1;33m,\u001b[0m \u001b[0msubgroup_id\u001b[0m\u001b[1;33m,\u001b[0m \u001b[0mpairs_weight\u001b[0m\u001b[1;33m,\u001b[0m \u001b[0mbaseline\u001b[0m\u001b[1;33m,\u001b[0m \u001b[0mfeature_names\u001b[0m\u001b[1;33m)\u001b[0m\u001b[1;33m\u001b[0m\u001b[1;33m\u001b[0m\u001b[0m\n\u001b[0m\u001b[0;32m    287\u001b[0m         \u001b[0msuper\u001b[0m\u001b[1;33m(\u001b[0m\u001b[0mPool\u001b[0m\u001b[1;33m,\u001b[0m \u001b[0mself\u001b[0m\u001b[1;33m)\u001b[0m\u001b[1;33m.\u001b[0m\u001b[0m__init__\u001b[0m\u001b[1;33m(\u001b[0m\u001b[1;33m)\u001b[0m\u001b[1;33m\u001b[0m\u001b[1;33m\u001b[0m\u001b[0m\n\u001b[0;32m    288\u001b[0m \u001b[1;33m\u001b[0m\u001b[0m\n",
      "\u001b[1;32mC:\\ProgramData\\Anaconda3\\lib\\site-packages\\catboost\\core.py\u001b[0m in \u001b[0;36m_init\u001b[1;34m(self, data, label, cat_features, pairs, weight, group_id, group_weight, subgroup_id, pairs_weight, baseline, feature_names)\u001b[0m\n\u001b[0;32m    634\u001b[0m         \u001b[1;32mif\u001b[0m \u001b[0mfeature_names\u001b[0m \u001b[1;32mis\u001b[0m \u001b[1;32mnot\u001b[0m \u001b[1;32mNone\u001b[0m\u001b[1;33m:\u001b[0m\u001b[1;33m\u001b[0m\u001b[1;33m\u001b[0m\u001b[0m\n\u001b[0;32m    635\u001b[0m             \u001b[0mself\u001b[0m\u001b[1;33m.\u001b[0m\u001b[0m_check_feature_names\u001b[0m\u001b[1;33m(\u001b[0m\u001b[0mfeature_names\u001b[0m\u001b[1;33m,\u001b[0m \u001b[0mfeatures_count\u001b[0m\u001b[1;33m)\u001b[0m\u001b[1;33m\u001b[0m\u001b[1;33m\u001b[0m\u001b[0m\n\u001b[1;32m--> 636\u001b[1;33m         \u001b[0mself\u001b[0m\u001b[1;33m.\u001b[0m\u001b[0m_init_pool\u001b[0m\u001b[1;33m(\u001b[0m\u001b[0mdata\u001b[0m\u001b[1;33m,\u001b[0m \u001b[0mlabel\u001b[0m\u001b[1;33m,\u001b[0m \u001b[0mcat_features\u001b[0m\u001b[1;33m,\u001b[0m \u001b[0mpairs\u001b[0m\u001b[1;33m,\u001b[0m \u001b[0mweight\u001b[0m\u001b[1;33m,\u001b[0m \u001b[0mgroup_id\u001b[0m\u001b[1;33m,\u001b[0m \u001b[0mgroup_weight\u001b[0m\u001b[1;33m,\u001b[0m \u001b[0msubgroup_id\u001b[0m\u001b[1;33m,\u001b[0m \u001b[0mpairs_weight\u001b[0m\u001b[1;33m,\u001b[0m \u001b[0mbaseline\u001b[0m\u001b[1;33m,\u001b[0m \u001b[0mfeature_names\u001b[0m\u001b[1;33m)\u001b[0m\u001b[1;33m\u001b[0m\u001b[1;33m\u001b[0m\u001b[0m\n\u001b[0m\u001b[0;32m    637\u001b[0m \u001b[1;33m\u001b[0m\u001b[0m\n\u001b[0;32m    638\u001b[0m \u001b[1;33m\u001b[0m\u001b[0m\n",
      "\u001b[1;32m_catboost.pyx\u001b[0m in \u001b[0;36m_catboost._PoolBase._init_pool\u001b[1;34m()\u001b[0m\n",
      "\u001b[1;32m_catboost.pyx\u001b[0m in \u001b[0;36m_catboost._PoolBase._init_pool\u001b[1;34m()\u001b[0m\n",
      "\u001b[1;32m_catboost.pyx\u001b[0m in \u001b[0;36m_catboost._PoolBase._init_features_order_layout_pool\u001b[1;34m()\u001b[0m\n",
      "\u001b[1;32m_catboost.pyx\u001b[0m in \u001b[0;36m_catboost._set_features_order_data_pd_data_frame\u001b[1;34m()\u001b[0m\n",
      "\u001b[1;32m_catboost.pyx\u001b[0m in \u001b[0;36m_catboost.create_num_factor_data\u001b[1;34m()\u001b[0m\n",
      "\u001b[1;32m_catboost.pyx\u001b[0m in \u001b[0;36m_catboost.get_float_feature\u001b[1;34m()\u001b[0m\n",
      "\u001b[1;31mCatboostError\u001b[0m: Bad value for num_feature[0,49]=\"jan\": Cannot convert 'b'jan'' to float"
     ]
    }
   ],
   "source": [
    "mod = catboost.CatBoostRegressor(cat_features=[1,2,3,40])\n",
    "mod.set_params(thread_count=4,iterations=1)\n",
    "mod.fit(xtp,ytp)"
   ]
  },
  {
   "cell_type": "code",
   "execution_count": null,
   "metadata": {},
   "outputs": [],
   "source": [
    "xvp = model2_preproc(x_test_list[0])\n",
    "preds = mod.predict(xvp)\n"
   ]
  },
  {
   "cell_type": "code",
   "execution_count": null,
   "metadata": {},
   "outputs": [],
   "source": [
    "np.sqrt(np.mean((preds-y_test_list[0])**2))"
   ]
  },
  {
   "cell_type": "markdown",
   "metadata": {},
   "source": [
    "mean should be approx 0.2839853"
   ]
  },
  {
   "cell_type": "code",
   "execution_count": 4,
   "metadata": {},
   "outputs": [
    {
     "name": "stdout",
     "output_type": "stream",
     "text": [
      "0:\tlearn: 1.1994696\ttotal: 7.91s\tremaining: 3m 49s\n",
      "1:\tlearn: 1.1790718\ttotal: 13.3s\tremaining: 3m 6s\n",
      "2:\tlearn: 1.1595532\ttotal: 19.2s\tremaining: 2m 52s\n",
      "3:\tlearn: 1.1408390\ttotal: 24.7s\tremaining: 2m 40s\n",
      "4:\tlearn: 1.1229285\ttotal: 29.4s\tremaining: 2m 26s\n",
      "5:\tlearn: 1.1057882\ttotal: 34s\tremaining: 2m 16s\n",
      "6:\tlearn: 1.0893798\ttotal: 39.5s\tremaining: 2m 9s\n",
      "7:\tlearn: 1.0736957\ttotal: 45.1s\tremaining: 2m 4s\n",
      "8:\tlearn: 1.0586978\ttotal: 50.1s\tremaining: 1m 56s\n",
      "9:\tlearn: 1.0444185\ttotal: 55.3s\tremaining: 1m 50s\n",
      "10:\tlearn: 1.0306753\ttotal: 1m 1s\tremaining: 1m 45s\n",
      "11:\tlearn: 1.0176211\ttotal: 1m 6s\tremaining: 1m 39s\n",
      "12:\tlearn: 1.0051243\ttotal: 1m 11s\tremaining: 1m 33s\n",
      "13:\tlearn: 0.9932452\ttotal: 1m 17s\tremaining: 1m 28s\n",
      "14:\tlearn: 0.9818576\ttotal: 1m 22s\tremaining: 1m 22s\n",
      "15:\tlearn: 0.9710196\ttotal: 1m 26s\tremaining: 1m 15s\n",
      "16:\tlearn: 0.9607244\ttotal: 1m 31s\tremaining: 1m 10s\n",
      "17:\tlearn: 0.9508791\ttotal: 1m 36s\tremaining: 1m 4s\n",
      "18:\tlearn: 0.9413834\ttotal: 1m 42s\tremaining: 59.3s\n",
      "19:\tlearn: 0.9324705\ttotal: 1m 47s\tremaining: 53.7s\n",
      "20:\tlearn: 0.9239648\ttotal: 1m 52s\tremaining: 48s\n",
      "21:\tlearn: 0.9158644\ttotal: 1m 57s\tremaining: 42.7s\n",
      "22:\tlearn: 0.9080905\ttotal: 2m 3s\tremaining: 37.5s\n",
      "23:\tlearn: 0.9006104\ttotal: 2m 7s\tremaining: 31.9s\n",
      "24:\tlearn: 0.8936603\ttotal: 2m 12s\tremaining: 26.6s\n",
      "25:\tlearn: 0.8868968\ttotal: 2m 18s\tremaining: 21.2s\n",
      "26:\tlearn: 0.8805831\ttotal: 2m 23s\tremaining: 15.9s\n",
      "27:\tlearn: 0.8744927\ttotal: 2m 28s\tremaining: 10.6s\n",
      "28:\tlearn: 0.8687534\ttotal: 2m 34s\tremaining: 5.32s\n",
      "29:\tlearn: 0.8632870\ttotal: 2m 39s\tremaining: 0us\n"
     ]
    }
   ],
   "source": [
    "xtp , ytp = model2_preproc(x_train_list[1].drop('sum_item_cat_sales_back_0',axis=1),y_train_list[1])\n",
    "xtp.shape\n",
    "\n",
    "mod = catboost.CatBoostRegressor(cat_features=[1,2,3,52])\n",
    "mod.set_params(thread_count=4,iterations=30)\n",
    "\n",
    "mod.fit(xtp,ytp)\n",
    "\n",
    "xvp = model2_preproc(x_test_list[1])\n",
    "xvp.head()\n",
    "\n",
    "preds = mod.predict(xvp)"
   ]
  },
  {
   "cell_type": "code",
   "execution_count": 5,
   "metadata": {},
   "outputs": [
    {
     "data": {
      "text/plain": [
       "[('shop_id', 0.8207850349383717),\n",
       " ('item_category_id', 74.09543747671259),\n",
       " ('sum_item_sales_back_1', 1.3535073154900075),\n",
       " ('item_cnt_month_back_1', 17.79899706293323),\n",
       " ('item_cnt_month_back_2', 0.9115114684412766),\n",
       " ('sum_item_cat_sales_back_2', 0.26702626385897443),\n",
       " ('item_cnt_month_back_3', 2.591301290480971),\n",
       " ('item_cnt_month_back_4', 0.26320956319597005),\n",
       " ('item_cnt_month_back_5', 0.8152463524697516),\n",
       " ('item_cnt_month_back_6', 0.34526285624067443),\n",
       " ('item_cnt_month_back_7', 0.1770424135567381),\n",
       " ('item_cnt_month_back_8', 0.34993914505093887),\n",
       " ('month', 0.21073375663051586)]"
      ]
     },
     "execution_count": 5,
     "metadata": {},
     "output_type": "execute_result"
    }
   ],
   "source": [
    "feat_imp = mod.get_feature_importance()\n",
    "col_ind = [i for i , f in enumerate(feat_imp) if f>0.0]\n",
    "imp_feats = list(xtp.columns[col_ind].values)\n",
    "imps = [x for x in feat_imp if x>0]\n",
    "feat_deet = list(zip(imp_feats,imps))\n",
    "feat_deet"
   ]
  },
  {
   "cell_type": "code",
   "execution_count": 6,
   "metadata": {},
   "outputs": [
    {
     "data": {
      "text/plain": [
       "[('item_category_id', 74.09543747671259),\n",
       " ('item_cnt_month_back_1', 17.79899706293323),\n",
       " ('item_cnt_month_back_3', 2.591301290480971),\n",
       " ('sum_item_sales_back_1', 1.3535073154900075),\n",
       " ('item_cnt_month_back_2', 0.9115114684412766),\n",
       " ('shop_id', 0.8207850349383717),\n",
       " ('item_cnt_month_back_5', 0.8152463524697516),\n",
       " ('item_cnt_month_back_8', 0.34993914505093887),\n",
       " ('item_cnt_month_back_6', 0.34526285624067443),\n",
       " ('sum_item_cat_sales_back_2', 0.26702626385897443),\n",
       " ('item_cnt_month_back_4', 0.26320956319597005),\n",
       " ('month', 0.21073375663051586),\n",
       " ('item_cnt_month_back_7', 0.1770424135567381)]"
      ]
     },
     "execution_count": 6,
     "metadata": {},
     "output_type": "execute_result"
    }
   ],
   "source": [
    "sorted(feat_deet,key=lambda tup:-tup[1])"
   ]
  },
  {
   "cell_type": "code",
   "execution_count": 8,
   "metadata": {},
   "outputs": [
    {
     "data": {
      "text/plain": [
       "[0.0,\n",
       " 0.8207850349383717,\n",
       " 0.0,\n",
       " 74.09543747671259,\n",
       " 1.3535073154900075,\n",
       " 0.0,\n",
       " 17.79899706293323,\n",
       " 0.0,\n",
       " 0.0,\n",
       " 0.0,\n",
       " 0.9115114684412766,\n",
       " 0.26702626385897443,\n",
       " 0.0,\n",
       " 0.0,\n",
       " 2.591301290480971,\n",
       " 0.0,\n",
       " 0.0,\n",
       " 0.0,\n",
       " 0.26320956319597005,\n",
       " 0.0,\n",
       " 0.0,\n",
       " 0.0,\n",
       " 0.8152463524697516,\n",
       " 0.0,\n",
       " 0.0,\n",
       " 0.0,\n",
       " 0.34526285624067443,\n",
       " 0.0,\n",
       " 0.0,\n",
       " 0.0,\n",
       " 0.1770424135567381,\n",
       " 0.0,\n",
       " 0.0,\n",
       " 0.0,\n",
       " 0.34993914505093887,\n",
       " 0.0,\n",
       " 0.0,\n",
       " 0.0,\n",
       " 0.0,\n",
       " 0.0,\n",
       " 0.0,\n",
       " 0.0,\n",
       " 0.0,\n",
       " 0.0,\n",
       " 0.0,\n",
       " 0.0,\n",
       " 0.0,\n",
       " 0.0,\n",
       " 0.0,\n",
       " 0.0,\n",
       " 0.0,\n",
       " 0.0,\n",
       " 0.21073375663051586,\n",
       " 0.0]"
      ]
     },
     "execution_count": 8,
     "metadata": {},
     "output_type": "execute_result"
    }
   ],
   "source": [
    "feat_imp"
   ]
  },
  {
   "cell_type": "code",
   "execution_count": 11,
   "metadata": {},
   "outputs": [
    {
     "data": {
      "text/plain": [
       "6639294"
      ]
     },
     "execution_count": 11,
     "metadata": {},
     "output_type": "execute_result"
    }
   ],
   "source": [
    "x_train_list[1].shape[0] + x_test_list[1].shape[0]"
   ]
  },
  {
   "cell_type": "code",
   "execution_count": null,
   "metadata": {},
   "outputs": [],
   "source": [
    "xtp.item_category_id.nunique()"
   ]
  },
  {
   "cell_type": "code",
   "execution_count": null,
   "metadata": {},
   "outputs": [],
   "source": [
    "sub = x_test_list[1][['shop_id','item_id']].copy()\n",
    "sub['item_cnt_month'] = preds\n",
    "test0 = pd.read_csv('../original_data/test.csv.gz')\n",
    "sub = test0.merge(sub,how='left').drop(['shop_id','item_id'],axis=1)\n",
    "sub.to_csv('../gen_data/model2sub.csv',index=False)"
   ]
  },
  {
   "cell_type": "code",
   "execution_count": 7,
   "metadata": {},
   "outputs": [],
   "source": [
    "sub = x_test_list[1][['shop_id','item_id']].copy()\n",
    "sub['item_cnt_month'] = preds*0.2839853/np.mean(preds)\n",
    "test0 = pd.read_csv('../original_data/test.csv.gz')\n",
    "sub = test0.merge(sub,how='left').drop(['shop_id','item_id'],axis=1)\n",
    "sub.to_csv('../gen_data/model2sub2.csv',index=False)"
   ]
  },
  {
   "cell_type": "code",
   "execution_count": null,
   "metadata": {},
   "outputs": [],
   "source": [
    "test0"
   ]
  },
  {
   "cell_type": "code",
   "execution_count": null,
   "metadata": {},
   "outputs": [],
   "source": [
    "pd.to_csv()"
   ]
  },
  {
   "cell_type": "code",
   "execution_count": null,
   "metadata": {},
   "outputs": [],
   "source": [
    "np.mean(preds)"
   ]
  },
  {
   "cell_type": "markdown",
   "metadata": {},
   "source": [
    "# check data"
   ]
  },
  {
   "cell_type": "code",
   "execution_count": null,
   "metadata": {},
   "outputs": [],
   "source": [
    "np.sqrt(np.mean((x_test_list[0].item_cnt_month_back_1 - y_test_list[0])**2))"
   ]
  },
  {
   "cell_type": "code",
   "execution_count": null,
   "metadata": {},
   "outputs": [],
   "source": [
    "x_test_list[1].item_cnt_month_back_1\n",
    "#correct"
   ]
  },
  {
   "cell_type": "code",
   "execution_count": null,
   "metadata": {},
   "outputs": [],
   "source": []
  }
 ],
 "metadata": {
  "kernelspec": {
   "display_name": "Python 3",
   "language": "python",
   "name": "python3"
  },
  "language_info": {
   "codemirror_mode": {
    "name": "ipython",
    "version": 3
   },
   "file_extension": ".py",
   "mimetype": "text/x-python",
   "name": "python",
   "nbconvert_exporter": "python",
   "pygments_lexer": "ipython3",
   "version": "3.7.1"
  }
 },
 "nbformat": 4,
 "nbformat_minor": 2
}
