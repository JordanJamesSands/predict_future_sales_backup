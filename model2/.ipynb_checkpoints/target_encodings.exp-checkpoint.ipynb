{
 "cells": [
  {
   "cell_type": "code",
   "execution_count": 1,
   "metadata": {},
   "outputs": [],
   "source": [
    "import pandas as pd\n",
    "import numpy as np\n",
    "import pickle"
   ]
  },
  {
   "cell_type": "code",
   "execution_count": 2,
   "metadata": {},
   "outputs": [],
   "source": [
    "x_train_list = pickle.load(open('../gen_data/x_train--strings.ipynb--.pickle','rb'))\n",
    "x_test_list= pickle.load(open('../gen_data/x_test--strings.ipynb--.pickle','rb'))\n",
    "y_train_list = pickle.load(open('../gen_data/y_train--features1.ipynb--.pickle','rb'))\n",
    "y_test_list = pickle.load(open('../gen_data/y_val--simple_validation_split.ipynb--.pickle','rb'))"
   ]
  },
  {
   "cell_type": "code",
   "execution_count": 3,
   "metadata": {},
   "outputs": [],
   "source": [
    "#df = x_train_list[0].sample(100000,random_state=0)\n",
    "df = x_train_list[0]"
   ]
  },
  {
   "cell_type": "code",
   "execution_count": 4,
   "metadata": {},
   "outputs": [],
   "source": [
    "#df['item_cnt_month'] = y_train_list[0].sample(100000,random_state=0)\n",
    "df['item_cnt_month'] = y_train_list[0]"
   ]
  },
  {
   "cell_type": "code",
   "execution_count": 5,
   "metadata": {},
   "outputs": [],
   "source": [
    "#categorical columns are item_id, shop_id, item_category_id, month, city, item_type, item_info"
   ]
  },
  {
   "cell_type": "code",
   "execution_count": 6,
   "metadata": {},
   "outputs": [
    {
     "data": {
      "text/plain": [
       "['shop_id',\n",
       " 'item_id',\n",
       " 'item_category_id',\n",
       " 'month',\n",
       " 'city',\n",
       " 'item_type',\n",
       " 'item_info']"
      ]
     },
     "execution_count": 6,
     "metadata": {},
     "output_type": "execute_result"
    }
   ],
   "source": [
    "[x for i , x in enumerate(df.columns) if i in ([1,2,3,64,70,71,72])]"
   ]
  },
  {
   "cell_type": "code",
   "execution_count": 10,
   "metadata": {},
   "outputs": [],
   "source": [
    "#dont use validation month for target encodings, this would require regularisation\n",
    "def target_encode(df,target,cols,fillna=''):\n",
    "    df['target'] = target\n",
    "    for col in cols:\n",
    "        print('Encoding variable: '+col)\n",
    "        agged_targ = df.groupby(col).target.sum()\n",
    "        df[col] = df[col].map(agged_targ)\n",
    "        if fillna=='mean':\n",
    "            df[col].fillna(df(col).mean(),inplace=True)\n",
    "        elif fillna=='median':\n",
    "            df[col].fillna(df(col).median(),inplace=True)\n",
    "    return df.drop('target',axis=1)"
   ]
  },
  {
   "cell_type": "code",
   "execution_count": 11,
   "metadata": {},
   "outputs": [
    {
     "name": "stdout",
     "output_type": "stream",
     "text": [
      "Encoding variable: shop_id\n",
      "Encoding variable: item_id\n",
      "Encoding variable: item_category_id\n",
      "Encoding variable: month\n",
      "Encoding variable: city\n",
      "Encoding variable: item_type\n",
      "Encoding variable: item_info\n"
     ]
    }
   ],
   "source": [
    "df = target_encode(df,y_train_list[0],['shop_id','item_id','item_category_id','month','city','item_type','item_info'])"
   ]
  },
  {
   "cell_type": "code",
   "execution_count": null,
   "metadata": {},
   "outputs": [],
   "source": [
    "df"
   ]
  },
  {
   "cell_type": "code",
   "execution_count": null,
   "metadata": {},
   "outputs": [],
   "source": [
    "#item_sales = df.groupby('item_id').item_cnt_month.sum()\n",
    "#df['item_id'] = df.item_id.map(item_sales)\n"
   ]
  },
  {
   "cell_type": "code",
   "execution_count": null,
   "metadata": {},
   "outputs": [],
   "source": []
  },
  {
   "cell_type": "code",
   "execution_count": null,
   "metadata": {},
   "outputs": [],
   "source": [
    "df[(df.item_id==20402)]"
   ]
  },
  {
   "cell_type": "code",
   "execution_count": null,
   "metadata": {},
   "outputs": [],
   "source": [
    "d = pd.DataFrame({'A':[1,5,1,5],'B':[86,65,67,78]})\n",
    "d"
   ]
  },
  {
   "cell_type": "code",
   "execution_count": null,
   "metadata": {},
   "outputs": [],
   "source": [
    "group = d.groupby('A').B.sum()\n",
    "group"
   ]
  },
  {
   "cell_type": "code",
   "execution_count": null,
   "metadata": {},
   "outputs": [],
   "source": [
    "d['new']= d.A.map(group)"
   ]
  },
  {
   "cell_type": "code",
   "execution_count": null,
   "metadata": {},
   "outputs": [],
   "source": [
    "d"
   ]
  }
 ],
 "metadata": {
  "kernelspec": {
   "display_name": "Python 3",
   "language": "python",
   "name": "python3"
  },
  "language_info": {
   "codemirror_mode": {
    "name": "ipython",
    "version": 3
   },
   "file_extension": ".py",
   "mimetype": "text/x-python",
   "name": "python",
   "nbconvert_exporter": "python",
   "pygments_lexer": "ipython3",
   "version": "3.7.1"
  }
 },
 "nbformat": 4,
 "nbformat_minor": 2
}
