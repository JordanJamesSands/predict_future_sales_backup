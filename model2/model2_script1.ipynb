{
 "cells": [
  {
   "cell_type": "code",
   "execution_count": 2,
   "metadata": {},
   "outputs": [],
   "source": [
    "import pickle\n",
    "import pandas as pd\n",
    "import numpy as np\n",
    "import catboost\n",
    "import time"
   ]
  },
  {
   "cell_type": "code",
   "execution_count": 3,
   "metadata": {},
   "outputs": [],
   "source": [
    "x_train_list = pickle.load(open('../gen_data/x_train--strings.ipynb--.pickle','rb'))\n",
    "x_test_list= pickle.load(open('../gen_data/x_test--strings.ipynb--.pickle','rb'))\n",
    "y_train_list = pickle.load(open('../gen_data/y_train--features1.ipynb--.pickle','rb'))\n",
    "y_test_list = pickle.load(open('../gen_data/y_val--simple_validation_split.ipynb--.pickle','rb'))"
   ]
  },
  {
   "cell_type": "code",
   "execution_count": 4,
   "metadata": {},
   "outputs": [
    {
     "data": {
      "text/plain": [
       "(214200,)"
      ]
     },
     "execution_count": 4,
     "metadata": {},
     "output_type": "execute_result"
    }
   ],
   "source": [
    "y_test_list[0].shape"
   ]
  },
  {
   "cell_type": "code",
   "execution_count": 5,
   "metadata": {},
   "outputs": [
    {
     "data": {
      "text/plain": [
       "(214200, 73)"
      ]
     },
     "execution_count": 5,
     "metadata": {},
     "output_type": "execute_result"
    }
   ],
   "source": [
    "x_test_list[1].shape"
   ]
  },
  {
   "cell_type": "code",
   "execution_count": 6,
   "metadata": {},
   "outputs": [
    {
     "data": {
      "text/plain": [
       "(6186922,)"
      ]
     },
     "execution_count": 6,
     "metadata": {},
     "output_type": "execute_result"
    }
   ],
   "source": [
    "y_train_list[0].shape"
   ]
  },
  {
   "cell_type": "code",
   "execution_count": 7,
   "metadata": {},
   "outputs": [
    {
     "data": {
      "text/plain": [
       "(6186922, 73)"
      ]
     },
     "execution_count": 7,
     "metadata": {},
     "output_type": "execute_result"
    }
   ],
   "source": [
    "x_train_list[0].shape"
   ]
  },
  {
   "cell_type": "code",
   "execution_count": 8,
   "metadata": {},
   "outputs": [
    {
     "data": {
      "text/html": [
       "<div>\n",
       "<style scoped>\n",
       "    .dataframe tbody tr th:only-of-type {\n",
       "        vertical-align: middle;\n",
       "    }\n",
       "\n",
       "    .dataframe tbody tr th {\n",
       "        vertical-align: top;\n",
       "    }\n",
       "\n",
       "    .dataframe thead th {\n",
       "        text-align: right;\n",
       "    }\n",
       "</style>\n",
       "<table border=\"1\" class=\"dataframe\">\n",
       "  <thead>\n",
       "    <tr style=\"text-align: right;\">\n",
       "      <th></th>\n",
       "      <th>date_block_num</th>\n",
       "      <th>shop_id</th>\n",
       "      <th>item_id</th>\n",
       "      <th>item_category_id</th>\n",
       "      <th>sum_item_sales_back_1</th>\n",
       "      <th>sum_shop_sales_back_1</th>\n",
       "      <th>item_cnt_month_back_1</th>\n",
       "      <th>sum_item_cat_sales_back_1</th>\n",
       "      <th>sum_item_cat_shop_sales_back_1</th>\n",
       "      <th>sum_item_sales_back_2</th>\n",
       "      <th>...</th>\n",
       "      <th>sum_item_cat_shop_sales_back_12</th>\n",
       "      <th>month</th>\n",
       "      <th>numdays</th>\n",
       "      <th>mean_prevmonth_item_price</th>\n",
       "      <th>sd_prevmonth_item_price</th>\n",
       "      <th>mean_prevmonth_shop_item_price</th>\n",
       "      <th>sd_above_market</th>\n",
       "      <th>city</th>\n",
       "      <th>item_type</th>\n",
       "      <th>item_info</th>\n",
       "    </tr>\n",
       "  </thead>\n",
       "  <tbody>\n",
       "    <tr>\n",
       "      <th>0</th>\n",
       "      <td>12</td>\n",
       "      <td>2</td>\n",
       "      <td>32</td>\n",
       "      <td>40.0</td>\n",
       "      <td>0.0</td>\n",
       "      <td>0.0</td>\n",
       "      <td>0.0</td>\n",
       "      <td>0.0</td>\n",
       "      <td>0.0</td>\n",
       "      <td>0.0</td>\n",
       "      <td>...</td>\n",
       "      <td>0.0</td>\n",
       "      <td>jan</td>\n",
       "      <td>31</td>\n",
       "      <td>134.691573</td>\n",
       "      <td>15.602202</td>\n",
       "      <td>NaN</td>\n",
       "      <td>0.000000</td>\n",
       "      <td>1.0</td>\n",
       "      <td>11.0</td>\n",
       "      <td>6.0</td>\n",
       "    </tr>\n",
       "    <tr>\n",
       "      <th>1</th>\n",
       "      <td>12</td>\n",
       "      <td>2</td>\n",
       "      <td>33</td>\n",
       "      <td>37.0</td>\n",
       "      <td>42.0</td>\n",
       "      <td>1255.0</td>\n",
       "      <td>1.0</td>\n",
       "      <td>9906.0</td>\n",
       "      <td>55.0</td>\n",
       "      <td>15.0</td>\n",
       "      <td>...</td>\n",
       "      <td>52.0</td>\n",
       "      <td>jan</td>\n",
       "      <td>31</td>\n",
       "      <td>186.571429</td>\n",
       "      <td>16.449056</td>\n",
       "      <td>199.0</td>\n",
       "      <td>0.755580</td>\n",
       "      <td>1.0</td>\n",
       "      <td>11.0</td>\n",
       "      <td>1.0</td>\n",
       "    </tr>\n",
       "    <tr>\n",
       "      <th>2</th>\n",
       "      <td>12</td>\n",
       "      <td>2</td>\n",
       "      <td>99</td>\n",
       "      <td>37.0</td>\n",
       "      <td>0.0</td>\n",
       "      <td>0.0</td>\n",
       "      <td>0.0</td>\n",
       "      <td>0.0</td>\n",
       "      <td>0.0</td>\n",
       "      <td>0.0</td>\n",
       "      <td>...</td>\n",
       "      <td>0.0</td>\n",
       "      <td>jan</td>\n",
       "      <td>31</td>\n",
       "      <td>124.167083</td>\n",
       "      <td>25.367019</td>\n",
       "      <td>NaN</td>\n",
       "      <td>0.000000</td>\n",
       "      <td>1.0</td>\n",
       "      <td>11.0</td>\n",
       "      <td>1.0</td>\n",
       "    </tr>\n",
       "    <tr>\n",
       "      <th>3</th>\n",
       "      <td>12</td>\n",
       "      <td>2</td>\n",
       "      <td>482</td>\n",
       "      <td>73.0</td>\n",
       "      <td>88.0</td>\n",
       "      <td>1255.0</td>\n",
       "      <td>1.0</td>\n",
       "      <td>412.0</td>\n",
       "      <td>3.0</td>\n",
       "      <td>85.0</td>\n",
       "      <td>...</td>\n",
       "      <td>7.0</td>\n",
       "      <td>jan</td>\n",
       "      <td>31</td>\n",
       "      <td>2866.022727</td>\n",
       "      <td>435.543311</td>\n",
       "      <td>3300.0</td>\n",
       "      <td>0.996404</td>\n",
       "      <td>1.0</td>\n",
       "      <td>15.0</td>\n",
       "      <td>0.0</td>\n",
       "    </tr>\n",
       "    <tr>\n",
       "      <th>4</th>\n",
       "      <td>12</td>\n",
       "      <td>2</td>\n",
       "      <td>485</td>\n",
       "      <td>73.0</td>\n",
       "      <td>111.0</td>\n",
       "      <td>1255.0</td>\n",
       "      <td>1.0</td>\n",
       "      <td>412.0</td>\n",
       "      <td>3.0</td>\n",
       "      <td>0.0</td>\n",
       "      <td>...</td>\n",
       "      <td>0.0</td>\n",
       "      <td>jan</td>\n",
       "      <td>31</td>\n",
       "      <td>250.203390</td>\n",
       "      <td>51.145216</td>\n",
       "      <td>300.0</td>\n",
       "      <td>0.973632</td>\n",
       "      <td>1.0</td>\n",
       "      <td>15.0</td>\n",
       "      <td>0.0</td>\n",
       "    </tr>\n",
       "  </tbody>\n",
       "</table>\n",
       "<p>5 rows × 73 columns</p>\n",
       "</div>"
      ],
      "text/plain": [
       "   date_block_num  shop_id  item_id  item_category_id  sum_item_sales_back_1  \\\n",
       "0              12        2       32              40.0                    0.0   \n",
       "1              12        2       33              37.0                   42.0   \n",
       "2              12        2       99              37.0                    0.0   \n",
       "3              12        2      482              73.0                   88.0   \n",
       "4              12        2      485              73.0                  111.0   \n",
       "\n",
       "   sum_shop_sales_back_1  item_cnt_month_back_1  sum_item_cat_sales_back_1  \\\n",
       "0                    0.0                    0.0                        0.0   \n",
       "1                 1255.0                    1.0                     9906.0   \n",
       "2                    0.0                    0.0                        0.0   \n",
       "3                 1255.0                    1.0                      412.0   \n",
       "4                 1255.0                    1.0                      412.0   \n",
       "\n",
       "   sum_item_cat_shop_sales_back_1  sum_item_sales_back_2    ...      \\\n",
       "0                             0.0                    0.0    ...       \n",
       "1                            55.0                   15.0    ...       \n",
       "2                             0.0                    0.0    ...       \n",
       "3                             3.0                   85.0    ...       \n",
       "4                             3.0                    0.0    ...       \n",
       "\n",
       "   sum_item_cat_shop_sales_back_12  month  numdays  mean_prevmonth_item_price  \\\n",
       "0                              0.0    jan       31                 134.691573   \n",
       "1                             52.0    jan       31                 186.571429   \n",
       "2                              0.0    jan       31                 124.167083   \n",
       "3                              7.0    jan       31                2866.022727   \n",
       "4                              0.0    jan       31                 250.203390   \n",
       "\n",
       "   sd_prevmonth_item_price  mean_prevmonth_shop_item_price  sd_above_market  \\\n",
       "0                15.602202                             NaN         0.000000   \n",
       "1                16.449056                           199.0         0.755580   \n",
       "2                25.367019                             NaN         0.000000   \n",
       "3               435.543311                          3300.0         0.996404   \n",
       "4                51.145216                           300.0         0.973632   \n",
       "\n",
       "   city  item_type  item_info  \n",
       "0   1.0       11.0        6.0  \n",
       "1   1.0       11.0        1.0  \n",
       "2   1.0       11.0        1.0  \n",
       "3   1.0       15.0        0.0  \n",
       "4   1.0       15.0        0.0  \n",
       "\n",
       "[5 rows x 73 columns]"
      ]
     },
     "execution_count": 8,
     "metadata": {},
     "output_type": "execute_result"
    }
   ],
   "source": [
    "x_train_list[0].head()"
   ]
  },
  {
   "cell_type": "code",
   "execution_count": 9,
   "metadata": {},
   "outputs": [],
   "source": [
    "#model specific preprocessing\n",
    "def model2_preproc(x,*args):\n",
    "    x = x.fillna(999)\n",
    "    if len(args):\n",
    "        y = args[0]\n",
    "        return([x.drop(['shop_name','item_name','item_category_name'],axis=1),y])\n",
    "    else:\n",
    "        return(x.drop(['shop_name','item_name','item_category_name'],axis=1))"
   ]
  },
  {
   "cell_type": "markdown",
   "metadata": {},
   "source": [
    "# HACKS"
   ]
  },
  {
   "cell_type": "code",
   "execution_count": 10,
   "metadata": {},
   "outputs": [],
   "source": [
    "#model specific preprocessing\n",
    "def model2_preproc(x,*args):\n",
    "    x = x.fillna(999)\n",
    "    if len(args):\n",
    "        y = args[0]\n",
    "        return([x,y])\n",
    "    else:\n",
    "        return(x)"
   ]
  },
  {
   "cell_type": "markdown",
   "metadata": {},
   "source": [
    "# END HACKS"
   ]
  },
  {
   "cell_type": "code",
   "execution_count": 11,
   "metadata": {},
   "outputs": [
    {
     "ename": "NameError",
     "evalue": "name 'xtp' is not defined",
     "output_type": "error",
     "traceback": [
      "\u001b[1;31m---------------------------------------------------------------------------\u001b[0m",
      "\u001b[1;31mNameError\u001b[0m                                 Traceback (most recent call last)",
      "\u001b[1;32m<ipython-input-11-e6944d8a33f3>\u001b[0m in \u001b[0;36m<module>\u001b[1;34m\u001b[0m\n\u001b[1;32m----> 1\u001b[1;33m \u001b[0mxtp\u001b[0m\u001b[1;33m.\u001b[0m\u001b[0mhead\u001b[0m\u001b[1;33m(\u001b[0m\u001b[1;33m)\u001b[0m\u001b[1;33m\u001b[0m\u001b[1;33m\u001b[0m\u001b[0m\n\u001b[0m",
      "\u001b[1;31mNameError\u001b[0m: name 'xtp' is not defined"
     ]
    }
   ],
   "source": [
    "xtp.head()"
   ]
  },
  {
   "cell_type": "code",
   "execution_count": 12,
   "metadata": {},
   "outputs": [
    {
     "ename": "NameError",
     "evalue": "name 'xtp' is not defined",
     "output_type": "error",
     "traceback": [
      "\u001b[1;31m---------------------------------------------------------------------------\u001b[0m",
      "\u001b[1;31mNameError\u001b[0m                                 Traceback (most recent call last)",
      "\u001b[1;32m<ipython-input-12-a8ac4003020e>\u001b[0m in \u001b[0;36m<module>\u001b[1;34m\u001b[0m\n\u001b[1;32m----> 1\u001b[1;33m \u001b[1;32mfor\u001b[0m \u001b[0mi\u001b[0m\u001b[1;33m,\u001b[0m \u001b[0mc\u001b[0m \u001b[1;32min\u001b[0m \u001b[0menumerate\u001b[0m\u001b[1;33m(\u001b[0m\u001b[0mxtp\u001b[0m\u001b[1;33m.\u001b[0m\u001b[0mcolumns\u001b[0m\u001b[1;33m)\u001b[0m\u001b[1;33m:\u001b[0m \u001b[0mprint\u001b[0m\u001b[1;33m(\u001b[0m\u001b[1;34m'index: '\u001b[0m\u001b[1;33m+\u001b[0m\u001b[0mstr\u001b[0m\u001b[1;33m(\u001b[0m\u001b[0mi\u001b[0m\u001b[1;33m)\u001b[0m\u001b[1;33m+\u001b[0m\u001b[1;34m'\\t\\tcolname: '\u001b[0m\u001b[1;33m+\u001b[0m\u001b[0mstr\u001b[0m\u001b[1;33m(\u001b[0m\u001b[0mc\u001b[0m\u001b[1;33m)\u001b[0m\u001b[1;33m)\u001b[0m\u001b[1;33m\u001b[0m\u001b[1;33m\u001b[0m\u001b[0m\n\u001b[0m",
      "\u001b[1;31mNameError\u001b[0m: name 'xtp' is not defined"
     ]
    }
   ],
   "source": [
    "for i, c in enumerate(xtp.columns): \n",
    "    print('index: '+str(i)+'\\t\\tcolname: '+str(c))"
   ]
  },
  {
   "cell_type": "code",
   "execution_count": 12,
   "metadata": {},
   "outputs": [],
   "source": [
    "#xtp , ytp = model2_preproc(x_train_list[0],y_train_list[0])\n",
    "\n",
    "#mod = catboost.CatBoostRegressor(cat_features=[1,2,3,64,70,71,72])\n",
    "#mod.set_params(thread_count=4,iterations=30)\n",
    "#mod.fit(xtp,ytp)\n",
    "\n",
    "#xvp = model2_preproc(x_test_list[0])\n",
    "#preds = mod.predict(xvp)\n"
   ]
  },
  {
   "cell_type": "code",
   "execution_count": null,
   "metadata": {},
   "outputs": [],
   "source": [
    "#np.sqrt(np.mean((preds-y_test_list[0])**2))"
   ]
  },
  {
   "cell_type": "code",
   "execution_count": 30,
   "metadata": {},
   "outputs": [
    {
     "name": "stdout",
     "output_type": "stream",
     "text": [
      "0:\tlearn: 1.1993045\ttotal: 10.1s\tremaining: 8m 13s\n",
      "1:\tlearn: 1.1787324\ttotal: 19.3s\tremaining: 7m 43s\n",
      "2:\tlearn: 1.1590268\ttotal: 28.6s\tremaining: 7m 27s\n",
      "3:\tlearn: 1.1401404\ttotal: 37.2s\tremaining: 7m 7s\n",
      "4:\tlearn: 1.1220936\ttotal: 45.9s\tremaining: 6m 53s\n",
      "5:\tlearn: 1.1048464\ttotal: 54.6s\tremaining: 6m 40s\n",
      "6:\tlearn: 1.0883424\ttotal: 1m 12s\tremaining: 7m 24s\n",
      "7:\tlearn: 1.0725909\ttotal: 1m 22s\tremaining: 7m 10s\n",
      "8:\tlearn: 1.0574783\ttotal: 1m 30s\tremaining: 6m 52s\n",
      "9:\tlearn: 1.0430802\ttotal: 1m 39s\tremaining: 6m 38s\n",
      "10:\tlearn: 1.0292570\ttotal: 1m 48s\tremaining: 6m 25s\n",
      "11:\tlearn: 1.0161056\ttotal: 1m 57s\tremaining: 6m 13s\n",
      "12:\tlearn: 1.0034905\ttotal: 2m 7s\tremaining: 6m 1s\n",
      "13:\tlearn: 0.9915037\ttotal: 2m 15s\tremaining: 5m 48s\n",
      "14:\tlearn: 0.9800668\ttotal: 2m 26s\tremaining: 5m 41s\n",
      "15:\tlearn: 0.9691733\ttotal: 2m 34s\tremaining: 5m 29s\n",
      "16:\tlearn: 0.9588011\ttotal: 2m 43s\tremaining: 5m 17s\n",
      "17:\tlearn: 0.9488441\ttotal: 2m 52s\tremaining: 5m 7s\n",
      "18:\tlearn: 0.9393080\ttotal: 3m 1s\tremaining: 4m 56s\n",
      "19:\tlearn: 0.9302583\ttotal: 3m 11s\tremaining: 4m 46s\n",
      "20:\tlearn: 0.9216245\ttotal: 3m 20s\tremaining: 4m 37s\n",
      "21:\tlearn: 0.9133662\ttotal: 3m 29s\tremaining: 4m 27s\n",
      "22:\tlearn: 0.9054960\ttotal: 3m 38s\tremaining: 4m 17s\n",
      "23:\tlearn: 0.8980245\ttotal: 3m 48s\tremaining: 4m 7s\n",
      "24:\tlearn: 0.8909520\ttotal: 3m 56s\tremaining: 3m 56s\n",
      "25:\tlearn: 0.8840416\ttotal: 4m 6s\tremaining: 3m 47s\n",
      "26:\tlearn: 0.8775518\ttotal: 4m 16s\tremaining: 3m 38s\n",
      "27:\tlearn: 0.8714179\ttotal: 4m 25s\tremaining: 3m 28s\n",
      "28:\tlearn: 0.8635202\ttotal: 4m 35s\tremaining: 3m 19s\n",
      "29:\tlearn: 0.8560050\ttotal: 4m 45s\tremaining: 3m 10s\n",
      "30:\tlearn: 0.8486964\ttotal: 4m 54s\tremaining: 3m\n",
      "31:\tlearn: 0.8416953\ttotal: 4m 59s\tremaining: 2m 48s\n",
      "32:\tlearn: 0.8350606\ttotal: 5m 6s\tremaining: 2m 38s\n",
      "33:\tlearn: 0.8287761\ttotal: 5m 15s\tremaining: 2m 28s\n",
      "34:\tlearn: 0.8227659\ttotal: 5m 22s\tremaining: 2m 18s\n",
      "35:\tlearn: 0.8170505\ttotal: 5m 32s\tremaining: 2m 9s\n",
      "36:\tlearn: 0.8114751\ttotal: 5m 39s\tremaining: 1m 59s\n",
      "37:\tlearn: 0.8063178\ttotal: 5m 45s\tremaining: 1m 49s\n",
      "38:\tlearn: 0.8010114\ttotal: 5m 57s\tremaining: 1m 40s\n",
      "39:\tlearn: 0.7959272\ttotal: 6m 5s\tremaining: 1m 31s\n",
      "40:\tlearn: 0.7911153\ttotal: 6m 14s\tremaining: 1m 22s\n",
      "41:\tlearn: 0.7865139\ttotal: 6m 21s\tremaining: 1m 12s\n",
      "42:\tlearn: 0.7821274\ttotal: 6m 29s\tremaining: 1m 3s\n",
      "43:\tlearn: 0.7779183\ttotal: 6m 41s\tremaining: 54.8s\n",
      "44:\tlearn: 0.7739540\ttotal: 6m 49s\tremaining: 45.5s\n",
      "45:\tlearn: 0.7702157\ttotal: 6m 56s\tremaining: 36.2s\n",
      "46:\tlearn: 0.7667390\ttotal: 7m 2s\tremaining: 27s\n",
      "47:\tlearn: 0.7633875\ttotal: 7m 13s\tremaining: 18s\n",
      "48:\tlearn: 0.7598528\ttotal: 7m 18s\tremaining: 8.96s\n",
      "49:\tlearn: 0.7568193\ttotal: 7m 25s\tremaining: 0us\n"
     ]
    }
   ],
   "source": [
    "start = time.time()\n",
    "xtp , ytp = model2_preproc(x_train_list[1],y_train_list[1])\n",
    "xtp.shape\n",
    "\n",
    "mod = catboost.CatBoostRegressor(cat_features=[1,2,3,64,70,71,72])\n",
    "mod.set_params(thread_count=4,iterations=50)\n",
    "\n",
    "mod.fit(xtp,ytp)\n",
    "\n",
    "xvp = model2_preproc(x_test_list[1])\n",
    "xvp.head()\n",
    "\n",
    "preds = mod.predict(xvp)\n",
    "print('RUNTIME = '+str((time.time() - start)/60)+' minutes')"
   ]
  },
  {
   "cell_type": "code",
   "execution_count": 31,
   "metadata": {},
   "outputs": [
    {
     "data": {
      "text/plain": [
       "[('shop_id', 4.002531215783263),\n",
       " ('item_id', 5.180878632707629),\n",
       " ('item_category_id', 1.4033494774598092),\n",
       " ('sum_item_sales_back_1', 1.2754479359787463),\n",
       " ('item_cnt_month_back_1', 16.252991176799096),\n",
       " ('sum_item_cat_sales_back_1', 0.08739117840341315),\n",
       " ('sum_item_sales_back_2', 0.13066861123109216),\n",
       " ('sum_shop_sales_back_2', 0.1118363309371888),\n",
       " ('item_cnt_month_back_2', 0.6115475171480578),\n",
       " ('sum_item_cat_sales_back_2', 0.20348992223829235),\n",
       " ('sum_item_cat_shop_sales_back_2', 0.2834737027230362),\n",
       " ('item_cnt_month_back_3', 1.889019353691746),\n",
       " ('item_cnt_month_back_4', 0.06470090905299741),\n",
       " ('item_cnt_month_back_5', 0.7741860623911182),\n",
       " ('item_cnt_month_back_6', 0.08824316894939592),\n",
       " ('item_cnt_month_back_8', 0.1280943677417454),\n",
       " ('month', 3.830258362327034),\n",
       " ('mean_prevmonth_item_price', 0.38891431396096565),\n",
       " ('sd_prevmonth_item_price', 1.9279184318539482),\n",
       " ('city', 26.18350499402331),\n",
       " ('item_type', 35.1815543345981)]"
      ]
     },
     "execution_count": 31,
     "metadata": {},
     "output_type": "execute_result"
    }
   ],
   "source": [
    "feat_imp = mod.get_feature_importance()\n",
    "col_ind = [i for i , f in enumerate(feat_imp) if f>0.0]\n",
    "imp_feats = list(xtp.columns[col_ind].values)\n",
    "imps = [x for x in feat_imp if x>0]\n",
    "feat_deet = list(zip(imp_feats,imps))\n",
    "feat_deet"
   ]
  },
  {
   "cell_type": "code",
   "execution_count": 32,
   "metadata": {},
   "outputs": [
    {
     "data": {
      "text/plain": [
       "[('item_type', 35.1815543345981),\n",
       " ('city', 26.18350499402331),\n",
       " ('item_cnt_month_back_1', 16.252991176799096),\n",
       " ('item_id', 5.180878632707629),\n",
       " ('shop_id', 4.002531215783263),\n",
       " ('month', 3.830258362327034),\n",
       " ('sd_prevmonth_item_price', 1.9279184318539482),\n",
       " ('item_cnt_month_back_3', 1.889019353691746),\n",
       " ('item_category_id', 1.4033494774598092),\n",
       " ('sum_item_sales_back_1', 1.2754479359787463),\n",
       " ('item_cnt_month_back_5', 0.7741860623911182),\n",
       " ('item_cnt_month_back_2', 0.6115475171480578),\n",
       " ('mean_prevmonth_item_price', 0.38891431396096565),\n",
       " ('sum_item_cat_shop_sales_back_2', 0.2834737027230362),\n",
       " ('sum_item_cat_sales_back_2', 0.20348992223829235),\n",
       " ('sum_item_sales_back_2', 0.13066861123109216),\n",
       " ('item_cnt_month_back_8', 0.1280943677417454),\n",
       " ('sum_shop_sales_back_2', 0.1118363309371888),\n",
       " ('item_cnt_month_back_6', 0.08824316894939592),\n",
       " ('sum_item_cat_sales_back_1', 0.08739117840341315),\n",
       " ('item_cnt_month_back_4', 0.06470090905299741)]"
      ]
     },
     "execution_count": 32,
     "metadata": {},
     "output_type": "execute_result"
    }
   ],
   "source": [
    "sorted(feat_deet,key=lambda tup:-tup[1])"
   ]
  },
  {
   "cell_type": "code",
   "execution_count": 33,
   "metadata": {},
   "outputs": [
    {
     "data": {
      "text/plain": [
       "[0.0,\n",
       " 4.002531215783263,\n",
       " 5.180878632707629,\n",
       " 1.4033494774598092,\n",
       " 1.2754479359787463,\n",
       " 0.0,\n",
       " 16.252991176799096,\n",
       " 0.08739117840341315,\n",
       " 0.0,\n",
       " 0.13066861123109216,\n",
       " 0.1118363309371888,\n",
       " 0.6115475171480578,\n",
       " 0.20348992223829235,\n",
       " 0.2834737027230362,\n",
       " 0.0,\n",
       " 0.0,\n",
       " 1.889019353691746,\n",
       " 0.0,\n",
       " 0.0,\n",
       " 0.0,\n",
       " 0.0,\n",
       " 0.06470090905299741,\n",
       " 0.0,\n",
       " 0.0,\n",
       " 0.0,\n",
       " 0.0,\n",
       " 0.7741860623911182,\n",
       " 0.0,\n",
       " 0.0,\n",
       " 0.0,\n",
       " 0.0,\n",
       " 0.08824316894939592,\n",
       " 0.0,\n",
       " 0.0,\n",
       " 0.0,\n",
       " 0.0,\n",
       " 0.0,\n",
       " 0.0,\n",
       " 0.0,\n",
       " 0.0,\n",
       " 0.0,\n",
       " 0.1280943677417454,\n",
       " 0.0,\n",
       " 0.0,\n",
       " 0.0,\n",
       " 0.0,\n",
       " 0.0,\n",
       " 0.0,\n",
       " 0.0,\n",
       " 0.0,\n",
       " 0.0,\n",
       " 0.0,\n",
       " 0.0,\n",
       " 0.0,\n",
       " 0.0,\n",
       " 0.0,\n",
       " 0.0,\n",
       " 0.0,\n",
       " 0.0,\n",
       " 0.0,\n",
       " 0.0,\n",
       " 0.0,\n",
       " 0.0,\n",
       " 0.0,\n",
       " 3.830258362327034,\n",
       " 0.0,\n",
       " 0.38891431396096565,\n",
       " 1.9279184318539482,\n",
       " 0.0,\n",
       " 0.0,\n",
       " 26.18350499402331,\n",
       " 35.1815543345981,\n",
       " 0.0]"
      ]
     },
     "execution_count": 33,
     "metadata": {},
     "output_type": "execute_result"
    }
   ],
   "source": [
    "feat_imp"
   ]
  },
  {
   "cell_type": "code",
   "execution_count": 28,
   "metadata": {},
   "outputs": [
    {
     "data": {
      "text/plain": [
       "80"
      ]
     },
     "execution_count": 28,
     "metadata": {},
     "output_type": "execute_result"
    }
   ],
   "source": [
    "xtp.item_category_id.nunique()"
   ]
  },
  {
   "cell_type": "code",
   "execution_count": 35,
   "metadata": {},
   "outputs": [],
   "source": [
    "sub = x_test_list[1][['shop_id','item_id']].copy()\n",
    "sub['item_cnt_month'] = preds\n",
    "test0 = pd.read_csv('../original_data/test.csv.gz')\n",
    "sub = test0.merge(sub,how='left').drop(['shop_id','item_id'],axis=1)\n",
    "sub.to_csv('../gen_data/model2sub_nextgen.csv',index=False)"
   ]
  },
  {
   "cell_type": "markdown",
   "metadata": {},
   "source": [
    "# mean should be approx 0.2839853"
   ]
  },
  {
   "cell_type": "code",
   "execution_count": 36,
   "metadata": {},
   "outputs": [],
   "source": [
    "sub = x_test_list[1][['shop_id','item_id']].copy()\n",
    "sub['item_cnt_month'] = preds*0.2839853/np.mean(preds)\n",
    "test0 = pd.read_csv('../original_data/test.csv.gz')\n",
    "sub = test0.merge(sub,how='left').drop(['shop_id','item_id'],axis=1)\n",
    "sub.to_csv('../gen_data/model2sub_nextgen_meanadjusted.csv',index=False)"
   ]
  },
  {
   "cell_type": "code",
   "execution_count": null,
   "metadata": {},
   "outputs": [],
   "source": [
    "test0"
   ]
  },
  {
   "cell_type": "code",
   "execution_count": null,
   "metadata": {},
   "outputs": [],
   "source": [
    "pd.to_csv()"
   ]
  },
  {
   "cell_type": "code",
   "execution_count": null,
   "metadata": {},
   "outputs": [],
   "source": [
    "np.mean(preds)"
   ]
  },
  {
   "cell_type": "markdown",
   "metadata": {},
   "source": [
    "# check data"
   ]
  },
  {
   "cell_type": "code",
   "execution_count": null,
   "metadata": {},
   "outputs": [],
   "source": [
    "np.sqrt(np.mean((x_test_list[0].item_cnt_month_back_1 - y_test_list[0])**2))"
   ]
  },
  {
   "cell_type": "code",
   "execution_count": null,
   "metadata": {},
   "outputs": [],
   "source": [
    "x_test_list[1].item_cnt_month_back_1\n",
    "#correct"
   ]
  },
  {
   "cell_type": "code",
   "execution_count": null,
   "metadata": {},
   "outputs": [],
   "source": []
  }
 ],
 "metadata": {
  "kernelspec": {
   "display_name": "Python 3",
   "language": "python",
   "name": "python3"
  },
  "language_info": {
   "codemirror_mode": {
    "name": "ipython",
    "version": 3
   },
   "file_extension": ".py",
   "mimetype": "text/x-python",
   "name": "python",
   "nbconvert_exporter": "python",
   "pygments_lexer": "ipython3",
   "version": "3.7.1"
  }
 },
 "nbformat": 4,
 "nbformat_minor": 2
}
