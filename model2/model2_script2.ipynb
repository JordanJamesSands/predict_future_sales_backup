{
 "cells": [
  {
   "cell_type": "code",
   "execution_count": 1,
   "metadata": {},
   "outputs": [],
   "source": [
    "import pickle\n",
    "import pandas as pd\n",
    "import numpy as np\n",
    "import catboost\n",
    "import time"
   ]
  },
  {
   "cell_type": "code",
   "execution_count": 2,
   "metadata": {},
   "outputs": [],
   "source": [
    "x_train_list , x_test_list , y_train_list , y_test_list = pickle.load(open('../saved_datasets/3-11-19.stitch.aggregate.clip.simple_validation_split.enrich1.features1.features2.features3.features4.data_output_1.dateback=12.targ_enc_perm=8/xtrain_xtest_ytrain_ytest.pickle','rb'))\n",
    "\n"
   ]
  },
  {
   "cell_type": "code",
   "execution_count": 3,
   "metadata": {},
   "outputs": [],
   "source": [
    "#model specific preprocessing\n",
    "def model2_preproc(x,*args):\n",
    "    x = x.fillna(999)\n",
    "    if len(args):\n",
    "        y = args[0]\n",
    "        return([x.drop(['shop_name','item_name','item_category_name'],axis=1),y])\n",
    "    else:\n",
    "        return(x.drop(['shop_name','item_name','item_category_name'],axis=1))"
   ]
  },
  {
   "cell_type": "markdown",
   "metadata": {},
   "source": [
    "# HACKS"
   ]
  },
  {
   "cell_type": "code",
   "execution_count": 4,
   "metadata": {},
   "outputs": [],
   "source": [
    "#model specific preprocessing\n",
    "def model2_preproc(x,*args):\n",
    "    x = x.fillna(999)\n",
    "    if len(args):\n",
    "        y = args[0]\n",
    "        return([x,y])\n",
    "    else:\n",
    "        return(x)"
   ]
  },
  {
   "cell_type": "markdown",
   "metadata": {},
   "source": [
    "# END HACKS"
   ]
  },
  {
   "cell_type": "code",
   "execution_count": 5,
   "metadata": {},
   "outputs": [],
   "source": [
    "#xtp , ytp = model2_preproc(x_train_list[0],y_train_list[0])\n",
    "\n",
    "#mod = catboost.CatBoostRegressor(cat_features=[1,2,3,64,70,71,72])\n",
    "#mod.set_params(thread_count=4,iterations=30)\n",
    "#mod.fit(xtp,ytp)\n",
    "\n",
    "#xvp = model2_preproc(x_test_list[0])\n",
    "#preds = mod.predict(xvp)\n"
   ]
  },
  {
   "cell_type": "code",
   "execution_count": 6,
   "metadata": {},
   "outputs": [],
   "source": [
    "#np.sqrt(np.mean((preds-y_test_list[0])**2))"
   ]
  },
  {
   "cell_type": "code",
   "execution_count": 7,
   "metadata": {},
   "outputs": [],
   "source": [
    "start = time.time()\n",
    "xtp , ytp = model2_preproc(x_train_list[1],y_train_list[1])"
   ]
  },
  {
   "cell_type": "code",
   "execution_count": 8,
   "metadata": {},
   "outputs": [
    {
     "data": {
      "text/plain": [
       "(6425094,)"
      ]
     },
     "execution_count": 8,
     "metadata": {},
     "output_type": "execute_result"
    }
   ],
   "source": [
    "y_train_list[1].shape"
   ]
  },
  {
   "cell_type": "code",
   "execution_count": 9,
   "metadata": {},
   "outputs": [
    {
     "data": {
      "text/plain": [
       "(6425094, 80)"
      ]
     },
     "execution_count": 9,
     "metadata": {},
     "output_type": "execute_result"
    }
   ],
   "source": [
    "x_train_list[1].shape"
   ]
  },
  {
   "cell_type": "code",
   "execution_count": 10,
   "metadata": {},
   "outputs": [
    {
     "name": "stdout",
     "output_type": "stream",
     "text": [
      "index: 0\t\tcolname: date_block_num\n",
      "index: 1\t\tcolname: shop_id\n",
      "index: 2\t\tcolname: item_id\n",
      "index: 3\t\tcolname: item_category_id\n",
      "index: 4\t\tcolname: sum_item_sales_back_1\n",
      "index: 5\t\tcolname: sum_shop_sales_back_1\n",
      "index: 6\t\tcolname: item_cnt_month_back_1\n",
      "index: 7\t\tcolname: sum_item_cat_sales_back_1\n",
      "index: 8\t\tcolname: sum_item_cat_shop_sales_back_1\n",
      "index: 9\t\tcolname: sum_item_sales_back_2\n",
      "index: 10\t\tcolname: sum_shop_sales_back_2\n",
      "index: 11\t\tcolname: item_cnt_month_back_2\n",
      "index: 12\t\tcolname: sum_item_cat_sales_back_2\n",
      "index: 13\t\tcolname: sum_item_cat_shop_sales_back_2\n",
      "index: 14\t\tcolname: sum_item_sales_back_3\n",
      "index: 15\t\tcolname: sum_shop_sales_back_3\n",
      "index: 16\t\tcolname: item_cnt_month_back_3\n",
      "index: 17\t\tcolname: sum_item_cat_sales_back_3\n",
      "index: 18\t\tcolname: sum_item_cat_shop_sales_back_3\n",
      "index: 19\t\tcolname: sum_item_sales_back_4\n",
      "index: 20\t\tcolname: sum_shop_sales_back_4\n",
      "index: 21\t\tcolname: item_cnt_month_back_4\n",
      "index: 22\t\tcolname: sum_item_cat_sales_back_4\n",
      "index: 23\t\tcolname: sum_item_cat_shop_sales_back_4\n",
      "index: 24\t\tcolname: sum_item_sales_back_5\n",
      "index: 25\t\tcolname: sum_shop_sales_back_5\n",
      "index: 26\t\tcolname: item_cnt_month_back_5\n",
      "index: 27\t\tcolname: sum_item_cat_sales_back_5\n",
      "index: 28\t\tcolname: sum_item_cat_shop_sales_back_5\n",
      "index: 29\t\tcolname: sum_item_sales_back_6\n",
      "index: 30\t\tcolname: sum_shop_sales_back_6\n",
      "index: 31\t\tcolname: item_cnt_month_back_6\n",
      "index: 32\t\tcolname: sum_item_cat_sales_back_6\n",
      "index: 33\t\tcolname: sum_item_cat_shop_sales_back_6\n",
      "index: 34\t\tcolname: sum_item_sales_back_7\n",
      "index: 35\t\tcolname: sum_shop_sales_back_7\n",
      "index: 36\t\tcolname: item_cnt_month_back_7\n",
      "index: 37\t\tcolname: sum_item_cat_sales_back_7\n",
      "index: 38\t\tcolname: sum_item_cat_shop_sales_back_7\n",
      "index: 39\t\tcolname: sum_item_sales_back_8\n",
      "index: 40\t\tcolname: sum_shop_sales_back_8\n",
      "index: 41\t\tcolname: item_cnt_month_back_8\n",
      "index: 42\t\tcolname: sum_item_cat_sales_back_8\n",
      "index: 43\t\tcolname: sum_item_cat_shop_sales_back_8\n",
      "index: 44\t\tcolname: sum_item_sales_back_9\n",
      "index: 45\t\tcolname: sum_shop_sales_back_9\n",
      "index: 46\t\tcolname: item_cnt_month_back_9\n",
      "index: 47\t\tcolname: sum_item_cat_sales_back_9\n",
      "index: 48\t\tcolname: sum_item_cat_shop_sales_back_9\n",
      "index: 49\t\tcolname: sum_item_sales_back_10\n",
      "index: 50\t\tcolname: sum_shop_sales_back_10\n",
      "index: 51\t\tcolname: item_cnt_month_back_10\n",
      "index: 52\t\tcolname: sum_item_cat_sales_back_10\n",
      "index: 53\t\tcolname: sum_item_cat_shop_sales_back_10\n",
      "index: 54\t\tcolname: sum_item_sales_back_11\n",
      "index: 55\t\tcolname: sum_shop_sales_back_11\n",
      "index: 56\t\tcolname: item_cnt_month_back_11\n",
      "index: 57\t\tcolname: sum_item_cat_sales_back_11\n",
      "index: 58\t\tcolname: sum_item_cat_shop_sales_back_11\n",
      "index: 59\t\tcolname: sum_item_sales_back_12\n",
      "index: 60\t\tcolname: sum_shop_sales_back_12\n",
      "index: 61\t\tcolname: item_cnt_month_back_12\n",
      "index: 62\t\tcolname: sum_item_cat_sales_back_12\n",
      "index: 63\t\tcolname: sum_item_cat_shop_sales_back_12\n",
      "index: 64\t\tcolname: month\n",
      "index: 65\t\tcolname: numdays\n",
      "index: 66\t\tcolname: mean_prevmonth_item_price\n",
      "index: 67\t\tcolname: sd_prevmonth_item_price\n",
      "index: 68\t\tcolname: mean_prevmonth_shop_item_price\n",
      "index: 69\t\tcolname: sd_above_market\n",
      "index: 70\t\tcolname: city\n",
      "index: 71\t\tcolname: item_type\n",
      "index: 72\t\tcolname: item_info\n",
      "index: 73\t\tcolname: shop_id_encoded\n",
      "index: 74\t\tcolname: historical_item_sales\n",
      "index: 75\t\tcolname: new_item\n",
      "index: 76\t\tcolname: historical_shop_sales\n",
      "index: 77\t\tcolname: new_shop\n",
      "index: 78\t\tcolname: historical_item_cat_sales\n",
      "index: 79\t\tcolname: new_item_cat\n"
     ]
    }
   ],
   "source": [
    "for i, c in enumerate(xtp.columns): \n",
    "    print('index: '+str(i)+'\\t\\tcolname: '+str(c))"
   ]
  },
  {
   "cell_type": "code",
   "execution_count": 11,
   "metadata": {},
   "outputs": [
    {
     "data": {
      "text/plain": [
       "(6425094, 80)"
      ]
     },
     "execution_count": 11,
     "metadata": {},
     "output_type": "execute_result"
    }
   ],
   "source": [
    "xtp.shape"
   ]
  },
  {
   "cell_type": "code",
   "execution_count": 12,
   "metadata": {},
   "outputs": [
    {
     "data": {
      "text/plain": [
       "(6425094,)"
      ]
     },
     "execution_count": 12,
     "metadata": {},
     "output_type": "execute_result"
    }
   ],
   "source": [
    "ytp.shape"
   ]
  },
  {
   "cell_type": "code",
   "execution_count": 13,
   "metadata": {},
   "outputs": [
    {
     "name": "stdout",
     "output_type": "stream",
     "text": [
      "0:\tlearn: 1.1993037\ttotal: 10.3s\tremaining: 41.3s\n",
      "1:\tlearn: 1.1787046\ttotal: 57.4s\tremaining: 1m 26s\n",
      "2:\tlearn: 1.1590002\ttotal: 1m 3s\tremaining: 42.3s\n",
      "3:\tlearn: 1.1402181\ttotal: 1m 14s\tremaining: 18.7s\n",
      "4:\tlearn: 1.1221326\ttotal: 1m 23s\tremaining: 0us\n",
      "RUNTIME = 2.7958957036336263 minutes\n"
     ]
    }
   ],
   "source": [
    "mod = catboost.CatBoostRegressor(cat_features=[1,2,3,64,70,71,72])\n",
    "mod.set_params(thread_count=4,iterations=5)\n",
    "\n",
    "mod.fit(xtp,ytp)\n",
    "\n",
    "xvp = model2_preproc(x_test_list[1])\n",
    "\n",
    "preds = mod.predict(xvp)\n",
    "print('RUNTIME = '+str((time.time() - start)/60)+' minutes')"
   ]
  },
  {
   "cell_type": "code",
   "execution_count": 18,
   "metadata": {},
   "outputs": [
    {
     "data": {
      "text/plain": [
       "[('item_cnt_month_back_1', 18.544231200092344),\n",
       " ('item_cnt_month_back_3', 3.1264635800330356),\n",
       " ('item_cnt_month_back_5', 0.830541014040934),\n",
       " ('sd_prevmonth_item_price', 2.5350052271484036),\n",
       " ('city', 26.26891244066476),\n",
       " ('item_type', 48.288381761642356),\n",
       " ('historical_item_cat_sales', 0.40646477637816936)]"
      ]
     },
     "execution_count": 18,
     "metadata": {},
     "output_type": "execute_result"
    }
   ],
   "source": [
    "feat_imp = mod.get_feature_importance()\n",
    "col_ind = [i for i , f in enumerate(feat_imp) if f>0.0]\n",
    "imp_feats = list(xtp.columns[col_ind].values)\n",
    "imps = [x for x in feat_imp if x>0]\n",
    "feat_deet = list(zip(imp_feats,imps))\n",
    "feat_deet"
   ]
  },
  {
   "cell_type": "code",
   "execution_count": 19,
   "metadata": {},
   "outputs": [
    {
     "data": {
      "text/plain": [
       "[('item_type', 48.288381761642356),\n",
       " ('city', 26.26891244066476),\n",
       " ('item_cnt_month_back_1', 18.544231200092344),\n",
       " ('item_cnt_month_back_3', 3.1264635800330356),\n",
       " ('sd_prevmonth_item_price', 2.5350052271484036),\n",
       " ('item_cnt_month_back_5', 0.830541014040934),\n",
       " ('historical_item_cat_sales', 0.40646477637816936)]"
      ]
     },
     "execution_count": 19,
     "metadata": {},
     "output_type": "execute_result"
    }
   ],
   "source": [
    "sorted(feat_deet,key=lambda tup:-tup[1])"
   ]
  },
  {
   "cell_type": "code",
   "execution_count": 20,
   "metadata": {},
   "outputs": [
    {
     "data": {
      "text/plain": [
       "[0.0,\n",
       " 0.0,\n",
       " 0.0,\n",
       " 0.0,\n",
       " 0.0,\n",
       " 0.0,\n",
       " 18.544231200092344,\n",
       " 0.0,\n",
       " 0.0,\n",
       " 0.0,\n",
       " 0.0,\n",
       " 0.0,\n",
       " 0.0,\n",
       " 0.0,\n",
       " 0.0,\n",
       " 0.0,\n",
       " 3.1264635800330356,\n",
       " 0.0,\n",
       " 0.0,\n",
       " 0.0,\n",
       " 0.0,\n",
       " 0.0,\n",
       " 0.0,\n",
       " 0.0,\n",
       " 0.0,\n",
       " 0.0,\n",
       " 0.830541014040934,\n",
       " 0.0,\n",
       " 0.0,\n",
       " 0.0,\n",
       " 0.0,\n",
       " 0.0,\n",
       " 0.0,\n",
       " 0.0,\n",
       " 0.0,\n",
       " 0.0,\n",
       " 0.0,\n",
       " 0.0,\n",
       " 0.0,\n",
       " 0.0,\n",
       " 0.0,\n",
       " 0.0,\n",
       " 0.0,\n",
       " 0.0,\n",
       " 0.0,\n",
       " 0.0,\n",
       " 0.0,\n",
       " 0.0,\n",
       " 0.0,\n",
       " 0.0,\n",
       " 0.0,\n",
       " 0.0,\n",
       " 0.0,\n",
       " 0.0,\n",
       " 0.0,\n",
       " 0.0,\n",
       " 0.0,\n",
       " 0.0,\n",
       " 0.0,\n",
       " 0.0,\n",
       " 0.0,\n",
       " 0.0,\n",
       " 0.0,\n",
       " 0.0,\n",
       " 0.0,\n",
       " 0.0,\n",
       " 0.0,\n",
       " 2.5350052271484036,\n",
       " 0.0,\n",
       " 0.0,\n",
       " 26.26891244066476,\n",
       " 48.288381761642356,\n",
       " 0.0,\n",
       " 0.0,\n",
       " 0.0,\n",
       " 0.0,\n",
       " 0.0,\n",
       " 0.0,\n",
       " 0.40646477637816936,\n",
       " 0.0]"
      ]
     },
     "execution_count": 20,
     "metadata": {},
     "output_type": "execute_result"
    }
   ],
   "source": [
    "feat_imp"
   ]
  },
  {
   "cell_type": "code",
   "execution_count": 17,
   "metadata": {},
   "outputs": [
    {
     "data": {
      "text/plain": [
       "80"
      ]
     },
     "execution_count": 17,
     "metadata": {},
     "output_type": "execute_result"
    }
   ],
   "source": [
    "xtp.item_category_id.nunique()"
   ]
  },
  {
   "cell_type": "code",
   "execution_count": 35,
   "metadata": {},
   "outputs": [],
   "source": [
    "sub = x_test_list[1][['shop_id','item_id']].copy()\n",
    "sub['item_cnt_month'] = preds\n",
    "test0 = pd.read_csv('../original_data/test.csv.gz')\n",
    "sub = test0.merge(sub,how='left').drop(['shop_id','item_id'],axis=1)\n",
    "sub.to_csv('../gen_data/model2sub_nextgen.csv',index=False)"
   ]
  },
  {
   "cell_type": "markdown",
   "metadata": {},
   "source": [
    "# mean should be approx 0.2839853"
   ]
  },
  {
   "cell_type": "code",
   "execution_count": 21,
   "metadata": {},
   "outputs": [],
   "source": [
    "sub = x_test_list[1][['shop_id','item_id']].copy()\n",
    "sub['item_cnt_month'] = preds*0.2839853/np.mean(preds)\n",
    "test0 = pd.read_csv('../original_data/test.csv.gz')\n",
    "sub = test0.merge(sub,how='left').drop(['shop_id','item_id'],axis=1)\n",
    "sub.to_csv('../gen_data/model2sub_nextgen2_meanadjusted.csv',index=False)"
   ]
  },
  {
   "cell_type": "code",
   "execution_count": null,
   "metadata": {},
   "outputs": [],
   "source": [
    "test0"
   ]
  },
  {
   "cell_type": "code",
   "execution_count": null,
   "metadata": {},
   "outputs": [],
   "source": [
    "pd.to_csv()"
   ]
  },
  {
   "cell_type": "code",
   "execution_count": null,
   "metadata": {},
   "outputs": [],
   "source": [
    "np.mean(preds)"
   ]
  },
  {
   "cell_type": "markdown",
   "metadata": {},
   "source": [
    "# check data"
   ]
  },
  {
   "cell_type": "code",
   "execution_count": null,
   "metadata": {},
   "outputs": [],
   "source": [
    "np.sqrt(np.mean((x_test_list[0].item_cnt_month_back_1 - y_test_list[0])**2))"
   ]
  },
  {
   "cell_type": "code",
   "execution_count": null,
   "metadata": {},
   "outputs": [],
   "source": [
    "x_test_list[1].item_cnt_month_back_1\n",
    "#correct"
   ]
  },
  {
   "cell_type": "code",
   "execution_count": null,
   "metadata": {},
   "outputs": [],
   "source": []
  }
 ],
 "metadata": {
  "kernelspec": {
   "display_name": "Python 3",
   "language": "python",
   "name": "python3"
  },
  "language_info": {
   "codemirror_mode": {
    "name": "ipython",
    "version": 3
   },
   "file_extension": ".py",
   "mimetype": "text/x-python",
   "name": "python",
   "nbconvert_exporter": "python",
   "pygments_lexer": "ipython3",
   "version": "3.7.1"
  }
 },
 "nbformat": 4,
 "nbformat_minor": 2
}
