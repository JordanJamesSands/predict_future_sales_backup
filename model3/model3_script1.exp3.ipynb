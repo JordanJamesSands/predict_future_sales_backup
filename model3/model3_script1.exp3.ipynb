{
 "cells": [
  {
   "cell_type": "code",
   "execution_count": 1,
   "metadata": {},
   "outputs": [],
   "source": [
    "import pandas as pd\n",
    "import numpy as np \n",
    "import pickle\n",
    "import xgboost as xgb\n",
    "import time\n",
    "import graphviz\n",
    "import matplotlib as plt\n",
    "import re"
   ]
  },
  {
   "cell_type": "code",
   "execution_count": 2,
   "metadata": {},
   "outputs": [],
   "source": [
    "START_NOTEBOOK = time.time()\n",
    "SUB=False\n",
    "AVE= False\n",
    "NMF_DIM = 40"
   ]
  },
  {
   "cell_type": "code",
   "execution_count": 3,
   "metadata": {},
   "outputs": [],
   "source": [
    "x_train , x_test , y_train , y_test = pickle.load(open('../saved_datasets/19-3-19,pipeline_A_reduced_frommaster,dateback=18/xtrain_xtest_ytrain_ytest.pickle','rb'))"
   ]
  },
  {
   "cell_type": "code",
   "execution_count": 4,
   "metadata": {},
   "outputs": [
    {
     "data": {
      "text/plain": [
       "<pandas.core.groupby.groupby.DataFrameGroupBy object at 0x00000252C2580940>"
      ]
     },
     "execution_count": 4,
     "metadata": {},
     "output_type": "execute_result"
    }
   ],
   "source": [
    "df = x_train[0].copy()\n",
    "df['target'] = y_train[0]\n",
    "df.groupby('date_block_num')"
   ]
  },
  {
   "cell_type": "code",
   "execution_count": 5,
   "metadata": {},
   "outputs": [
    {
     "data": {
      "text/plain": [
       "array([18, 19, 20, 21, 22, 23, 24, 25, 26, 27, 28, 29, 30, 31, 32],\n",
       "      dtype=int64)"
      ]
     },
     "execution_count": 5,
     "metadata": {},
     "output_type": "execute_result"
    }
   ],
   "source": [
    "df.date_block_num.unique()"
   ]
  },
  {
   "cell_type": "code",
   "execution_count": 6,
   "metadata": {},
   "outputs": [
    {
     "data": {
      "text/html": [
       "<div>\n",
       "<style scoped>\n",
       "    .dataframe tbody tr th:only-of-type {\n",
       "        vertical-align: middle;\n",
       "    }\n",
       "\n",
       "    .dataframe tbody tr th {\n",
       "        vertical-align: top;\n",
       "    }\n",
       "\n",
       "    .dataframe thead th {\n",
       "        text-align: right;\n",
       "    }\n",
       "</style>\n",
       "<table border=\"1\" class=\"dataframe\">\n",
       "  <thead>\n",
       "    <tr style=\"text-align: right;\">\n",
       "      <th></th>\n",
       "      <th>date_block_num</th>\n",
       "      <th>new_item</th>\n",
       "    </tr>\n",
       "  </thead>\n",
       "  <tbody>\n",
       "    <tr>\n",
       "      <th>0</th>\n",
       "      <td>33</td>\n",
       "      <td>0.126667</td>\n",
       "    </tr>\n",
       "  </tbody>\n",
       "</table>\n",
       "</div>"
      ],
      "text/plain": [
       "   date_block_num  new_item\n",
       "0              33  0.126667"
      ]
     },
     "execution_count": 6,
     "metadata": {},
     "output_type": "execute_result"
    }
   ],
   "source": [
    "dft = x_test[0].copy()\n",
    "dft['target'] = y_test[0]\n",
    "dft.groupby('date_block_num',as_index=False).new_item.mean()"
   ]
  },
  {
   "cell_type": "code",
   "execution_count": 7,
   "metadata": {},
   "outputs": [
    {
     "data": {
      "text/html": [
       "<div>\n",
       "<style scoped>\n",
       "    .dataframe tbody tr th:only-of-type {\n",
       "        vertical-align: middle;\n",
       "    }\n",
       "\n",
       "    .dataframe tbody tr th {\n",
       "        vertical-align: top;\n",
       "    }\n",
       "\n",
       "    .dataframe thead th {\n",
       "        text-align: right;\n",
       "    }\n",
       "</style>\n",
       "<table border=\"1\" class=\"dataframe\">\n",
       "  <thead>\n",
       "    <tr style=\"text-align: right;\">\n",
       "      <th></th>\n",
       "      <th>date_block_num</th>\n",
       "      <th>new_item</th>\n",
       "    </tr>\n",
       "  </thead>\n",
       "  <tbody>\n",
       "    <tr>\n",
       "      <th>0</th>\n",
       "      <td>18</td>\n",
       "      <td>0.047799</td>\n",
       "    </tr>\n",
       "    <tr>\n",
       "      <th>1</th>\n",
       "      <td>19</td>\n",
       "      <td>0.039290</td>\n",
       "    </tr>\n",
       "    <tr>\n",
       "      <th>2</th>\n",
       "      <td>20</td>\n",
       "      <td>0.054357</td>\n",
       "    </tr>\n",
       "    <tr>\n",
       "      <th>3</th>\n",
       "      <td>21</td>\n",
       "      <td>0.088096</td>\n",
       "    </tr>\n",
       "    <tr>\n",
       "      <th>4</th>\n",
       "      <td>22</td>\n",
       "      <td>0.072762</td>\n",
       "    </tr>\n",
       "    <tr>\n",
       "      <th>5</th>\n",
       "      <td>23</td>\n",
       "      <td>0.071461</td>\n",
       "    </tr>\n",
       "    <tr>\n",
       "      <th>6</th>\n",
       "      <td>24</td>\n",
       "      <td>0.032090</td>\n",
       "    </tr>\n",
       "    <tr>\n",
       "      <th>7</th>\n",
       "      <td>25</td>\n",
       "      <td>0.037172</td>\n",
       "    </tr>\n",
       "    <tr>\n",
       "      <th>8</th>\n",
       "      <td>26</td>\n",
       "      <td>0.055245</td>\n",
       "    </tr>\n",
       "    <tr>\n",
       "      <th>9</th>\n",
       "      <td>27</td>\n",
       "      <td>0.047845</td>\n",
       "    </tr>\n",
       "    <tr>\n",
       "      <th>10</th>\n",
       "      <td>28</td>\n",
       "      <td>0.042589</td>\n",
       "    </tr>\n",
       "    <tr>\n",
       "      <th>11</th>\n",
       "      <td>29</td>\n",
       "      <td>0.047929</td>\n",
       "    </tr>\n",
       "    <tr>\n",
       "      <th>12</th>\n",
       "      <td>30</td>\n",
       "      <td>0.038700</td>\n",
       "    </tr>\n",
       "    <tr>\n",
       "      <th>13</th>\n",
       "      <td>31</td>\n",
       "      <td>0.055208</td>\n",
       "    </tr>\n",
       "    <tr>\n",
       "      <th>14</th>\n",
       "      <td>32</td>\n",
       "      <td>0.059390</td>\n",
       "    </tr>\n",
       "    <tr>\n",
       "      <th>15</th>\n",
       "      <td>33</td>\n",
       "      <td>0.087752</td>\n",
       "    </tr>\n",
       "  </tbody>\n",
       "</table>\n",
       "</div>"
      ],
      "text/plain": [
       "    date_block_num  new_item\n",
       "0               18  0.047799\n",
       "1               19  0.039290\n",
       "2               20  0.054357\n",
       "3               21  0.088096\n",
       "4               22  0.072762\n",
       "5               23  0.071461\n",
       "6               24  0.032090\n",
       "7               25  0.037172\n",
       "8               26  0.055245\n",
       "9               27  0.047845\n",
       "10              28  0.042589\n",
       "11              29  0.047929\n",
       "12              30  0.038700\n",
       "13              31  0.055208\n",
       "14              32  0.059390\n",
       "15              33  0.087752"
      ]
     },
     "execution_count": 7,
     "metadata": {},
     "output_type": "execute_result"
    }
   ],
   "source": [
    "df = x_train[1].copy()\n",
    "df['target'] = y_train[1]\n",
    "g = df.groupby('date_block_num',as_index=False).new_item.mean()\n",
    "g"
   ]
  },
  {
   "cell_type": "code",
   "execution_count": 8,
   "metadata": {},
   "outputs": [
    {
     "data": {
      "text/plain": [
       "<matplotlib.axes._subplots.AxesSubplot at 0x252d699add8>"
      ]
     },
     "execution_count": 8,
     "metadata": {},
     "output_type": "execute_result"
    }
   ],
   "source": [
    "g.plot(x='date_block_num',kind='bar')"
   ]
  },
  {
   "cell_type": "code",
   "execution_count": 9,
   "metadata": {},
   "outputs": [
    {
     "data": {
      "text/plain": [
       "<matplotlib.axes._subplots.AxesSubplot at 0x252de94af60>"
      ]
     },
     "execution_count": 9,
     "metadata": {},
     "output_type": "execute_result"
    },
    {
     "data": {
      "image/png": "[encoded data removed]",
      "text/plain": [
       "<Figure size 432x288 with 1 Axes>"
      ]
     },
     "metadata": {
      "needs_background": "light"
     },
     "output_type": "display_data"
    }
   ],
   "source": [
    "df = x_train[0].copy()\n",
    "df['target'] = y_train[0]\n",
    "df.groupby('new_item').target.mean().plot(kind='bar')"
   ]
  },
  {
   "cell_type": "code",
   "execution_count": 10,
   "metadata": {},
   "outputs": [
    {
     "data": {
      "text/plain": [
       "<matplotlib.axes._subplots.AxesSubplot at 0x252de9be4e0>"
      ]
     },
     "execution_count": 10,
     "metadata": {},
     "output_type": "execute_result"
    },
    {
     "data": {
      "image/png": "[encoded data removed]",
      "text/plain": [
       "<Figure size 432x288 with 1 Axes>"
      ]
     },
     "metadata": {
      "needs_background": "light"
     },
     "output_type": "display_data"
    }
   ],
   "source": [
    "dft = x_test[0].copy()\n",
    "dft['target'] = y_test[0]\n",
    "dft.groupby('new_item').target.mean().plot(kind='bar')"
   ]
  },
  {
   "cell_type": "markdown",
   "metadata": {},
   "source": [
    "# check prop_median_item_price"
   ]
  },
  {
   "cell_type": "code",
   "execution_count": 11,
   "metadata": {},
   "outputs": [
    {
     "data": {
      "text/plain": [
       "1.0"
      ]
     },
     "execution_count": 11,
     "metadata": {},
     "output_type": "execute_result"
    }
   ],
   "source": [
    "df = x_train[0].copy()\n",
    "df['target'] = y_train[0]\n",
    "np.quantile(df.prop_median_item_price,0.2,)"
   ]
  },
  {
   "cell_type": "code",
   "execution_count": 12,
   "metadata": {},
   "outputs": [
    {
     "data": {
      "text/plain": [
       "0.0"
      ]
     },
     "execution_count": 12,
     "metadata": {},
     "output_type": "execute_result"
    }
   ],
   "source": [
    "np.mean(df.prop_median_item_price.isna())"
   ]
  },
  {
   "cell_type": "markdown",
   "metadata": {},
   "source": [
    "# Preprocessing"
   ]
  },
  {
   "cell_type": "markdown",
   "metadata": {},
   "source": [
    "Try averaging some features"
   ]
  },
  {
   "cell_type": "code",
   "execution_count": 13,
   "metadata": {},
   "outputs": [],
   "source": [
    "def ave_feats(df):\n",
    "    feats = [     \n",
    "     'sum_item_sales_back_',\n",
    "     'sum_shop_sales_back_',\n",
    "     'item_cnt_month_back_',\n",
    "     'sum_item_cat_sales_back_',\n",
    "     'sum_city_back_',\n",
    "     'sum_itemtype_back_',\n",
    "     'sum_iteminfo_back_'\n",
    "            ]\n",
    "    df = df.copy()\n",
    "    for feat in feats:\n",
    "        print('averaging on '+feat+'...')\n",
    "        for i in np.arange(1,18,3):\n",
    "            df['ave_'+feat+str(i)] = (df[feat+str(i)]+df[feat+str(i+1)]+df[feat+str(i+2)])/3\n",
    "        reduced_cols = [a for a in df.columns.tolist() if not re.match('^'+feat,a)]\n",
    "        df = df[reduced_cols]\n",
    "    return df"
   ]
  },
  {
   "cell_type": "code",
   "execution_count": 14,
   "metadata": {},
   "outputs": [],
   "source": [
    "if AVE:\n",
    "    x_train = list(map(ave_feats,x_train))\n",
    "    x_test = list(map(ave_feats,x_test))"
   ]
  },
  {
   "cell_type": "markdown",
   "metadata": {},
   "source": [
    "Try culling early data"
   ]
  },
  {
   "cell_type": "code",
   "execution_count": 15,
   "metadata": {},
   "outputs": [],
   "source": [
    "x_train_saved = x_train\n",
    "y_train_saved = y_train\n",
    "x_train = []\n",
    "y_train = []\n",
    "CUTOFF = 0\n",
    "for xtrain_el , ytrain_el in zip(x_train_saved,y_train_saved):\n",
    "    x_train.append(xtrain_el[xtrain_el.date_block_num>CUTOFF])\n",
    "    y_train.append(ytrain_el[xtrain_el.date_block_num>CUTOFF])"
   ]
  },
  {
   "cell_type": "code",
   "execution_count": 16,
   "metadata": {},
   "outputs": [],
   "source": [
    "def preproc_model3(x_train,x_test,y_train,y_test):\n",
    "\n",
    "    x_train = [d.drop(['shop_id','item_id','item_category_id','city','item_type','item_info','month'],axis=1) for d in x_train]\n",
    "    x_test =  [d.drop(['shop_id','item_id','item_category_id','city','item_type','item_info','month'],axis=1) for d in x_test]\n",
    "    y_train = [d.clip(0,20) for d in y_train]\n",
    "    y_test =  [d.clip(0,20) for d in y_test]\n",
    "    return [x_train,x_test,y_train,y_test]"
   ]
  },
  {
   "cell_type": "code",
   "execution_count": 17,
   "metadata": {},
   "outputs": [],
   "source": [
    "x_train , x_test , y_train , y_test = preproc_model3(x_train,x_test,y_train,y_test)"
   ]
  },
  {
   "cell_type": "markdown",
   "metadata": {},
   "source": [
    "## TODO: account for factor adjustment"
   ]
  },
  {
   "cell_type": "markdown",
   "metadata": {},
   "source": [
    "# Notes"
   ]
  },
  {
   "cell_type": "markdown",
   "metadata": {},
   "source": [
    "- There are likely too many feats, this would explain immediate overfitting\n",
    "- rmse withou clipped data is gonna put a lot of focus on large outliers\n",
    "* consider mean abs error"
   ]
  },
  {
   "cell_type": "markdown",
   "metadata": {},
   "source": [
    "# Feature Selection"
   ]
  },
  {
   "cell_type": "code",
   "execution_count": 18,
   "metadata": {},
   "outputs": [
    {
     "data": {
      "text/plain": [
       "['date_block_num',\n",
       " 'sum_item_sales_back_1',\n",
       " 'sum_shop_sales_back_1',\n",
       " 'item_cnt_month_back_1',\n",
       " 'sum_item_cat_sales_back_1',\n",
       " 'sum_city_back_1',\n",
       " 'sum_itemtype_back_1',\n",
       " 'sum_iteminfo_back_1',\n",
       " 'sum_item_sales_back_2',\n",
       " 'sum_shop_sales_back_2',\n",
       " 'item_cnt_month_back_2',\n",
       " 'sum_item_cat_sales_back_2',\n",
       " 'sum_city_back_2',\n",
       " 'sum_itemtype_back_2',\n",
       " 'sum_iteminfo_back_2',\n",
       " 'sum_item_sales_back_3',\n",
       " 'sum_shop_sales_back_3',\n",
       " 'item_cnt_month_back_3',\n",
       " 'sum_item_cat_sales_back_3',\n",
       " 'sum_city_back_3',\n",
       " 'sum_itemtype_back_3',\n",
       " 'sum_iteminfo_back_3',\n",
       " 'sum_item_sales_back_4',\n",
       " 'sum_shop_sales_back_4',\n",
       " 'item_cnt_month_back_4',\n",
       " 'sum_item_cat_sales_back_4',\n",
       " 'sum_city_back_4',\n",
       " 'sum_itemtype_back_4',\n",
       " 'sum_iteminfo_back_4',\n",
       " 'sum_item_sales_back_5',\n",
       " 'sum_shop_sales_back_5',\n",
       " 'item_cnt_month_back_5',\n",
       " 'sum_item_cat_sales_back_5',\n",
       " 'sum_city_back_5',\n",
       " 'sum_itemtype_back_5',\n",
       " 'sum_iteminfo_back_5',\n",
       " 'sum_item_sales_back_6',\n",
       " 'sum_shop_sales_back_6',\n",
       " 'item_cnt_month_back_6',\n",
       " 'sum_item_cat_sales_back_6',\n",
       " 'sum_city_back_6',\n",
       " 'sum_itemtype_back_6',\n",
       " 'sum_iteminfo_back_6',\n",
       " 'sum_item_sales_back_7',\n",
       " 'sum_shop_sales_back_7',\n",
       " 'item_cnt_month_back_7',\n",
       " 'sum_item_cat_sales_back_7',\n",
       " 'sum_city_back_7',\n",
       " 'sum_itemtype_back_7',\n",
       " 'sum_iteminfo_back_7',\n",
       " 'sum_item_sales_back_8',\n",
       " 'sum_shop_sales_back_8',\n",
       " 'item_cnt_month_back_8',\n",
       " 'sum_item_cat_sales_back_8',\n",
       " 'sum_city_back_8',\n",
       " 'sum_itemtype_back_8',\n",
       " 'sum_iteminfo_back_8',\n",
       " 'sum_item_sales_back_9',\n",
       " 'sum_shop_sales_back_9',\n",
       " 'item_cnt_month_back_9',\n",
       " 'sum_item_cat_sales_back_9',\n",
       " 'sum_city_back_9',\n",
       " 'sum_itemtype_back_9',\n",
       " 'sum_iteminfo_back_9',\n",
       " 'sum_item_sales_back_10',\n",
       " 'sum_shop_sales_back_10',\n",
       " 'item_cnt_month_back_10',\n",
       " 'sum_item_cat_sales_back_10',\n",
       " 'sum_city_back_10',\n",
       " 'sum_itemtype_back_10',\n",
       " 'sum_iteminfo_back_10',\n",
       " 'sum_item_sales_back_11',\n",
       " 'sum_shop_sales_back_11',\n",
       " 'item_cnt_month_back_11',\n",
       " 'sum_item_cat_sales_back_11',\n",
       " 'sum_city_back_11',\n",
       " 'sum_itemtype_back_11',\n",
       " 'sum_iteminfo_back_11',\n",
       " 'sum_item_sales_back_12',\n",
       " 'sum_shop_sales_back_12',\n",
       " 'item_cnt_month_back_12',\n",
       " 'sum_item_cat_sales_back_12',\n",
       " 'sum_city_back_12',\n",
       " 'sum_itemtype_back_12',\n",
       " 'sum_iteminfo_back_12',\n",
       " 'sum_item_sales_back_13',\n",
       " 'sum_shop_sales_back_13',\n",
       " 'item_cnt_month_back_13',\n",
       " 'sum_item_cat_sales_back_13',\n",
       " 'sum_city_back_13',\n",
       " 'sum_itemtype_back_13',\n",
       " 'sum_iteminfo_back_13',\n",
       " 'sum_item_sales_back_14',\n",
       " 'sum_shop_sales_back_14',\n",
       " 'item_cnt_month_back_14',\n",
       " 'sum_item_cat_sales_back_14',\n",
       " 'sum_city_back_14',\n",
       " 'sum_itemtype_back_14',\n",
       " 'sum_iteminfo_back_14',\n",
       " 'sum_item_sales_back_15',\n",
       " 'sum_shop_sales_back_15',\n",
       " 'item_cnt_month_back_15',\n",
       " 'sum_item_cat_sales_back_15',\n",
       " 'sum_city_back_15',\n",
       " 'sum_itemtype_back_15',\n",
       " 'sum_iteminfo_back_15',\n",
       " 'sum_item_sales_back_16',\n",
       " 'sum_shop_sales_back_16',\n",
       " 'item_cnt_month_back_16',\n",
       " 'sum_item_cat_sales_back_16',\n",
       " 'sum_city_back_16',\n",
       " 'sum_itemtype_back_16',\n",
       " 'sum_iteminfo_back_16',\n",
       " 'sum_item_sales_back_17',\n",
       " 'sum_shop_sales_back_17',\n",
       " 'item_cnt_month_back_17',\n",
       " 'sum_item_cat_sales_back_17',\n",
       " 'sum_city_back_17',\n",
       " 'sum_itemtype_back_17',\n",
       " 'sum_iteminfo_back_17',\n",
       " 'sum_item_sales_back_18',\n",
       " 'sum_shop_sales_back_18',\n",
       " 'item_cnt_month_back_18',\n",
       " 'sum_item_cat_sales_back_18',\n",
       " 'sum_city_back_18',\n",
       " 'sum_itemtype_back_18',\n",
       " 'sum_iteminfo_back_18',\n",
       " 'first_sale_date_block',\n",
       " 'new_item',\n",
       " 'numdays',\n",
       " 'month_sales',\n",
       " 'mean_prevmonth_item_price',\n",
       " 'std_prevmonth_item_price',\n",
       " 'median_prevmonth_item_price',\n",
       " 'median_prevmonth_shop_item_price',\n",
       " 'prop_median_item_price']"
      ]
     },
     "execution_count": 18,
     "metadata": {},
     "output_type": "execute_result"
    }
   ],
   "source": [
    "x_train[0].columns.tolist()"
   ]
  },
  {
   "cell_type": "code",
   "execution_count": 19,
   "metadata": {},
   "outputs": [],
   "source": [
    "def feat_selection(x_train,x_test,y_train,y_test):\n",
    "    FEATS=[\n",
    "     'first_sale_date_block',\n",
    "     'new_item',\n",
    "        'date_block_num',\n",
    "#     'city',\n",
    "#     'item_type',\n",
    "#     'item_info',\n",
    "     'prop_median_item_price',\n",
    "     'sum_item_sales_back_1',\n",
    "     'sum_shop_sales_back_1',\n",
    "     'item_cnt_month_back_1',\n",
    "     'sum_item_cat_sales_back_1',\n",
    "     'sum_city_back_1',\n",
    "     'sum_itemtype_back_1',\n",
    "     'sum_iteminfo_back_1',\n",
    "        \n",
    "     'sum_item_sales_back_2',\n",
    "     'sum_shop_sales_back_2',\n",
    "     'item_cnt_month_back_2',\n",
    "     'sum_item_cat_sales_back_2',\n",
    "     'sum_city_back_2',\n",
    "     'sum_itemtype_back_2',\n",
    "     'sum_iteminfo_back_2',\n",
    "        \n",
    "     'sum_item_sales_back_3',\n",
    "     'sum_shop_sales_back_3',\n",
    "     'item_cnt_month_back_3',\n",
    "     'sum_item_cat_sales_back_3',\n",
    "     'sum_city_back_3',\n",
    "     'sum_itemtype_back_3',\n",
    "     'sum_iteminfo_back_3',\n",
    "        \n",
    "     'sum_item_sales_back_4',\n",
    "     'sum_shop_sales_back_4',\n",
    "     'item_cnt_month_back_4',\n",
    "     'sum_item_cat_sales_back_4',\n",
    "     'sum_city_back_4',\n",
    "     'sum_itemtype_back_4',\n",
    "     'sum_iteminfo_back_4',\n",
    "        \n",
    "     'sum_item_sales_back_5',\n",
    "     'sum_shop_sales_back_5',\n",
    "     'item_cnt_month_back_5',\n",
    "     'sum_item_cat_sales_back_5',\n",
    "     'sum_city_back_5',\n",
    "     'sum_itemtype_back_5',\n",
    "     'sum_iteminfo_back_5',\n",
    "        \n",
    "     'sum_item_sales_back_6',\n",
    "     'sum_shop_sales_back_6',\n",
    "     'item_cnt_month_back_6',\n",
    "     'sum_item_cat_sales_back_6',\n",
    "     'sum_city_back_6',\n",
    "     'sum_itemtype_back_6',\n",
    "     'sum_iteminfo_back_6',\n",
    "        \n",
    "     'sum_item_sales_back_7',\n",
    "     'sum_shop_sales_back_7',\n",
    "     'item_cnt_month_back_7',\n",
    "     'sum_item_cat_sales_back_7',\n",
    "     'sum_city_back_7',\n",
    "     'sum_itemtype_back_7',\n",
    "     'sum_iteminfo_back_7',\n",
    "       \n",
    "     'sum_item_sales_back_8',\n",
    "     'sum_shop_sales_back_8',\n",
    "     'item_cnt_month_back_8',\n",
    "     'sum_item_cat_sales_back_8',\n",
    "     'sum_city_back_8',\n",
    "     'sum_itemtype_back_8',\n",
    "     'sum_iteminfo_back_8',\n",
    "       \n",
    "     'sum_item_sales_back_9',\n",
    "     'sum_shop_sales_back_9',\n",
    "     'item_cnt_month_back_9',\n",
    "     'sum_item_cat_sales_back_9',\n",
    "     'sum_city_back_9',\n",
    "     'sum_itemtype_back_9',\n",
    "     'sum_iteminfo_back_9',\n",
    "       \n",
    "     'sum_item_sales_back_10',\n",
    "     'sum_shop_sales_back_10',\n",
    "     'item_cnt_month_back_10',\n",
    "     'sum_item_cat_sales_back_10',\n",
    "     'sum_city_back_10',\n",
    "     'sum_itemtype_back_10',\n",
    "     'sum_iteminfo_back_10',\n",
    "    \n",
    "     'sum_item_sales_back_11',\n",
    "     'sum_shop_sales_back_11',\n",
    "     'item_cnt_month_back_11',\n",
    "     'sum_item_cat_sales_back_11',\n",
    "     'sum_city_back_11',\n",
    "     'sum_itemtype_back_11',\n",
    "     'sum_iteminfo_back_11',\n",
    "\n",
    "     'sum_item_sales_back_12',\n",
    "     'sum_shop_sales_back_12',\n",
    "     'item_cnt_month_back_12',\n",
    "     'sum_item_cat_sales_back_12',\n",
    "     'sum_city_back_12',\n",
    "     'sum_itemtype_back_12',\n",
    "     'sum_iteminfo_back_12',\n",
    "     \n",
    "     'sum_item_sales_back_13',\n",
    "     'sum_shop_sales_back_13',\n",
    "     'item_cnt_month_back_13',\n",
    "     'sum_item_cat_sales_back_13',\n",
    "     'sum_city_back_13',\n",
    "     'sum_itemtype_back_13',\n",
    "     'sum_iteminfo_back_13',\n",
    "        \n",
    "     'sum_item_sales_back_14',\n",
    "     'sum_shop_sales_back_14',\n",
    "     'item_cnt_month_back_14',\n",
    "     'sum_item_cat_sales_back_14',\n",
    "     'sum_city_back_14',\n",
    "     'sum_itemtype_back_14',\n",
    "     'sum_iteminfo_back_14',\n",
    "        \n",
    "     'sum_item_sales_back_15',\n",
    "     'sum_shop_sales_back_15',\n",
    "     'item_cnt_month_back_15',\n",
    "     'sum_item_cat_sales_back_15',\n",
    "     'sum_city_back_15',\n",
    "     'sum_itemtype_back_15',\n",
    "     'sum_iteminfo_back_15',\n",
    "        \n",
    "     'sum_item_sales_back_16',\n",
    "     'sum_shop_sales_back_16',\n",
    "     'item_cnt_month_back_16',\n",
    "     'sum_item_cat_sales_back_16',\n",
    "     'sum_city_back_16',\n",
    "     'sum_itemtype_back_16',\n",
    "     'sum_iteminfo_back_16',\n",
    "     \n",
    "     'sum_item_sales_back_17',\n",
    "     'sum_shop_sales_back_17',\n",
    "     'item_cnt_month_back_17',\n",
    "     'sum_item_cat_sales_back_17',\n",
    "     'sum_city_back_17',\n",
    "     'sum_itemtype_back_17',\n",
    "     'sum_iteminfo_back_17',\n",
    "\n",
    "     'sum_item_sales_back_18',\n",
    "     'sum_shop_sales_back_18',\n",
    "     'item_cnt_month_back_18',\n",
    "     'sum_item_cat_sales_back_18',\n",
    "     'sum_city_back_18',\n",
    "     'sum_itemtype_back_18',\n",
    "     'sum_iteminfo_back_18',        \n",
    "        \n",
    "        \n",
    "        \n",
    "     'numdays',\n",
    "     'month_sales',\n",
    "     'mean_prevmonth_item_price',\n",
    "     'std_prevmonth_item_price',\n",
    "     'median_prevmonth_item_price',\n",
    "     'median_prevmonth_shop_item_price'\n",
    "    ]\n",
    "    \n",
    "    x_train = [d[FEATS] for d in x_train]\n",
    "    x_test =  [d[FEATS] for d in x_test]\n",
    "    return [x_train,x_test,y_train,y_test]"
   ]
  },
  {
   "cell_type": "markdown",
   "metadata": {},
   "source": []
  },
  {
   "cell_type": "code",
   "execution_count": 20,
   "metadata": {},
   "outputs": [],
   "source": [
    "#x_train , x_test , y_train , y_test = feat_selection(x_train,x_test,y_train,y_test)"
   ]
  },
  {
   "cell_type": "code",
   "execution_count": 21,
   "metadata": {},
   "outputs": [
    {
     "data": {
      "text/plain": [
       "['_13$', '_14$', '_15$', '_16$', '_17$', '_18$']"
      ]
     },
     "execution_count": 21,
     "metadata": {},
     "output_type": "execute_result"
    }
   ],
   "source": [
    "feat_list= []\n",
    "feat_list = ['_'+str(x)+'$' for x in range(13,19)]\n",
    "#feat_list = ['iteminfo','item_cat','city','item_sales']\n",
    "feat_list"
   ]
  },
  {
   "cell_type": "code",
   "execution_count": 22,
   "metadata": {},
   "outputs": [],
   "source": [
    "def quickdrop(df):\n",
    "    cols_keep = df.columns.tolist()\n",
    "    for feat in feat_list:\n",
    "        cols_keep = [c for c in cols_keep if not re.match('.*'+feat,c)]\n",
    "    return df[cols_keep]"
   ]
  },
  {
   "cell_type": "code",
   "execution_count": 23,
   "metadata": {},
   "outputs": [],
   "source": [
    "x_train = list(map(quickdrop,x_train))\n",
    "x_test = list(map(quickdrop,x_test))"
   ]
  },
  {
   "cell_type": "code",
   "execution_count": 24,
   "metadata": {},
   "outputs": [],
   "source": [
    "#x_train[0].columns.tolist()"
   ]
  },
  {
   "cell_type": "markdown",
   "metadata": {},
   "source": [
    "# NMF"
   ]
  },
  {
   "cell_type": "code",
   "execution_count": 25,
   "metadata": {},
   "outputs": [],
   "source": [
    "from sklearn.decomposition import NMF"
   ]
  },
  {
   "cell_type": "code",
   "execution_count": 26,
   "metadata": {},
   "outputs": [],
   "source": [
    "def downcast_more(df):\n",
    "    float_cols = [col for col in df if (df[col].dtype=='float64' or df[col].dtype=='float32')]\n",
    "    int_cols = [col for col in df if (df[col].dtype=='int64' or df[col].dtype=='int32')]\n",
    "    df[float_cols] = df[float_cols].astype(np.float16)\n",
    "    df[int_cols] = df[int_cols].astype(np.int16)\n",
    "    return(df)"
   ]
  },
  {
   "cell_type": "code",
   "execution_count": 27,
   "metadata": {},
   "outputs": [],
   "source": [
    "x_train_saved = x_train\n",
    "x_test_saved = x_test"
   ]
  },
  {
   "cell_type": "code",
   "execution_count": 28,
   "metadata": {},
   "outputs": [],
   "source": [
    "x_train = x_train_saved\n",
    "x_test = x_test_saved"
   ]
  },
  {
   "cell_type": "code",
   "execution_count": 29,
   "metadata": {},
   "outputs": [
    {
     "data": {
      "text/plain": [
       "(4181736, 94)"
      ]
     },
     "execution_count": 29,
     "metadata": {},
     "output_type": "execute_result"
    }
   ],
   "source": [
    "x_train_saved[0].shape"
   ]
  },
  {
   "cell_type": "markdown",
   "metadata": {},
   "source": [
    "    xtrain = x_train_saved[0]\n",
    "    xtest = x_test_saved[0]\n",
    "    ndim=10\n",
    "    \n",
    "    xtrain_reduced = xtrain.filter(regex='_\\d+$')\n",
    "    xtest_reduced = xtest.filter(regex='_\\d+$')\n",
    "    \n",
    "    reduced_cols = xtrain_reduced.columns.tolist()\n",
    "    all_cols = xtrain.columns.tolist()\n",
    "    other_cols = [x for x in all_cols if x not in reduced_cols]\n",
    "    print('other_cols='+str(other_cols))\n",
    "#    return 5 , 5\n",
    "    xtrain_reduced = xtrain_reduced.clip(0)\n",
    "    xtest_reduced = xtest_reduced.clip(0)\n",
    "    \n",
    "    xtrain_other = xtrain[other_cols]\n",
    "    xtest_other =  xtest[other_cols]\n",
    "    \n",
    "    xtrain_reduced = downcast_more(xtrain_reduced)\n",
    "    xtest_reduced = downcast_more(xtest_reduced)\n",
    "    \n",
    "    print(xtrain_reduced.shape)\n",
    "    print(xtest_reduced.shape)\n",
    "    numtrain = xtrain_reduced.shape[0]\n",
    "    numtest = xtest_reduced.shape[0]\n",
    "    \n",
    "    concat = pd.concat([xtrain_reduced,xtest_reduced])\n",
    "    print(concat.shape)\n",
    "    nmf_obj = NMF(n_components=ndim,random_state=0,verbose=True)\n",
    "    tformed = nmf_obj.fit_transform(concat)\n",
    "    \n",
    "    sep_bool = [True]*numtrain + [False]*numtest\n",
    "    \n",
    "    train_out = pd.DataFrame(tformed[sep_bool])\n",
    "    test_out =  pd.DataFrame(tformed[[not x for x in sep_bool]])\n",
    "    print(train_out.shape)\n",
    "    \n",
    "    train_out = pd.concat([train_out,xtrain_other],axis=1)\n",
    "    test_out = pd.concat([test_out,xtest_other],axis=1)\n",
    "    print(train_out.shape)"
   ]
  },
  {
   "cell_type": "code",
   "execution_count": 30,
   "metadata": {},
   "outputs": [],
   "source": [
    "def nmf_tform(xtrain,xtest,ndim):\n",
    "    xtrain_reduced = xtrain.filter(regex='_\\d+$')\n",
    "    xtest_reduced = xtest.filter(regex='_\\d+$')\n",
    "    \n",
    "    reduced_cols = xtrain_reduced.columns.tolist()\n",
    "    all_cols = xtrain.columns.tolist()\n",
    "    other_cols = [x for x in all_cols if x not in reduced_cols]\n",
    "    print('other_cols='+str(other_cols))\n",
    "#    return 5 , 5\n",
    "    xtrain_reduced = xtrain_reduced.clip(0)\n",
    "    xtest_reduced = xtest_reduced.clip(0)\n",
    "    \n",
    "    xtrain_other = xtrain[other_cols]\n",
    "    xtest_other =  xtest[other_cols]\n",
    "    \n",
    "    xtrain_reduced = downcast_more(xtrain_reduced)\n",
    "    xtest_reduced = downcast_more(xtest_reduced)\n",
    "    \n",
    "    print(xtrain_reduced.shape)\n",
    "    print(xtest_reduced.shape)\n",
    "    numtrain = xtrain_reduced.shape[0]\n",
    "    numtest = xtest_reduced.shape[0]\n",
    "    \n",
    "    concat = pd.concat([xtrain_reduced,xtest_reduced])\n",
    "    print(concat.shape)\n",
    "    nmf_obj = NMF(n_components=ndim,random_state=0,verbose=True)\n",
    "    tformed = nmf_obj.fit_transform(concat)\n",
    "    \n",
    "    sep_bool = [True]*numtrain + [False]*numtest\n",
    "    \n",
    "    train_out = pd.DataFrame(tformed[sep_bool])\n",
    "    test_out =  pd.DataFrame(tformed[[not x for x in sep_bool]])\n",
    "    print(train_out.shape)\n",
    "    \n",
    "    train_out = pd.concat([train_out,xtrain_other],axis=1)\n",
    "    test_out = pd.concat([test_out,xtest_other],axis=1)\n",
    "    print(train_out.shape)\n",
    "    \n",
    "    return train_out , test_out "
   ]
  },
  {
   "cell_type": "code",
   "execution_count": 31,
   "metadata": {},
   "outputs": [],
   "source": [
    "xtrain = x_train[0]\n",
    "xtrain_reduced = xtrain.filter(regex='_\\d+$')"
   ]
  },
  {
   "cell_type": "code",
   "execution_count": 32,
   "metadata": {},
   "outputs": [],
   "source": [
    "#xtrain_reduced.apply(lambda x: all(x>=0),axis=0)"
   ]
  },
  {
   "cell_type": "code",
   "execution_count": 33,
   "metadata": {},
   "outputs": [
    {
     "name": "stdout",
     "output_type": "stream",
     "text": [
      "other_cols=['date_block_num', 'first_sale_date_block', 'new_item', 'numdays', 'month_sales', 'mean_prevmonth_item_price', 'std_prevmonth_item_price', 'median_prevmonth_item_price', 'median_prevmonth_shop_item_price', 'prop_median_item_price']\n",
      "(4181736, 84)\n",
      "(214200, 84)\n",
      "(4395936, 84)\n",
      "violation: 1.0\n",
      "violation: 0.27163565240724663\n",
      "violation: 0.19527972880612648\n",
      "violation: 0.1400305993270581\n",
      "violation: 0.10368907213713535\n",
      "violation: 0.07853508310462783\n",
      "violation: 0.05859392503104258\n",
      "violation: 0.044505802145453244\n",
      "violation: 0.03499896313594609\n",
      "violation: 0.02891637521394989\n",
      "violation: 0.02503619660140835\n",
      "violation: 0.02251454373110408\n",
      "violation: 0.02125281293965995\n",
      "violation: 0.021520006400216337\n",
      "violation: 0.02181349291674132\n",
      "violation: 0.019803449561291975\n",
      "violation: 0.017596595623089\n",
      "violation: 0.01596944898027255\n",
      "violation: 0.014420109186503926\n",
      "violation: 0.013149772055137832\n",
      "violation: 0.01213801854216008\n",
      "violation: 0.011407118622974605\n",
      "violation: 0.010907152140957518\n",
      "violation: 0.010883557518404143\n",
      "violation: 0.011627216121028688\n",
      "violation: 0.012775240961541577\n",
      "violation: 0.013401182626205559\n",
      "violation: 0.012614226175009825\n",
      "violation: 0.010933094105662698\n",
      "violation: 0.009226885465460181\n",
      "violation: 0.0078061305006814925\n",
      "violation: 0.0067128487910318715\n",
      "violation: 0.005903630906373703\n",
      "violation: 0.005305394684310997\n",
      "violation: 0.004861719887489383\n",
      "violation: 0.004527609847178546\n",
      "violation: 0.004248443351998951\n",
      "violation: 0.0040088714665420366\n",
      "violation: 0.0037947970588788106\n",
      "violation: 0.003602791482873411\n",
      "violation: 0.003430362649869203\n",
      "violation: 0.003273712342636422\n",
      "violation: 0.003131397501109586\n",
      "violation: 0.0029949319013219656\n",
      "violation: 0.0028642577114493797\n",
      "violation: 0.002734973369567599\n",
      "violation: 0.002617774813023167\n",
      "violation: 0.0025097926858300658\n",
      "violation: 0.0024096459240032456\n",
      "violation: 0.0023112452036992207\n",
      "violation: 0.0021820248103480064\n",
      "violation: 0.0020885414709510943\n",
      "violation: 0.0020088631799344146\n",
      "violation: 0.0019360858303469333\n",
      "violation: 0.0018694772909580188\n",
      "violation: 0.001800294414034378\n",
      "violation: 0.0017456295494201212\n",
      "violation: 0.0016972237123388937\n",
      "violation: 0.0016554033432436331\n",
      "violation: 0.0016190898549677199\n",
      "violation: 0.0015798913448217837\n",
      "violation: 0.001552769081848954\n",
      "violation: 0.00152896405089183\n",
      "violation: 0.0015091321150632743\n",
      "violation: 0.0014928917947782052\n",
      "violation: 0.001479621252169922\n",
      "violation: 0.0014685161322773785\n",
      "violation: 0.0014586464404365293\n",
      "violation: 0.0014494430291763889\n",
      "violation: 0.0014410283017094047\n",
      "violation: 0.0014328614732224848\n",
      "violation: 0.0014252255815106016\n",
      "violation: 0.0014179241434815072\n",
      "violation: 0.0014109984996615013\n",
      "violation: 0.0014050714511488925\n",
      "violation: 0.0013997355397180633\n",
      "violation: 0.0013943695605031826\n",
      "violation: 0.0013893177308520338\n",
      "violation: 0.001384388803187117\n",
      "violation: 0.0013799937792256056\n",
      "violation: 0.0013749132366009718\n",
      "violation: 0.001369491516718868\n",
      "violation: 0.0013631930265073668\n",
      "violation: 0.0013562108713766233\n",
      "violation: 0.0013482737041240688\n",
      "violation: 0.0013390076394644\n",
      "violation: 0.0013279870715658863\n",
      "violation: 0.001315555984731526\n",
      "violation: 0.0013026666223526085\n",
      "violation: 0.0012893590098105492\n",
      "violation: 0.0012758325411796247\n",
      "violation: 0.0012627213750520446\n",
      "violation: 0.0012518077561415241\n",
      "violation: 0.001244873016815869\n",
      "violation: 0.0012431544310018035\n",
      "violation: 0.0012481581345136466\n",
      "violation: 0.0012595719718017243\n",
      "violation: 0.0012685362109431369\n",
      "violation: 0.0012763909158675054\n",
      "violation: 0.001292637786834524\n",
      "violation: 0.001299527022777981\n",
      "violation: 0.00128604883755542\n",
      "violation: 0.0012481687344231556\n",
      "violation: 0.0011839647025446755\n",
      "violation: 0.0010964559013883419\n",
      "violation: 0.0009991217205818127\n",
      "violation: 0.0009017894343432655\n",
      "violation: 0.000812801588411046\n",
      "violation: 0.0007400398915438691\n",
      "violation: 0.0006859757791991225\n",
      "violation: 0.0006478923873312123\n",
      "violation: 0.0006152285263850242\n",
      "violation: 0.0005903935972996293\n",
      "violation: 0.0005671789054144077\n",
      "violation: 0.0005474774877210385\n",
      "violation: 0.0005302654283153599\n",
      "violation: 0.0005146420478657787\n",
      "violation: 0.0005011217555612686\n",
      "violation: 0.0004889833383318007\n",
      "violation: 0.00047794291085311437\n",
      "violation: 0.00046709128828350524\n",
      "violation: 0.0004560901049650773\n",
      "violation: 0.0004457075383607869\n",
      "violation: 0.00043608936978535676\n",
      "violation: 0.0004276525994113064\n",
      "violation: 0.00042016248914303366\n",
      "violation: 0.0004133912398186896\n",
      "violation: 0.0004072144499601787\n",
      "violation: 0.0004015141062278656\n",
      "violation: 0.0003962758009944283\n",
      "violation: 0.0003914310412436139\n",
      "violation: 0.00038692135179545613\n",
      "violation: 0.0003827375395128512\n",
      "violation: 0.00037882841580653655\n",
      "violation: 0.00037544676855486947\n",
      "violation: 0.000372280305569059\n",
      "violation: 0.00036933787089183355\n",
      "violation: 0.0003665285768295907\n",
      "violation: 0.0003637944312020743\n",
      "violation: 0.00036119782717791986\n",
      "violation: 0.00035870555199179647\n",
      "violation: 0.00035635093423285635\n",
      "violation: 0.0003541240045853995\n",
      "violation: 0.0003520328272438216\n",
      "violation: 0.0003500066017937506\n",
      "violation: 0.0003480853064443217\n",
      "violation: 0.0003462614229186542\n",
      "violation: 0.00034456726963366495\n",
      "violation: 0.00034293215494849815\n",
      "violation: 0.00034136188683446983\n",
      "violation: 0.0003398650302080279\n",
      "violation: 0.0003384283215959606\n",
      "violation: 0.0003370493022920605\n",
      "violation: 0.0003357233557310635\n",
      "violation: 0.0003344640401561937\n",
      "violation: 0.0003332431974507436\n",
      "violation: 0.00033207649166261345\n",
      "violation: 0.0003309488633773393\n",
      "violation: 0.0003298450138358378\n",
      "violation: 0.00032879135194669904\n",
      "violation: 0.00032775892872697883\n",
      "violation: 0.00032676108026017417\n",
      "violation: 0.0003258654161559831\n",
      "violation: 0.0003250562199634837\n",
      "violation: 0.00032420987219973756\n",
      "violation: 0.00032337920942476214\n",
      "violation: 0.0003225595568464991\n",
      "violation: 0.0003217530023606529\n",
      "violation: 0.00032095968534015247\n",
      "violation: 0.00032017849615916856\n",
      "violation: 0.0003194161052763613\n",
      "violation: 0.0003186549744774276\n",
      "violation: 0.0003179149564092977\n",
      "violation: 0.0003171973436080138\n",
      "violation: 0.00031649354163695875\n",
      "violation: 0.00031579922120631386\n",
      "violation: 0.00031511760788144837\n",
      "violation: 0.0003144564138534557\n",
      "violation: 0.00031380746487365106\n",
      "violation: 0.0003131587710778719\n",
      "violation: 0.000312533288193331\n",
      "violation: 0.0003119109944812397\n",
      "violation: 0.00031132024910765407\n",
      "violation: 0.00031075192641421797\n",
      "violation: 0.0003101833166087377\n",
      "violation: 0.0003096176924401318\n",
      "violation: 0.0003090696091547334\n",
      "violation: 0.0003085673854894764\n",
      "violation: 0.00030807882443057685\n",
      "violation: 0.0003076042520762701\n",
      "violation: 0.00030715474562196935\n",
      "violation: 0.00030670882859015026\n",
      "violation: 0.0003062910705495057\n",
      "violation: 0.0003058858310012807\n",
      "violation: 0.0003054971254279569\n",
      "violation: 0.00030513494379500166\n",
      "violation: 0.00030478374716863787\n",
      "violation: 0.00030445118834265204\n",
      "violation: 0.00030414536039125305\n",
      "violation: 0.00030386134803247057\n",
      "(4181736, 40)\n",
      "(4181736, 50)\n",
      "BREAK\n",
      "74.54420340458552\n"
     ]
    }
   ],
   "source": [
    "start = time.time()\n",
    "a,b = nmf_tform(x_train[0],x_test[0],NMF_DIM)\n",
    "print('BREAK')\n",
    "#x_train[1] , x_test[1] = nmf_tform(x_train[1],x_test[1],10)\n",
    "print((time.time()-start)/60)"
   ]
  },
  {
   "cell_type": "code",
   "execution_count": 34,
   "metadata": {},
   "outputs": [],
   "source": [
    "x_train[0] = a\n",
    "x_test[0] = b"
   ]
  },
  {
   "cell_type": "code",
   "execution_count": 35,
   "metadata": {},
   "outputs": [],
   "source": [
    "#x_train[0]"
   ]
  },
  {
   "cell_type": "code",
   "execution_count": 36,
   "metadata": {},
   "outputs": [],
   "source": [
    "#dfa\n"
   ]
  },
  {
   "cell_type": "code",
   "execution_count": 37,
   "metadata": {},
   "outputs": [],
   "source": [
    "#[not x for x in [True,False]]"
   ]
  },
  {
   "cell_type": "markdown",
   "metadata": {},
   "source": [
    "# Fitting"
   ]
  },
  {
   "cell_type": "code",
   "execution_count": 38,
   "metadata": {},
   "outputs": [],
   "source": [
    "model = xgb.XGBRegressor(\n",
    "    seed=0,\n",
    "    max_depth=4,\n",
    "    learning_rate=0.5,\n",
    "    n_estimators=1000,\n",
    "    objective='reg:linear',\n",
    "    nthread=7,\n",
    "    #min_child_weight=600,\n",
    "    colsample_bytree=0.5,\n",
    "    subsample=0.5\n",
    ")\n",
    "eval_set = [(x_train[0],y_train[0]),(x_test[0],y_test[0])]"
   ]
  },
  {
   "cell_type": "code",
   "execution_count": 39,
   "metadata": {},
   "outputs": [
    {
     "name": "stdout",
     "output_type": "stream",
     "text": [
      "[0]\tvalidation_0-rmse:1.11145\tvalidation_1-rmse:1.02189\n",
      "Multiple eval metrics have been passed: 'validation_1-rmse' will be used for early stopping.\n",
      "\n",
      "Will train until validation_1-rmse hasn't improved in 50 rounds.\n",
      "[1]\tvalidation_0-rmse:1.08181\tvalidation_1-rmse:0.998013\n",
      "[2]\tvalidation_0-rmse:1.06897\tvalidation_1-rmse:0.989749\n",
      "[3]\tvalidation_0-rmse:1.05876\tvalidation_1-rmse:0.98456\n",
      "[4]\tvalidation_0-rmse:1.05036\tvalidation_1-rmse:0.981309\n",
      "[5]\tvalidation_0-rmse:1.04257\tvalidation_1-rmse:0.979162\n",
      "[6]\tvalidation_0-rmse:1.03826\tvalidation_1-rmse:0.978602\n",
      "[7]\tvalidation_0-rmse:1.03487\tvalidation_1-rmse:0.977551\n",
      "[8]\tvalidation_0-rmse:1.03037\tvalidation_1-rmse:0.974444\n",
      "[9]\tvalidation_0-rmse:1.02783\tvalidation_1-rmse:0.972955\n",
      "[10]\tvalidation_0-rmse:1.02268\tvalidation_1-rmse:0.97056\n",
      "[11]\tvalidation_0-rmse:1.02143\tvalidation_1-rmse:0.970929\n",
      "[12]\tvalidation_0-rmse:1.02002\tvalidation_1-rmse:0.970593\n",
      "[13]\tvalidation_0-rmse:1.01748\tvalidation_1-rmse:0.972091\n",
      "[14]\tvalidation_0-rmse:1.01506\tvalidation_1-rmse:0.971953\n",
      "[15]\tvalidation_0-rmse:1.01297\tvalidation_1-rmse:0.97015\n",
      "[16]\tvalidation_0-rmse:1.01205\tvalidation_1-rmse:0.969117\n",
      "[17]\tvalidation_0-rmse:1.01087\tvalidation_1-rmse:0.967944\n",
      "[18]\tvalidation_0-rmse:1.00972\tvalidation_1-rmse:0.967657\n",
      "[19]\tvalidation_0-rmse:1.00809\tvalidation_1-rmse:0.967373\n",
      "[20]\tvalidation_0-rmse:1.00736\tvalidation_1-rmse:0.967171\n",
      "[21]\tvalidation_0-rmse:1.00468\tvalidation_1-rmse:0.966285\n",
      "[22]\tvalidation_0-rmse:1.00365\tvalidation_1-rmse:0.966622\n",
      "[23]\tvalidation_0-rmse:1.00234\tvalidation_1-rmse:0.966151\n",
      "[24]\tvalidation_0-rmse:1.00128\tvalidation_1-rmse:0.965961\n",
      "[25]\tvalidation_0-rmse:0.999629\tvalidation_1-rmse:0.965773\n",
      "[26]\tvalidation_0-rmse:0.99891\tvalidation_1-rmse:0.965422\n",
      "[27]\tvalidation_0-rmse:0.998111\tvalidation_1-rmse:0.965448\n",
      "[28]\tvalidation_0-rmse:0.997218\tvalidation_1-rmse:0.964962\n",
      "[29]\tvalidation_0-rmse:0.996761\tvalidation_1-rmse:0.964896\n",
      "[30]\tvalidation_0-rmse:0.996424\tvalidation_1-rmse:0.964859\n",
      "[31]\tvalidation_0-rmse:0.994357\tvalidation_1-rmse:0.965995\n",
      "[32]\tvalidation_0-rmse:0.994052\tvalidation_1-rmse:0.966002\n",
      "[33]\tvalidation_0-rmse:0.993673\tvalidation_1-rmse:0.965921\n",
      "[34]\tvalidation_0-rmse:0.993462\tvalidation_1-rmse:0.965807\n",
      "[35]\tvalidation_0-rmse:0.993259\tvalidation_1-rmse:0.966371\n",
      "[36]\tvalidation_0-rmse:0.992287\tvalidation_1-rmse:0.964528\n",
      "[37]\tvalidation_0-rmse:0.991818\tvalidation_1-rmse:0.964431\n",
      "[38]\tvalidation_0-rmse:0.991628\tvalidation_1-rmse:0.964503\n",
      "[39]\tvalidation_0-rmse:0.990686\tvalidation_1-rmse:0.964135\n",
      "[40]\tvalidation_0-rmse:0.990598\tvalidation_1-rmse:0.964124\n",
      "[41]\tvalidation_0-rmse:0.990213\tvalidation_1-rmse:0.964126\n",
      "[42]\tvalidation_0-rmse:0.990002\tvalidation_1-rmse:0.965831\n",
      "[43]\tvalidation_0-rmse:0.989514\tvalidation_1-rmse:0.965707\n",
      "[44]\tvalidation_0-rmse:0.989438\tvalidation_1-rmse:0.965659\n",
      "[45]\tvalidation_0-rmse:0.988863\tvalidation_1-rmse:0.965761\n",
      "[46]\tvalidation_0-rmse:0.988593\tvalidation_1-rmse:0.965575\n",
      "[47]\tvalidation_0-rmse:0.988101\tvalidation_1-rmse:0.965212\n",
      "[48]\tvalidation_0-rmse:0.987177\tvalidation_1-rmse:0.96495\n",
      "[49]\tvalidation_0-rmse:0.986975\tvalidation_1-rmse:0.964705\n",
      "[50]\tvalidation_0-rmse:0.986491\tvalidation_1-rmse:0.964671\n",
      "[51]\tvalidation_0-rmse:0.985351\tvalidation_1-rmse:0.964021\n",
      "[52]\tvalidation_0-rmse:0.985178\tvalidation_1-rmse:0.96401\n",
      "[53]\tvalidation_0-rmse:0.984951\tvalidation_1-rmse:0.964016\n",
      "[54]\tvalidation_0-rmse:0.984527\tvalidation_1-rmse:0.963423\n",
      "[55]\tvalidation_0-rmse:0.984137\tvalidation_1-rmse:0.963254\n",
      "[56]\tvalidation_0-rmse:0.983725\tvalidation_1-rmse:0.965129\n",
      "[57]\tvalidation_0-rmse:0.983498\tvalidation_1-rmse:0.965383\n",
      "[58]\tvalidation_0-rmse:0.982935\tvalidation_1-rmse:0.965544\n",
      "[59]\tvalidation_0-rmse:0.98231\tvalidation_1-rmse:0.9656\n",
      "[60]\tvalidation_0-rmse:0.982088\tvalidation_1-rmse:0.965469\n",
      "[61]\tvalidation_0-rmse:0.982069\tvalidation_1-rmse:0.965486\n",
      "[62]\tvalidation_0-rmse:0.981928\tvalidation_1-rmse:0.965293\n",
      "[63]\tvalidation_0-rmse:0.981866\tvalidation_1-rmse:0.965275\n",
      "[64]\tvalidation_0-rmse:0.981665\tvalidation_1-rmse:0.965248\n",
      "[65]\tvalidation_0-rmse:0.98096\tvalidation_1-rmse:0.965268\n",
      "[66]\tvalidation_0-rmse:0.980412\tvalidation_1-rmse:0.966261\n",
      "[67]\tvalidation_0-rmse:0.980355\tvalidation_1-rmse:0.966259\n",
      "[68]\tvalidation_0-rmse:0.979813\tvalidation_1-rmse:0.966924\n",
      "[69]\tvalidation_0-rmse:0.979413\tvalidation_1-rmse:0.966753\n",
      "[70]\tvalidation_0-rmse:0.978589\tvalidation_1-rmse:0.966994\n",
      "[71]\tvalidation_0-rmse:0.977413\tvalidation_1-rmse:0.96708\n",
      "[72]\tvalidation_0-rmse:0.977266\tvalidation_1-rmse:0.967101\n",
      "[73]\tvalidation_0-rmse:0.97719\tvalidation_1-rmse:0.967273\n",
      "[74]\tvalidation_0-rmse:0.976643\tvalidation_1-rmse:0.967253\n",
      "[75]\tvalidation_0-rmse:0.976323\tvalidation_1-rmse:0.967122\n",
      "[76]\tvalidation_0-rmse:0.975488\tvalidation_1-rmse:0.967813\n",
      "[77]\tvalidation_0-rmse:0.974385\tvalidation_1-rmse:0.967179\n",
      "[78]\tvalidation_0-rmse:0.973446\tvalidation_1-rmse:0.967237\n",
      "[79]\tvalidation_0-rmse:0.972993\tvalidation_1-rmse:0.967275\n",
      "[80]\tvalidation_0-rmse:0.972828\tvalidation_1-rmse:0.969113\n",
      "[81]\tvalidation_0-rmse:0.972788\tvalidation_1-rmse:0.968957\n",
      "[82]\tvalidation_0-rmse:0.971877\tvalidation_1-rmse:0.970276\n",
      "[83]\tvalidation_0-rmse:0.971441\tvalidation_1-rmse:0.973955\n",
      "[84]\tvalidation_0-rmse:0.971354\tvalidation_1-rmse:0.973969\n",
      "[85]\tvalidation_0-rmse:0.97127\tvalidation_1-rmse:0.974199\n",
      "[86]\tvalidation_0-rmse:0.970888\tvalidation_1-rmse:0.974172\n",
      "[87]\tvalidation_0-rmse:0.970506\tvalidation_1-rmse:0.973484\n",
      "[88]\tvalidation_0-rmse:0.970222\tvalidation_1-rmse:0.97357\n",
      "[89]\tvalidation_0-rmse:0.969884\tvalidation_1-rmse:0.973475\n",
      "[90]\tvalidation_0-rmse:0.969137\tvalidation_1-rmse:0.981188\n",
      "[91]\tvalidation_0-rmse:0.969021\tvalidation_1-rmse:0.981225\n",
      "[92]\tvalidation_0-rmse:0.968788\tvalidation_1-rmse:0.981289\n",
      "[93]\tvalidation_0-rmse:0.968647\tvalidation_1-rmse:0.981338\n",
      "[94]\tvalidation_0-rmse:0.968415\tvalidation_1-rmse:0.981395\n",
      "[95]\tvalidation_0-rmse:0.967822\tvalidation_1-rmse:0.981466\n",
      "[96]\tvalidation_0-rmse:0.967698\tvalidation_1-rmse:0.981444\n",
      "[97]\tvalidation_0-rmse:0.966385\tvalidation_1-rmse:0.981416\n",
      "[98]\tvalidation_0-rmse:0.966323\tvalidation_1-rmse:0.981695\n",
      "[99]\tvalidation_0-rmse:0.965447\tvalidation_1-rmse:0.981099\n",
      "[100]\tvalidation_0-rmse:0.965302\tvalidation_1-rmse:0.98118\n",
      "[101]\tvalidation_0-rmse:0.964764\tvalidation_1-rmse:0.979855\n",
      "[102]\tvalidation_0-rmse:0.964581\tvalidation_1-rmse:0.979446\n",
      "[103]\tvalidation_0-rmse:0.964455\tvalidation_1-rmse:0.979455\n",
      "[104]\tvalidation_0-rmse:0.963575\tvalidation_1-rmse:0.979375\n",
      "[105]\tvalidation_0-rmse:0.963083\tvalidation_1-rmse:0.97936\n",
      "Stopping. Best iteration:\n",
      "[55]\tvalidation_0-rmse:0.984137\tvalidation_1-rmse:0.963254\n",
      "\n"
     ]
    },
    {
     "data": {
      "text/plain": [
       "XGBRegressor(base_score=0.5, booster='gbtree', colsample_bylevel=1,\n",
       "       colsample_bytree=0.5, gamma=0, learning_rate=0.5, max_delta_step=0,\n",
       "       max_depth=4, min_child_weight=1, missing=None, n_estimators=1000,\n",
       "       n_jobs=1, nthread=7, objective='reg:linear', random_state=0,\n",
       "       reg_alpha=0, reg_lambda=1, scale_pos_weight=1, seed=0, silent=True,\n",
       "       subsample=0.5)"
      ]
     },
     "execution_count": 39,
     "metadata": {},
     "output_type": "execute_result"
    }
   ],
   "source": [
    "model.fit(\n",
    "    verbose=True,\n",
    "    X=x_train[0],\n",
    "    y=y_train[0],\n",
    "    eval_set=eval_set,\n",
    "    early_stopping_rounds=50\n",
    ")"
   ]
  },
  {
   "cell_type": "code",
   "execution_count": 40,
   "metadata": {},
   "outputs": [
    {
     "name": "stdout",
     "output_type": "stream",
     "text": [
      "CUTOFF=0\n"
     ]
    }
   ],
   "source": [
    "print('CUTOFF='+str(CUTOFF))"
   ]
  },
  {
   "cell_type": "code",
   "execution_count": 41,
   "metadata": {},
   "outputs": [],
   "source": [
    "deval = model.evals_result()\n",
    "val0 = deval['validation_0']['rmse']\n",
    "val1 = deval['validation_1']['rmse']\n",
    "deval = pd.DataFrame({'val0':val0,'val1':val1})"
   ]
  },
  {
   "cell_type": "code",
   "execution_count": 42,
   "metadata": {},
   "outputs": [
    {
     "data": {
      "text/plain": [
       "<matplotlib.axes._subplots.AxesSubplot at 0x252caa6a4e0>"
      ]
     },
     "execution_count": 42,
     "metadata": {},
     "output_type": "execute_result"
    },
    {
     "data": {
      "image/png": "[encoded data removed]",
      "text/plain": [
       "<Figure size 432x288 with 1 Axes>"
      ]
     },
     "metadata": {
      "needs_background": "light"
     },
     "output_type": "display_data"
    }
   ],
   "source": [
    "time.sleep(0.2)\n",
    "deval.plot()"
   ]
  },
  {
   "cell_type": "markdown",
   "metadata": {},
   "source": [
    "###### ax = xgb.plot_importance(model,height=0.8,)\n",
    "print(ax.figure.set_size_inches(5,10))"
   ]
  },
  {
   "cell_type": "code",
   "execution_count": 43,
   "metadata": {},
   "outputs": [],
   "source": [
    "#%env PATH=C:\\Program Files (x86)\\Graphviz2.38\\bin\n",
    "#ax = xgb.plot_tree(model)\n",
    "#ax.figure.set_size_inches(20,20)"
   ]
  },
  {
   "cell_type": "code",
   "execution_count": 44,
   "metadata": {},
   "outputs": [
    {
     "data": {
      "text/plain": [
       "pandas.core.series.Series"
      ]
     },
     "execution_count": 44,
     "metadata": {},
     "output_type": "execute_result"
    }
   ],
   "source": [
    "gain = pd.Series(model.get_booster().get_score(importance_type='gain'))\n",
    "gain = gain.sort_values(ascending=True)\n",
    "type(gain)"
   ]
  },
  {
   "cell_type": "code",
   "execution_count": 45,
   "metadata": {},
   "outputs": [
    {
     "data": {
      "image/png": "[encoded data removed]",
      "text/plain": [
       "<Figure size 720x1440 with 1 Axes>"
      ]
     },
     "metadata": {
      "needs_background": "light"
     },
     "output_type": "display_data"
    }
   ],
   "source": [
    "ax = gain.plot(kind='barh')\n",
    "ax.figure.set_size_inches(10,20)"
   ]
  },
  {
   "cell_type": "code",
   "execution_count": 46,
   "metadata": {},
   "outputs": [
    {
     "data": {
      "text/plain": [
       "<matplotlib.axes._subplots.AxesSubplot at 0x252c71e8470>"
      ]
     },
     "execution_count": 46,
     "metadata": {},
     "output_type": "execute_result"
    },
    {
     "data": {
      "image/png": "[encoded data removed]",
      "text/plain": [
       "<Figure size 432x288 with 1 Axes>"
      ]
     },
     "metadata": {
      "needs_background": "light"
     },
     "output_type": "display_data"
    }
   ],
   "source": [
    "df = x_train[0].copy()\n",
    "df['target'] = y_train[0]\n",
    "df.groupby('new_item').target.mean().plot(kind='bar')"
   ]
  },
  {
   "cell_type": "code",
   "execution_count": 47,
   "metadata": {},
   "outputs": [
    {
     "data": {
      "text/plain": [
       "<matplotlib.axes._subplots.AxesSubplot at 0x252c7c08240>"
      ]
     },
     "execution_count": 47,
     "metadata": {},
     "output_type": "execute_result"
    },
    {
     "data": {
      "image/png": "[encoded data removed]",
      "text/plain": [
       "<Figure size 432x288 with 1 Axes>"
      ]
     },
     "metadata": {
      "needs_background": "light"
     },
     "output_type": "display_data"
    }
   ],
   "source": [
    "dft = x_test[0].copy()\n",
    "dft['target'] = y_test[0]\n",
    "dft.groupby('new_item').target.mean().plot(kind='bar')"
   ]
  },
  {
   "cell_type": "code",
   "execution_count": 48,
   "metadata": {},
   "outputs": [],
   "source": [
    "#d = pd.DataFrame()\n",
    "d = {}\n",
    "coltypes=[  \n",
    " 'sum_item_sales_back_',\n",
    " 'sum_shop_sales_back_',\n",
    " 'item_cnt_month_back_',\n",
    " 'sum_item_cat_sales_back_',\n",
    " 'sum_item_cat_shop_sales_back_',\n",
    " 'sum_city_back_',\n",
    " 'sum_itemtype_back_',\n",
    " 'sum_iteminfo_back_',\n",
    " 'sum_city_item_back_',\n",
    " 'sum_city_item_cat_back_',\n",
    " 'sum_itemtype_shop_back_',\n",
    " 'sum_itemtype_city_back_']\n",
    "save=[]\n",
    "for ct in coltypes:\n",
    "    save.append(gain.filter(regex=ct))\n",
    "    d[ct] = np.sum(gain.filter(regex=ct))"
   ]
  },
  {
   "cell_type": "code",
   "execution_count": 49,
   "metadata": {},
   "outputs": [
    {
     "data": {
      "text/plain": [
       "[('sum_item_sales_back_', 0.0),\n",
       " ('sum_shop_sales_back_', 0.0),\n",
       " ('item_cnt_month_back_', 0.0),\n",
       " ('sum_item_cat_sales_back_', 0.0),\n",
       " ('sum_item_cat_shop_sales_back_', 0.0),\n",
       " ('sum_city_back_', 0.0),\n",
       " ('sum_itemtype_back_', 0.0),\n",
       " ('sum_iteminfo_back_', 0.0),\n",
       " ('sum_city_item_back_', 0.0),\n",
       " ('sum_city_item_cat_back_', 0.0),\n",
       " ('sum_itemtype_shop_back_', 0.0),\n",
       " ('sum_itemtype_city_back_', 0.0)]"
      ]
     },
     "execution_count": 49,
     "metadata": {},
     "output_type": "execute_result"
    }
   ],
   "source": [
    "sorted(d.items(),key=lambda t: t[1],reverse=True)"
   ]
  },
  {
   "cell_type": "code",
   "execution_count": 50,
   "metadata": {},
   "outputs": [
    {
     "data": {
      "text/plain": [
       "0.0"
      ]
     },
     "execution_count": 50,
     "metadata": {},
     "output_type": "execute_result"
    }
   ],
   "source": [
    "np.sum(save[0])"
   ]
  },
  {
   "cell_type": "code",
   "execution_count": 51,
   "metadata": {},
   "outputs": [
    {
     "data": {
      "text/plain": [
       "50"
      ]
     },
     "execution_count": 51,
     "metadata": {},
     "output_type": "execute_result"
    }
   ],
   "source": [
    "len(gain)"
   ]
  },
  {
   "cell_type": "code",
   "execution_count": 52,
   "metadata": {},
   "outputs": [
    {
     "data": {
      "text/plain": [
       "7                                     70.524347\n",
       "3                                     75.156249\n",
       "20                                    86.975211\n",
       "18                                   104.849383\n",
       "13                                   125.861581\n",
       "27                                   136.806920\n",
       "6                                    174.632277\n",
       "28                                   185.719971\n",
       "numdays                              210.565590\n",
       "16                                   211.198860\n",
       "17                                   211.599096\n",
       "22                                   211.665558\n",
       "21                                   252.190237\n",
       "4                                    259.214212\n",
       "2                                    259.636633\n",
       "39                                   275.840437\n",
       "38                                   278.106649\n",
       "19                                   278.227754\n",
       "1                                    294.160148\n",
       "11                                   301.099426\n",
       "31                                   329.969013\n",
       "25                                   332.956948\n",
       "37                                   338.438078\n",
       "34                                   364.905468\n",
       "35                                   374.680185\n",
       "9                                    382.080441\n",
       "33                                   430.625984\n",
       "32                                   444.448156\n",
       "median_prevmonth_item_price          451.889439\n",
       "5                                    479.545145\n",
       "15                                   523.648726\n",
       "26                                   630.597850\n",
       "std_prevmonth_item_price             685.482745\n",
       "29                                   688.580368\n",
       "30                                   734.160049\n",
       "mean_prevmonth_item_price            754.394928\n",
       "date_block_num                       819.979686\n",
       "23                                   891.238565\n",
       "first_sale_date_block                973.414310\n",
       "month_sales                         1012.463293\n",
       "14                                  1027.657207\n",
       "36                                  1267.624890\n",
       "12                                  1314.844441\n",
       "10                                  1395.315238\n",
       "0                                   1463.670584\n",
       "8                                   1594.636394\n",
       "24                                  1709.323744\n",
       "prop_median_item_price              1847.270515\n",
       "median_prevmonth_shop_item_price    2828.269815\n",
       "new_item                            7403.090459\n",
       "dtype: float64"
      ]
     },
     "execution_count": 52,
     "metadata": {},
     "output_type": "execute_result"
    }
   ],
   "source": [
    "pd.Series(gain)"
   ]
  },
  {
   "cell_type": "markdown",
   "metadata": {},
   "source": [
    "# Retrain model with all data"
   ]
  },
  {
   "cell_type": "markdown",
   "metadata": {},
   "source": [
    "# Write Submission"
   ]
  },
  {
   "cell_type": "code",
   "execution_count": 53,
   "metadata": {},
   "outputs": [],
   "source": [
    "#SUB=True"
   ]
  },
  {
   "cell_type": "code",
   "execution_count": 54,
   "metadata": {},
   "outputs": [],
   "source": [
    "#retrain on all data\n",
    "#\n",
    "#\n",
    "#\n",
    "#\n",
    "#\n",
    "if SUB:\n",
    "    preds = model.predict(x_test[1])"
   ]
  },
  {
   "cell_type": "code",
   "execution_count": 55,
   "metadata": {},
   "outputs": [],
   "source": [
    "if SUB:\n",
    "    preds"
   ]
  },
  {
   "cell_type": "code",
   "execution_count": 56,
   "metadata": {},
   "outputs": [],
   "source": [
    "if SUB:\n",
    "    #sample_sub = pd.read_csv('../original_data/sample_submission.csv.gz')\n",
    "    test0 = pd.read_csv('../original_data/test.csv.gz')"
   ]
  },
  {
   "cell_type": "code",
   "execution_count": 57,
   "metadata": {},
   "outputs": [],
   "source": [
    "if SUB:\n",
    "    submission = x_test_1_saved.copy()\n",
    "    submission['item_cnt_month'] = preds\n",
    "    submission = test0.merge(submission).drop(['shop_id','item_id'],axis=1)"
   ]
  },
  {
   "cell_type": "code",
   "execution_count": 58,
   "metadata": {},
   "outputs": [],
   "source": [
    "if SUB:\n",
    "    submission.to_csv('../gen_data/model3_basic_sub.csv',index=False)\n",
    "    submission.head()"
   ]
  },
  {
   "cell_type": "code",
   "execution_count": 59,
   "metadata": {},
   "outputs": [],
   "source": [
    "if SUB:\n",
    "    submission_adjusted = submission\n",
    "    submission_adjusted['item_cnt_month'] = 0.2839853/submission_adjusted['item_cnt_month'].mean()*submission_adjusted['item_cnt_month']\n",
    "    submission.to_csv('../gen_data/model3_basic_sub_adjusted.csv',index=False)\n",
    "    submission_adjusted.head()"
   ]
  }
 ],
 "metadata": {
  "kernelspec": {
   "display_name": "Python 3",
   "language": "python",
   "name": "python3"
  },
  "language_info": {
   "codemirror_mode": {
    "name": "ipython",
    "version": 3
   },
   "file_extension": ".py",
   "mimetype": "text/x-python",
   "name": "python",
   "nbconvert_exporter": "python",
   "pygments_lexer": "ipython3",
   "version": "3.7.1"
  }
 },
 "nbformat": 4,
 "nbformat_minor": 2
}
