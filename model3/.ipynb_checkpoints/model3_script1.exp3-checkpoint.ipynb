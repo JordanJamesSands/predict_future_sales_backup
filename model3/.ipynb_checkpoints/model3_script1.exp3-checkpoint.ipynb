{
 "cells": [
  {
   "cell_type": "code",
   "execution_count": 1,
   "metadata": {},
   "outputs": [],
   "source": [
    "import pandas as pd\n",
    "import numpy as np \n",
    "import pickle\n",
    "import xgboost as xgb\n",
    "import time\n",
    "import graphviz\n",
    "import matplotlib as plt\n",
    "import re"
   ]
  },
  {
   "cell_type": "code",
   "execution_count": 2,
   "metadata": {},
   "outputs": [],
   "source": [
    "START_NOTEBOOK = time.time()\n",
    "SUB=False\n",
    "AVE= True"
   ]
  },
  {
   "cell_type": "code",
   "execution_count": 3,
   "metadata": {},
   "outputs": [],
   "source": [
    "x_train , x_test , y_train , y_test = pickle.load(open('../saved_datasets/19-3-19,pipeline_A_reduced_frommaster,dateback=18/xtrain_xtest_ytrain_ytest.pickle','rb'))"
   ]
  },
  {
   "cell_type": "code",
   "execution_count": 4,
   "metadata": {},
   "outputs": [
    {
     "data": {
      "text/plain": [
       "<pandas.core.groupby.groupby.DataFrameGroupBy object at 0x000002B7E0BBFEF0>"
      ]
     },
     "execution_count": 4,
     "metadata": {},
     "output_type": "execute_result"
    }
   ],
   "source": [
    "df = x_train[0]\n",
    "df['target'] = y_train[0]\n",
    "df.groupby('date_block_num')"
   ]
  },
  {
   "cell_type": "code",
   "execution_count": 5,
   "metadata": {},
   "outputs": [
    {
     "data": {
      "text/plain": [
       "array([18, 19, 20, 21, 22, 23, 24, 25, 26, 27, 28, 29, 30, 31, 32],\n",
       "      dtype=int64)"
      ]
     },
     "execution_count": 5,
     "metadata": {},
     "output_type": "execute_result"
    }
   ],
   "source": [
    "df.date_block_num.unique()"
   ]
  },
  {
   "cell_type": "code",
   "execution_count": 6,
   "metadata": {},
   "outputs": [
    {
     "data": {
      "text/html": [
       "<div>\n",
       "<style scoped>\n",
       "    .dataframe tbody tr th:only-of-type {\n",
       "        vertical-align: middle;\n",
       "    }\n",
       "\n",
       "    .dataframe tbody tr th {\n",
       "        vertical-align: top;\n",
       "    }\n",
       "\n",
       "    .dataframe thead th {\n",
       "        text-align: right;\n",
       "    }\n",
       "</style>\n",
       "<table border=\"1\" class=\"dataframe\">\n",
       "  <thead>\n",
       "    <tr style=\"text-align: right;\">\n",
       "      <th></th>\n",
       "      <th>date_block_num</th>\n",
       "      <th>new_item</th>\n",
       "    </tr>\n",
       "  </thead>\n",
       "  <tbody>\n",
       "    <tr>\n",
       "      <th>0</th>\n",
       "      <td>33</td>\n",
       "      <td>0.126667</td>\n",
       "    </tr>\n",
       "  </tbody>\n",
       "</table>\n",
       "</div>"
      ],
      "text/plain": [
       "   date_block_num  new_item\n",
       "0              33  0.126667"
      ]
     },
     "execution_count": 6,
     "metadata": {},
     "output_type": "execute_result"
    }
   ],
   "source": [
    "dft = x_test[0]\n",
    "dft['target'] = y_test[0]\n",
    "dft.groupby('date_block_num',as_index=False).new_item.mean()"
   ]
  },
  {
   "cell_type": "code",
   "execution_count": 7,
   "metadata": {},
   "outputs": [
    {
     "data": {
      "text/html": [
       "<div>\n",
       "<style scoped>\n",
       "    .dataframe tbody tr th:only-of-type {\n",
       "        vertical-align: middle;\n",
       "    }\n",
       "\n",
       "    .dataframe tbody tr th {\n",
       "        vertical-align: top;\n",
       "    }\n",
       "\n",
       "    .dataframe thead th {\n",
       "        text-align: right;\n",
       "    }\n",
       "</style>\n",
       "<table border=\"1\" class=\"dataframe\">\n",
       "  <thead>\n",
       "    <tr style=\"text-align: right;\">\n",
       "      <th></th>\n",
       "      <th>date_block_num</th>\n",
       "      <th>new_item</th>\n",
       "    </tr>\n",
       "  </thead>\n",
       "  <tbody>\n",
       "    <tr>\n",
       "      <th>0</th>\n",
       "      <td>18</td>\n",
       "      <td>0.047799</td>\n",
       "    </tr>\n",
       "    <tr>\n",
       "      <th>1</th>\n",
       "      <td>19</td>\n",
       "      <td>0.039290</td>\n",
       "    </tr>\n",
       "    <tr>\n",
       "      <th>2</th>\n",
       "      <td>20</td>\n",
       "      <td>0.054357</td>\n",
       "    </tr>\n",
       "    <tr>\n",
       "      <th>3</th>\n",
       "      <td>21</td>\n",
       "      <td>0.088096</td>\n",
       "    </tr>\n",
       "    <tr>\n",
       "      <th>4</th>\n",
       "      <td>22</td>\n",
       "      <td>0.072762</td>\n",
       "    </tr>\n",
       "    <tr>\n",
       "      <th>5</th>\n",
       "      <td>23</td>\n",
       "      <td>0.071461</td>\n",
       "    </tr>\n",
       "    <tr>\n",
       "      <th>6</th>\n",
       "      <td>24</td>\n",
       "      <td>0.032090</td>\n",
       "    </tr>\n",
       "    <tr>\n",
       "      <th>7</th>\n",
       "      <td>25</td>\n",
       "      <td>0.037172</td>\n",
       "    </tr>\n",
       "    <tr>\n",
       "      <th>8</th>\n",
       "      <td>26</td>\n",
       "      <td>0.055245</td>\n",
       "    </tr>\n",
       "    <tr>\n",
       "      <th>9</th>\n",
       "      <td>27</td>\n",
       "      <td>0.047845</td>\n",
       "    </tr>\n",
       "    <tr>\n",
       "      <th>10</th>\n",
       "      <td>28</td>\n",
       "      <td>0.042589</td>\n",
       "    </tr>\n",
       "    <tr>\n",
       "      <th>11</th>\n",
       "      <td>29</td>\n",
       "      <td>0.047929</td>\n",
       "    </tr>\n",
       "    <tr>\n",
       "      <th>12</th>\n",
       "      <td>30</td>\n",
       "      <td>0.038700</td>\n",
       "    </tr>\n",
       "    <tr>\n",
       "      <th>13</th>\n",
       "      <td>31</td>\n",
       "      <td>0.055208</td>\n",
       "    </tr>\n",
       "    <tr>\n",
       "      <th>14</th>\n",
       "      <td>32</td>\n",
       "      <td>0.059390</td>\n",
       "    </tr>\n",
       "    <tr>\n",
       "      <th>15</th>\n",
       "      <td>33</td>\n",
       "      <td>0.087752</td>\n",
       "    </tr>\n",
       "  </tbody>\n",
       "</table>\n",
       "</div>"
      ],
      "text/plain": [
       "    date_block_num  new_item\n",
       "0               18  0.047799\n",
       "1               19  0.039290\n",
       "2               20  0.054357\n",
       "3               21  0.088096\n",
       "4               22  0.072762\n",
       "5               23  0.071461\n",
       "6               24  0.032090\n",
       "7               25  0.037172\n",
       "8               26  0.055245\n",
       "9               27  0.047845\n",
       "10              28  0.042589\n",
       "11              29  0.047929\n",
       "12              30  0.038700\n",
       "13              31  0.055208\n",
       "14              32  0.059390\n",
       "15              33  0.087752"
      ]
     },
     "execution_count": 7,
     "metadata": {},
     "output_type": "execute_result"
    }
   ],
   "source": [
    "df = x_train[1]\n",
    "df['target'] = y_train[1]\n",
    "g = df.groupby('date_block_num',as_index=False).new_item.mean()\n",
    "g"
   ]
  },
  {
   "cell_type": "code",
   "execution_count": 8,
   "metadata": {},
   "outputs": [
    {
     "data": {
      "text/plain": [
       "<matplotlib.axes._subplots.AxesSubplot at 0x2b7e6acbc18>"
      ]
     },
     "execution_count": 8,
     "metadata": {},
     "output_type": "execute_result"
    }
   ],
   "source": [
    "g.plot(x='date_block_num',kind='bar')"
   ]
  },
  {
   "cell_type": "code",
   "execution_count": 9,
   "metadata": {},
   "outputs": [
    {
     "data": {
      "text/plain": [
       "<matplotlib.axes._subplots.AxesSubplot at 0x2b7e6d17c88>"
      ]
     },
     "execution_count": 9,
     "metadata": {},
     "output_type": "execute_result"
    },
    {
     "data": {
      "image/png": "[encoded data removed]",
      "text/plain": [
       "<Figure size 432x288 with 1 Axes>"
      ]
     },
     "metadata": {
      "needs_background": "light"
     },
     "output_type": "display_data"
    }
   ],
   "source": [
    "df = x_train[0]\n",
    "df['target'] = y_train[0]\n",
    "df.groupby('new_item').target.mean().plot(kind='bar')"
   ]
  },
  {
   "cell_type": "code",
   "execution_count": 10,
   "metadata": {},
   "outputs": [
    {
     "data": {
      "text/plain": [
       "<matplotlib.axes._subplots.AxesSubplot at 0x2b7e6d90710>"
      ]
     },
     "execution_count": 10,
     "metadata": {},
     "output_type": "execute_result"
    },
    {
     "data": {
      "image/png": "[encoded data removed]",
      "text/plain": [
       "<Figure size 432x288 with 1 Axes>"
      ]
     },
     "metadata": {
      "needs_background": "light"
     },
     "output_type": "display_data"
    }
   ],
   "source": [
    "dft = x_test[0]\n",
    "dft['target'] = y_test[0]\n",
    "dft.groupby('new_item').target.mean().plot(kind='bar')"
   ]
  },
  {
   "cell_type": "markdown",
   "metadata": {},
   "source": [
    "# check prop_median_item_price"
   ]
  },
  {
   "cell_type": "code",
   "execution_count": 11,
   "metadata": {},
   "outputs": [
    {
     "data": {
      "text/plain": [
       "1.0"
      ]
     },
     "execution_count": 11,
     "metadata": {},
     "output_type": "execute_result"
    }
   ],
   "source": [
    "df = x_train[0]\n",
    "df['target'] = y_train[0]\n",
    "np.quantile(df.prop_median_item_price,0.2,)"
   ]
  },
  {
   "cell_type": "code",
   "execution_count": 12,
   "metadata": {},
   "outputs": [
    {
     "data": {
      "text/plain": [
       "0.0"
      ]
     },
     "execution_count": 12,
     "metadata": {},
     "output_type": "execute_result"
    }
   ],
   "source": [
    "np.mean(df.prop_median_item_price.isna())"
   ]
  },
  {
   "cell_type": "markdown",
   "metadata": {},
   "source": [
    "# Preprocessing"
   ]
  },
  {
   "cell_type": "markdown",
   "metadata": {},
   "source": [
    "Try averaging some features"
   ]
  },
  {
   "cell_type": "code",
   "execution_count": 13,
   "metadata": {},
   "outputs": [],
   "source": [
    "def ave_feats(df):\n",
    "    feats = [     \n",
    "     'sum_item_sales_back_',\n",
    "     'sum_shop_sales_back_',\n",
    "     'item_cnt_month_back_',\n",
    "     'sum_item_cat_sales_back_',\n",
    "     'sum_city_back_',\n",
    "     'sum_itemtype_back_',\n",
    "     'sum_iteminfo_back_'\n",
    "            ]\n",
    "    df = df.copy()\n",
    "    for feat in feats:\n",
    "        print('averaging on '+feat+'...')\n",
    "        for i in np.arange(1,18,3):\n",
    "            df['ave_'+feat+str(i)] = (df[feat+str(i)]+df[feat+str(i+1)]+df[feat+str(i+2)])/3\n",
    "        reduced_cols = [a for a in df.columns.tolist() if not re.match('^'+feat,a)]\n",
    "        df = df[reduced_cols]\n",
    "    return df"
   ]
  },
  {
   "cell_type": "code",
   "execution_count": 14,
   "metadata": {},
   "outputs": [
    {
     "name": "stdout",
     "output_type": "stream",
     "text": [
      "averaging on sum_item_sales_back_...\n",
      "averaging on sum_shop_sales_back_...\n",
      "averaging on item_cnt_month_back_...\n",
      "averaging on sum_item_cat_sales_back_...\n",
      "averaging on sum_city_back_...\n",
      "averaging on sum_itemtype_back_...\n",
      "averaging on sum_iteminfo_back_...\n",
      "averaging on sum_item_sales_back_...\n",
      "averaging on sum_shop_sales_back_...\n",
      "averaging on item_cnt_month_back_...\n",
      "averaging on sum_item_cat_sales_back_...\n",
      "averaging on sum_city_back_...\n",
      "averaging on sum_itemtype_back_...\n",
      "averaging on sum_iteminfo_back_...\n",
      "averaging on sum_item_sales_back_...\n",
      "averaging on sum_shop_sales_back_...\n",
      "averaging on item_cnt_month_back_...\n",
      "averaging on sum_item_cat_sales_back_...\n",
      "averaging on sum_city_back_...\n",
      "averaging on sum_itemtype_back_...\n",
      "averaging on sum_iteminfo_back_...\n",
      "averaging on sum_item_sales_back_...\n",
      "averaging on sum_shop_sales_back_...\n",
      "averaging on item_cnt_month_back_...\n",
      "averaging on sum_item_cat_sales_back_...\n",
      "averaging on sum_city_back_...\n",
      "averaging on sum_itemtype_back_...\n",
      "averaging on sum_iteminfo_back_...\n"
     ]
    }
   ],
   "source": [
    "if AVE:\n",
    "    x_train = list(map(ave_feats,x_train))\n",
    "    x_test = list(map(ave_feats,x_test))"
   ]
  },
  {
   "cell_type": "markdown",
   "metadata": {},
   "source": [
    "Try culling early data"
   ]
  },
  {
   "cell_type": "code",
   "execution_count": 15,
   "metadata": {},
   "outputs": [],
   "source": [
    "x_train_saved = x_train\n",
    "y_train_saved = y_train\n",
    "x_train = []\n",
    "y_train = []\n",
    "CUTOFF = 0\n",
    "for xtrain_el , ytrain_el in zip(x_train_saved,y_train_saved):\n",
    "    x_train.append(xtrain_el[xtrain_el.date_block_num>CUTOFF])\n",
    "    y_train.append(ytrain_el[xtrain_el.date_block_num>CUTOFF])"
   ]
  },
  {
   "cell_type": "code",
   "execution_count": 16,
   "metadata": {},
   "outputs": [],
   "source": [
    "def preproc_model3(x_train,x_test,y_train,y_test):\n",
    "\n",
    "    x_train = [d.drop(['shop_id','item_id','item_category_id'],axis=1) for d in x_train]\n",
    "    x_test =  [d.drop(['shop_id','item_id','item_category_id'],axis=1) for d in x_test]\n",
    "    y_train = [d.clip(0,20) for d in y_train]\n",
    "    y_test =  [d.clip(0,20) for d in y_test]\n",
    "    return [x_train,x_test,y_train,y_test]"
   ]
  },
  {
   "cell_type": "code",
   "execution_count": 17,
   "metadata": {},
   "outputs": [],
   "source": [
    "x_train , x_test , y_train , y_test = preproc_model3(x_train,x_test,y_train,y_test)"
   ]
  },
  {
   "cell_type": "markdown",
   "metadata": {},
   "source": [
    "## TODO: account for factor adjustment"
   ]
  },
  {
   "cell_type": "markdown",
   "metadata": {},
   "source": [
    "# Notes"
   ]
  },
  {
   "cell_type": "markdown",
   "metadata": {},
   "source": [
    "- There are likely too many feats, this would explain immediate overfitting\n",
    "- rmse withou clipped data is gonna put a lot of focus on large outliers\n",
    "* consider mean abs error"
   ]
  },
  {
   "cell_type": "markdown",
   "metadata": {},
   "source": [
    "# Feature Selection"
   ]
  },
  {
   "cell_type": "code",
   "execution_count": 18,
   "metadata": {},
   "outputs": [
    {
     "data": {
      "text/plain": [
       "['date_block_num',\n",
       " 'city',\n",
       " 'item_type',\n",
       " 'item_info',\n",
       " 'first_sale_date_block',\n",
       " 'new_item',\n",
       " 'month',\n",
       " 'numdays',\n",
       " 'month_sales',\n",
       " 'mean_prevmonth_item_price',\n",
       " 'std_prevmonth_item_price',\n",
       " 'median_prevmonth_item_price',\n",
       " 'median_prevmonth_shop_item_price',\n",
       " 'prop_median_item_price',\n",
       " 'target',\n",
       " 'ave_sum_item_sales_back_1',\n",
       " 'ave_sum_item_sales_back_4',\n",
       " 'ave_sum_item_sales_back_7',\n",
       " 'ave_sum_item_sales_back_10',\n",
       " 'ave_sum_item_sales_back_13',\n",
       " 'ave_sum_item_sales_back_16',\n",
       " 'ave_sum_shop_sales_back_1',\n",
       " 'ave_sum_shop_sales_back_4',\n",
       " 'ave_sum_shop_sales_back_7',\n",
       " 'ave_sum_shop_sales_back_10',\n",
       " 'ave_sum_shop_sales_back_13',\n",
       " 'ave_sum_shop_sales_back_16',\n",
       " 'ave_item_cnt_month_back_1',\n",
       " 'ave_item_cnt_month_back_4',\n",
       " 'ave_item_cnt_month_back_7',\n",
       " 'ave_item_cnt_month_back_10',\n",
       " 'ave_item_cnt_month_back_13',\n",
       " 'ave_item_cnt_month_back_16',\n",
       " 'ave_sum_item_cat_sales_back_1',\n",
       " 'ave_sum_item_cat_sales_back_4',\n",
       " 'ave_sum_item_cat_sales_back_7',\n",
       " 'ave_sum_item_cat_sales_back_10',\n",
       " 'ave_sum_item_cat_sales_back_13',\n",
       " 'ave_sum_item_cat_sales_back_16',\n",
       " 'ave_sum_city_back_1',\n",
       " 'ave_sum_city_back_4',\n",
       " 'ave_sum_city_back_7',\n",
       " 'ave_sum_city_back_10',\n",
       " 'ave_sum_city_back_13',\n",
       " 'ave_sum_city_back_16',\n",
       " 'ave_sum_itemtype_back_1',\n",
       " 'ave_sum_itemtype_back_4',\n",
       " 'ave_sum_itemtype_back_7',\n",
       " 'ave_sum_itemtype_back_10',\n",
       " 'ave_sum_itemtype_back_13',\n",
       " 'ave_sum_itemtype_back_16',\n",
       " 'ave_sum_iteminfo_back_1',\n",
       " 'ave_sum_iteminfo_back_4',\n",
       " 'ave_sum_iteminfo_back_7',\n",
       " 'ave_sum_iteminfo_back_10',\n",
       " 'ave_sum_iteminfo_back_13',\n",
       " 'ave_sum_iteminfo_back_16']"
      ]
     },
     "execution_count": 18,
     "metadata": {},
     "output_type": "execute_result"
    }
   ],
   "source": [
    "x_train[0].columns.tolist()"
   ]
  },
  {
   "cell_type": "code",
   "execution_count": 19,
   "metadata": {},
   "outputs": [],
   "source": [
    "def feat_selection(x_train,x_test,y_train,y_test):\n",
    "    FEATS=[\n",
    "     'first_sale_date_block',\n",
    "     'new_item',\n",
    "        'date_block_num',\n",
    "#     'city',\n",
    "#     'item_type',\n",
    "#     'item_info',\n",
    "     'prop_median_item_price',\n",
    "     'sum_item_sales_back_1',\n",
    "     'sum_shop_sales_back_1',\n",
    "     'item_cnt_month_back_1',\n",
    "     'sum_item_cat_sales_back_1',\n",
    "     'sum_city_back_1',\n",
    "     'sum_itemtype_back_1',\n",
    "     'sum_iteminfo_back_1',\n",
    "        \n",
    "     'sum_item_sales_back_2',\n",
    "     'sum_shop_sales_back_2',\n",
    "     'item_cnt_month_back_2',\n",
    "     'sum_item_cat_sales_back_2',\n",
    "     'sum_city_back_2',\n",
    "     'sum_itemtype_back_2',\n",
    "     'sum_iteminfo_back_2',\n",
    "        \n",
    "     'sum_item_sales_back_3',\n",
    "     'sum_shop_sales_back_3',\n",
    "     'item_cnt_month_back_3',\n",
    "     'sum_item_cat_sales_back_3',\n",
    "     'sum_city_back_3',\n",
    "     'sum_itemtype_back_3',\n",
    "     'sum_iteminfo_back_3',\n",
    "        \n",
    "     'sum_item_sales_back_4',\n",
    "     'sum_shop_sales_back_4',\n",
    "     'item_cnt_month_back_4',\n",
    "     'sum_item_cat_sales_back_4',\n",
    "     'sum_city_back_4',\n",
    "     'sum_itemtype_back_4',\n",
    "     'sum_iteminfo_back_4',\n",
    "        \n",
    "     'sum_item_sales_back_5',\n",
    "     'sum_shop_sales_back_5',\n",
    "     'item_cnt_month_back_5',\n",
    "     'sum_item_cat_sales_back_5',\n",
    "     'sum_city_back_5',\n",
    "     'sum_itemtype_back_5',\n",
    "     'sum_iteminfo_back_5',\n",
    "        \n",
    "     'sum_item_sales_back_6',\n",
    "     'sum_shop_sales_back_6',\n",
    "     'item_cnt_month_back_6',\n",
    "     'sum_item_cat_sales_back_6',\n",
    "     'sum_city_back_6',\n",
    "     'sum_itemtype_back_6',\n",
    "     'sum_iteminfo_back_6',\n",
    "        \n",
    "     'sum_item_sales_back_7',\n",
    "     'sum_shop_sales_back_7',\n",
    "     'item_cnt_month_back_7',\n",
    "     'sum_item_cat_sales_back_7',\n",
    "     'sum_city_back_7',\n",
    "     'sum_itemtype_back_7',\n",
    "     'sum_iteminfo_back_7',\n",
    "       \n",
    "     'sum_item_sales_back_8',\n",
    "     'sum_shop_sales_back_8',\n",
    "     'item_cnt_month_back_8',\n",
    "     'sum_item_cat_sales_back_8',\n",
    "     'sum_city_back_8',\n",
    "     'sum_itemtype_back_8',\n",
    "     'sum_iteminfo_back_8',\n",
    "       \n",
    "     'sum_item_sales_back_9',\n",
    "     'sum_shop_sales_back_9',\n",
    "     'item_cnt_month_back_9',\n",
    "     'sum_item_cat_sales_back_9',\n",
    "     'sum_city_back_9',\n",
    "     'sum_itemtype_back_9',\n",
    "     'sum_iteminfo_back_9',\n",
    "       \n",
    "     'sum_item_sales_back_10',\n",
    "     'sum_shop_sales_back_10',\n",
    "     'item_cnt_month_back_10',\n",
    "     'sum_item_cat_sales_back_10',\n",
    "     'sum_city_back_10',\n",
    "     'sum_itemtype_back_10',\n",
    "     'sum_iteminfo_back_10',\n",
    "    \n",
    "     'sum_item_sales_back_11',\n",
    "     'sum_shop_sales_back_11',\n",
    "     'item_cnt_month_back_11',\n",
    "     'sum_item_cat_sales_back_11',\n",
    "     'sum_city_back_11',\n",
    "     'sum_itemtype_back_11',\n",
    "     'sum_iteminfo_back_11',\n",
    "\n",
    "     'sum_item_sales_back_12',\n",
    "     'sum_shop_sales_back_12',\n",
    "     'item_cnt_month_back_12',\n",
    "     'sum_item_cat_sales_back_12',\n",
    "     'sum_city_back_12',\n",
    "     'sum_itemtype_back_12',\n",
    "     'sum_iteminfo_back_12',\n",
    "     \n",
    "     'sum_item_sales_back_13',\n",
    "     'sum_shop_sales_back_13',\n",
    "     'item_cnt_month_back_13',\n",
    "     'sum_item_cat_sales_back_13',\n",
    "     'sum_city_back_13',\n",
    "     'sum_itemtype_back_13',\n",
    "     'sum_iteminfo_back_13',\n",
    "        \n",
    "     'sum_item_sales_back_14',\n",
    "     'sum_shop_sales_back_14',\n",
    "     'item_cnt_month_back_14',\n",
    "     'sum_item_cat_sales_back_14',\n",
    "     'sum_city_back_14',\n",
    "     'sum_itemtype_back_14',\n",
    "     'sum_iteminfo_back_14',\n",
    "        \n",
    "     'sum_item_sales_back_15',\n",
    "     'sum_shop_sales_back_15',\n",
    "     'item_cnt_month_back_15',\n",
    "     'sum_item_cat_sales_back_15',\n",
    "     'sum_city_back_15',\n",
    "     'sum_itemtype_back_15',\n",
    "     'sum_iteminfo_back_15',\n",
    "        \n",
    "     'sum_item_sales_back_16',\n",
    "     'sum_shop_sales_back_16',\n",
    "     'item_cnt_month_back_16',\n",
    "     'sum_item_cat_sales_back_16',\n",
    "     'sum_city_back_16',\n",
    "     'sum_itemtype_back_16',\n",
    "     'sum_iteminfo_back_16',\n",
    "     \n",
    "     'sum_item_sales_back_17',\n",
    "     'sum_shop_sales_back_17',\n",
    "     'item_cnt_month_back_17',\n",
    "     'sum_item_cat_sales_back_17',\n",
    "     'sum_city_back_17',\n",
    "     'sum_itemtype_back_17',\n",
    "     'sum_iteminfo_back_17',\n",
    "\n",
    "     'sum_item_sales_back_18',\n",
    "     'sum_shop_sales_back_18',\n",
    "     'item_cnt_month_back_18',\n",
    "     'sum_item_cat_sales_back_18',\n",
    "     'sum_city_back_18',\n",
    "     'sum_itemtype_back_18',\n",
    "     'sum_iteminfo_back_18',        \n",
    "        \n",
    "        \n",
    "        \n",
    "     'numdays',\n",
    "     'month_sales',\n",
    "     'mean_prevmonth_item_price',\n",
    "     'std_prevmonth_item_price',\n",
    "     'median_prevmonth_item_price',\n",
    "     'median_prevmonth_shop_item_price'\n",
    "    ]\n",
    "    \n",
    "    x_train = [d[FEATS] for d in x_train]\n",
    "    x_test =  [d[FEATS] for d in x_test]\n",
    "    return [x_train,x_test,y_train,y_test]"
   ]
  },
  {
   "cell_type": "markdown",
   "metadata": {},
   "source": []
  },
  {
   "cell_type": "code",
   "execution_count": 20,
   "metadata": {},
   "outputs": [
    {
     "ename": "KeyError",
     "evalue": "\"['sum_item_sales_back_1' 'sum_shop_sales_back_1' 'item_cnt_month_back_1'\\n 'sum_item_cat_sales_back_1' 'sum_city_back_1' 'sum_itemtype_back_1'\\n 'sum_iteminfo_back_1' 'sum_item_sales_back_2' 'sum_shop_sales_back_2'\\n 'item_cnt_month_back_2' 'sum_item_cat_sales_back_2' 'sum_city_back_2'\\n 'sum_itemtype_back_2' 'sum_iteminfo_back_2' 'sum_item_sales_back_3'\\n 'sum_shop_sales_back_3' 'item_cnt_month_back_3'\\n 'sum_item_cat_sales_back_3' 'sum_city_back_3' 'sum_itemtype_back_3'\\n 'sum_iteminfo_back_3' 'sum_item_sales_back_4' 'sum_shop_sales_back_4'\\n 'item_cnt_month_back_4' 'sum_item_cat_sales_back_4' 'sum_city_back_4'\\n 'sum_itemtype_back_4' 'sum_iteminfo_back_4' 'sum_item_sales_back_5'\\n 'sum_shop_sales_back_5' 'item_cnt_month_back_5'\\n 'sum_item_cat_sales_back_5' 'sum_city_back_5' 'sum_itemtype_back_5'\\n 'sum_iteminfo_back_5' 'sum_item_sales_back_6' 'sum_shop_sales_back_6'\\n 'item_cnt_month_back_6' 'sum_item_cat_sales_back_6' 'sum_city_back_6'\\n 'sum_itemtype_back_6' 'sum_iteminfo_back_6' 'sum_item_sales_back_7'\\n 'sum_shop_sales_back_7' 'item_cnt_month_back_7'\\n 'sum_item_cat_sales_back_7' 'sum_city_back_7' 'sum_itemtype_back_7'\\n 'sum_iteminfo_back_7' 'sum_item_sales_back_8' 'sum_shop_sales_back_8'\\n 'item_cnt_month_back_8' 'sum_item_cat_sales_back_8' 'sum_city_back_8'\\n 'sum_itemtype_back_8' 'sum_iteminfo_back_8' 'sum_item_sales_back_9'\\n 'sum_shop_sales_back_9' 'item_cnt_month_back_9'\\n 'sum_item_cat_sales_back_9' 'sum_city_back_9' 'sum_itemtype_back_9'\\n 'sum_iteminfo_back_9' 'sum_item_sales_back_10' 'sum_shop_sales_back_10'\\n 'item_cnt_month_back_10' 'sum_item_cat_sales_back_10' 'sum_city_back_10'\\n 'sum_itemtype_back_10' 'sum_iteminfo_back_10' 'sum_item_sales_back_11'\\n 'sum_shop_sales_back_11' 'item_cnt_month_back_11'\\n 'sum_item_cat_sales_back_11' 'sum_city_back_11' 'sum_itemtype_back_11'\\n 'sum_iteminfo_back_11' 'sum_item_sales_back_12' 'sum_shop_sales_back_12'\\n 'item_cnt_month_back_12' 'sum_item_cat_sales_back_12' 'sum_city_back_12'\\n 'sum_itemtype_back_12' 'sum_iteminfo_back_12' 'sum_item_sales_back_13'\\n 'sum_shop_sales_back_13' 'item_cnt_month_back_13'\\n 'sum_item_cat_sales_back_13' 'sum_city_back_13' 'sum_itemtype_back_13'\\n 'sum_iteminfo_back_13' 'sum_item_sales_back_14' 'sum_shop_sales_back_14'\\n 'item_cnt_month_back_14' 'sum_item_cat_sales_back_14' 'sum_city_back_14'\\n 'sum_itemtype_back_14' 'sum_iteminfo_back_14' 'sum_item_sales_back_15'\\n 'sum_shop_sales_back_15' 'item_cnt_month_back_15'\\n 'sum_item_cat_sales_back_15' 'sum_city_back_15' 'sum_itemtype_back_15'\\n 'sum_iteminfo_back_15' 'sum_item_sales_back_16' 'sum_shop_sales_back_16'\\n 'item_cnt_month_back_16' 'sum_item_cat_sales_back_16' 'sum_city_back_16'\\n 'sum_itemtype_back_16' 'sum_iteminfo_back_16' 'sum_item_sales_back_17'\\n 'sum_shop_sales_back_17' 'item_cnt_month_back_17'\\n 'sum_item_cat_sales_back_17' 'sum_city_back_17' 'sum_itemtype_back_17'\\n 'sum_iteminfo_back_17' 'sum_item_sales_back_18' 'sum_shop_sales_back_18'\\n 'item_cnt_month_back_18' 'sum_item_cat_sales_back_18' 'sum_city_back_18'\\n 'sum_itemtype_back_18' 'sum_iteminfo_back_18'] not in index\"",
     "output_type": "error",
     "traceback": [
      "\u001b[1;31m---------------------------------------------------------------------------\u001b[0m",
      "\u001b[1;31mKeyError\u001b[0m                                  Traceback (most recent call last)",
      "\u001b[1;32m<ipython-input-20-e44c629aa46b>\u001b[0m in \u001b[0;36m<module>\u001b[1;34m\u001b[0m\n\u001b[1;32m----> 1\u001b[1;33m \u001b[0mx_train\u001b[0m \u001b[1;33m,\u001b[0m \u001b[0mx_test\u001b[0m \u001b[1;33m,\u001b[0m \u001b[0my_train\u001b[0m \u001b[1;33m,\u001b[0m \u001b[0my_test\u001b[0m \u001b[1;33m=\u001b[0m \u001b[0mfeat_selection\u001b[0m\u001b[1;33m(\u001b[0m\u001b[0mx_train\u001b[0m\u001b[1;33m,\u001b[0m\u001b[0mx_test\u001b[0m\u001b[1;33m,\u001b[0m\u001b[0my_train\u001b[0m\u001b[1;33m,\u001b[0m\u001b[0my_test\u001b[0m\u001b[1;33m)\u001b[0m\u001b[1;33m\u001b[0m\u001b[1;33m\u001b[0m\u001b[0m\n\u001b[0m",
      "\u001b[1;32m<ipython-input-19-ec8254efe64e>\u001b[0m in \u001b[0;36mfeat_selection\u001b[1;34m(x_train, x_test, y_train, y_test)\u001b[0m\n\u001b[0;32m    162\u001b[0m     ]\n\u001b[0;32m    163\u001b[0m \u001b[1;33m\u001b[0m\u001b[0m\n\u001b[1;32m--> 164\u001b[1;33m     \u001b[0mx_train\u001b[0m \u001b[1;33m=\u001b[0m \u001b[1;33m[\u001b[0m\u001b[0md\u001b[0m\u001b[1;33m[\u001b[0m\u001b[0mFEATS\u001b[0m\u001b[1;33m]\u001b[0m \u001b[1;32mfor\u001b[0m \u001b[0md\u001b[0m \u001b[1;32min\u001b[0m \u001b[0mx_train\u001b[0m\u001b[1;33m]\u001b[0m\u001b[1;33m\u001b[0m\u001b[1;33m\u001b[0m\u001b[0m\n\u001b[0m\u001b[0;32m    165\u001b[0m     \u001b[0mx_test\u001b[0m \u001b[1;33m=\u001b[0m  \u001b[1;33m[\u001b[0m\u001b[0md\u001b[0m\u001b[1;33m[\u001b[0m\u001b[0mFEATS\u001b[0m\u001b[1;33m]\u001b[0m \u001b[1;32mfor\u001b[0m \u001b[0md\u001b[0m \u001b[1;32min\u001b[0m \u001b[0mx_test\u001b[0m\u001b[1;33m]\u001b[0m\u001b[1;33m\u001b[0m\u001b[1;33m\u001b[0m\u001b[0m\n\u001b[0;32m    166\u001b[0m     \u001b[1;32mreturn\u001b[0m \u001b[1;33m[\u001b[0m\u001b[0mx_train\u001b[0m\u001b[1;33m,\u001b[0m\u001b[0mx_test\u001b[0m\u001b[1;33m,\u001b[0m\u001b[0my_train\u001b[0m\u001b[1;33m,\u001b[0m\u001b[0my_test\u001b[0m\u001b[1;33m]\u001b[0m\u001b[1;33m\u001b[0m\u001b[1;33m\u001b[0m\u001b[0m\n",
      "\u001b[1;32m<ipython-input-19-ec8254efe64e>\u001b[0m in \u001b[0;36m<listcomp>\u001b[1;34m(.0)\u001b[0m\n\u001b[0;32m    162\u001b[0m     ]\n\u001b[0;32m    163\u001b[0m \u001b[1;33m\u001b[0m\u001b[0m\n\u001b[1;32m--> 164\u001b[1;33m     \u001b[0mx_train\u001b[0m \u001b[1;33m=\u001b[0m \u001b[1;33m[\u001b[0m\u001b[0md\u001b[0m\u001b[1;33m[\u001b[0m\u001b[0mFEATS\u001b[0m\u001b[1;33m]\u001b[0m \u001b[1;32mfor\u001b[0m \u001b[0md\u001b[0m \u001b[1;32min\u001b[0m \u001b[0mx_train\u001b[0m\u001b[1;33m]\u001b[0m\u001b[1;33m\u001b[0m\u001b[1;33m\u001b[0m\u001b[0m\n\u001b[0m\u001b[0;32m    165\u001b[0m     \u001b[0mx_test\u001b[0m \u001b[1;33m=\u001b[0m  \u001b[1;33m[\u001b[0m\u001b[0md\u001b[0m\u001b[1;33m[\u001b[0m\u001b[0mFEATS\u001b[0m\u001b[1;33m]\u001b[0m \u001b[1;32mfor\u001b[0m \u001b[0md\u001b[0m \u001b[1;32min\u001b[0m \u001b[0mx_test\u001b[0m\u001b[1;33m]\u001b[0m\u001b[1;33m\u001b[0m\u001b[1;33m\u001b[0m\u001b[0m\n\u001b[0;32m    166\u001b[0m     \u001b[1;32mreturn\u001b[0m \u001b[1;33m[\u001b[0m\u001b[0mx_train\u001b[0m\u001b[1;33m,\u001b[0m\u001b[0mx_test\u001b[0m\u001b[1;33m,\u001b[0m\u001b[0my_train\u001b[0m\u001b[1;33m,\u001b[0m\u001b[0my_test\u001b[0m\u001b[1;33m]\u001b[0m\u001b[1;33m\u001b[0m\u001b[1;33m\u001b[0m\u001b[0m\n",
      "\u001b[1;32mC:\\ProgramData\\Anaconda3\\lib\\site-packages\\pandas\\core\\frame.py\u001b[0m in \u001b[0;36m__getitem__\u001b[1;34m(self, key)\u001b[0m\n\u001b[0;32m   2680\u001b[0m         \u001b[1;32mif\u001b[0m \u001b[0misinstance\u001b[0m\u001b[1;33m(\u001b[0m\u001b[0mkey\u001b[0m\u001b[1;33m,\u001b[0m \u001b[1;33m(\u001b[0m\u001b[0mSeries\u001b[0m\u001b[1;33m,\u001b[0m \u001b[0mnp\u001b[0m\u001b[1;33m.\u001b[0m\u001b[0mndarray\u001b[0m\u001b[1;33m,\u001b[0m \u001b[0mIndex\u001b[0m\u001b[1;33m,\u001b[0m \u001b[0mlist\u001b[0m\u001b[1;33m)\u001b[0m\u001b[1;33m)\u001b[0m\u001b[1;33m:\u001b[0m\u001b[1;33m\u001b[0m\u001b[1;33m\u001b[0m\u001b[0m\n\u001b[0;32m   2681\u001b[0m             \u001b[1;31m# either boolean or fancy integer index\u001b[0m\u001b[1;33m\u001b[0m\u001b[1;33m\u001b[0m\u001b[1;33m\u001b[0m\u001b[0m\n\u001b[1;32m-> 2682\u001b[1;33m             \u001b[1;32mreturn\u001b[0m \u001b[0mself\u001b[0m\u001b[1;33m.\u001b[0m\u001b[0m_getitem_array\u001b[0m\u001b[1;33m(\u001b[0m\u001b[0mkey\u001b[0m\u001b[1;33m)\u001b[0m\u001b[1;33m\u001b[0m\u001b[1;33m\u001b[0m\u001b[0m\n\u001b[0m\u001b[0;32m   2683\u001b[0m         \u001b[1;32melif\u001b[0m \u001b[0misinstance\u001b[0m\u001b[1;33m(\u001b[0m\u001b[0mkey\u001b[0m\u001b[1;33m,\u001b[0m \u001b[0mDataFrame\u001b[0m\u001b[1;33m)\u001b[0m\u001b[1;33m:\u001b[0m\u001b[1;33m\u001b[0m\u001b[1;33m\u001b[0m\u001b[0m\n\u001b[0;32m   2684\u001b[0m             \u001b[1;32mreturn\u001b[0m \u001b[0mself\u001b[0m\u001b[1;33m.\u001b[0m\u001b[0m_getitem_frame\u001b[0m\u001b[1;33m(\u001b[0m\u001b[0mkey\u001b[0m\u001b[1;33m)\u001b[0m\u001b[1;33m\u001b[0m\u001b[1;33m\u001b[0m\u001b[0m\n",
      "\u001b[1;32mC:\\ProgramData\\Anaconda3\\lib\\site-packages\\pandas\\core\\frame.py\u001b[0m in \u001b[0;36m_getitem_array\u001b[1;34m(self, key)\u001b[0m\n\u001b[0;32m   2724\u001b[0m             \u001b[1;32mreturn\u001b[0m \u001b[0mself\u001b[0m\u001b[1;33m.\u001b[0m\u001b[0m_take\u001b[0m\u001b[1;33m(\u001b[0m\u001b[0mindexer\u001b[0m\u001b[1;33m,\u001b[0m \u001b[0maxis\u001b[0m\u001b[1;33m=\u001b[0m\u001b[1;36m0\u001b[0m\u001b[1;33m)\u001b[0m\u001b[1;33m\u001b[0m\u001b[1;33m\u001b[0m\u001b[0m\n\u001b[0;32m   2725\u001b[0m         \u001b[1;32melse\u001b[0m\u001b[1;33m:\u001b[0m\u001b[1;33m\u001b[0m\u001b[1;33m\u001b[0m\u001b[0m\n\u001b[1;32m-> 2726\u001b[1;33m             \u001b[0mindexer\u001b[0m \u001b[1;33m=\u001b[0m \u001b[0mself\u001b[0m\u001b[1;33m.\u001b[0m\u001b[0mloc\u001b[0m\u001b[1;33m.\u001b[0m\u001b[0m_convert_to_indexer\u001b[0m\u001b[1;33m(\u001b[0m\u001b[0mkey\u001b[0m\u001b[1;33m,\u001b[0m \u001b[0maxis\u001b[0m\u001b[1;33m=\u001b[0m\u001b[1;36m1\u001b[0m\u001b[1;33m)\u001b[0m\u001b[1;33m\u001b[0m\u001b[1;33m\u001b[0m\u001b[0m\n\u001b[0m\u001b[0;32m   2727\u001b[0m             \u001b[1;32mreturn\u001b[0m \u001b[0mself\u001b[0m\u001b[1;33m.\u001b[0m\u001b[0m_take\u001b[0m\u001b[1;33m(\u001b[0m\u001b[0mindexer\u001b[0m\u001b[1;33m,\u001b[0m \u001b[0maxis\u001b[0m\u001b[1;33m=\u001b[0m\u001b[1;36m1\u001b[0m\u001b[1;33m)\u001b[0m\u001b[1;33m\u001b[0m\u001b[1;33m\u001b[0m\u001b[0m\n\u001b[0;32m   2728\u001b[0m \u001b[1;33m\u001b[0m\u001b[0m\n",
      "\u001b[1;32mC:\\ProgramData\\Anaconda3\\lib\\site-packages\\pandas\\core\\indexing.py\u001b[0m in \u001b[0;36m_convert_to_indexer\u001b[1;34m(self, obj, axis, is_setter)\u001b[0m\n\u001b[0;32m   1325\u001b[0m                 \u001b[1;32mif\u001b[0m \u001b[0mmask\u001b[0m\u001b[1;33m.\u001b[0m\u001b[0many\u001b[0m\u001b[1;33m(\u001b[0m\u001b[1;33m)\u001b[0m\u001b[1;33m:\u001b[0m\u001b[1;33m\u001b[0m\u001b[1;33m\u001b[0m\u001b[0m\n\u001b[0;32m   1326\u001b[0m                     raise KeyError('{mask} not in index'\n\u001b[1;32m-> 1327\u001b[1;33m                                    .format(mask=objarr[mask]))\n\u001b[0m\u001b[0;32m   1328\u001b[0m \u001b[1;33m\u001b[0m\u001b[0m\n\u001b[0;32m   1329\u001b[0m                 \u001b[1;32mreturn\u001b[0m \u001b[0mcom\u001b[0m\u001b[1;33m.\u001b[0m\u001b[0m_values_from_object\u001b[0m\u001b[1;33m(\u001b[0m\u001b[0mindexer\u001b[0m\u001b[1;33m)\u001b[0m\u001b[1;33m\u001b[0m\u001b[1;33m\u001b[0m\u001b[0m\n",
      "\u001b[1;31mKeyError\u001b[0m: \"['sum_item_sales_back_1' 'sum_shop_sales_back_1' 'item_cnt_month_back_1'\\n 'sum_item_cat_sales_back_1' 'sum_city_back_1' 'sum_itemtype_back_1'\\n 'sum_iteminfo_back_1' 'sum_item_sales_back_2' 'sum_shop_sales_back_2'\\n 'item_cnt_month_back_2' 'sum_item_cat_sales_back_2' 'sum_city_back_2'\\n 'sum_itemtype_back_2' 'sum_iteminfo_back_2' 'sum_item_sales_back_3'\\n 'sum_shop_sales_back_3' 'item_cnt_month_back_3'\\n 'sum_item_cat_sales_back_3' 'sum_city_back_3' 'sum_itemtype_back_3'\\n 'sum_iteminfo_back_3' 'sum_item_sales_back_4' 'sum_shop_sales_back_4'\\n 'item_cnt_month_back_4' 'sum_item_cat_sales_back_4' 'sum_city_back_4'\\n 'sum_itemtype_back_4' 'sum_iteminfo_back_4' 'sum_item_sales_back_5'\\n 'sum_shop_sales_back_5' 'item_cnt_month_back_5'\\n 'sum_item_cat_sales_back_5' 'sum_city_back_5' 'sum_itemtype_back_5'\\n 'sum_iteminfo_back_5' 'sum_item_sales_back_6' 'sum_shop_sales_back_6'\\n 'item_cnt_month_back_6' 'sum_item_cat_sales_back_6' 'sum_city_back_6'\\n 'sum_itemtype_back_6' 'sum_iteminfo_back_6' 'sum_item_sales_back_7'\\n 'sum_shop_sales_back_7' 'item_cnt_month_back_7'\\n 'sum_item_cat_sales_back_7' 'sum_city_back_7' 'sum_itemtype_back_7'\\n 'sum_iteminfo_back_7' 'sum_item_sales_back_8' 'sum_shop_sales_back_8'\\n 'item_cnt_month_back_8' 'sum_item_cat_sales_back_8' 'sum_city_back_8'\\n 'sum_itemtype_back_8' 'sum_iteminfo_back_8' 'sum_item_sales_back_9'\\n 'sum_shop_sales_back_9' 'item_cnt_month_back_9'\\n 'sum_item_cat_sales_back_9' 'sum_city_back_9' 'sum_itemtype_back_9'\\n 'sum_iteminfo_back_9' 'sum_item_sales_back_10' 'sum_shop_sales_back_10'\\n 'item_cnt_month_back_10' 'sum_item_cat_sales_back_10' 'sum_city_back_10'\\n 'sum_itemtype_back_10' 'sum_iteminfo_back_10' 'sum_item_sales_back_11'\\n 'sum_shop_sales_back_11' 'item_cnt_month_back_11'\\n 'sum_item_cat_sales_back_11' 'sum_city_back_11' 'sum_itemtype_back_11'\\n 'sum_iteminfo_back_11' 'sum_item_sales_back_12' 'sum_shop_sales_back_12'\\n 'item_cnt_month_back_12' 'sum_item_cat_sales_back_12' 'sum_city_back_12'\\n 'sum_itemtype_back_12' 'sum_iteminfo_back_12' 'sum_item_sales_back_13'\\n 'sum_shop_sales_back_13' 'item_cnt_month_back_13'\\n 'sum_item_cat_sales_back_13' 'sum_city_back_13' 'sum_itemtype_back_13'\\n 'sum_iteminfo_back_13' 'sum_item_sales_back_14' 'sum_shop_sales_back_14'\\n 'item_cnt_month_back_14' 'sum_item_cat_sales_back_14' 'sum_city_back_14'\\n 'sum_itemtype_back_14' 'sum_iteminfo_back_14' 'sum_item_sales_back_15'\\n 'sum_shop_sales_back_15' 'item_cnt_month_back_15'\\n 'sum_item_cat_sales_back_15' 'sum_city_back_15' 'sum_itemtype_back_15'\\n 'sum_iteminfo_back_15' 'sum_item_sales_back_16' 'sum_shop_sales_back_16'\\n 'item_cnt_month_back_16' 'sum_item_cat_sales_back_16' 'sum_city_back_16'\\n 'sum_itemtype_back_16' 'sum_iteminfo_back_16' 'sum_item_sales_back_17'\\n 'sum_shop_sales_back_17' 'item_cnt_month_back_17'\\n 'sum_item_cat_sales_back_17' 'sum_city_back_17' 'sum_itemtype_back_17'\\n 'sum_iteminfo_back_17' 'sum_item_sales_back_18' 'sum_shop_sales_back_18'\\n 'item_cnt_month_back_18' 'sum_item_cat_sales_back_18' 'sum_city_back_18'\\n 'sum_itemtype_back_18' 'sum_iteminfo_back_18'] not in index\""
     ]
    }
   ],
   "source": [
    "x_train , x_test , y_train , y_test = feat_selection(x_train,x_test,y_train,y_test)"
   ]
  },
  {
   "cell_type": "code",
   "execution_count": null,
   "metadata": {},
   "outputs": [],
   "source": [
    "feat_list= []\n",
    "feat_list = ['_'+str(x)+'$' for x in range(13,19)]\n",
    "#feat_list = ['iteminfo','item_cat','city','item_sales']\n",
    "feat_list"
   ]
  },
  {
   "cell_type": "code",
   "execution_count": null,
   "metadata": {},
   "outputs": [],
   "source": [
    "def quickdrop(df):\n",
    "    cols_keep = df.columns.tolist()\n",
    "    for feat in feat_list:\n",
    "        cols_keep = [c for c in cols_keep if not re.match('.*'+feat,c)]\n",
    "    return df[cols_keep]"
   ]
  },
  {
   "cell_type": "code",
   "execution_count": null,
   "metadata": {},
   "outputs": [],
   "source": [
    "x_train = list(map(quickdrop,x_train))\n",
    "x_test = list(map(quickdrop,x_test))"
   ]
  },
  {
   "cell_type": "code",
   "execution_count": null,
   "metadata": {},
   "outputs": [],
   "source": [
    "#x_train[0].columns.tolist()"
   ]
  },
  {
   "cell_type": "markdown",
   "metadata": {},
   "source": [
    "# Fitting"
   ]
  },
  {
   "cell_type": "code",
   "execution_count": null,
   "metadata": {},
   "outputs": [],
   "source": [
    "model = xgb.XGBRegressor(\n",
    "    seed=0,\n",
    "    max_depth=4,\n",
    "    learning_rate=0.5,\n",
    "    n_estimators=1000,\n",
    "    objective='reg:linear',\n",
    "    nthread=7,\n",
    "    #min_child_weight=600,\n",
    "    colsample_bytree=0.5,\n",
    "    subsample=0.5\n",
    ")\n",
    "eval_set = [(x_train[0],y_train[0]),(x_test[0],y_test[0])]"
   ]
  },
  {
   "cell_type": "code",
   "execution_count": null,
   "metadata": {},
   "outputs": [],
   "source": [
    "model.fit(\n",
    "    verbose=True,\n",
    "    X=x_train[0],\n",
    "    y=y_train[0],\n",
    "    eval_set=eval_set,\n",
    "    early_stopping_rounds=50\n",
    ")"
   ]
  },
  {
   "cell_type": "code",
   "execution_count": null,
   "metadata": {},
   "outputs": [],
   "source": [
    "print('CUTOFF='+str(CUTOFF))"
   ]
  },
  {
   "cell_type": "code",
   "execution_count": null,
   "metadata": {},
   "outputs": [],
   "source": [
    "deval = model.evals_result()\n",
    "val0 = deval['validation_0']['rmse']\n",
    "val1 = deval['validation_1']['rmse']\n",
    "deval = pd.DataFrame({'val0':val0,'val1':val1})"
   ]
  },
  {
   "cell_type": "code",
   "execution_count": null,
   "metadata": {},
   "outputs": [],
   "source": [
    "time.sleep(0.2)\n",
    "deval.plot()"
   ]
  },
  {
   "cell_type": "markdown",
   "metadata": {},
   "source": [
    "###### ax = xgb.plot_importance(model,height=0.8,)\n",
    "print(ax.figure.set_size_inches(5,10))"
   ]
  },
  {
   "cell_type": "code",
   "execution_count": null,
   "metadata": {},
   "outputs": [],
   "source": [
    "#%env PATH=C:\\Program Files (x86)\\Graphviz2.38\\bin\n",
    "#ax = xgb.plot_tree(model)\n",
    "#ax.figure.set_size_inches(20,20)"
   ]
  },
  {
   "cell_type": "code",
   "execution_count": null,
   "metadata": {},
   "outputs": [],
   "source": [
    "gain = pd.Series(model.get_booster().get_score(importance_type='gain'))\n",
    "gain = gain.sort_values(ascending=True)\n",
    "type(gain)"
   ]
  },
  {
   "cell_type": "code",
   "execution_count": null,
   "metadata": {},
   "outputs": [],
   "source": [
    "ax = gain.plot(kind='barh')\n",
    "ax.figure.set_size_inches(10,20)"
   ]
  },
  {
   "cell_type": "code",
   "execution_count": null,
   "metadata": {},
   "outputs": [],
   "source": [
    "df = x_train[0]\n",
    "df['target'] = y_train[0]\n",
    "df.groupby('new_item').target.mean().plot(kind='bar')"
   ]
  },
  {
   "cell_type": "code",
   "execution_count": null,
   "metadata": {},
   "outputs": [],
   "source": [
    "dft = x_test[0]\n",
    "dft['target'] = y_test[0]\n",
    "dft.groupby('new_item').target.mean().plot(kind='bar')"
   ]
  },
  {
   "cell_type": "code",
   "execution_count": null,
   "metadata": {},
   "outputs": [],
   "source": [
    "#d = pd.DataFrame()\n",
    "d = {}\n",
    "coltypes=[  \n",
    " 'sum_item_sales_back_',\n",
    " 'sum_shop_sales_back_',\n",
    " 'item_cnt_month_back_',\n",
    " 'sum_item_cat_sales_back_',\n",
    " 'sum_item_cat_shop_sales_back_',\n",
    " 'sum_city_back_',\n",
    " 'sum_itemtype_back_',\n",
    " 'sum_iteminfo_back_',\n",
    " 'sum_city_item_back_',\n",
    " 'sum_city_item_cat_back_',\n",
    " 'sum_itemtype_shop_back_',\n",
    " 'sum_itemtype_city_back_']\n",
    "save=[]\n",
    "for ct in coltypes:\n",
    "    save.append(gain.filter(regex=ct))\n",
    "    d[ct] = np.sum(gain.filter(regex=ct))"
   ]
  },
  {
   "cell_type": "code",
   "execution_count": null,
   "metadata": {},
   "outputs": [],
   "source": [
    "sorted(d.items(),key=lambda t: t[1],reverse=True)"
   ]
  },
  {
   "cell_type": "code",
   "execution_count": null,
   "metadata": {},
   "outputs": [],
   "source": [
    "np.sum(save[0])"
   ]
  },
  {
   "cell_type": "code",
   "execution_count": null,
   "metadata": {},
   "outputs": [],
   "source": [
    "len(gain)"
   ]
  },
  {
   "cell_type": "code",
   "execution_count": null,
   "metadata": {},
   "outputs": [],
   "source": [
    "pd.Series(gain)"
   ]
  },
  {
   "cell_type": "markdown",
   "metadata": {},
   "source": [
    "# Retrain model with all data"
   ]
  },
  {
   "cell_type": "markdown",
   "metadata": {},
   "source": [
    "# Write Submission"
   ]
  },
  {
   "cell_type": "code",
   "execution_count": null,
   "metadata": {},
   "outputs": [],
   "source": [
    "#SUB=True"
   ]
  },
  {
   "cell_type": "code",
   "execution_count": null,
   "metadata": {},
   "outputs": [],
   "source": [
    "#retrain on all data\n",
    "#\n",
    "#\n",
    "#\n",
    "#\n",
    "#\n",
    "if SUB:\n",
    "    preds = model.predict(x_test[1])"
   ]
  },
  {
   "cell_type": "code",
   "execution_count": null,
   "metadata": {},
   "outputs": [],
   "source": [
    "if SUB:\n",
    "    preds"
   ]
  },
  {
   "cell_type": "code",
   "execution_count": null,
   "metadata": {},
   "outputs": [],
   "source": [
    "if SUB:\n",
    "    #sample_sub = pd.read_csv('../original_data/sample_submission.csv.gz')\n",
    "    test0 = pd.read_csv('../original_data/test.csv.gz')"
   ]
  },
  {
   "cell_type": "code",
   "execution_count": null,
   "metadata": {},
   "outputs": [],
   "source": [
    "if SUB:\n",
    "    submission = x_test_1_saved.copy()\n",
    "    submission['item_cnt_month'] = preds\n",
    "    submission = test0.merge(submission).drop(['shop_id','item_id'],axis=1)"
   ]
  },
  {
   "cell_type": "code",
   "execution_count": null,
   "metadata": {},
   "outputs": [],
   "source": [
    "if SUB:\n",
    "    submission.to_csv('../gen_data/model3_basic_sub.csv',index=False)\n",
    "    submission.head()"
   ]
  },
  {
   "cell_type": "code",
   "execution_count": null,
   "metadata": {},
   "outputs": [],
   "source": [
    "if SUB:\n",
    "    submission_adjusted = submission\n",
    "    submission_adjusted['item_cnt_month'] = 0.2839853/submission_adjusted['item_cnt_month'].mean()*submission_adjusted['item_cnt_month']\n",
    "    submission.to_csv('../gen_data/model3_basic_sub_adjusted.csv',index=False)\n",
    "    submission_adjusted.head()"
   ]
  }
 ],
 "metadata": {
  "kernelspec": {
   "display_name": "Python 3",
   "language": "python",
   "name": "python3"
  },
  "language_info": {
   "codemirror_mode": {
    "name": "ipython",
    "version": 3
   },
   "file_extension": ".py",
   "mimetype": "text/x-python",
   "name": "python",
   "nbconvert_exporter": "python",
   "pygments_lexer": "ipython3",
   "version": "3.7.1"
  }
 },
 "nbformat": 4,
 "nbformat_minor": 2
}
