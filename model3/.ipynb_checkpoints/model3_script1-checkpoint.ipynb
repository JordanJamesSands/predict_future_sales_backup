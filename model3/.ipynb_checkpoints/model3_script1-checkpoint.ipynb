{
 "cells": [
  {
   "cell_type": "markdown",
   "metadata": {},
   "source": [
    "## Load Dependencies"
   ]
  },
  {
   "cell_type": "code",
   "execution_count": 1,
   "metadata": {},
   "outputs": [],
   "source": [
    "import pandas as pd\n",
    "import numpy as np \n",
    "import pickle\n",
    "import xgboost as xgb\n",
    "import time\n",
    "import graphviz\n",
    "import matplotlib as plt\n",
    "import re\n",
    "import datetime"
   ]
  },
  {
   "cell_type": "markdown",
   "metadata": {},
   "source": [
    "## Set Global Variables"
   ]
  },
  {
   "cell_type": "code",
   "execution_count": 2,
   "metadata": {},
   "outputs": [],
   "source": [
    "START_NOTEBOOK = time.time()\n",
    "SUB=False\n",
    "AVE= False\n",
    "NMF_DIM = 40"
   ]
  },
  {
   "cell_type": "markdown",
   "metadata": {},
   "source": [
    "## Load Data"
   ]
  },
  {
   "cell_type": "code",
   "execution_count": 3,
   "metadata": {},
   "outputs": [],
   "source": [
    "x_train , x_test , y_train , y_test = pickle.load(open('../saved_datasets/19-3-19,pipeline_A_reduced_frommaster,dateback=18/xtrain_xtest_ytrain_ytest.pickle','rb'))"
   ]
  },
  {
   "cell_type": "markdown",
   "metadata": {},
   "source": [
    "## Preprocessing"
   ]
  },
  {
   "cell_type": "markdown",
   "metadata": {},
   "source": [
    "### Try averaging some features"
   ]
  },
  {
   "cell_type": "code",
   "execution_count": 4,
   "metadata": {},
   "outputs": [],
   "source": [
    "def ave_feats(df):\n",
    "    feats = [     \n",
    "     'sum_item_sales_back_',\n",
    "     'sum_shop_sales_back_',\n",
    "     'item_cnt_month_back_',\n",
    "     'sum_item_cat_sales_back_',\n",
    "     'sum_city_back_',\n",
    "     'sum_itemtype_back_',\n",
    "     'sum_iteminfo_back_'\n",
    "            ]\n",
    "    df = df.copy()\n",
    "    for feat in feats:\n",
    "        print('averaging on '+feat+'...')\n",
    "        for i in np.arange(1,18,3):\n",
    "            df['ave_'+feat+str(i)] = (df[feat+str(i)]+df[feat+str(i+1)]+df[feat+str(i+2)])/3\n",
    "        reduced_cols = [a for a in df.columns.tolist() if not re.match('^'+feat,a)]\n",
    "        df = df[reduced_cols]\n",
    "    return df"
   ]
  },
  {
   "cell_type": "code",
   "execution_count": 5,
   "metadata": {},
   "outputs": [],
   "source": [
    "if AVE:\n",
    "    x_train = list(map(ave_feats,x_train))\n",
    "    x_test = list(map(ave_feats,x_test))"
   ]
  },
  {
   "cell_type": "markdown",
   "metadata": {},
   "source": [
    "### Try culling early data"
   ]
  },
  {
   "cell_type": "code",
   "execution_count": 6,
   "metadata": {},
   "outputs": [],
   "source": [
    "x_train_saved = x_train\n",
    "y_train_saved = y_train\n",
    "x_train = []\n",
    "y_train = []\n",
    "CUTOFF = 25\n",
    "for xtrain_el , ytrain_el in zip(x_train_saved,y_train_saved):\n",
    "    x_train.append(xtrain_el[xtrain_el.date_block_num>CUTOFF])\n",
    "    y_train.append(ytrain_el[xtrain_el.date_block_num>CUTOFF])"
   ]
  },
  {
   "cell_type": "markdown",
   "metadata": {},
   "source": [
    "### Other Preproc"
   ]
  },
  {
   "cell_type": "code",
   "execution_count": 7,
   "metadata": {},
   "outputs": [],
   "source": [
    "def preproc_model3(x_train,x_test,y_train,y_test):\n",
    "\n",
    "    x_train = [d.drop(['shop_id','item_id','item_category_id','city','item_type','item_info','month'],axis=1) for d in x_train]\n",
    "    x_test =  [d.drop(['shop_id','item_id','item_category_id','city','item_type','item_info','month'],axis=1) for d in x_test]\n",
    "    y_train = [d.clip(0,20) for d in y_train]\n",
    "    y_test =  [d.clip(0,20) for d in y_test]\n",
    "    return [x_train,x_test,y_train,y_test]"
   ]
  },
  {
   "cell_type": "code",
   "execution_count": 8,
   "metadata": {},
   "outputs": [],
   "source": [
    "x_train , x_test , y_train , y_test = preproc_model3(x_train,x_test,y_train,y_test)"
   ]
  },
  {
   "cell_type": "markdown",
   "metadata": {},
   "source": [
    "# Feature Selection"
   ]
  },
  {
   "cell_type": "code",
   "execution_count": 9,
   "metadata": {},
   "outputs": [],
   "source": [
    "#x_train[0].columns.tolist()"
   ]
  },
  {
   "cell_type": "code",
   "execution_count": 10,
   "metadata": {},
   "outputs": [
    {
     "data": {
      "text/plain": [
       "[]"
      ]
     },
     "execution_count": 10,
     "metadata": {},
     "output_type": "execute_result"
    }
   ],
   "source": [
    "feat_list= []\n",
    "#feat_list = ['_'+str(x)+'$' for x in range(7,19)] + []\n",
    "#feat_list = ['iteminfo','item_cat','city','item_sales']\n",
    "feat_list"
   ]
  },
  {
   "cell_type": "code",
   "execution_count": 11,
   "metadata": {},
   "outputs": [],
   "source": [
    "def quickdrop(df):\n",
    "    cols_keep = df.columns.tolist()\n",
    "    for feat in feat_list:\n",
    "        cols_keep = [c for c in cols_keep if not re.match('.*'+feat,c)]\n",
    "    return df[cols_keep]"
   ]
  },
  {
   "cell_type": "code",
   "execution_count": 12,
   "metadata": {},
   "outputs": [],
   "source": [
    "x_train = list(map(quickdrop,x_train))\n",
    "x_test = list(map(quickdrop,x_test))"
   ]
  },
  {
   "cell_type": "code",
   "execution_count": 13,
   "metadata": {},
   "outputs": [],
   "source": [
    "#x_train[0].columns.tolist()"
   ]
  },
  {
   "cell_type": "markdown",
   "metadata": {},
   "source": [
    "### Select Validation/Test"
   ]
  },
  {
   "cell_type": "code",
   "execution_count": 14,
   "metadata": {},
   "outputs": [],
   "source": [
    "PHASE='VAL'"
   ]
  },
  {
   "cell_type": "code",
   "execution_count": 15,
   "metadata": {},
   "outputs": [],
   "source": [
    "if PHASE=='VAL':\n",
    "    xtrain = x_train[0]\n",
    "    ytrain = y_train[0]\n",
    "    xtest = x_test[0]\n",
    "    ytest = y_test[0]\n",
    "    eval_set = [(xtrain,ytrain),(xtest,ytest)]\n",
    "elif PHASE=='TEST':\n",
    "    xtrain = x_train[1]\n",
    "    ytrain = y_train[1]\n",
    "    xtest = x_test[1]\n",
    "    ytest = y_test[1]\n",
    "    eval_set = [(xtrain,ytrain)]"
   ]
  },
  {
   "cell_type": "markdown",
   "metadata": {},
   "source": [
    "## Fitting"
   ]
  },
  {
   "cell_type": "code",
   "execution_count": 37,
   "metadata": {},
   "outputs": [],
   "source": [
    "model = xgb.XGBRegressor(\n",
    "    seed=0,\n",
    "    max_depth=2,\n",
    "    learning_rate=0.5,\n",
    "    n_estimators=1000,\n",
    "#    n_estimators=59,\n",
    "    objective='reg:linear',\n",
    "    nthread=7,\n",
    "#    min_child_weight=100,\n",
    "    colsample_bytree=0.8,\n",
    "    subsample=0.8\n",
    ")\n"
   ]
  },
  {
   "cell_type": "code",
   "execution_count": 39,
   "metadata": {},
   "outputs": [
    {
     "name": "stdout",
     "output_type": "stream",
     "text": [
      "[0]\tvalidation_0-rmse:0.960849\tvalidation_1-rmse:0.981518\n",
      "Multiple eval metrics have been passed: 'validation_1-rmse' will be used for early stopping.\n",
      "\n",
      "Will train until validation_1-rmse hasn't improved in 50 rounds.\n",
      "[1]\tvalidation_0-rmse:0.909847\tvalidation_1-rmse:0.939045\n",
      "[2]\tvalidation_0-rmse:0.883979\tvalidation_1-rmse:0.915688\n",
      "[3]\tvalidation_0-rmse:0.871229\tvalidation_1-rmse:0.904775\n",
      "[4]\tvalidation_0-rmse:0.86299\tvalidation_1-rmse:0.899525\n",
      "[5]\tvalidation_0-rmse:0.857348\tvalidation_1-rmse:0.896676\n",
      "[6]\tvalidation_0-rmse:0.853255\tvalidation_1-rmse:0.893652\n",
      "[7]\tvalidation_0-rmse:0.850787\tvalidation_1-rmse:0.893004\n",
      "[8]\tvalidation_0-rmse:0.848872\tvalidation_1-rmse:0.891669\n",
      "[9]\tvalidation_0-rmse:0.84721\tvalidation_1-rmse:0.890956\n",
      "[10]\tvalidation_0-rmse:0.845568\tvalidation_1-rmse:0.891518\n",
      "[11]\tvalidation_0-rmse:0.844197\tvalidation_1-rmse:0.891137\n",
      "[12]\tvalidation_0-rmse:0.842925\tvalidation_1-rmse:0.890688\n",
      "[13]\tvalidation_0-rmse:0.841879\tvalidation_1-rmse:0.890311\n",
      "[14]\tvalidation_0-rmse:0.841182\tvalidation_1-rmse:0.890211\n",
      "[15]\tvalidation_0-rmse:0.840534\tvalidation_1-rmse:0.889973\n",
      "[16]\tvalidation_0-rmse:0.83942\tvalidation_1-rmse:0.888814\n",
      "[17]\tvalidation_0-rmse:0.83914\tvalidation_1-rmse:0.888186\n",
      "[18]\tvalidation_0-rmse:0.838489\tvalidation_1-rmse:0.887684\n",
      "[19]\tvalidation_0-rmse:0.837772\tvalidation_1-rmse:0.886615\n",
      "[20]\tvalidation_0-rmse:0.836255\tvalidation_1-rmse:0.885091\n",
      "[21]\tvalidation_0-rmse:0.835424\tvalidation_1-rmse:0.885549\n",
      "[22]\tvalidation_0-rmse:0.834926\tvalidation_1-rmse:0.885282\n",
      "[23]\tvalidation_0-rmse:0.834688\tvalidation_1-rmse:0.887916\n",
      "[24]\tvalidation_0-rmse:0.834338\tvalidation_1-rmse:0.888212\n",
      "[25]\tvalidation_0-rmse:0.834039\tvalidation_1-rmse:0.888028\n",
      "[26]\tvalidation_0-rmse:0.833617\tvalidation_1-rmse:0.887911\n",
      "[27]\tvalidation_0-rmse:0.833135\tvalidation_1-rmse:0.888851\n",
      "[28]\tvalidation_0-rmse:0.832659\tvalidation_1-rmse:0.887847\n",
      "[29]\tvalidation_0-rmse:0.832154\tvalidation_1-rmse:0.887186\n",
      "[30]\tvalidation_0-rmse:0.831396\tvalidation_1-rmse:0.887281\n",
      "[31]\tvalidation_0-rmse:0.830713\tvalidation_1-rmse:0.885819\n",
      "[32]\tvalidation_0-rmse:0.830278\tvalidation_1-rmse:0.88566\n",
      "[33]\tvalidation_0-rmse:0.829998\tvalidation_1-rmse:0.88537\n",
      "[34]\tvalidation_0-rmse:0.829544\tvalidation_1-rmse:0.884682\n",
      "[35]\tvalidation_0-rmse:0.829199\tvalidation_1-rmse:0.88436\n",
      "[36]\tvalidation_0-rmse:0.828495\tvalidation_1-rmse:0.883614\n",
      "[37]\tvalidation_0-rmse:0.828061\tvalidation_1-rmse:0.883426\n",
      "[38]\tvalidation_0-rmse:0.827636\tvalidation_1-rmse:0.882903\n",
      "[39]\tvalidation_0-rmse:0.827205\tvalidation_1-rmse:0.883679\n",
      "[40]\tvalidation_0-rmse:0.826826\tvalidation_1-rmse:0.883241\n",
      "[41]\tvalidation_0-rmse:0.826264\tvalidation_1-rmse:0.883642\n",
      "[42]\tvalidation_0-rmse:0.825816\tvalidation_1-rmse:0.884645\n",
      "[43]\tvalidation_0-rmse:0.82555\tvalidation_1-rmse:0.883914\n",
      "[44]\tvalidation_0-rmse:0.82516\tvalidation_1-rmse:0.883505\n",
      "[45]\tvalidation_0-rmse:0.824979\tvalidation_1-rmse:0.883356\n",
      "[46]\tvalidation_0-rmse:0.824663\tvalidation_1-rmse:0.883092\n",
      "[47]\tvalidation_0-rmse:0.823693\tvalidation_1-rmse:0.883018\n",
      "[48]\tvalidation_0-rmse:0.823383\tvalidation_1-rmse:0.882793\n",
      "[49]\tvalidation_0-rmse:0.82319\tvalidation_1-rmse:0.882759\n",
      "[50]\tvalidation_0-rmse:0.822852\tvalidation_1-rmse:0.882719\n",
      "[51]\tvalidation_0-rmse:0.822329\tvalidation_1-rmse:0.882881\n",
      "[52]\tvalidation_0-rmse:0.822139\tvalidation_1-rmse:0.882864\n",
      "[53]\tvalidation_0-rmse:0.821695\tvalidation_1-rmse:0.882805\n",
      "[54]\tvalidation_0-rmse:0.821425\tvalidation_1-rmse:0.88243\n",
      "[55]\tvalidation_0-rmse:0.821155\tvalidation_1-rmse:0.882204\n",
      "[56]\tvalidation_0-rmse:0.820851\tvalidation_1-rmse:0.882418\n",
      "[57]\tvalidation_0-rmse:0.820594\tvalidation_1-rmse:0.881728\n",
      "[58]\tvalidation_0-rmse:0.820341\tvalidation_1-rmse:0.881194\n",
      "[59]\tvalidation_0-rmse:0.820073\tvalidation_1-rmse:0.881197\n",
      "[60]\tvalidation_0-rmse:0.819975\tvalidation_1-rmse:0.883662\n",
      "[61]\tvalidation_0-rmse:0.819699\tvalidation_1-rmse:0.88365\n",
      "[62]\tvalidation_0-rmse:0.819407\tvalidation_1-rmse:0.88608\n",
      "[63]\tvalidation_0-rmse:0.819052\tvalidation_1-rmse:0.886152\n",
      "[64]\tvalidation_0-rmse:0.81887\tvalidation_1-rmse:0.886573\n",
      "[65]\tvalidation_0-rmse:0.818681\tvalidation_1-rmse:0.886251\n",
      "[66]\tvalidation_0-rmse:0.818617\tvalidation_1-rmse:0.88596\n",
      "[67]\tvalidation_0-rmse:0.818446\tvalidation_1-rmse:0.886291\n",
      "[68]\tvalidation_0-rmse:0.818284\tvalidation_1-rmse:0.885994\n",
      "[69]\tvalidation_0-rmse:0.818165\tvalidation_1-rmse:0.885995\n",
      "[70]\tvalidation_0-rmse:0.818025\tvalidation_1-rmse:0.886083\n",
      "[71]\tvalidation_0-rmse:0.817899\tvalidation_1-rmse:0.886099\n",
      "[72]\tvalidation_0-rmse:0.817639\tvalidation_1-rmse:0.885911\n",
      "[73]\tvalidation_0-rmse:0.81752\tvalidation_1-rmse:0.885907\n",
      "[74]\tvalidation_0-rmse:0.817266\tvalidation_1-rmse:0.886298\n",
      "[75]\tvalidation_0-rmse:0.817182\tvalidation_1-rmse:0.886305\n",
      "[76]\tvalidation_0-rmse:0.816847\tvalidation_1-rmse:0.885743\n",
      "[77]\tvalidation_0-rmse:0.816543\tvalidation_1-rmse:0.886015\n",
      "[78]\tvalidation_0-rmse:0.816248\tvalidation_1-rmse:0.886094\n",
      "[79]\tvalidation_0-rmse:0.816008\tvalidation_1-rmse:0.885683\n",
      "[80]\tvalidation_0-rmse:0.81589\tvalidation_1-rmse:0.885777\n",
      "[81]\tvalidation_0-rmse:0.815729\tvalidation_1-rmse:0.885594\n",
      "[82]\tvalidation_0-rmse:0.815518\tvalidation_1-rmse:0.885731\n",
      "[83]\tvalidation_0-rmse:0.815423\tvalidation_1-rmse:0.885744\n",
      "[84]\tvalidation_0-rmse:0.815301\tvalidation_1-rmse:0.885693\n",
      "[85]\tvalidation_0-rmse:0.815031\tvalidation_1-rmse:0.886124\n",
      "[86]\tvalidation_0-rmse:0.814856\tvalidation_1-rmse:0.88604\n",
      "[87]\tvalidation_0-rmse:0.814798\tvalidation_1-rmse:0.886005\n",
      "[88]\tvalidation_0-rmse:0.814691\tvalidation_1-rmse:0.885864\n",
      "[89]\tvalidation_0-rmse:0.814569\tvalidation_1-rmse:0.885846\n",
      "[90]\tvalidation_0-rmse:0.814433\tvalidation_1-rmse:0.885634\n",
      "[91]\tvalidation_0-rmse:0.812356\tvalidation_1-rmse:0.885626\n",
      "[92]\tvalidation_0-rmse:0.811833\tvalidation_1-rmse:0.88565\n",
      "[93]\tvalidation_0-rmse:0.81166\tvalidation_1-rmse:0.885371\n",
      "[94]\tvalidation_0-rmse:0.81161\tvalidation_1-rmse:0.8853\n",
      "[95]\tvalidation_0-rmse:0.811403\tvalidation_1-rmse:0.885791\n",
      "[96]\tvalidation_0-rmse:0.811317\tvalidation_1-rmse:0.885829\n",
      "[97]\tvalidation_0-rmse:0.81126\tvalidation_1-rmse:0.885794\n",
      "[98]\tvalidation_0-rmse:0.811158\tvalidation_1-rmse:0.885716\n",
      "[99]\tvalidation_0-rmse:0.810811\tvalidation_1-rmse:0.885593\n",
      "[100]\tvalidation_0-rmse:0.810562\tvalidation_1-rmse:0.885771\n",
      "[101]\tvalidation_0-rmse:0.810432\tvalidation_1-rmse:0.885768\n",
      "[102]\tvalidation_0-rmse:0.81029\tvalidation_1-rmse:0.885235\n",
      "[103]\tvalidation_0-rmse:0.810134\tvalidation_1-rmse:0.885292\n",
      "[104]\tvalidation_0-rmse:0.810057\tvalidation_1-rmse:0.885312\n",
      "[105]\tvalidation_0-rmse:0.809899\tvalidation_1-rmse:0.885053\n",
      "[106]\tvalidation_0-rmse:0.809758\tvalidation_1-rmse:0.885455\n",
      "[107]\tvalidation_0-rmse:0.809596\tvalidation_1-rmse:0.885441\n",
      "[108]\tvalidation_0-rmse:0.809444\tvalidation_1-rmse:0.885394\n",
      "Stopping. Best iteration:\n",
      "[58]\tvalidation_0-rmse:0.820341\tvalidation_1-rmse:0.881194\n",
      "\n"
     ]
    },
    {
     "data": {
      "text/plain": [
       "XGBRegressor(base_score=0.5, booster='gbtree', colsample_bylevel=1,\n",
       "       colsample_bytree=0.8, gamma=0, learning_rate=0.5, max_delta_step=0,\n",
       "       max_depth=2, min_child_weight=1, missing=None, n_estimators=1000,\n",
       "       n_jobs=1, nthread=7, objective='reg:linear', random_state=0,\n",
       "       reg_alpha=0, reg_lambda=1, scale_pos_weight=1, seed=0, silent=True,\n",
       "       subsample=0.8)"
      ]
     },
     "execution_count": 39,
     "metadata": {},
     "output_type": "execute_result"
    }
   ],
   "source": [
    "model.fit(\n",
    "    verbose=True,\n",
    "    X=xtrain,\n",
    "    y=ytrain,\n",
    "    eval_set=eval_set,\n",
    "    early_stopping_rounds=50\n",
    ")"
   ]
  },
  {
   "cell_type": "code",
   "execution_count": 18,
   "metadata": {},
   "outputs": [
    {
     "name": "stdout",
     "output_type": "stream",
     "text": [
      "CUTOFF=25\n"
     ]
    }
   ],
   "source": [
    "print('CUTOFF='+str(CUTOFF))"
   ]
  },
  {
   "cell_type": "markdown",
   "metadata": {},
   "source": [
    "## Save Model"
   ]
  },
  {
   "cell_type": "code",
   "execution_count": 40,
   "metadata": {},
   "outputs": [],
   "source": [
    "pickle.dump(model,open('model.pickle','wb'))"
   ]
  },
  {
   "cell_type": "markdown",
   "metadata": {},
   "source": [
    "## Exploration"
   ]
  },
  {
   "cell_type": "markdown",
   "metadata": {},
   "source": [
    "### Accuracy per tree in forrest"
   ]
  },
  {
   "cell_type": "code",
   "execution_count": 19,
   "metadata": {},
   "outputs": [],
   "source": [
    "deval = model.evals_result()\n",
    "val0 = deval['validation_0']['rmse']\n",
    "val1 = deval['validation_1']['rmse']\n",
    "deval = pd.DataFrame({'val0':val0,'val1':val1})"
   ]
  },
  {
   "cell_type": "code",
   "execution_count": 20,
   "metadata": {},
   "outputs": [
    {
     "data": {
      "text/plain": [
       "<matplotlib.axes._subplots.AxesSubplot at 0x1618db52240>"
      ]
     },
     "execution_count": 20,
     "metadata": {},
     "output_type": "execute_result"
    }
   ],
   "source": [
    "deval.plot()"
   ]
  },
  {
   "cell_type": "markdown",
   "metadata": {},
   "source": [
    "### Gain"
   ]
  },
  {
   "cell_type": "markdown",
   "metadata": {},
   "source": [
    "Gain is ..."
   ]
  },
  {
   "cell_type": "code",
   "execution_count": 21,
   "metadata": {},
   "outputs": [
    {
     "data": {
      "text/plain": [
       "pandas.core.series.Series"
      ]
     },
     "execution_count": 21,
     "metadata": {},
     "output_type": "execute_result"
    }
   ],
   "source": [
    "gain = pd.Series(model.get_booster().get_score(importance_type='gain'))\n",
    "gain = gain.sort_values(ascending=True)\n",
    "type(gain)"
   ]
  },
  {
   "cell_type": "code",
   "execution_count": 22,
   "metadata": {},
   "outputs": [
    {
     "data": {
      "image/png": "[encoded data removed]",
      "text/plain": [
       "<Figure size 720x1440 with 1 Axes>"
      ]
     },
     "metadata": {
      "needs_background": "light"
     },
     "output_type": "display_data"
    }
   ],
   "source": [
    "ax = gain.plot(kind='barh',color='b')\n",
    "ax.figure.set_size_inches(10,20)"
   ]
  },
  {
   "cell_type": "markdown",
   "metadata": {},
   "source": [
    "### Gain by time-indexed variable type"
   ]
  },
  {
   "cell_type": "markdown",
   "metadata": {},
   "source": [
    "explain"
   ]
  },
  {
   "cell_type": "code",
   "execution_count": 23,
   "metadata": {},
   "outputs": [],
   "source": [
    "#d = pd.DataFrame()\n",
    "d = {}\n",
    "coltypes=[  \n",
    " 'sum_item_sales_back_',\n",
    " 'sum_shop_sales_back_',\n",
    " 'item_cnt_month_back_',\n",
    " 'sum_item_cat_sales_back_',\n",
    " 'sum_item_cat_shop_sales_back_',\n",
    " 'sum_city_back_',\n",
    " 'sum_itemtype_back_',\n",
    " 'sum_iteminfo_back_',\n",
    " 'sum_city_item_back_',\n",
    " 'sum_city_item_cat_back_',\n",
    " 'sum_itemtype_shop_back_',\n",
    " 'sum_itemtype_city_back_']\n",
    "save=[]\n",
    "for ct in coltypes:\n",
    "    save.append(gain.filter(regex=ct))\n",
    "    d[ct] = np.sum(gain.filter(regex=ct))"
   ]
  },
  {
   "cell_type": "code",
   "execution_count": 24,
   "metadata": {},
   "outputs": [
    {
     "data": {
      "text/plain": [
       "[('item_cnt_month_back_', 43944.5127222),\n",
       " ('sum_item_sales_back_', 8394.770439767679),\n",
       " ('sum_city_back_', 6893.493145),\n",
       " ('sum_itemtype_back_', 5507.151089049999),\n",
       " ('sum_shop_sales_back_', 5109.773752083333),\n",
       " ('sum_iteminfo_back_', 3032.1380599999998),\n",
       " ('sum_item_cat_sales_back_', 1554.7452389999999),\n",
       " ('sum_item_cat_shop_sales_back_', 0.0),\n",
       " ('sum_city_item_back_', 0.0),\n",
       " ('sum_city_item_cat_back_', 0.0),\n",
       " ('sum_itemtype_shop_back_', 0.0),\n",
       " ('sum_itemtype_city_back_', 0.0)]"
      ]
     },
     "execution_count": 24,
     "metadata": {},
     "output_type": "execute_result"
    }
   ],
   "source": [
    "sorted(d.items(),key=lambda t: t[1],reverse=True)"
   ]
  },
  {
   "cell_type": "markdown",
   "metadata": {},
   "source": [
    "# Write Submissions"
   ]
  },
  {
   "cell_type": "code",
   "execution_count": 25,
   "metadata": {},
   "outputs": [],
   "source": [
    "preds = model.predict(xtest)"
   ]
  },
  {
   "cell_type": "markdown",
   "metadata": {},
   "source": [
    "## Submission 1"
   ]
  },
  {
   "cell_type": "code",
   "execution_count": 26,
   "metadata": {},
   "outputs": [],
   "source": [
    "submission = pd.DataFrame({'ID':np.arange(0,214200),'item_cnt_month':preds})\n",
    "submission.to_csv('../gen_data/submission'+str(datetime.datetime.now()).replace(':','.')+'.csv',index=False)"
   ]
  },
  {
   "cell_type": "markdown",
   "metadata": {},
   "source": [
    "## Submission 2, Adjusting for Leak"
   ]
  },
  {
   "cell_type": "code",
   "execution_count": 27,
   "metadata": {},
   "outputs": [],
   "source": [
    "submission['item_cnt_month'] = 0.2839365/submission.item_cnt_month.mean() * submission.item_cnt_month\n",
    "submission.to_csv('../gen_data/submission_adjusted_'+str(datetime.datetime.now()).replace(':','.')+'.csv',index=False)"
   ]
  },
  {
   "cell_type": "markdown",
   "metadata": {},
   "source": [
    "# break"
   ]
  },
  {
   "cell_type": "code",
   "execution_count": 28,
   "metadata": {},
   "outputs": [
    {
     "data": {
      "text/plain": [
       "8394.770439767679"
      ]
     },
     "execution_count": 28,
     "metadata": {},
     "output_type": "execute_result"
    }
   ],
   "source": [
    "np.sum(save[0])"
   ]
  },
  {
   "cell_type": "code",
   "execution_count": 29,
   "metadata": {},
   "outputs": [
    {
     "data": {
      "text/plain": [
       "50"
      ]
     },
     "execution_count": 29,
     "metadata": {},
     "output_type": "execute_result"
    }
   ],
   "source": [
    "len(gain)"
   ]
  },
  {
   "cell_type": "code",
   "execution_count": 30,
   "metadata": {},
   "outputs": [
    {
     "data": {
      "text/plain": [
       "item_cnt_month_back_10                146.454987\n",
       "item_cnt_month_back_7                 167.386688\n",
       "sum_iteminfo_back_1                   182.543640\n",
       "sum_itemtype_back_14                  198.786041\n",
       "sum_itemtype_back_8                   224.649673\n",
       "sum_item_sales_back_17                254.415009\n",
       "sum_shop_sales_back_2                 264.313100\n",
       "sum_item_sales_back_4                 273.125153\n",
       "item_cnt_month_back_15                374.454895\n",
       "median_prevmonth_shop_item_price      431.065357\n",
       "sum_itemtype_back_11                  489.432404\n",
       "date_block_num                        513.321274\n",
       "sum_shop_sales_back_8                 522.595368\n",
       "std_prevmonth_item_price              531.365564\n",
       "sum_item_sales_back_5                 537.176514\n",
       "sum_iteminfo_back_3                   566.916016\n",
       "sum_itemtype_back_6                   578.445251\n",
       "sum_itemtype_back_4                   594.673752\n",
       "sum_item_sales_back_10                620.825562\n",
       "numdays                               707.057434\n",
       "sum_item_cat_sales_back_8             740.371765\n",
       "mean_prevmonth_item_price             743.577764\n",
       "sum_item_sales_back_7                 813.956177\n",
       "sum_item_cat_sales_back_5             814.373474\n",
       "sum_iteminfo_back_4                   815.724304\n",
       "prop_median_item_price                864.967201\n",
       "sum_itemtype_back_2                   876.078567\n",
       "median_prevmonth_item_price           893.965942\n",
       "month_sales                           945.736451\n",
       "sum_item_sales_back_3                 954.702574\n",
       "item_cnt_month_back_4                1003.818420\n",
       "sum_item_sales_back_2                1031.172515\n",
       "sum_shop_sales_back_1                1047.936814\n",
       "sum_city_back_5                      1126.233030\n",
       "sum_itemtype_back_3                  1153.429443\n",
       "sum_city_back_2                      1232.823970\n",
       "sum_itemtype_back_1                  1391.655958\n",
       "sum_iteminfo_back_16                 1466.954100\n",
       "first_sale_date_block                1472.844701\n",
       "item_cnt_month_back_5                1855.747038\n",
       "sum_city_back_7                      1911.128910\n",
       "sum_city_back_1                      2623.307235\n",
       "sum_shop_sales_back_4                3274.928470\n",
       "sum_item_sales_back_1                3909.396936\n",
       "item_cnt_month_back_3                4112.002131\n",
       "new_item                             5232.575546\n",
       "item_cnt_month_back_8                5281.373290\n",
       "item_cnt_month_back_6                7547.707604\n",
       "item_cnt_month_back_2                8226.568703\n",
       "item_cnt_month_back_1               15228.998966\n",
       "dtype: float64"
      ]
     },
     "execution_count": 30,
     "metadata": {},
     "output_type": "execute_result"
    }
   ],
   "source": [
    "pd.Series(gain)"
   ]
  },
  {
   "cell_type": "markdown",
   "metadata": {},
   "source": [
    "###### ax = xgb.plot_importance(model,height=0.8,)\n",
    "print(ax.figure.set_size_inches(5,10))"
   ]
  },
  {
   "cell_type": "code",
   "execution_count": 31,
   "metadata": {},
   "outputs": [],
   "source": [
    "#%env PATH=C:\\Program Files (x86)\\Graphviz2.38\\bin\n",
    "#ax = xgb.plot_tree(model)\n",
    "#ax.figure.set_size_inches(20,20)"
   ]
  },
  {
   "cell_type": "markdown",
   "metadata": {},
   "source": [
    "# Retrain model with all data"
   ]
  },
  {
   "cell_type": "code",
   "execution_count": 32,
   "metadata": {},
   "outputs": [],
   "source": [
    "#SUB=True"
   ]
  },
  {
   "cell_type": "code",
   "execution_count": 33,
   "metadata": {},
   "outputs": [],
   "source": [
    "del model"
   ]
  },
  {
   "cell_type": "code",
   "execution_count": 34,
   "metadata": {},
   "outputs": [],
   "source": [
    "model = xgb.XGBRegressor(\n",
    "    seed=0,\n",
    "    max_depth=2,\n",
    "    learning_rate=0.5,\n",
    "    n_estimators=194,\n",
    "    objective='reg:linear',\n",
    "    nthread=7,\n",
    "#    min_child_weight=100,\n",
    "    colsample_bytree=0.8,\n",
    "    subsample=0.8\n",
    ")"
   ]
  },
  {
   "cell_type": "code",
   "execution_count": 35,
   "metadata": {},
   "outputs": [],
   "source": [
    "#retrain on all data\n",
    "#model.fit(\n",
    "#    verbose=True,\n",
    "#    X=x_train[1],\n",
    "#    y=y_train[1],\n",
    "#    eval_set=eval_set\n",
    "#)"
   ]
  },
  {
   "cell_type": "code",
   "execution_count": 36,
   "metadata": {},
   "outputs": [],
   "source": [
    "if SUB:\n",
    "    print('predicting...')\n",
    "    preds = model.predict(x_test[1])"
   ]
  },
  {
   "cell_type": "code",
   "execution_count": null,
   "metadata": {},
   "outputs": [],
   "source": []
  }
 ],
 "metadata": {
  "kernelspec": {
   "display_name": "Python 3",
   "language": "python",
   "name": "python3"
  },
  "language_info": {
   "codemirror_mode": {
    "name": "ipython",
    "version": 3
   },
   "file_extension": ".py",
   "mimetype": "text/x-python",
   "name": "python",
   "nbconvert_exporter": "python",
   "pygments_lexer": "ipython3",
   "version": "3.7.1"
  }
 },
 "nbformat": 4,
 "nbformat_minor": 2
}
