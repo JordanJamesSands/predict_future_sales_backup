{
 "cells": [
  {
   "cell_type": "code",
   "execution_count": 1,
   "metadata": {},
   "outputs": [],
   "source": [
    "import pandas as pd\n",
    "import numpy as np \n",
    "import pickle\n",
    "import xgboost as xgb\n",
    "import time\n",
    "import graphviz\n",
    "import matplotlib as plt"
   ]
  },
  {
   "cell_type": "code",
   "execution_count": 2,
   "metadata": {},
   "outputs": [],
   "source": [
    "START_NOTEBOOK = time.time()\n",
    "SUB=False"
   ]
  },
  {
   "cell_type": "code",
   "execution_count": 3,
   "metadata": {},
   "outputs": [],
   "source": [
    "pik = pickle.load(open('../saved_datasets/19-3-19,pipeline_A,dateback=12/xtrain_xtest_ytrain_ytest.pickle','rb'))\n",
    "#x_train , x_test , y_train , y_test = [[x[0]] for x in pik]\n",
    "x_train , x_test , y_train , y_test = pik\n",
    "\n",
    "del pik"
   ]
  },
  {
   "cell_type": "code",
   "execution_count": 4,
   "metadata": {},
   "outputs": [
    {
     "data": {
      "text/html": [
       "<div>\n",
       "<style scoped>\n",
       "    .dataframe tbody tr th:only-of-type {\n",
       "        vertical-align: middle;\n",
       "    }\n",
       "\n",
       "    .dataframe tbody tr th {\n",
       "        vertical-align: top;\n",
       "    }\n",
       "\n",
       "    .dataframe thead th {\n",
       "        text-align: right;\n",
       "    }\n",
       "</style>\n",
       "<table border=\"1\" class=\"dataframe\">\n",
       "  <thead>\n",
       "    <tr style=\"text-align: right;\">\n",
       "      <th></th>\n",
       "      <th>date_block_num</th>\n",
       "      <th>shop_id</th>\n",
       "      <th>item_id</th>\n",
       "      <th>item_category_id</th>\n",
       "      <th>sum_item_sales_back_1</th>\n",
       "      <th>sum_shop_sales_back_1</th>\n",
       "      <th>item_cnt_month_back_1</th>\n",
       "      <th>sum_item_cat_sales_back_1</th>\n",
       "      <th>sum_item_cat_shop_sales_back_1</th>\n",
       "      <th>sum_item_sales_back_2</th>\n",
       "      <th>...</th>\n",
       "      <th>month_encoded_alpha_1000</th>\n",
       "      <th>city_encoded_alpha_1000</th>\n",
       "      <th>item_type_encoded_alpha_1000</th>\n",
       "      <th>item_info_encoded_alpha_2000</th>\n",
       "      <th>shop_id_encoded_alpha_2000</th>\n",
       "      <th>item_id_encoded_alpha_2000</th>\n",
       "      <th>item_category_id_encoded_alpha_2000</th>\n",
       "      <th>month_encoded_alpha_2000</th>\n",
       "      <th>city_encoded_alpha_2000</th>\n",
       "      <th>item_type_encoded_alpha_2000</th>\n",
       "    </tr>\n",
       "  </thead>\n",
       "  <tbody>\n",
       "    <tr>\n",
       "      <th>0</th>\n",
       "      <td>12</td>\n",
       "      <td>2</td>\n",
       "      <td>32</td>\n",
       "      <td>40</td>\n",
       "      <td>0.0</td>\n",
       "      <td>0.0</td>\n",
       "      <td>0.0</td>\n",
       "      <td>0.0</td>\n",
       "      <td>0.0</td>\n",
       "      <td>0.0</td>\n",
       "      <td>...</td>\n",
       "      <td>0.345474</td>\n",
       "      <td>0.151128</td>\n",
       "      <td>0.207566</td>\n",
       "      <td>0.245216</td>\n",
       "      <td>0.152771</td>\n",
       "      <td>0.431341</td>\n",
       "      <td>0.245216</td>\n",
       "      <td>0.345436</td>\n",
       "      <td>0.152771</td>\n",
       "      <td>0.207634</td>\n",
       "    </tr>\n",
       "    <tr>\n",
       "      <th>1</th>\n",
       "      <td>12</td>\n",
       "      <td>2</td>\n",
       "      <td>33</td>\n",
       "      <td>37</td>\n",
       "      <td>42.0</td>\n",
       "      <td>1322.0</td>\n",
       "      <td>1.0</td>\n",
       "      <td>9959.0</td>\n",
       "      <td>55.0</td>\n",
       "      <td>15.0</td>\n",
       "      <td>...</td>\n",
       "      <td>0.342734</td>\n",
       "      <td>0.156290</td>\n",
       "      <td>0.207870</td>\n",
       "      <td>0.163266</td>\n",
       "      <td>0.157889</td>\n",
       "      <td>0.347799</td>\n",
       "      <td>0.163266</td>\n",
       "      <td>0.342701</td>\n",
       "      <td>0.157889</td>\n",
       "      <td>0.207937</td>\n",
       "    </tr>\n",
       "    <tr>\n",
       "      <th>2</th>\n",
       "      <td>12</td>\n",
       "      <td>2</td>\n",
       "      <td>99</td>\n",
       "      <td>37</td>\n",
       "      <td>0.0</td>\n",
       "      <td>0.0</td>\n",
       "      <td>0.0</td>\n",
       "      <td>0.0</td>\n",
       "      <td>0.0</td>\n",
       "      <td>0.0</td>\n",
       "      <td>...</td>\n",
       "      <td>0.353020</td>\n",
       "      <td>0.156058</td>\n",
       "      <td>0.207362</td>\n",
       "      <td>0.162729</td>\n",
       "      <td>0.157656</td>\n",
       "      <td>0.297037</td>\n",
       "      <td>0.162729</td>\n",
       "      <td>0.352968</td>\n",
       "      <td>0.157656</td>\n",
       "      <td>0.207430</td>\n",
       "    </tr>\n",
       "    <tr>\n",
       "      <th>3</th>\n",
       "      <td>12</td>\n",
       "      <td>2</td>\n",
       "      <td>482</td>\n",
       "      <td>73</td>\n",
       "      <td>88.0</td>\n",
       "      <td>1322.0</td>\n",
       "      <td>1.0</td>\n",
       "      <td>419.0</td>\n",
       "      <td>3.0</td>\n",
       "      <td>85.0</td>\n",
       "      <td>...</td>\n",
       "      <td>0.350802</td>\n",
       "      <td>0.154648</td>\n",
       "      <td>0.183539</td>\n",
       "      <td>0.381382</td>\n",
       "      <td>0.156260</td>\n",
       "      <td>0.643077</td>\n",
       "      <td>0.381382</td>\n",
       "      <td>0.350754</td>\n",
       "      <td>0.156260</td>\n",
       "      <td>0.184402</td>\n",
       "    </tr>\n",
       "    <tr>\n",
       "      <th>4</th>\n",
       "      <td>12</td>\n",
       "      <td>2</td>\n",
       "      <td>485</td>\n",
       "      <td>73</td>\n",
       "      <td>118.0</td>\n",
       "      <td>1322.0</td>\n",
       "      <td>1.0</td>\n",
       "      <td>419.0</td>\n",
       "      <td>3.0</td>\n",
       "      <td>0.0</td>\n",
       "      <td>...</td>\n",
       "      <td>0.342734</td>\n",
       "      <td>0.156290</td>\n",
       "      <td>0.182921</td>\n",
       "      <td>0.378463</td>\n",
       "      <td>0.157889</td>\n",
       "      <td>0.616571</td>\n",
       "      <td>0.378463</td>\n",
       "      <td>0.342701</td>\n",
       "      <td>0.157889</td>\n",
       "      <td>0.183789</td>\n",
       "    </tr>\n",
       "  </tbody>\n",
       "</table>\n",
       "<p>5 rows × 125 columns</p>\n",
       "</div>"
      ],
      "text/plain": [
       "   date_block_num  shop_id  item_id  item_category_id  sum_item_sales_back_1  \\\n",
       "0              12        2       32                40                    0.0   \n",
       "1              12        2       33                37                   42.0   \n",
       "2              12        2       99                37                    0.0   \n",
       "3              12        2      482                73                   88.0   \n",
       "4              12        2      485                73                  118.0   \n",
       "\n",
       "   sum_shop_sales_back_1  item_cnt_month_back_1  sum_item_cat_sales_back_1  \\\n",
       "0                    0.0                    0.0                        0.0   \n",
       "1                 1322.0                    1.0                     9959.0   \n",
       "2                    0.0                    0.0                        0.0   \n",
       "3                 1322.0                    1.0                      419.0   \n",
       "4                 1322.0                    1.0                      419.0   \n",
       "\n",
       "   sum_item_cat_shop_sales_back_1  sum_item_sales_back_2  \\\n",
       "0                             0.0                    0.0   \n",
       "1                            55.0                   15.0   \n",
       "2                             0.0                    0.0   \n",
       "3                             3.0                   85.0   \n",
       "4                             3.0                    0.0   \n",
       "\n",
       "               ...               month_encoded_alpha_1000  \\\n",
       "0              ...                               0.345474   \n",
       "1              ...                               0.342734   \n",
       "2              ...                               0.353020   \n",
       "3              ...                               0.350802   \n",
       "4              ...                               0.342734   \n",
       "\n",
       "   city_encoded_alpha_1000  item_type_encoded_alpha_1000  \\\n",
       "0                 0.151128                      0.207566   \n",
       "1                 0.156290                      0.207870   \n",
       "2                 0.156058                      0.207362   \n",
       "3                 0.154648                      0.183539   \n",
       "4                 0.156290                      0.182921   \n",
       "\n",
       "   item_info_encoded_alpha_2000  shop_id_encoded_alpha_2000  \\\n",
       "0                      0.245216                    0.152771   \n",
       "1                      0.163266                    0.157889   \n",
       "2                      0.162729                    0.157656   \n",
       "3                      0.381382                    0.156260   \n",
       "4                      0.378463                    0.157889   \n",
       "\n",
       "   item_id_encoded_alpha_2000  item_category_id_encoded_alpha_2000  \\\n",
       "0                    0.431341                             0.245216   \n",
       "1                    0.347799                             0.163266   \n",
       "2                    0.297037                             0.162729   \n",
       "3                    0.643077                             0.381382   \n",
       "4                    0.616571                             0.378463   \n",
       "\n",
       "   month_encoded_alpha_2000  city_encoded_alpha_2000  \\\n",
       "0                  0.345436                 0.152771   \n",
       "1                  0.342701                 0.157889   \n",
       "2                  0.352968                 0.157656   \n",
       "3                  0.350754                 0.156260   \n",
       "4                  0.342701                 0.157889   \n",
       "\n",
       "   item_type_encoded_alpha_2000  \n",
       "0                      0.207634  \n",
       "1                      0.207937  \n",
       "2                      0.207430  \n",
       "3                      0.184402  \n",
       "4                      0.183789  \n",
       "\n",
       "[5 rows x 125 columns]"
      ]
     },
     "execution_count": 4,
     "metadata": {},
     "output_type": "execute_result"
    }
   ],
   "source": [
    "x_train[0].head()"
   ]
  },
  {
   "cell_type": "markdown",
   "metadata": {},
   "source": [
    "# Preprocessing"
   ]
  },
  {
   "cell_type": "code",
   "execution_count": 5,
   "metadata": {},
   "outputs": [],
   "source": [
    "#save x_train[1] to create submission later (becuase i delete shop and item ids)\n",
    "x_test_1_saved = x_test[1][['shop_id','item_id']]"
   ]
  },
  {
   "cell_type": "code",
   "execution_count": 6,
   "metadata": {},
   "outputs": [],
   "source": [
    "def preproc_model3(x_train,x_test,y_train,y_test):\n",
    "    x_train = [d.drop(['date_block_num','shop_id','item_id','item_category_id','month','city','item_type','item_info'],axis=1) for d in x_train]\n",
    "    x_test =  [d.drop(['date_block_num','shop_id','item_id','item_category_id','month','city','item_type','item_info'],axis=1) for d in x_test]\n",
    "    y_train = [d.clip(0,20) for d in y_train]\n",
    "    y_test =  [d.clip(0,20) for d in y_test]\n",
    "    return [x_train,x_test,y_train,y_test]"
   ]
  },
  {
   "cell_type": "code",
   "execution_count": 7,
   "metadata": {},
   "outputs": [],
   "source": [
    "x_train , x_test , y_train , y_test = preproc_model3(x_train,x_test,y_train,y_test)"
   ]
  },
  {
   "cell_type": "code",
   "execution_count": 8,
   "metadata": {},
   "outputs": [
    {
     "data": {
      "text/plain": [
       "False"
      ]
     },
     "execution_count": 8,
     "metadata": {},
     "output_type": "execute_result"
    }
   ],
   "source": [
    "a = x_test[0].columns.tolist()\n",
    "b = x_train[0].columns.tolist()\n",
    "a==b"
   ]
  },
  {
   "cell_type": "markdown",
   "metadata": {},
   "source": [
    "# HACKS"
   ]
  },
  {
   "cell_type": "markdown",
   "metadata": {},
   "source": [
    "### sort columns"
   ]
  },
  {
   "cell_type": "code",
   "execution_count": 9,
   "metadata": {},
   "outputs": [],
   "source": [
    "train_cols = x_train[0].columns.tolist()\n",
    "x_test[0] = x_test[0][train_cols]"
   ]
  },
  {
   "cell_type": "code",
   "execution_count": 10,
   "metadata": {},
   "outputs": [],
   "source": [
    "A = x_train[0].columns.tolist()"
   ]
  },
  {
   "cell_type": "code",
   "execution_count": 11,
   "metadata": {},
   "outputs": [],
   "source": [
    "B = x_test[0].columns.tolist()"
   ]
  },
  {
   "cell_type": "code",
   "execution_count": 12,
   "metadata": {},
   "outputs": [
    {
     "data": {
      "text/plain": [
       "True"
      ]
     },
     "execution_count": 12,
     "metadata": {},
     "output_type": "execute_result"
    }
   ],
   "source": [
    "A==B"
   ]
  },
  {
   "cell_type": "markdown",
   "metadata": {},
   "source": [
    "### fillnas in y_test"
   ]
  },
  {
   "cell_type": "code",
   "execution_count": 13,
   "metadata": {},
   "outputs": [],
   "source": [
    "#y_test = [d.fillna(0) for d in y_test]"
   ]
  },
  {
   "cell_type": "markdown",
   "metadata": {},
   "source": [
    "## TODO: account for factor adjustment"
   ]
  },
  {
   "cell_type": "markdown",
   "metadata": {},
   "source": [
    "# Eval Metric"
   ]
  },
  {
   "cell_type": "code",
   "execution_count": 14,
   "metadata": {},
   "outputs": [
    {
     "data": {
      "text/plain": [
       "array([1, 1, 1])"
      ]
     },
     "execution_count": 14,
     "metadata": {},
     "output_type": "execute_result"
    }
   ],
   "source": [
    "np.array([1,2,3]).clip(0,1)"
   ]
  },
  {
   "cell_type": "code",
   "execution_count": 15,
   "metadata": {},
   "outputs": [],
   "source": [
    "def model3_eval(preds,true_y):\n",
    "    preds_clipped = preds.clip(0,20)\n",
    "    true_y_clipped = true_y.clip(0,20)\n",
    "    sq_res = (preds_clipped - true_y_clipped)**2\n",
    "    return  np.sqrt(np.mean(sq_res))"
   ]
  },
  {
   "cell_type": "markdown",
   "metadata": {},
   "source": [
    "# Objective metric"
   ]
  },
  {
   "cell_type": "code",
   "execution_count": 16,
   "metadata": {},
   "outputs": [],
   "source": [
    "#def model3_objective(preds,true_y):\n",
    "    "
   ]
  },
  {
   "cell_type": "code",
   "execution_count": 17,
   "metadata": {},
   "outputs": [
    {
     "data": {
      "text/plain": [
       "0.0"
      ]
     },
     "execution_count": 17,
     "metadata": {},
     "output_type": "execute_result"
    }
   ],
   "source": [
    "np.mean(y_test[0].isna())"
   ]
  },
  {
   "cell_type": "markdown",
   "metadata": {},
   "source": [
    "# Notes"
   ]
  },
  {
   "cell_type": "markdown",
   "metadata": {},
   "source": [
    "- There are likely too many feats, this would explain immediate overfitting\n",
    "- rmse withou clipped data is gonna put a lot of focus on large outliers\n",
    "* consider mean abs error"
   ]
  },
  {
   "cell_type": "markdown",
   "metadata": {},
   "source": [
    "# Feature Selection"
   ]
  },
  {
   "cell_type": "code",
   "execution_count": 18,
   "metadata": {},
   "outputs": [
    {
     "data": {
      "text/plain": [
       "['sum_item_sales_back_1',\n",
       " 'sum_shop_sales_back_1',\n",
       " 'item_cnt_month_back_1',\n",
       " 'sum_item_cat_sales_back_1',\n",
       " 'sum_item_cat_shop_sales_back_1',\n",
       " 'sum_item_sales_back_2',\n",
       " 'sum_shop_sales_back_2',\n",
       " 'item_cnt_month_back_2',\n",
       " 'sum_item_cat_sales_back_2',\n",
       " 'sum_item_cat_shop_sales_back_2',\n",
       " 'sum_item_sales_back_3',\n",
       " 'sum_shop_sales_back_3',\n",
       " 'item_cnt_month_back_3',\n",
       " 'sum_item_cat_sales_back_3',\n",
       " 'sum_item_cat_shop_sales_back_3',\n",
       " 'sum_item_sales_back_4',\n",
       " 'sum_shop_sales_back_4',\n",
       " 'item_cnt_month_back_4',\n",
       " 'sum_item_cat_sales_back_4',\n",
       " 'sum_item_cat_shop_sales_back_4',\n",
       " 'sum_item_sales_back_5',\n",
       " 'sum_shop_sales_back_5',\n",
       " 'item_cnt_month_back_5',\n",
       " 'sum_item_cat_sales_back_5',\n",
       " 'sum_item_cat_shop_sales_back_5',\n",
       " 'sum_item_sales_back_6',\n",
       " 'sum_shop_sales_back_6',\n",
       " 'item_cnt_month_back_6',\n",
       " 'sum_item_cat_sales_back_6',\n",
       " 'sum_item_cat_shop_sales_back_6',\n",
       " 'sum_item_sales_back_7',\n",
       " 'sum_shop_sales_back_7',\n",
       " 'item_cnt_month_back_7',\n",
       " 'sum_item_cat_sales_back_7',\n",
       " 'sum_item_cat_shop_sales_back_7',\n",
       " 'sum_item_sales_back_8',\n",
       " 'sum_shop_sales_back_8',\n",
       " 'item_cnt_month_back_8',\n",
       " 'sum_item_cat_sales_back_8',\n",
       " 'sum_item_cat_shop_sales_back_8',\n",
       " 'sum_item_sales_back_9',\n",
       " 'sum_shop_sales_back_9',\n",
       " 'item_cnt_month_back_9',\n",
       " 'sum_item_cat_sales_back_9',\n",
       " 'sum_item_cat_shop_sales_back_9',\n",
       " 'sum_item_sales_back_10',\n",
       " 'sum_shop_sales_back_10',\n",
       " 'item_cnt_month_back_10',\n",
       " 'sum_item_cat_sales_back_10',\n",
       " 'sum_item_cat_shop_sales_back_10',\n",
       " 'sum_item_sales_back_11',\n",
       " 'sum_shop_sales_back_11',\n",
       " 'item_cnt_month_back_11',\n",
       " 'sum_item_cat_sales_back_11',\n",
       " 'sum_item_cat_shop_sales_back_11',\n",
       " 'sum_item_sales_back_12',\n",
       " 'sum_shop_sales_back_12',\n",
       " 'item_cnt_month_back_12',\n",
       " 'sum_item_cat_sales_back_12',\n",
       " 'sum_item_cat_shop_sales_back_12',\n",
       " 'numdays',\n",
       " 'mean_prevmonth_item_price',\n",
       " 'std_prevmonth_item_price',\n",
       " 'median_prevmonth_item_price',\n",
       " 'median_prevmonth_shop_item_price',\n",
       " 'prop_median_item_price',\n",
       " 'first_sale_date_block',\n",
       " 'new_item',\n",
       " 'item_info_encoded_alpha_0',\n",
       " 'shop_id_encoded_alpha_0',\n",
       " 'item_id_encoded_alpha_0',\n",
       " 'item_category_id_encoded_alpha_0',\n",
       " 'month_encoded_alpha_0',\n",
       " 'city_encoded_alpha_0',\n",
       " 'item_type_encoded_alpha_0',\n",
       " 'item_info_encoded_alpha_50',\n",
       " 'shop_id_encoded_alpha_50',\n",
       " 'item_id_encoded_alpha_50',\n",
       " 'item_category_id_encoded_alpha_50',\n",
       " 'month_encoded_alpha_50',\n",
       " 'city_encoded_alpha_50',\n",
       " 'item_type_encoded_alpha_50',\n",
       " 'item_info_encoded_alpha_100',\n",
       " 'shop_id_encoded_alpha_100',\n",
       " 'item_id_encoded_alpha_100',\n",
       " 'item_category_id_encoded_alpha_100',\n",
       " 'month_encoded_alpha_100',\n",
       " 'city_encoded_alpha_100',\n",
       " 'item_type_encoded_alpha_100',\n",
       " 'item_info_encoded_alpha_200',\n",
       " 'shop_id_encoded_alpha_200',\n",
       " 'item_id_encoded_alpha_200',\n",
       " 'item_category_id_encoded_alpha_200',\n",
       " 'month_encoded_alpha_200',\n",
       " 'city_encoded_alpha_200',\n",
       " 'item_type_encoded_alpha_200',\n",
       " 'item_info_encoded_alpha_500',\n",
       " 'shop_id_encoded_alpha_500',\n",
       " 'item_id_encoded_alpha_500',\n",
       " 'item_category_id_encoded_alpha_500',\n",
       " 'month_encoded_alpha_500',\n",
       " 'city_encoded_alpha_500',\n",
       " 'item_type_encoded_alpha_500',\n",
       " 'item_info_encoded_alpha_1000',\n",
       " 'shop_id_encoded_alpha_1000',\n",
       " 'item_id_encoded_alpha_1000',\n",
       " 'item_category_id_encoded_alpha_1000',\n",
       " 'month_encoded_alpha_1000',\n",
       " 'city_encoded_alpha_1000',\n",
       " 'item_type_encoded_alpha_1000',\n",
       " 'item_info_encoded_alpha_2000',\n",
       " 'shop_id_encoded_alpha_2000',\n",
       " 'item_id_encoded_alpha_2000',\n",
       " 'item_category_id_encoded_alpha_2000',\n",
       " 'month_encoded_alpha_2000',\n",
       " 'city_encoded_alpha_2000',\n",
       " 'item_type_encoded_alpha_2000']"
      ]
     },
     "execution_count": 18,
     "metadata": {},
     "output_type": "execute_result"
    }
   ],
   "source": [
    "x_train[0].columns.tolist()"
   ]
  },
  {
   "cell_type": "code",
   "execution_count": 19,
   "metadata": {},
   "outputs": [],
   "source": [
    "def feat_selection(x_train,x_test,y_train,y_test):\n",
    "    FEATS= [\n",
    "# 'sum_item_sales_back_1',\n",
    "# 'sum_shop_sales_back_1',\n",
    "# 'item_cnt_month_back_1',\n",
    "# 'sum_item_cat_sales_back_1',\n",
    "# 'sum_item_cat_shop_sales_back_1',\n",
    "# 'sum_item_sales_back_2',\n",
    "# 'sum_shop_sales_back_2',\n",
    "# 'item_cnt_month_back_2',\n",
    "# 'sum_item_cat_sales_back_2',\n",
    "# 'sum_item_cat_shop_sales_back_2',\n",
    "# 'sum_item_sales_back_3',\n",
    "# 'sum_shop_sales_back_3',\n",
    "# 'item_cnt_month_back_3',\n",
    "# 'sum_item_cat_sales_back_3',\n",
    "# 'sum_item_cat_shop_sales_back_3',\n",
    "# 'sum_item_sales_back_4',\n",
    "# 'sum_shop_sales_back_4',\n",
    "# 'item_cnt_month_back_4',\n",
    "# 'sum_item_cat_sales_back_4',\n",
    "# 'sum_item_cat_shop_sales_back_4',\n",
    "# 'sum_item_sales_back_5',\n",
    "# 'sum_shop_sales_back_5',\n",
    "# 'item_cnt_month_back_5',\n",
    "# 'sum_item_cat_sales_back_5',\n",
    "# 'sum_item_cat_shop_sales_back_5',\n",
    "# 'sum_item_sales_back_6',\n",
    "# 'sum_shop_sales_back_6',\n",
    "# 'item_cnt_month_back_6',\n",
    "# 'sum_item_cat_sales_back_6',\n",
    "# 'sum_item_cat_shop_sales_back_6',\n",
    "# 'sum_item_sales_back_7',\n",
    "# 'sum_shop_sales_back_7',\n",
    "# 'item_cnt_month_back_7',\n",
    "# 'sum_item_cat_sales_back_7',\n",
    "# 'sum_item_cat_shop_sales_back_7',\n",
    "# 'sum_item_sales_back_8',\n",
    "# 'sum_shop_sales_back_8',\n",
    "# 'item_cnt_month_back_8',\n",
    "# 'sum_item_cat_sales_back_8',\n",
    "# 'sum_item_cat_shop_sales_back_8',\n",
    "# 'sum_item_sales_back_9',\n",
    "# 'sum_shop_sales_back_9',\n",
    "# 'item_cnt_month_back_9',\n",
    "# 'sum_item_cat_sales_back_9',\n",
    "# 'sum_item_cat_shop_sales_back_9',\n",
    "# 'sum_item_sales_back_10',\n",
    "# 'sum_shop_sales_back_10',\n",
    "# 'item_cnt_month_back_10',\n",
    "# 'sum_item_cat_sales_back_10',\n",
    "# 'sum_item_cat_shop_sales_back_10',\n",
    "# 'sum_item_sales_back_11',\n",
    "# 'sum_shop_sales_back_11',\n",
    "# 'item_cnt_month_back_11',\n",
    "# 'sum_item_cat_sales_back_11',\n",
    "# 'sum_item_cat_shop_sales_back_11',\n",
    "# 'sum_item_sales_back_12',\n",
    "# 'sum_shop_sales_back_12',\n",
    "# 'item_cnt_month_back_12',\n",
    "# 'sum_item_cat_sales_back_12',\n",
    "# 'sum_item_cat_shop_sales_back_12',\n",
    "# 'numdays',\n",
    "# 'mean_prevmonth_item_price',\n",
    "# 'std_prevmonth_item_price',\n",
    "# 'median_prevmonth_item_price',\n",
    "# 'median_prevmonth_shop_item_price',\n",
    "# 'prop_median_item_price']#,\n",
    "# 'first_sale_date_block',\n",
    "# 'new_item']#,\n",
    "            \n",
    "# dont worry about these encodings, theyre prolly almost redundant\n",
    "            \n",
    "# 'item_info_encoded_alpha_0',\n",
    "# 'shop_id_encoded_alpha_0',\n",
    "# 'item_id_encoded_alpha_0',\n",
    "# 'item_category_id_encoded_alpha_0',\n",
    "# 'month_encoded_alpha_0',\n",
    "# 'city_encoded_alpha_0',\n",
    "# 'item_type_encoded_alpha_0']#,\n",
    "# 'item_info_encoded_alpha_50',\n",
    "# 'shop_id_encoded_alpha_50',\n",
    "# 'item_id_encoded_alpha_50',\n",
    "# 'item_category_id_encoded_alpha_50',\n",
    "# 'month_encoded_alpha_50',\n",
    "# 'city_encoded_alpha_50',\n",
    "# 'item_type_encoded_alpha_50',\n",
    "# 'item_info_encoded_alpha_100',\n",
    "# 'shop_id_encoded_alpha_100',\n",
    "# 'item_id_encoded_alpha_100',\n",
    "# 'item_category_id_encoded_alpha_100',\n",
    "# 'month_encoded_alpha_100',\n",
    "# 'city_encoded_alpha_100',\n",
    "# 'item_type_encoded_alpha_100'\n",
    "# 'item_info_encoded_alpha_200',\n",
    "# 'shop_id_encoded_alpha_200',\n",
    "# 'item_id_encoded_alpha_200',\n",
    "# 'item_category_id_encoded_alpha_200',\n",
    "# 'month_encoded_alpha_200',\n",
    "# 'city_encoded_alpha_200',\n",
    "# 'item_type_encoded_alpha_200']#,\n",
    "# 'item_info_encoded_alpha_500',\n",
    "# 'shop_id_encoded_alpha_500',\n",
    "# 'item_id_encoded_alpha_500',\n",
    "# 'item_category_id_encoded_alpha_500',\n",
    "# 'month_encoded_alpha_500',\n",
    "# 'city_encoded_alpha_500',\n",
    "# 'item_type_encoded_alpha_500']#,\n",
    "# 'item_info_encoded_alpha_1000',\n",
    "# 'shop_id_encoded_alpha_1000',\n",
    "# 'item_id_encoded_alpha_1000',\n",
    "# 'item_category_id_encoded_alpha_1000',\n",
    "# 'month_encoded_alpha_1000',\n",
    "# 'city_encoded_alpha_1000',\n",
    "# 'item_type_encoded_alpha_1000']#,\n",
    "# 'item_info_encoded_alpha_2000',\n",
    "# 'shop_id_encoded_alpha_2000',\n",
    "# 'item_id_encoded_alpha_2000',\n",
    "# 'item_category_id_encoded_alpha_2000',\n",
    "# 'month_encoded_alpha_2000',\n",
    "# 'city_encoded_alpha_2000',\n",
    "# 'item_type_encoded_alpha_2000']\n",
    "    \n",
    "    x_train = [d[FEATS] for d in x_train]\n",
    "    x_test =  [d[FEATS] for d in x_test]\n",
    "    return [x_train,x_test,y_train,y_test]"
   ]
  },
  {
   "cell_type": "code",
   "execution_count": 20,
   "metadata": {},
   "outputs": [],
   "source": [
    "x_train , x_test , y_train , y_test = feat_selection(x_train,x_test,y_train,y_test)"
   ]
  },
  {
   "cell_type": "markdown",
   "metadata": {},
   "source": [
    "# Reduce Dataset size"
   ]
  },
  {
   "cell_type": "code",
   "execution_count": 21,
   "metadata": {},
   "outputs": [],
   "source": [
    "#x_train_small = [d.sample(frac=1,random_state=0) for d in x_train]\n",
    "#y_train_small = [d.sample(frac=1,random_state=0) for d in y_train]\n",
    "#x_test_small = [d.sample(frac=1,random_state=0) for d in x_test]\n",
    "#y_test_small = [d.sample(frac=1,random_state=0) for d in y_test]"
   ]
  },
  {
   "cell_type": "markdown",
   "metadata": {},
   "source": [
    "# Fitting"
   ]
  },
  {
   "cell_type": "code",
   "execution_count": 22,
   "metadata": {},
   "outputs": [],
   "source": [
    "model = xgb.XGBRegressor(\n",
    "    seed=0,\n",
    "    max_depth=3,\n",
    "    learning_rate=0.5,\n",
    "    n_estimators=1000,\n",
    "    objective='reg:linear',\n",
    "    nthread=8,\n",
    "    min_child_weight=100\n",
    ")\n",
    "eval_set = [(x_train[0],y_train[0]),(x_test[0],y_test[0])]"
   ]
  },
  {
   "cell_type": "code",
   "execution_count": 23,
   "metadata": {},
   "outputs": [
    {
     "name": "stdout",
     "output_type": "stream",
     "text": [
      "[12:25:44] Tree method is automatically selected to be 'approx' for faster speed. to use old behavior(exact greedy algorithm on single machine), set tree_method to 'exact'\n",
      "[0]\tvalidation_0-rmse:1.06519\tvalidation_1-rmse:1.04078\n",
      "Multiple eval metrics have been passed: 'validation_1-rmse' will be used for early stopping.\n",
      "\n",
      "Will train until validation_1-rmse hasn't improved in 10 rounds.\n",
      "[1]\tvalidation_0-rmse:1.01299\tvalidation_1-rmse:1.07781\n",
      "[2]\tvalidation_0-rmse:0.992704\tvalidation_1-rmse:1.11078\n",
      "[3]\tvalidation_0-rmse:0.983425\tvalidation_1-rmse:1.13664\n",
      "[4]\tvalidation_0-rmse:0.978295\tvalidation_1-rmse:1.16218\n",
      "[5]\tvalidation_0-rmse:0.975059\tvalidation_1-rmse:1.17796\n",
      "[6]\tvalidation_0-rmse:0.971618\tvalidation_1-rmse:1.1852\n",
      "[7]\tvalidation_0-rmse:0.969734\tvalidation_1-rmse:1.19085\n",
      "[8]\tvalidation_0-rmse:0.968207\tvalidation_1-rmse:1.20983\n",
      "[9]\tvalidation_0-rmse:0.966356\tvalidation_1-rmse:1.21287\n",
      "[10]\tvalidation_0-rmse:0.965524\tvalidation_1-rmse:1.22032\n",
      "Stopping. Best iteration:\n",
      "[0]\tvalidation_0-rmse:1.06519\tvalidation_1-rmse:1.04078\n",
      "\n"
     ]
    },
    {
     "data": {
      "text/plain": [
       "XGBRegressor(base_score=0.5, booster='gbtree', colsample_bylevel=1,\n",
       "       colsample_bytree=1, gamma=0, learning_rate=0.5, max_delta_step=0,\n",
       "       max_depth=3, min_child_weight=100, missing=None, n_estimators=1000,\n",
       "       n_jobs=1, nthread=8, objective='reg:linear', random_state=0,\n",
       "       reg_alpha=0, reg_lambda=1, scale_pos_weight=1, seed=0, silent=True,\n",
       "       subsample=1)"
      ]
     },
     "execution_count": 23,
     "metadata": {},
     "output_type": "execute_result"
    }
   ],
   "source": [
    "model.fit(\n",
    "    verbose=True,\n",
    "    X=x_train[0],\n",
    "    y=y_train[0],\n",
    "    eval_set=eval_set,\n",
    "    early_stopping_rounds=10\n",
    ")"
   ]
  },
  {
   "cell_type": "code",
   "execution_count": 24,
   "metadata": {},
   "outputs": [],
   "source": [
    "#np.sqrt(np.mean((model.predict(x_test[0]) - y_test[0])**2))"
   ]
  },
  {
   "cell_type": "code",
   "execution_count": 25,
   "metadata": {},
   "outputs": [],
   "source": [
    "#import os\n",
    "#os.environ[\"PATH\"] += os.pathsep + 'C://ProgramData/Anaconda3/pkgs/graphviz-2.38.0-h6538335_1011/Library/bin'\n",
    "\n",
    "#os.environ['PATH']\n",
    "\n",
    "#xgb.plot_tree(model)"
   ]
  },
  {
   "cell_type": "code",
   "execution_count": null,
   "metadata": {},
   "outputs": [],
   "source": []
  },
  {
   "cell_type": "code",
   "execution_count": 26,
   "metadata": {},
   "outputs": [],
   "source": [
    "#feat_imp = model.feature_importances_\n",
    "#feats = x_train[0].columns\n",
    "#df = pd.DataFrame({'feature':feats,'importance':feat_imp})\n",
    "#df = df.sort_values('importance',ascending=False)\n",
    "#print(df.plot(x='feature',y='importance',kind='bar',))\n",
    "ax = xgb.plot_importance(model,height=0.8,)\n",
    "ax.figure.set_size_inches(5,10)"
   ]
  },
  {
   "cell_type": "markdown",
   "metadata": {},
   "source": [
    "# EDA"
   ]
  },
  {
   "cell_type": "code",
   "execution_count": 27,
   "metadata": {},
   "outputs": [
    {
     "ename": "AttributeError",
     "evalue": "'DataFrame' object has no attribute 'item_id_encoded_alpha_0'",
     "output_type": "error",
     "traceback": [
      "\u001b[1;31m---------------------------------------------------------------------------\u001b[0m",
      "\u001b[1;31mAttributeError\u001b[0m                            Traceback (most recent call last)",
      "\u001b[1;32m<ipython-input-27-3edf5262cece>\u001b[0m in \u001b[0;36m<module>\u001b[1;34m\u001b[0m\n\u001b[1;32m----> 1\u001b[1;33m \u001b[0mitem_cat\u001b[0m \u001b[1;33m=\u001b[0m \u001b[0mx_train\u001b[0m\u001b[1;33m[\u001b[0m\u001b[1;36m0\u001b[0m\u001b[1;33m]\u001b[0m\u001b[1;33m.\u001b[0m\u001b[0mitem_id_encoded_alpha_0\u001b[0m\u001b[1;33m\u001b[0m\u001b[1;33m\u001b[0m\u001b[0m\n\u001b[0m\u001b[0;32m      2\u001b[0m \u001b[0mshop_cat\u001b[0m \u001b[1;33m=\u001b[0m \u001b[0mx_train\u001b[0m\u001b[1;33m[\u001b[0m\u001b[1;36m0\u001b[0m\u001b[1;33m]\u001b[0m\u001b[1;33m.\u001b[0m\u001b[0mshop_id_encoded_alpha_0\u001b[0m\u001b[1;33m\u001b[0m\u001b[1;33m\u001b[0m\u001b[0m\n\u001b[0;32m      3\u001b[0m \u001b[0my\u001b[0m \u001b[1;33m=\u001b[0m \u001b[0my_train\u001b[0m\u001b[1;33m[\u001b[0m\u001b[1;36m0\u001b[0m\u001b[1;33m]\u001b[0m\u001b[1;33m\u001b[0m\u001b[1;33m\u001b[0m\u001b[0m\n",
      "\u001b[1;32mC:\\ProgramData\\Anaconda3\\lib\\site-packages\\pandas\\core\\generic.py\u001b[0m in \u001b[0;36m__getattr__\u001b[1;34m(self, name)\u001b[0m\n\u001b[0;32m   4374\u001b[0m             \u001b[1;32mif\u001b[0m \u001b[0mself\u001b[0m\u001b[1;33m.\u001b[0m\u001b[0m_info_axis\u001b[0m\u001b[1;33m.\u001b[0m\u001b[0m_can_hold_identifiers_and_holds_name\u001b[0m\u001b[1;33m(\u001b[0m\u001b[0mname\u001b[0m\u001b[1;33m)\u001b[0m\u001b[1;33m:\u001b[0m\u001b[1;33m\u001b[0m\u001b[1;33m\u001b[0m\u001b[0m\n\u001b[0;32m   4375\u001b[0m                 \u001b[1;32mreturn\u001b[0m \u001b[0mself\u001b[0m\u001b[1;33m[\u001b[0m\u001b[0mname\u001b[0m\u001b[1;33m]\u001b[0m\u001b[1;33m\u001b[0m\u001b[1;33m\u001b[0m\u001b[0m\n\u001b[1;32m-> 4376\u001b[1;33m             \u001b[1;32mreturn\u001b[0m \u001b[0mobject\u001b[0m\u001b[1;33m.\u001b[0m\u001b[0m__getattribute__\u001b[0m\u001b[1;33m(\u001b[0m\u001b[0mself\u001b[0m\u001b[1;33m,\u001b[0m \u001b[0mname\u001b[0m\u001b[1;33m)\u001b[0m\u001b[1;33m\u001b[0m\u001b[1;33m\u001b[0m\u001b[0m\n\u001b[0m\u001b[0;32m   4377\u001b[0m \u001b[1;33m\u001b[0m\u001b[0m\n\u001b[0;32m   4378\u001b[0m     \u001b[1;32mdef\u001b[0m \u001b[0m__setattr__\u001b[0m\u001b[1;33m(\u001b[0m\u001b[0mself\u001b[0m\u001b[1;33m,\u001b[0m \u001b[0mname\u001b[0m\u001b[1;33m,\u001b[0m \u001b[0mvalue\u001b[0m\u001b[1;33m)\u001b[0m\u001b[1;33m:\u001b[0m\u001b[1;33m\u001b[0m\u001b[1;33m\u001b[0m\u001b[0m\n",
      "\u001b[1;31mAttributeError\u001b[0m: 'DataFrame' object has no attribute 'item_id_encoded_alpha_0'"
     ]
    }
   ],
   "source": [
    "item_cat = x_train[0].item_id_encoded_alpha_0\n",
    "shop_cat = x_train[0].shop_id_encoded_alpha_0\n",
    "y = y_train[0]"
   ]
  },
  {
   "cell_type": "code",
   "execution_count": null,
   "metadata": {},
   "outputs": [],
   "source": [
    "d = x_train[0]\n",
    "d['target'] = y_train[0]\n",
    "print(d.plot(x='item_id_encoded_alpha_0',y='target',kind='scatter'))"
   ]
  },
  {
   "cell_type": "code",
   "execution_count": null,
   "metadata": {},
   "outputs": [],
   "source": []
  },
  {
   "cell_type": "code",
   "execution_count": null,
   "metadata": {},
   "outputs": [],
   "source": [
    "#SUB=True"
   ]
  },
  {
   "cell_type": "markdown",
   "metadata": {},
   "source": [
    "# Retrain model with all data"
   ]
  },
  {
   "cell_type": "markdown",
   "metadata": {},
   "source": [
    "# Write Submission"
   ]
  },
  {
   "cell_type": "code",
   "execution_count": null,
   "metadata": {},
   "outputs": [],
   "source": [
    "#retrain on all data\n",
    "#\n",
    "#\n",
    "#\n",
    "#\n",
    "#\n",
    "if SUB:\n",
    "    preds = model.predict(x_test[1])"
   ]
  },
  {
   "cell_type": "code",
   "execution_count": null,
   "metadata": {},
   "outputs": [],
   "source": [
    "if SUB:\n",
    "    preds"
   ]
  },
  {
   "cell_type": "code",
   "execution_count": null,
   "metadata": {},
   "outputs": [],
   "source": [
    "if SUB:\n",
    "    #sample_sub = pd.read_csv('../original_data/sample_submission.csv.gz')\n",
    "    test0 = pd.read_csv('../original_data/test.csv.gz')"
   ]
  },
  {
   "cell_type": "code",
   "execution_count": null,
   "metadata": {},
   "outputs": [],
   "source": [
    "if SUB:\n",
    "    submission = x_test_1_saved.copy()\n",
    "    submission['item_cnt_month'] = preds\n",
    "    submission = test0.merge(submission).drop(['shop_id','item_id'],axis=1)"
   ]
  },
  {
   "cell_type": "code",
   "execution_count": null,
   "metadata": {},
   "outputs": [],
   "source": [
    "if SUB:\n",
    "    submission.to_csv('../gen_data/model3_basic_sub.csv',index=False)\n",
    "    submission.head()"
   ]
  },
  {
   "cell_type": "code",
   "execution_count": null,
   "metadata": {},
   "outputs": [],
   "source": [
    "if SUB:\n",
    "    submission_adjusted = submission\n",
    "    submission_adjusted['item_cnt_month'] = 0.2839853/submission_adjusted['item_cnt_month'].mean()*submission_adjusted['item_cnt_month']\n",
    "    submission.to_csv('../gen_data/model3_basic_sub_adjusted.csv',index=False)\n",
    "    submission_adjusted.head()"
   ]
  },
  {
   "cell_type": "code",
   "execution_count": null,
   "metadata": {},
   "outputs": [],
   "source": []
  },
  {
   "cell_type": "code",
   "execution_count": null,
   "metadata": {},
   "outputs": [],
   "source": []
  }
 ],
 "metadata": {
  "kernelspec": {
   "display_name": "Python 3",
   "language": "python",
   "name": "python3"
  },
  "language_info": {
   "codemirror_mode": {
    "name": "ipython",
    "version": 3
   },
   "file_extension": ".py",
   "mimetype": "text/x-python",
   "name": "python",
   "nbconvert_exporter": "python",
   "pygments_lexer": "ipython3",
   "version": "3.7.1"
  }
 },
 "nbformat": 4,
 "nbformat_minor": 2
}
