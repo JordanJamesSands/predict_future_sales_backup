{
 "cells": [
  {
   "cell_type": "code",
   "execution_count": 1,
   "metadata": {},
   "outputs": [],
   "source": [
    "import pandas as pd\n",
    "import numpy as np \n",
    "import pickle\n",
    "import xgboost as xgb\n",
    "import time\n",
    "import graphviz\n",
    "import matplotlib as plt"
   ]
  },
  {
   "cell_type": "code",
   "execution_count": 2,
   "metadata": {},
   "outputs": [],
   "source": [
    "START_NOTEBOOK = time.time()\n",
    "SUB=False"
   ]
  },
  {
   "cell_type": "code",
   "execution_count": 3,
   "metadata": {},
   "outputs": [
    {
     "ename": "KeyboardInterrupt",
     "evalue": "",
     "output_type": "error",
     "traceback": [
      "\u001b[1;31m---------------------------------------------------------------------------\u001b[0m",
      "\u001b[1;31mKeyboardInterrupt\u001b[0m                         Traceback (most recent call last)",
      "\u001b[1;32m<ipython-input-3-4afed55293ad>\u001b[0m in \u001b[0;36m<module>\u001b[1;34m\u001b[0m\n\u001b[1;32m----> 1\u001b[1;33m \u001b[0mpik\u001b[0m \u001b[1;33m=\u001b[0m \u001b[0mpickle\u001b[0m\u001b[1;33m.\u001b[0m\u001b[0mload\u001b[0m\u001b[1;33m(\u001b[0m\u001b[0mopen\u001b[0m\u001b[1;33m(\u001b[0m\u001b[1;34m'../saved_datasets/19-3-19,pipeline_A,dateback=12/xtrain_xtest_ytrain_ytest.pickle'\u001b[0m\u001b[1;33m,\u001b[0m\u001b[1;34m'rb'\u001b[0m\u001b[1;33m)\u001b[0m\u001b[1;33m)\u001b[0m\u001b[1;33m\u001b[0m\u001b[1;33m\u001b[0m\u001b[0m\n\u001b[0m\u001b[0;32m      2\u001b[0m \u001b[1;31m#x_train , x_test , y_train , y_test = [[x[0]] for x in pik]\u001b[0m\u001b[1;33m\u001b[0m\u001b[1;33m\u001b[0m\u001b[1;33m\u001b[0m\u001b[0m\n",
      "\u001b[1;32mC:\\ProgramData\\Anaconda3\\lib\\site-packages\\pandas\\core\\indexes\\base.py\u001b[0m in \u001b[0;36m_new_Index\u001b[1;34m(cls, d)\u001b[0m\n\u001b[0;32m    169\u001b[0m \u001b[1;33m\u001b[0m\u001b[0m\n\u001b[0;32m    170\u001b[0m \u001b[1;33m\u001b[0m\u001b[0m\n\u001b[1;32m--> 171\u001b[1;33m \u001b[1;32mdef\u001b[0m \u001b[0m_new_Index\u001b[0m\u001b[1;33m(\u001b[0m\u001b[0mcls\u001b[0m\u001b[1;33m,\u001b[0m \u001b[0md\u001b[0m\u001b[1;33m)\u001b[0m\u001b[1;33m:\u001b[0m\u001b[1;33m\u001b[0m\u001b[1;33m\u001b[0m\u001b[0m\n\u001b[0m\u001b[0;32m    172\u001b[0m     \"\"\" This is called upon unpickling, rather than the default which doesn't\n\u001b[0;32m    173\u001b[0m     \u001b[0mhave\u001b[0m \u001b[0marguments\u001b[0m \u001b[1;32mand\u001b[0m \u001b[0mbreaks\u001b[0m \u001b[0m__new__\u001b[0m\u001b[1;33m\u001b[0m\u001b[1;33m\u001b[0m\u001b[0m\n",
      "\u001b[1;31mKeyboardInterrupt\u001b[0m: "
     ]
    }
   ],
   "source": [
    "pik = pickle.load(open('../saved_datasets/19-3-19,pipeline_A,dateback=12/xtrain_xtest_ytrain_ytest.pickle','rb'))\n",
    "#x_train , x_test , y_train , y_test = [[x[0]] for x in pik]"
   ]
  },
  {
   "cell_type": "code",
   "execution_count": null,
   "metadata": {},
   "outputs": [],
   "source": [
    "x_train , x_test , y_train , y_test = pik"
   ]
  },
  {
   "cell_type": "code",
   "execution_count": null,
   "metadata": {},
   "outputs": [],
   "source": [
    "x_train[0].head()"
   ]
  },
  {
   "cell_type": "markdown",
   "metadata": {},
   "source": [
    "# Preprocessing"
   ]
  },
  {
   "cell_type": "code",
   "execution_count": null,
   "metadata": {},
   "outputs": [],
   "source": [
    "#save x_train[1] to create submission later (becuase i delete shop and item ids)\n",
    "x_test_1_saved = x_test[1][['shop_id','item_id']]"
   ]
  },
  {
   "cell_type": "code",
   "execution_count": null,
   "metadata": {},
   "outputs": [],
   "source": [
    "def preproc_model3(x_train,x_test,y_train,y_test):\n",
    "    x_train = [d.drop(['date_block_num','shop_id','item_id','item_category_id','month','city','item_type','item_info'],axis=1) for d in x_train]\n",
    "    x_test =  [d.drop(['date_block_num','shop_id','item_id','item_category_id','month','city','item_type','item_info'],axis=1) for d in x_test]\n",
    "    y_train = [d.clip(0,20) for d in y_train]\n",
    "    y_test =  [d.clip(0,20) for d in y_test]\n",
    "    return [x_train,x_test,y_train,y_test]"
   ]
  },
  {
   "cell_type": "code",
   "execution_count": null,
   "metadata": {},
   "outputs": [],
   "source": [
    "x_train , x_test , y_train , y_test = preproc_model3(x_train,x_test,y_train,y_test)"
   ]
  },
  {
   "cell_type": "code",
   "execution_count": null,
   "metadata": {},
   "outputs": [],
   "source": [
    "a = x_test[0].columns.tolist()\n",
    "b = x_train[0].columns.tolist()\n",
    "a==b"
   ]
  },
  {
   "cell_type": "markdown",
   "metadata": {},
   "source": [
    "# HACKS"
   ]
  },
  {
   "cell_type": "markdown",
   "metadata": {},
   "source": [
    "### sort columns"
   ]
  },
  {
   "cell_type": "code",
   "execution_count": null,
   "metadata": {},
   "outputs": [],
   "source": [
    "train_cols = x_train[0].columns.tolist()\n",
    "x_test[0] = x_test[0][train_cols]"
   ]
  },
  {
   "cell_type": "code",
   "execution_count": null,
   "metadata": {},
   "outputs": [],
   "source": [
    "A = x_train[0].columns.tolist()"
   ]
  },
  {
   "cell_type": "code",
   "execution_count": null,
   "metadata": {},
   "outputs": [],
   "source": [
    "B = x_test[0].columns.tolist()"
   ]
  },
  {
   "cell_type": "code",
   "execution_count": null,
   "metadata": {},
   "outputs": [],
   "source": [
    "A==B"
   ]
  },
  {
   "cell_type": "markdown",
   "metadata": {},
   "source": [
    "### fillnas in y_test"
   ]
  },
  {
   "cell_type": "code",
   "execution_count": null,
   "metadata": {},
   "outputs": [],
   "source": [
    "#y_test = [d.fillna(0) for d in y_test]"
   ]
  },
  {
   "cell_type": "markdown",
   "metadata": {},
   "source": [
    "## TODO: account for factor adjustment"
   ]
  },
  {
   "cell_type": "markdown",
   "metadata": {},
   "source": [
    "# Eval Metric"
   ]
  },
  {
   "cell_type": "code",
   "execution_count": null,
   "metadata": {},
   "outputs": [],
   "source": [
    "np.array([1,2,3]).clip(0,1)"
   ]
  },
  {
   "cell_type": "code",
   "execution_count": null,
   "metadata": {},
   "outputs": [],
   "source": [
    "def model3_eval(preds,true_y):\n",
    "    preds_clipped = preds.clip(0,20)\n",
    "    true_y_clipped = true_y.clip(0,20)\n",
    "    sq_res = (preds_clipped - true_y_clipped)**2\n",
    "    return  np.sqrt(np.mean(sq_res))"
   ]
  },
  {
   "cell_type": "markdown",
   "metadata": {},
   "source": [
    "# Objective metric"
   ]
  },
  {
   "cell_type": "code",
   "execution_count": null,
   "metadata": {},
   "outputs": [],
   "source": [
    "#def model3_objective(preds,true_y):\n",
    "    "
   ]
  },
  {
   "cell_type": "code",
   "execution_count": null,
   "metadata": {},
   "outputs": [],
   "source": [
    "np.mean(y_test[0].isna())"
   ]
  },
  {
   "cell_type": "markdown",
   "metadata": {},
   "source": [
    "# Notes"
   ]
  },
  {
   "cell_type": "markdown",
   "metadata": {},
   "source": [
    "- There are likely too many feats, this would explain immediate overfitting\n",
    "- rmse withou clipped data is gonna put a lot of focus on large outliers\n",
    "* consider mean abs error"
   ]
  },
  {
   "cell_type": "markdown",
   "metadata": {},
   "source": [
    "# Feature Selection"
   ]
  },
  {
   "cell_type": "code",
   "execution_count": null,
   "metadata": {},
   "outputs": [],
   "source": [
    "#x_train[0].columns.tolist()"
   ]
  },
  {
   "cell_type": "code",
   "execution_count": null,
   "metadata": {},
   "outputs": [],
   "source": []
  },
  {
   "cell_type": "code",
   "execution_count": null,
   "metadata": {},
   "outputs": [],
   "source": [
    "def feat_selection(x_train,x_test,y_train,y_test):\n",
    "    FEATS= [\n",
    " 'sum_item_sales_back_1',\n",
    " 'sum_shop_sales_back_1',\n",
    " 'item_cnt_month_back_1',\n",
    " 'sum_item_cat_sales_back_1',\n",
    " 'sum_item_cat_shop_sales_back_1',\n",
    " 'sum_item_sales_back_2',\n",
    " 'sum_shop_sales_back_2',\n",
    " 'item_cnt_month_back_2',\n",
    " 'sum_item_cat_sales_back_2',\n",
    " 'sum_item_cat_shop_sales_back_2',\n",
    " 'sum_item_sales_back_3',\n",
    " 'sum_shop_sales_back_3',\n",
    " 'item_cnt_month_back_3',\n",
    " 'sum_item_cat_sales_back_3',\n",
    " 'sum_item_cat_shop_sales_back_3',\n",
    " 'sum_item_sales_back_4',\n",
    " 'sum_shop_sales_back_4',\n",
    " 'item_cnt_month_back_4',\n",
    " 'sum_item_cat_sales_back_4',\n",
    " 'sum_item_cat_shop_sales_back_4',\n",
    " 'sum_item_sales_back_5',\n",
    " 'sum_shop_sales_back_5',\n",
    " 'item_cnt_month_back_5',\n",
    " 'sum_item_cat_sales_back_5',\n",
    " 'sum_item_cat_shop_sales_back_5',\n",
    " 'sum_item_sales_back_6',\n",
    " 'sum_shop_sales_back_6',\n",
    " 'item_cnt_month_back_6',\n",
    " 'sum_item_cat_sales_back_6',\n",
    " 'sum_item_cat_shop_sales_back_6']#,\n",
    "# 'sum_item_sales_back_7',\n",
    "# 'sum_shop_sales_back_7',\n",
    "# 'item_cnt_month_back_7',\n",
    "# 'sum_item_cat_sales_back_7',\n",
    "# 'sum_item_cat_shop_sales_back_7',\n",
    "# 'sum_item_sales_back_8',\n",
    "# 'sum_shop_sales_back_8',\n",
    "# 'item_cnt_month_back_8',\n",
    "# 'sum_item_cat_sales_back_8',\n",
    "# 'sum_item_cat_shop_sales_back_8',\n",
    "# 'sum_item_sales_back_9',\n",
    "# 'sum_shop_sales_back_9',\n",
    "# 'item_cnt_month_back_9',\n",
    "# 'sum_item_cat_sales_back_9',\n",
    "# 'sum_item_cat_shop_sales_back_9',\n",
    "# 'sum_item_sales_back_10',\n",
    "# 'sum_shop_sales_back_10',\n",
    "# 'item_cnt_month_back_10',\n",
    "# 'sum_item_cat_sales_back_10',\n",
    "# 'sum_item_cat_shop_sales_back_10',\n",
    "# 'sum_item_sales_back_11',\n",
    "# 'sum_shop_sales_back_11',\n",
    "# 'item_cnt_month_back_11',\n",
    "# 'sum_item_cat_sales_back_11',\n",
    "# 'sum_item_cat_shop_sales_back_11',\n",
    "# 'sum_item_sales_back_12',\n",
    "# 'sum_shop_sales_back_12',\n",
    "# 'item_cnt_month_back_12',\n",
    "# 'sum_item_cat_sales_back_12',\n",
    "# 'sum_item_cat_shop_sales_back_12',\n",
    "# 'numdays',\n",
    "# 'mean_prevmonth_item_price',\n",
    "# 'std_prevmonth_item_price',\n",
    "# 'median_prevmonth_item_price',\n",
    "# 'median_prevmonth_shop_item_price',\n",
    "# 'prop_median_item_price']#,\n",
    "# 'first_sale_date_block',\n",
    "# 'new_item']#,\n",
    "            \n",
    "# dont worry about these encodings, theyre prolly almost redundant\n",
    "            \n",
    "# 'item_info_encoded_alpha_0',\n",
    "# 'shop_id_encoded_alpha_0',\n",
    "# 'item_id_encoded_alpha_0']#,\n",
    "# 'item_category_id_encoded_alpha_0',\n",
    "# 'month_encoded_alpha_0',\n",
    "# 'city_encoded_alpha_0',\n",
    "# 'item_type_encoded_alpha_0']#,\n",
    "# 'item_info_encoded_alpha_50',\n",
    "# 'shop_id_encoded_alpha_50',\n",
    "# 'item_id_encoded_alpha_50',\n",
    "# 'item_category_id_encoded_alpha_50',\n",
    "# 'month_encoded_alpha_50',\n",
    "# 'city_encoded_alpha_50',\n",
    "# 'item_type_encoded_alpha_50',\n",
    "# 'item_info_encoded_alpha_100',\n",
    "# 'shop_id_encoded_alpha_100',\n",
    "# 'item_id_encoded_alpha_100',\n",
    "# 'item_category_id_encoded_alpha_100',\n",
    "# 'month_encoded_alpha_100',\n",
    "# 'city_encoded_alpha_100',\n",
    "# 'item_type_encoded_alpha_100'\n",
    "# 'item_info_encoded_alpha_200',\n",
    "# 'shop_id_encoded_alpha_200',\n",
    "# 'item_id_encoded_alpha_200',\n",
    "# 'item_category_id_encoded_alpha_200',\n",
    "# 'month_encoded_alpha_200',\n",
    "# 'city_encoded_alpha_200',\n",
    "# 'item_type_encoded_alpha_200']#,\n",
    "# 'item_info_encoded_alpha_500',\n",
    "# 'shop_id_encoded_alpha_500',\n",
    "# 'item_id_encoded_alpha_500',\n",
    "# 'item_category_id_encoded_alpha_500',\n",
    "# 'month_encoded_alpha_500',\n",
    "# 'city_encoded_alpha_500',\n",
    "# 'item_type_encoded_alpha_500']#,\n",
    "# 'item_info_encoded_alpha_1000',\n",
    "# 'shop_id_encoded_alpha_1000',\n",
    "# 'item_id_encoded_alpha_1000',\n",
    "# 'item_category_id_encoded_alpha_1000',\n",
    "# 'month_encoded_alpha_1000',\n",
    "# 'city_encoded_alpha_1000',\n",
    "# 'item_type_encoded_alpha_1000']#,\n",
    "# 'item_info_encoded_alpha_2000',\n",
    "# 'shop_id_encoded_alpha_2000',\n",
    "# 'item_id_encoded_alpha_2000',\n",
    "# 'item_category_id_encoded_alpha_2000',\n",
    "# 'month_encoded_alpha_2000',\n",
    "# 'city_encoded_alpha_2000',\n",
    "# 'item_type_encoded_alpha_2000']\n",
    "    \n",
    "    x_train = [d[FEATS] for d in x_train]\n",
    "    x_test =  [d[FEATS] for d in x_test]\n",
    "    return [x_train,x_test,y_train,y_test]"
   ]
  },
  {
   "cell_type": "code",
   "execution_count": null,
   "metadata": {},
   "outputs": [],
   "source": [
    "x_train , x_test , y_train , y_test = feat_selection(x_train,x_test,y_train,y_test)"
   ]
  },
  {
   "cell_type": "markdown",
   "metadata": {},
   "source": [
    "# Reduce Dataset size"
   ]
  },
  {
   "cell_type": "code",
   "execution_count": null,
   "metadata": {},
   "outputs": [],
   "source": [
    "#x_train_small = [d.sample(frac=1,random_state=0) for d in x_train]\n",
    "#y_train_small = [d.sample(frac=1,random_state=0) for d in y_train]\n",
    "#x_test_small = [d.sample(frac=1,random_state=0) for d in x_test]\n",
    "#y_test_small = [d.sample(frac=1,random_state=0) for d in y_test]"
   ]
  },
  {
   "cell_type": "code",
   "execution_count": 23,
   "metadata": {},
   "outputs": [
    {
     "data": {
      "text/plain": [
       "(6186922, 30)"
      ]
     },
     "execution_count": 23,
     "metadata": {},
     "output_type": "execute_result"
    }
   ],
   "source": [
    "x_train[0].shape"
   ]
  },
  {
   "cell_type": "markdown",
   "metadata": {},
   "source": [
    "# Fitting"
   ]
  },
  {
   "cell_type": "code",
   "execution_count": 24,
   "metadata": {},
   "outputs": [
    {
     "data": {
      "text/plain": [
       "(1940455,)"
      ]
     },
     "execution_count": 24,
     "metadata": {},
     "output_type": "execute_result"
    }
   ],
   "source": [
    "y_exp = pickle.load(open('../gen_data/saved_y_train_list[0].pickle','rb'))\n",
    "y_exp.shape"
   ]
  },
  {
   "cell_type": "code",
   "execution_count": null,
   "metadata": {},
   "outputs": [],
   "source": [
    "model = xgb.XGBRegressor(\n",
    "    seed=0,\n",
    "    max_depth=3,\n",
    "    learning_rate=0.5,\n",
    "    n_estimators=1000,\n",
    "    objective='reg:linear',\n",
    "    nthread=8,\n",
    "    min_child_weight=100\n",
    ")\n",
    "eval_set = [(x_train[0],y_train[0]),(x_test[0],y_test[0])]"
   ]
  },
  {
   "cell_type": "code",
   "execution_count": 25,
   "metadata": {},
   "outputs": [],
   "source": [
    "y_train[0] = y_exp"
   ]
  },
  {
   "cell_type": "code",
   "execution_count": null,
   "metadata": {},
   "outputs": [],
   "source": [
    "model.fit(\n",
    "    verbose=True,\n",
    "    X=x_train[0],\n",
    "    y=y_train[0],\n",
    "    eval_set=eval_set,\n",
    "    early_stopping_rounds=10\n",
    ")"
   ]
  },
  {
   "cell_type": "code",
   "execution_count": null,
   "metadata": {},
   "outputs": [],
   "source": [
    "#np.sqrt(np.mean((model.predict(x_test[0]) - y_test[0])**2))"
   ]
  },
  {
   "cell_type": "code",
   "execution_count": null,
   "metadata": {},
   "outputs": [],
   "source": [
    "#import os\n",
    "#os.environ[\"PATH\"] += os.pathsep + 'C://ProgramData/Anaconda3/pkgs/graphviz-2.38.0-h6538335_1011/Library/bin'\n",
    "\n",
    "#os.environ['PATH']\n",
    "\n",
    "#xgb.plot_tree(model)"
   ]
  },
  {
   "cell_type": "code",
   "execution_count": null,
   "metadata": {},
   "outputs": [],
   "source": []
  },
  {
   "cell_type": "code",
   "execution_count": null,
   "metadata": {},
   "outputs": [],
   "source": [
    "#feat_imp = model.feature_importances_\n",
    "#feats = x_train[0].columns\n",
    "#df = pd.DataFrame({'feature':feats,'importance':feat_imp})\n",
    "#df = df.sort_values('importance',ascending=False)\n",
    "#print(df.plot(x='feature',y='importance',kind='bar',))\n",
    "ax = xgb.plot_importance(model,height=0.8,)\n",
    "ax.figure.set_size_inches(5,10)"
   ]
  },
  {
   "cell_type": "markdown",
   "metadata": {},
   "source": [
    "# EDA"
   ]
  },
  {
   "cell_type": "code",
   "execution_count": null,
   "metadata": {},
   "outputs": [],
   "source": [
    "item_cat = x_train[0].item_id_encoded_alpha_0\n",
    "shop_cat = x_train[0].shop_id_encoded_alpha_0\n",
    "y = y_train[0]"
   ]
  },
  {
   "cell_type": "code",
   "execution_count": null,
   "metadata": {},
   "outputs": [],
   "source": [
    "d = x_train[0]\n",
    "d['target'] = y_train[0]\n",
    "print(d.plot(x='item_id_encoded_alpha_0',y='target',kind='scatter'))"
   ]
  },
  {
   "cell_type": "code",
   "execution_count": null,
   "metadata": {},
   "outputs": [],
   "source": []
  },
  {
   "cell_type": "code",
   "execution_count": null,
   "metadata": {},
   "outputs": [],
   "source": [
    "#SUB=True"
   ]
  },
  {
   "cell_type": "markdown",
   "metadata": {},
   "source": [
    "# Retrain model with all data"
   ]
  },
  {
   "cell_type": "markdown",
   "metadata": {},
   "source": [
    "# Write Submission"
   ]
  },
  {
   "cell_type": "code",
   "execution_count": null,
   "metadata": {},
   "outputs": [],
   "source": [
    "#retrain on all data\n",
    "#\n",
    "#\n",
    "#\n",
    "#\n",
    "#\n",
    "if SUB:\n",
    "    preds = model.predict(x_test[1])"
   ]
  },
  {
   "cell_type": "code",
   "execution_count": null,
   "metadata": {},
   "outputs": [],
   "source": [
    "if SUB:\n",
    "    preds"
   ]
  },
  {
   "cell_type": "code",
   "execution_count": null,
   "metadata": {},
   "outputs": [],
   "source": [
    "if SUB:\n",
    "    #sample_sub = pd.read_csv('../original_data/sample_submission.csv.gz')\n",
    "    test0 = pd.read_csv('../original_data/test.csv.gz')"
   ]
  },
  {
   "cell_type": "code",
   "execution_count": null,
   "metadata": {},
   "outputs": [],
   "source": [
    "if SUB:\n",
    "    submission = x_test_1_saved.copy()\n",
    "    submission['item_cnt_month'] = preds\n",
    "    submission = test0.merge(submission).drop(['shop_id','item_id'],axis=1)"
   ]
  },
  {
   "cell_type": "code",
   "execution_count": null,
   "metadata": {},
   "outputs": [],
   "source": [
    "if SUB:\n",
    "    submission.to_csv('../gen_data/model3_basic_sub.csv',index=False)\n",
    "    submission.head()"
   ]
  },
  {
   "cell_type": "code",
   "execution_count": null,
   "metadata": {},
   "outputs": [],
   "source": [
    "if SUB:\n",
    "    submission_adjusted = submission\n",
    "    submission_adjusted['item_cnt_month'] = 0.2839853/submission_adjusted['item_cnt_month'].mean()*submission_adjusted['item_cnt_month']\n",
    "    submission.to_csv('../gen_data/model3_basic_sub_adjusted.csv',index=False)\n",
    "    submission_adjusted.head()"
   ]
  },
  {
   "cell_type": "code",
   "execution_count": null,
   "metadata": {},
   "outputs": [],
   "source": []
  },
  {
   "cell_type": "code",
   "execution_count": null,
   "metadata": {},
   "outputs": [],
   "source": []
  }
 ],
 "metadata": {
  "kernelspec": {
   "display_name": "Python 3",
   "language": "python",
   "name": "python3"
  },
  "language_info": {
   "codemirror_mode": {
    "name": "ipython",
    "version": 3
   },
   "file_extension": ".py",
   "mimetype": "text/x-python",
   "name": "python",
   "nbconvert_exporter": "python",
   "pygments_lexer": "ipython3",
   "version": "3.7.1"
  }
 },
 "nbformat": 4,
 "nbformat_minor": 2
}
