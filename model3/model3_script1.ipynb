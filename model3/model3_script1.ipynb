{
 "cells": [
  {
   "cell_type": "code",
   "execution_count": 1,
   "metadata": {},
   "outputs": [],
   "source": [
    "import pandas as pd\n",
    "import numpy as np \n",
    "import pickle\n",
    "import xgboost as xgb"
   ]
  },
  {
   "cell_type": "code",
   "execution_count": 2,
   "metadata": {},
   "outputs": [],
   "source": [
    "pik = pickle.load(open('../saved_datasets/15-3-19,pipeline_A,dateback=12,alphas=[0,50,100]/xtrain_xtest_ytrain_ytest.pickle','rb'))\n",
    "\n",
    "#x_train , x_test , y_train , y_test = [[x[0]] for x in pik]\n",
    "x_train , x_test , y_train , y_test = pik\n",
    "\n",
    "del pik"
   ]
  },
  {
   "cell_type": "code",
   "execution_count": 3,
   "metadata": {},
   "outputs": [
    {
     "data": {
      "text/html": [
       "<div>\n",
       "<style scoped>\n",
       "    .dataframe tbody tr th:only-of-type {\n",
       "        vertical-align: middle;\n",
       "    }\n",
       "\n",
       "    .dataframe tbody tr th {\n",
       "        vertical-align: top;\n",
       "    }\n",
       "\n",
       "    .dataframe thead th {\n",
       "        text-align: right;\n",
       "    }\n",
       "</style>\n",
       "<table border=\"1\" class=\"dataframe\">\n",
       "  <thead>\n",
       "    <tr style=\"text-align: right;\">\n",
       "      <th></th>\n",
       "      <th>date_block_num</th>\n",
       "      <th>shop_id</th>\n",
       "      <th>item_id</th>\n",
       "      <th>item_category_id</th>\n",
       "      <th>sum_item_sales_back_1</th>\n",
       "      <th>sum_shop_sales_back_1</th>\n",
       "      <th>item_cnt_month_back_1</th>\n",
       "      <th>sum_item_cat_sales_back_1</th>\n",
       "      <th>sum_item_cat_shop_sales_back_1</th>\n",
       "      <th>sum_item_sales_back_2</th>\n",
       "      <th>...</th>\n",
       "      <th>month_encoded_alpha_50</th>\n",
       "      <th>city_encoded_alpha_50</th>\n",
       "      <th>item_type_encoded_alpha_50</th>\n",
       "      <th>item_info_encoded_alpha_100</th>\n",
       "      <th>shop_id_encoded_alpha_100</th>\n",
       "      <th>item_id_encoded_alpha_100</th>\n",
       "      <th>item_category_id_encoded_alpha_100</th>\n",
       "      <th>month_encoded_alpha_100</th>\n",
       "      <th>city_encoded_alpha_100</th>\n",
       "      <th>item_type_encoded_alpha_100</th>\n",
       "    </tr>\n",
       "  </thead>\n",
       "  <tbody>\n",
       "    <tr>\n",
       "      <th>0</th>\n",
       "      <td>12</td>\n",
       "      <td>2</td>\n",
       "      <td>32</td>\n",
       "      <td>40</td>\n",
       "      <td>0.0</td>\n",
       "      <td>0.0</td>\n",
       "      <td>0.0</td>\n",
       "      <td>0.0</td>\n",
       "      <td>0.0</td>\n",
       "      <td>0.0</td>\n",
       "      <td>...</td>\n",
       "      <td>0.345510</td>\n",
       "      <td>0.149538</td>\n",
       "      <td>0.207502</td>\n",
       "      <td>0.245058</td>\n",
       "      <td>0.149622</td>\n",
       "      <td>0.654339</td>\n",
       "      <td>0.245058</td>\n",
       "      <td>0.345508</td>\n",
       "      <td>0.149622</td>\n",
       "      <td>0.207506</td>\n",
       "    </tr>\n",
       "    <tr>\n",
       "      <th>1</th>\n",
       "      <td>12</td>\n",
       "      <td>2</td>\n",
       "      <td>33</td>\n",
       "      <td>37</td>\n",
       "      <td>42.0</td>\n",
       "      <td>1322.0</td>\n",
       "      <td>1.0</td>\n",
       "      <td>9959.0</td>\n",
       "      <td>55.0</td>\n",
       "      <td>15.0</td>\n",
       "      <td>...</td>\n",
       "      <td>0.342765</td>\n",
       "      <td>0.154742</td>\n",
       "      <td>0.207805</td>\n",
       "      <td>0.162711</td>\n",
       "      <td>0.154824</td>\n",
       "      <td>0.394627</td>\n",
       "      <td>0.162711</td>\n",
       "      <td>0.342763</td>\n",
       "      <td>0.154824</td>\n",
       "      <td>0.207809</td>\n",
       "    </tr>\n",
       "    <tr>\n",
       "      <th>2</th>\n",
       "      <td>12</td>\n",
       "      <td>2</td>\n",
       "      <td>99</td>\n",
       "      <td>37</td>\n",
       "      <td>0.0</td>\n",
       "      <td>0.0</td>\n",
       "      <td>0.0</td>\n",
       "      <td>0.0</td>\n",
       "      <td>0.0</td>\n",
       "      <td>0.0</td>\n",
       "      <td>...</td>\n",
       "      <td>0.353070</td>\n",
       "      <td>0.154511</td>\n",
       "      <td>0.207298</td>\n",
       "      <td>0.162172</td>\n",
       "      <td>0.154593</td>\n",
       "      <td>0.188741</td>\n",
       "      <td>0.162172</td>\n",
       "      <td>0.353067</td>\n",
       "      <td>0.154593</td>\n",
       "      <td>0.207301</td>\n",
       "    </tr>\n",
       "    <tr>\n",
       "      <th>3</th>\n",
       "      <td>12</td>\n",
       "      <td>2</td>\n",
       "      <td>482</td>\n",
       "      <td>73</td>\n",
       "      <td>88.0</td>\n",
       "      <td>1322.0</td>\n",
       "      <td>1.0</td>\n",
       "      <td>419.0</td>\n",
       "      <td>3.0</td>\n",
       "      <td>85.0</td>\n",
       "      <td>...</td>\n",
       "      <td>0.350848</td>\n",
       "      <td>0.153088</td>\n",
       "      <td>0.182709</td>\n",
       "      <td>0.388219</td>\n",
       "      <td>0.153170</td>\n",
       "      <td>1.320853</td>\n",
       "      <td>0.388219</td>\n",
       "      <td>0.350845</td>\n",
       "      <td>0.153170</td>\n",
       "      <td>0.182753</td>\n",
       "    </tr>\n",
       "    <tr>\n",
       "      <th>4</th>\n",
       "      <td>12</td>\n",
       "      <td>2</td>\n",
       "      <td>485</td>\n",
       "      <td>73</td>\n",
       "      <td>118.0</td>\n",
       "      <td>1322.0</td>\n",
       "      <td>1.0</td>\n",
       "      <td>419.0</td>\n",
       "      <td>3.0</td>\n",
       "      <td>0.0</td>\n",
       "      <td>...</td>\n",
       "      <td>0.342765</td>\n",
       "      <td>0.154742</td>\n",
       "      <td>0.182086</td>\n",
       "      <td>0.384908</td>\n",
       "      <td>0.154824</td>\n",
       "      <td>1.669637</td>\n",
       "      <td>0.384908</td>\n",
       "      <td>0.342763</td>\n",
       "      <td>0.154824</td>\n",
       "      <td>0.182131</td>\n",
       "    </tr>\n",
       "  </tbody>\n",
       "</table>\n",
       "<p>5 rows × 97 columns</p>\n",
       "</div>"
      ],
      "text/plain": [
       "   date_block_num  shop_id  item_id  item_category_id  sum_item_sales_back_1  \\\n",
       "0              12        2       32                40                    0.0   \n",
       "1              12        2       33                37                   42.0   \n",
       "2              12        2       99                37                    0.0   \n",
       "3              12        2      482                73                   88.0   \n",
       "4              12        2      485                73                  118.0   \n",
       "\n",
       "   sum_shop_sales_back_1  item_cnt_month_back_1  sum_item_cat_sales_back_1  \\\n",
       "0                    0.0                    0.0                        0.0   \n",
       "1                 1322.0                    1.0                     9959.0   \n",
       "2                    0.0                    0.0                        0.0   \n",
       "3                 1322.0                    1.0                      419.0   \n",
       "4                 1322.0                    1.0                      419.0   \n",
       "\n",
       "   sum_item_cat_shop_sales_back_1  sum_item_sales_back_2  \\\n",
       "0                             0.0                    0.0   \n",
       "1                            55.0                   15.0   \n",
       "2                             0.0                    0.0   \n",
       "3                             3.0                   85.0   \n",
       "4                             3.0                    0.0   \n",
       "\n",
       "              ...               month_encoded_alpha_50  city_encoded_alpha_50  \\\n",
       "0             ...                             0.345510               0.149538   \n",
       "1             ...                             0.342765               0.154742   \n",
       "2             ...                             0.353070               0.154511   \n",
       "3             ...                             0.350848               0.153088   \n",
       "4             ...                             0.342765               0.154742   \n",
       "\n",
       "   item_type_encoded_alpha_50  item_info_encoded_alpha_100  \\\n",
       "0                    0.207502                     0.245058   \n",
       "1                    0.207805                     0.162711   \n",
       "2                    0.207298                     0.162172   \n",
       "3                    0.182709                     0.388219   \n",
       "4                    0.182086                     0.384908   \n",
       "\n",
       "   shop_id_encoded_alpha_100  item_id_encoded_alpha_100  \\\n",
       "0                   0.149622                   0.654339   \n",
       "1                   0.154824                   0.394627   \n",
       "2                   0.154593                   0.188741   \n",
       "3                   0.153170                   1.320853   \n",
       "4                   0.154824                   1.669637   \n",
       "\n",
       "   item_category_id_encoded_alpha_100  month_encoded_alpha_100  \\\n",
       "0                            0.245058                 0.345508   \n",
       "1                            0.162711                 0.342763   \n",
       "2                            0.162172                 0.353067   \n",
       "3                            0.388219                 0.350845   \n",
       "4                            0.384908                 0.342763   \n",
       "\n",
       "   city_encoded_alpha_100  item_type_encoded_alpha_100  \n",
       "0                0.149622                     0.207506  \n",
       "1                0.154824                     0.207809  \n",
       "2                0.154593                     0.207301  \n",
       "3                0.153170                     0.182753  \n",
       "4                0.154824                     0.182131  \n",
       "\n",
       "[5 rows x 97 columns]"
      ]
     },
     "execution_count": 3,
     "metadata": {},
     "output_type": "execute_result"
    }
   ],
   "source": [
    "x_train[0].head()"
   ]
  },
  {
   "cell_type": "markdown",
   "metadata": {},
   "source": [
    "# Preprocessing"
   ]
  },
  {
   "cell_type": "code",
   "execution_count": 4,
   "metadata": {},
   "outputs": [],
   "source": [
    "def preproc_model3(x_train,x_test,y_train,y_test):\n",
    "    x_train = [d.drop(['date_block_num','shop_id','item_id','item_category_id','month','city','item_type','item_info'],axis=1) for d in x_train]\n",
    "    x_test =  [d.drop(['date_block_num','shop_id','item_id','item_category_id','month','city','item_type','item_info'],axis=1) for d in x_test]\n",
    "    y_train = [d.clip(0,20) for d in y_train]\n",
    "    y_test =  [d.clip(0,20) for d in y_test]\n",
    "    return [x_train,x_test,y_train,y_test]"
   ]
  },
  {
   "cell_type": "code",
   "execution_count": 5,
   "metadata": {},
   "outputs": [],
   "source": [
    "x_train , x_test , y_train , y_test = preproc_model3(x_train,x_test,y_train,y_test)"
   ]
  },
  {
   "cell_type": "markdown",
   "metadata": {},
   "source": [
    "# HACKS"
   ]
  },
  {
   "cell_type": "markdown",
   "metadata": {},
   "source": [
    "### sort columns"
   ]
  },
  {
   "cell_type": "code",
   "execution_count": 6,
   "metadata": {},
   "outputs": [],
   "source": [
    "train_cols = x_train[0].columns.tolist()\n",
    "x_test[0] = x_test[0][train_cols]"
   ]
  },
  {
   "cell_type": "code",
   "execution_count": 7,
   "metadata": {},
   "outputs": [],
   "source": [
    "A = x_train[0].columns.tolist()"
   ]
  },
  {
   "cell_type": "code",
   "execution_count": 8,
   "metadata": {},
   "outputs": [],
   "source": [
    "B = x_test[0].columns.tolist()"
   ]
  },
  {
   "cell_type": "code",
   "execution_count": 9,
   "metadata": {},
   "outputs": [
    {
     "data": {
      "text/plain": [
       "True"
      ]
     },
     "execution_count": 9,
     "metadata": {},
     "output_type": "execute_result"
    }
   ],
   "source": [
    "A==B"
   ]
  },
  {
   "cell_type": "markdown",
   "metadata": {},
   "source": [
    "### fillnas in y_test"
   ]
  },
  {
   "cell_type": "code",
   "execution_count": 10,
   "metadata": {},
   "outputs": [],
   "source": [
    "y_test = [d.fillna(0) for d in y_test]"
   ]
  },
  {
   "cell_type": "markdown",
   "metadata": {},
   "source": [
    "## TODO: account for factor adjustment"
   ]
  },
  {
   "cell_type": "markdown",
   "metadata": {},
   "source": [
    "# Eval Metric"
   ]
  },
  {
   "cell_type": "code",
   "execution_count": 11,
   "metadata": {},
   "outputs": [
    {
     "data": {
      "text/plain": [
       "array([1, 1, 1])"
      ]
     },
     "execution_count": 11,
     "metadata": {},
     "output_type": "execute_result"
    }
   ],
   "source": [
    "np.array([1,2,3]).clip(0,1)"
   ]
  },
  {
   "cell_type": "code",
   "execution_count": 12,
   "metadata": {},
   "outputs": [],
   "source": [
    "def model3_eval(preds,true_y):\n",
    "    preds_clipped = preds.clip(0,20)\n",
    "    true_y_clipped = true_y.clip(0,20)\n",
    "    sq_res = (preds_clipped - true_y_clipped)**2\n",
    "    return  np.sqrt(np.mean(sq_res))"
   ]
  },
  {
   "cell_type": "markdown",
   "metadata": {},
   "source": [
    "# Objective metric"
   ]
  },
  {
   "cell_type": "code",
   "execution_count": 13,
   "metadata": {},
   "outputs": [],
   "source": [
    "#def model3_objective(preds,true_y):\n",
    "    "
   ]
  },
  {
   "cell_type": "code",
   "execution_count": 14,
   "metadata": {},
   "outputs": [
    {
     "data": {
      "text/plain": [
       "0.0"
      ]
     },
     "execution_count": 14,
     "metadata": {},
     "output_type": "execute_result"
    }
   ],
   "source": [
    "np.mean(y_test[0].isna())"
   ]
  },
  {
   "cell_type": "markdown",
   "metadata": {},
   "source": [
    "# Notes"
   ]
  },
  {
   "cell_type": "markdown",
   "metadata": {},
   "source": [
    "- There are likely too many feats, this would explain immediate overfitting\n",
    "- rmse withou clipped data is gonna put a lot of focus on large outliers\n",
    "* consider mean abs error"
   ]
  },
  {
   "cell_type": "markdown",
   "metadata": {},
   "source": [
    "# Feature Selection"
   ]
  },
  {
   "cell_type": "code",
   "execution_count": 15,
   "metadata": {},
   "outputs": [],
   "source": [
    "#x_train[0].columns.tolist()"
   ]
  },
  {
   "cell_type": "code",
   "execution_count": 16,
   "metadata": {},
   "outputs": [],
   "source": [
    "def feat_selection(x_train,x_test,y_train,y_test):\n",
    "    FEATS= ['sum_item_sales_back_1',\n",
    " 'sum_shop_sales_back_1',\n",
    " 'item_cnt_month_back_1',\n",
    " 'sum_item_cat_sales_back_1',\n",
    " 'sum_item_cat_shop_sales_back_1',\n",
    " 'sum_item_sales_back_2',\n",
    " 'sum_shop_sales_back_2',\n",
    " 'item_cnt_month_back_2',\n",
    " 'sum_item_cat_sales_back_2',\n",
    " 'sum_item_cat_shop_sales_back_2']#,\n",
    "# 'sum_item_sales_back_3',\n",
    "# 'sum_shop_sales_back_3',\n",
    "# 'item_cnt_month_back_3',\n",
    "# 'sum_item_cat_sales_back_3',\n",
    "# 'sum_item_cat_shop_sales_back_3',\n",
    "# 'sum_item_sales_back_4',\n",
    "# 'sum_shop_sales_back_4',\n",
    "# 'item_cnt_month_back_4',\n",
    "# 'sum_item_cat_sales_back_4',\n",
    "# 'sum_item_cat_shop_sales_back_4',\n",
    "# 'sum_item_sales_back_5',\n",
    "# 'sum_shop_sales_back_5',\n",
    "# 'item_cnt_month_back_5',\n",
    "# 'sum_item_cat_sales_back_5',\n",
    "# 'sum_item_cat_shop_sales_back_5',\n",
    "# 'sum_item_sales_back_6',\n",
    "# 'sum_shop_sales_back_6',\n",
    "# 'item_cnt_month_back_6',\n",
    "# 'sum_item_cat_sales_back_6',\n",
    "# 'sum_item_cat_shop_sales_back_6',\n",
    "# 'sum_item_sales_back_7',\n",
    "# 'sum_shop_sales_back_7',\n",
    "# 'item_cnt_month_back_7',\n",
    "# 'sum_item_cat_sales_back_7',\n",
    "# 'sum_item_cat_shop_sales_back_7',\n",
    "# 'sum_item_sales_back_8',\n",
    "# 'sum_shop_sales_back_8',\n",
    "# 'item_cnt_month_back_8',\n",
    "# 'sum_item_cat_sales_back_8',\n",
    "# 'sum_item_cat_shop_sales_back_8',\n",
    "# 'sum_item_sales_back_9',\n",
    "# 'sum_shop_sales_back_9',\n",
    "# 'item_cnt_month_back_9',\n",
    "# 'sum_item_cat_sales_back_9',\n",
    "# 'sum_item_cat_shop_sales_back_9',\n",
    "# 'sum_item_sales_back_10',\n",
    "# 'sum_shop_sales_back_10',\n",
    "# 'item_cnt_month_back_10',\n",
    "# 'sum_item_cat_sales_back_10',\n",
    "# 'sum_item_cat_shop_sales_back_10',\n",
    "# 'sum_item_sales_back_11',\n",
    "# 'sum_shop_sales_back_11',\n",
    "# 'item_cnt_month_back_11',\n",
    "# 'sum_item_cat_sales_back_11',\n",
    "# 'sum_item_cat_shop_sales_back_11',\n",
    "# 'sum_item_sales_back_12',\n",
    "# 'sum_shop_sales_back_12',\n",
    "# 'item_cnt_month_back_12',\n",
    "# 'sum_item_cat_sales_back_12',\n",
    "# 'sum_item_cat_shop_sales_back_12',\n",
    "# 'numdays',\n",
    "# 'mean_prevmonth_item_price',\n",
    "# 'std_prevmonth_item_price',\n",
    "# 'median_prevmonth_item_price',\n",
    "# 'median_prevmonth_shop_item_price',\n",
    "# 'prop_median_item_price',\n",
    "# 'first_sale_date_block',\n",
    "# 'new_item',\n",
    "# 'item_info_encoded_alpha_0',\n",
    "# 'shop_id_encoded_alpha_0',\n",
    "# 'item_id_encoded_alpha_0',\n",
    "# 'item_category_id_encoded_alpha_0',\n",
    "# 'month_encoded_alpha_0',\n",
    "# 'city_encoded_alpha_0',\n",
    "# 'item_type_encoded_alpha_0',\n",
    "# 'item_info_encoded_alpha_50',\n",
    "# 'shop_id_encoded_alpha_50',\n",
    "# 'item_id_encoded_alpha_50',\n",
    "# 'item_category_id_encoded_alpha_50',\n",
    "# 'month_encoded_alpha_50',\n",
    "# 'city_encoded_alpha_50',\n",
    "# 'item_type_encoded_alpha_50',\n",
    "# 'item_info_encoded_alpha_100',\n",
    "# 'shop_id_encoded_alpha_100',\n",
    "# 'item_id_encoded_alpha_100',\n",
    "# 'item_category_id_encoded_alpha_100',\n",
    "# 'month_encoded_alpha_100',\n",
    "# 'city_encoded_alpha_100',\n",
    "# 'item_type_encoded_alpha_100']\n",
    "    \n",
    "    x_train = [d[FEATS] for d in x_train]\n",
    "    x_test =  [d[FEATS] for d in x_test]\n",
    "    return [x_train,x_test,y_train,y_test]"
   ]
  },
  {
   "cell_type": "code",
   "execution_count": 17,
   "metadata": {},
   "outputs": [],
   "source": [
    "x_train , x_test , y_train , y_test = feat_selection(x_train,x_test,y_train,y_test)"
   ]
  },
  {
   "cell_type": "markdown",
   "metadata": {},
   "source": [
    "# Reduce Dataset size"
   ]
  },
  {
   "cell_type": "code",
   "execution_count": 18,
   "metadata": {},
   "outputs": [],
   "source": [
    "x_train_small = [d.sample(frac=1,random_state=0) for d in x_train]\n",
    "y_train_small = [d.sample(frac=1,random_state=0) for d in y_train]\n",
    "x_test_small = [d.sample(frac=1,random_state=0) for d in x_test]\n",
    "y_test_small = [d.sample(frac=1,random_state=0) for d in y_test]"
   ]
  },
  {
   "cell_type": "markdown",
   "metadata": {},
   "source": [
    "# Fitting"
   ]
  },
  {
   "cell_type": "code",
   "execution_count": 19,
   "metadata": {},
   "outputs": [],
   "source": [
    "model = xgb.XGBRegressor(\n",
    "    seed=0,\n",
    "    max_depth=3,\n",
    "    learning_rate=1,\n",
    "    n_estimators=1000,\n",
    "    objective='reg:linear',\n",
    ")\n",
    "eval_set = [(x_train_small[0],y_train_small[0]),(x_test[0],y_test[0])]"
   ]
  },
  {
   "cell_type": "code",
   "execution_count": 20,
   "metadata": {},
   "outputs": [
    {
     "name": "stdout",
     "output_type": "stream",
     "text": [
      "[04:27:02] Tree method is automatically selected to be 'approx' for faster speed. to use old behavior(exact greedy algorithm on single machine), set tree_method to 'exact'\n",
      "[0]\tvalidation_0-rmse:0.958595\tvalidation_1-rmse:1.26307\n",
      "Multiple eval metrics have been passed: 'validation_1-rmse' will be used for early stopping.\n",
      "\n",
      "Will train until validation_1-rmse hasn't improved in 50 rounds.\n",
      "[1]\tvalidation_0-rmse:0.944925\tvalidation_1-rmse:1.27783\n",
      "[2]\tvalidation_0-rmse:0.939023\tvalidation_1-rmse:1.27911\n",
      "[3]\tvalidation_0-rmse:0.936721\tvalidation_1-rmse:1.28012\n",
      "[4]\tvalidation_0-rmse:0.93411\tvalidation_1-rmse:1.27822\n",
      "[5]\tvalidation_0-rmse:0.931692\tvalidation_1-rmse:1.29008\n",
      "[6]\tvalidation_0-rmse:0.930155\tvalidation_1-rmse:1.30059\n",
      "[7]\tvalidation_0-rmse:0.928799\tvalidation_1-rmse:1.29756\n",
      "[8]\tvalidation_0-rmse:0.927448\tvalidation_1-rmse:1.30022\n",
      "[9]\tvalidation_0-rmse:0.925664\tvalidation_1-rmse:1.2974\n",
      "[10]\tvalidation_0-rmse:0.924589\tvalidation_1-rmse:1.29328\n",
      "[11]\tvalidation_0-rmse:0.923275\tvalidation_1-rmse:1.29591\n",
      "[12]\tvalidation_0-rmse:0.922212\tvalidation_1-rmse:1.29716\n",
      "[13]\tvalidation_0-rmse:0.921088\tvalidation_1-rmse:1.29924\n",
      "[14]\tvalidation_0-rmse:0.92012\tvalidation_1-rmse:1.29466\n",
      "[15]\tvalidation_0-rmse:0.91961\tvalidation_1-rmse:1.29628\n",
      "[16]\tvalidation_0-rmse:0.919002\tvalidation_1-rmse:1.29179\n",
      "[17]\tvalidation_0-rmse:0.918644\tvalidation_1-rmse:1.29053\n",
      "[18]\tvalidation_0-rmse:0.917994\tvalidation_1-rmse:1.29205\n",
      "[19]\tvalidation_0-rmse:0.917164\tvalidation_1-rmse:1.29132\n",
      "[20]\tvalidation_0-rmse:0.916437\tvalidation_1-rmse:1.29287\n",
      "[21]\tvalidation_0-rmse:0.915863\tvalidation_1-rmse:1.29531\n",
      "[22]\tvalidation_0-rmse:0.915494\tvalidation_1-rmse:1.29755\n",
      "[23]\tvalidation_0-rmse:0.915212\tvalidation_1-rmse:1.2999\n",
      "[24]\tvalidation_0-rmse:0.915018\tvalidation_1-rmse:1.29804\n",
      "[25]\tvalidation_0-rmse:0.914682\tvalidation_1-rmse:1.29803\n",
      "[26]\tvalidation_0-rmse:0.914068\tvalidation_1-rmse:1.29925\n",
      "[27]\tvalidation_0-rmse:0.913425\tvalidation_1-rmse:1.29812\n",
      "[28]\tvalidation_0-rmse:0.912581\tvalidation_1-rmse:1.2991\n",
      "[29]\tvalidation_0-rmse:0.912076\tvalidation_1-rmse:1.29875\n",
      "[30]\tvalidation_0-rmse:0.911294\tvalidation_1-rmse:1.29689\n",
      "[31]\tvalidation_0-rmse:0.910935\tvalidation_1-rmse:1.29915\n",
      "[32]\tvalidation_0-rmse:0.910549\tvalidation_1-rmse:1.30279\n",
      "[33]\tvalidation_0-rmse:0.91032\tvalidation_1-rmse:1.30279\n",
      "[34]\tvalidation_0-rmse:0.909919\tvalidation_1-rmse:1.3036\n",
      "[35]\tvalidation_0-rmse:0.909655\tvalidation_1-rmse:1.30113\n",
      "[36]\tvalidation_0-rmse:0.908818\tvalidation_1-rmse:1.30142\n",
      "[37]\tvalidation_0-rmse:0.90848\tvalidation_1-rmse:1.30154\n",
      "[38]\tvalidation_0-rmse:0.908282\tvalidation_1-rmse:1.3022\n",
      "[39]\tvalidation_0-rmse:0.907989\tvalidation_1-rmse:1.3022\n",
      "[40]\tvalidation_0-rmse:0.90759\tvalidation_1-rmse:1.30337\n",
      "[41]\tvalidation_0-rmse:0.907168\tvalidation_1-rmse:1.30245\n",
      "[42]\tvalidation_0-rmse:0.906991\tvalidation_1-rmse:1.30259\n",
      "[43]\tvalidation_0-rmse:0.906522\tvalidation_1-rmse:1.30787\n",
      "[44]\tvalidation_0-rmse:0.906103\tvalidation_1-rmse:1.30688\n",
      "[45]\tvalidation_0-rmse:0.905906\tvalidation_1-rmse:1.30932\n",
      "[46]\tvalidation_0-rmse:0.905517\tvalidation_1-rmse:1.31046\n",
      "[47]\tvalidation_0-rmse:0.90527\tvalidation_1-rmse:1.30787\n",
      "[48]\tvalidation_0-rmse:0.904728\tvalidation_1-rmse:1.30509\n",
      "[49]\tvalidation_0-rmse:0.904424\tvalidation_1-rmse:1.30838\n",
      "[50]\tvalidation_0-rmse:0.904282\tvalidation_1-rmse:1.30838\n",
      "Stopping. Best iteration:\n",
      "[0]\tvalidation_0-rmse:0.958595\tvalidation_1-rmse:1.26307\n",
      "\n"
     ]
    },
    {
     "data": {
      "text/plain": [
       "XGBRegressor(base_score=0.5, booster='gbtree', colsample_bylevel=1,\n",
       "       colsample_bytree=1, gamma=0, learning_rate=1, max_delta_step=0,\n",
       "       max_depth=3, min_child_weight=1, missing=None, n_estimators=1000,\n",
       "       n_jobs=1, nthread=None, objective='reg:linear', random_state=0,\n",
       "       reg_alpha=0, reg_lambda=1, scale_pos_weight=1, seed=0, silent=True,\n",
       "       subsample=1)"
      ]
     },
     "execution_count": 20,
     "metadata": {},
     "output_type": "execute_result"
    }
   ],
   "source": [
    "model.fit(\n",
    "    verbose=True,\n",
    "    X=x_train_small[0],\n",
    "    y=y_train_small[0],\n",
    "    eval_set=eval_set,\n",
    "    early_stopping_rounds=50\n",
    ")"
   ]
  },
  {
   "cell_type": "code",
   "execution_count": null,
   "metadata": {},
   "outputs": [],
   "source": []
  }
 ],
 "metadata": {
  "kernelspec": {
   "display_name": "Python 3",
   "language": "python",
   "name": "python3"
  },
  "language_info": {
   "codemirror_mode": {
    "name": "ipython",
    "version": 3
   },
   "file_extension": ".py",
   "mimetype": "text/x-python",
   "name": "python",
   "nbconvert_exporter": "python",
   "pygments_lexer": "ipython3",
   "version": "3.7.1"
  }
 },
 "nbformat": 4,
 "nbformat_minor": 2
}
