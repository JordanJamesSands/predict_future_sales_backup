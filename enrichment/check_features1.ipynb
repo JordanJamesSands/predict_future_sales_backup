{
 "cells": [
  {
   "cell_type": "code",
   "execution_count": 1,
   "metadata": {},
   "outputs": [],
   "source": [
    "import pickle\n",
    "import pandas as pd\n",
    "import numpy as np"
   ]
  },
  {
   "cell_type": "code",
   "execution_count": 3,
   "metadata": {},
   "outputs": [],
   "source": [
    "train_feat1 = pickle.load(open('../gen_data/x_train--features1.ipynb--.pickle','rb'))\n",
    "train_feat1_exp2 = pickle.load(open('../gen_data/x_train--features1.exp2.ipynb--.pickle','rb'))\n",
    "\n",
    "test_feat1 = pickle.load(open('../gen_data/x_test--features1.ipynb--.pickle','rb'))\n",
    "test_feat1_exp2 = pickle.load(open('../gen_data/x_test--features1.exp2.ipynb--.pickle','rb'))"
   ]
  },
  {
   "cell_type": "code",
   "execution_count": 4,
   "metadata": {},
   "outputs": [
    {
     "data": {
      "text/plain": [
       "True"
      ]
     },
     "execution_count": 4,
     "metadata": {},
     "output_type": "execute_result"
    }
   ],
   "source": [
    "train_feat1[1].equals(train_feat1_exp2)"
   ]
  },
  {
   "cell_type": "code",
   "execution_count": 6,
   "metadata": {},
   "outputs": [
    {
     "data": {
      "text/plain": [
       "True"
      ]
     },
     "execution_count": 6,
     "metadata": {},
     "output_type": "execute_result"
    }
   ],
   "source": [
    "test_feat1[1].equals(test_feat1_exp2)"
   ]
  },
  {
   "cell_type": "code",
   "execution_count": 7,
   "metadata": {},
   "outputs": [
    {
     "data": {
      "text/plain": [
       "32"
      ]
     },
     "execution_count": 7,
     "metadata": {},
     "output_type": "execute_result"
    }
   ],
   "source": [
    "train_feat1[0].date_block_num.max()"
   ]
  },
  {
   "cell_type": "code",
   "execution_count": 8,
   "metadata": {},
   "outputs": [
    {
     "data": {
      "text/html": [
       "<div>\n",
       "<style scoped>\n",
       "    .dataframe tbody tr th:only-of-type {\n",
       "        vertical-align: middle;\n",
       "    }\n",
       "\n",
       "    .dataframe tbody tr th {\n",
       "        vertical-align: top;\n",
       "    }\n",
       "\n",
       "    .dataframe thead th {\n",
       "        text-align: right;\n",
       "    }\n",
       "</style>\n",
       "<table border=\"1\" class=\"dataframe\">\n",
       "  <thead>\n",
       "    <tr style=\"text-align: right;\">\n",
       "      <th></th>\n",
       "      <th>date_block_num</th>\n",
       "      <th>shop_id</th>\n",
       "      <th>item_id</th>\n",
       "      <th>item_category_id</th>\n",
       "      <th>shop_name</th>\n",
       "      <th>item_name</th>\n",
       "      <th>item_category_name</th>\n",
       "      <th>sum_item_sales_back_1</th>\n",
       "      <th>sum_shop_sales_back_1</th>\n",
       "      <th>item_cnt_month_back_1</th>\n",
       "      <th>...</th>\n",
       "      <th>item_cnt_month_back_9</th>\n",
       "      <th>sum_item_sales_back_10</th>\n",
       "      <th>sum_shop_sales_back_10</th>\n",
       "      <th>item_cnt_month_back_10</th>\n",
       "      <th>sum_item_sales_back_11</th>\n",
       "      <th>sum_shop_sales_back_11</th>\n",
       "      <th>item_cnt_month_back_11</th>\n",
       "      <th>sum_item_sales_back_12</th>\n",
       "      <th>sum_shop_sales_back_12</th>\n",
       "      <th>item_cnt_month_back_12</th>\n",
       "    </tr>\n",
       "  </thead>\n",
       "  <tbody>\n",
       "    <tr>\n",
       "      <th>4488756</th>\n",
       "      <td>12</td>\n",
       "      <td>2</td>\n",
       "      <td>32</td>\n",
       "      <td>40.0</td>\n",
       "      <td>Адыгея ТЦ \"Мега\"</td>\n",
       "      <td>1+1</td>\n",
       "      <td>Кино - DVD</td>\n",
       "      <td>0.0</td>\n",
       "      <td>0.0</td>\n",
       "      <td>0.0</td>\n",
       "      <td>...</td>\n",
       "      <td>0.0</td>\n",
       "      <td>0.0</td>\n",
       "      <td>0.0</td>\n",
       "      <td>0.0</td>\n",
       "      <td>0.0</td>\n",
       "      <td>0.0</td>\n",
       "      <td>0.0</td>\n",
       "      <td>0.0</td>\n",
       "      <td>0.0</td>\n",
       "      <td>0.0</td>\n",
       "    </tr>\n",
       "    <tr>\n",
       "      <th>4488757</th>\n",
       "      <td>12</td>\n",
       "      <td>2</td>\n",
       "      <td>33</td>\n",
       "      <td>37.0</td>\n",
       "      <td>Адыгея ТЦ \"Мега\"</td>\n",
       "      <td>1+1 (BD)</td>\n",
       "      <td>Кино - Blu-Ray</td>\n",
       "      <td>42.0</td>\n",
       "      <td>1255.0</td>\n",
       "      <td>1.0</td>\n",
       "      <td>...</td>\n",
       "      <td>0.0</td>\n",
       "      <td>0.0</td>\n",
       "      <td>0.0</td>\n",
       "      <td>0.0</td>\n",
       "      <td>0.0</td>\n",
       "      <td>0.0</td>\n",
       "      <td>0.0</td>\n",
       "      <td>61.0</td>\n",
       "      <td>1146.0</td>\n",
       "      <td>1.0</td>\n",
       "    </tr>\n",
       "    <tr>\n",
       "      <th>4488758</th>\n",
       "      <td>12</td>\n",
       "      <td>2</td>\n",
       "      <td>99</td>\n",
       "      <td>37.0</td>\n",
       "      <td>Адыгея ТЦ \"Мега\"</td>\n",
       "      <td>1812: УЛАНСКАЯ БАЛЛАДА (BD)</td>\n",
       "      <td>Кино - Blu-Ray</td>\n",
       "      <td>0.0</td>\n",
       "      <td>0.0</td>\n",
       "      <td>0.0</td>\n",
       "      <td>...</td>\n",
       "      <td>0.0</td>\n",
       "      <td>0.0</td>\n",
       "      <td>0.0</td>\n",
       "      <td>0.0</td>\n",
       "      <td>0.0</td>\n",
       "      <td>0.0</td>\n",
       "      <td>0.0</td>\n",
       "      <td>0.0</td>\n",
       "      <td>0.0</td>\n",
       "      <td>0.0</td>\n",
       "    </tr>\n",
       "    <tr>\n",
       "      <th>4488759</th>\n",
       "      <td>12</td>\n",
       "      <td>2</td>\n",
       "      <td>482</td>\n",
       "      <td>73.0</td>\n",
       "      <td>Адыгея ТЦ \"Мега\"</td>\n",
       "      <td>1С:Бухгалтерия 8. Базовая версия</td>\n",
       "      <td>Программы - 1С:Предприятие 8</td>\n",
       "      <td>88.0</td>\n",
       "      <td>1255.0</td>\n",
       "      <td>1.0</td>\n",
       "      <td>...</td>\n",
       "      <td>1.0</td>\n",
       "      <td>128.0</td>\n",
       "      <td>751.0</td>\n",
       "      <td>1.0</td>\n",
       "      <td>95.0</td>\n",
       "      <td>489.0</td>\n",
       "      <td>1.0</td>\n",
       "      <td>118.0</td>\n",
       "      <td>1146.0</td>\n",
       "      <td>1.0</td>\n",
       "    </tr>\n",
       "    <tr>\n",
       "      <th>4488760</th>\n",
       "      <td>12</td>\n",
       "      <td>2</td>\n",
       "      <td>485</td>\n",
       "      <td>73.0</td>\n",
       "      <td>Адыгея ТЦ \"Мега\"</td>\n",
       "      <td>1С:Бухгалтерия 8. Учебная версия. Издание 7.</td>\n",
       "      <td>Программы - 1С:Предприятие 8</td>\n",
       "      <td>111.0</td>\n",
       "      <td>1255.0</td>\n",
       "      <td>1.0</td>\n",
       "      <td>...</td>\n",
       "      <td>2.0</td>\n",
       "      <td>0.0</td>\n",
       "      <td>0.0</td>\n",
       "      <td>0.0</td>\n",
       "      <td>0.0</td>\n",
       "      <td>0.0</td>\n",
       "      <td>0.0</td>\n",
       "      <td>0.0</td>\n",
       "      <td>0.0</td>\n",
       "      <td>0.0</td>\n",
       "    </tr>\n",
       "  </tbody>\n",
       "</table>\n",
       "<p>5 rows × 43 columns</p>\n",
       "</div>"
      ],
      "text/plain": [
       "         date_block_num  shop_id  item_id  item_category_id         shop_name  \\\n",
       "4488756              12        2       32              40.0  Адыгея ТЦ \"Мега\"   \n",
       "4488757              12        2       33              37.0  Адыгея ТЦ \"Мега\"   \n",
       "4488758              12        2       99              37.0  Адыгея ТЦ \"Мега\"   \n",
       "4488759              12        2      482              73.0  Адыгея ТЦ \"Мега\"   \n",
       "4488760              12        2      485              73.0  Адыгея ТЦ \"Мега\"   \n",
       "\n",
       "                                            item_name  \\\n",
       "4488756                                           1+1   \n",
       "4488757                                      1+1 (BD)   \n",
       "4488758                   1812: УЛАНСКАЯ БАЛЛАДА (BD)   \n",
       "4488759              1С:Бухгалтерия 8. Базовая версия   \n",
       "4488760  1С:Бухгалтерия 8. Учебная версия. Издание 7.   \n",
       "\n",
       "                   item_category_name  sum_item_sales_back_1  \\\n",
       "4488756                    Кино - DVD                    0.0   \n",
       "4488757                Кино - Blu-Ray                   42.0   \n",
       "4488758                Кино - Blu-Ray                    0.0   \n",
       "4488759  Программы - 1С:Предприятие 8                   88.0   \n",
       "4488760  Программы - 1С:Предприятие 8                  111.0   \n",
       "\n",
       "         sum_shop_sales_back_1  item_cnt_month_back_1           ...            \\\n",
       "4488756                    0.0                    0.0           ...             \n",
       "4488757                 1255.0                    1.0           ...             \n",
       "4488758                    0.0                    0.0           ...             \n",
       "4488759                 1255.0                    1.0           ...             \n",
       "4488760                 1255.0                    1.0           ...             \n",
       "\n",
       "         item_cnt_month_back_9  sum_item_sales_back_10  \\\n",
       "4488756                    0.0                     0.0   \n",
       "4488757                    0.0                     0.0   \n",
       "4488758                    0.0                     0.0   \n",
       "4488759                    1.0                   128.0   \n",
       "4488760                    2.0                     0.0   \n",
       "\n",
       "         sum_shop_sales_back_10  item_cnt_month_back_10  \\\n",
       "4488756                     0.0                     0.0   \n",
       "4488757                     0.0                     0.0   \n",
       "4488758                     0.0                     0.0   \n",
       "4488759                   751.0                     1.0   \n",
       "4488760                     0.0                     0.0   \n",
       "\n",
       "         sum_item_sales_back_11  sum_shop_sales_back_11  \\\n",
       "4488756                     0.0                     0.0   \n",
       "4488757                     0.0                     0.0   \n",
       "4488758                     0.0                     0.0   \n",
       "4488759                    95.0                   489.0   \n",
       "4488760                     0.0                     0.0   \n",
       "\n",
       "         item_cnt_month_back_11  sum_item_sales_back_12  \\\n",
       "4488756                     0.0                     0.0   \n",
       "4488757                     0.0                    61.0   \n",
       "4488758                     0.0                     0.0   \n",
       "4488759                     1.0                   118.0   \n",
       "4488760                     0.0                     0.0   \n",
       "\n",
       "         sum_shop_sales_back_12  item_cnt_month_back_12  \n",
       "4488756                     0.0                     0.0  \n",
       "4488757                  1146.0                     1.0  \n",
       "4488758                     0.0                     0.0  \n",
       "4488759                  1146.0                     1.0  \n",
       "4488760                     0.0                     0.0  \n",
       "\n",
       "[5 rows x 43 columns]"
      ]
     },
     "execution_count": 8,
     "metadata": {},
     "output_type": "execute_result"
    }
   ],
   "source": [
    "train_feat1[0].head()"
   ]
  },
  {
   "cell_type": "code",
   "execution_count": null,
   "metadata": {},
   "outputs": [],
   "source": []
  }
 ],
 "metadata": {
  "kernelspec": {
   "display_name": "Python 3",
   "language": "python",
   "name": "python3"
  },
  "language_info": {
   "codemirror_mode": {
    "name": "ipython",
    "version": 3
   },
   "file_extension": ".py",
   "mimetype": "text/x-python",
   "name": "python",
   "nbconvert_exporter": "python",
   "pygments_lexer": "ipython3",
   "version": "3.7.1"
  }
 },
 "nbformat": 4,
 "nbformat_minor": 2
}
