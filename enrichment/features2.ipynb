{
 "cells": [
  {
   "cell_type": "code",
   "execution_count": 1,
   "metadata": {},
   "outputs": [],
   "source": [
    "import pickle\n",
    "import numpy as np\n",
    "import pandas as pd\n",
    "import re"
   ]
  },
  {
   "cell_type": "code",
   "execution_count": 2,
   "metadata": {},
   "outputs": [],
   "source": [
    "x_train = pickle.load(open('../gen_data/x_train--features1.1.ipynb--.pickle','rb'))\n",
    "x_test = pickle.load(open('../gen_data/x_test--features1.1.ipynb--.pickle','rb'))"
   ]
  },
  {
   "cell_type": "code",
   "execution_count": 3,
   "metadata": {},
   "outputs": [],
   "source": [
    "#x_train_list[0].shape"
   ]
  },
  {
   "cell_type": "markdown",
   "metadata": {},
   "source": [
    "# Month Features"
   ]
  },
  {
   "cell_type": "markdown",
   "metadata": {},
   "source": [
    "date_block_num==0 is January 2013"
   ]
  },
  {
   "cell_type": "code",
   "execution_count": 4,
   "metadata": {},
   "outputs": [],
   "source": [
    "def single_to_month(date_block_num):\n",
    "    return ['jan','feb','mar','apr','may','jun','jul','aug','sep','oct','nov','dec'][date_block_num % 12]\n",
    "def to_month(df):\n",
    "    df['month'] = pd.Series(map(single_to_month,df.date_block_num),index=df.index)\n",
    "    return df"
   ]
  },
  {
   "cell_type": "code",
   "execution_count": 5,
   "metadata": {},
   "outputs": [],
   "source": [
    "def single_to_numdays(date_block_num):\n",
    "    return [31,28,31,30,31,30,31,31,30,31,30,31][date_block_num % 12]\n",
    "def to_numdays(df):\n",
    "    df['numdays'] = pd.Series(map(single_to_numdays,df.date_block_num),index=df.index)\n",
    "    return df"
   ]
  },
  {
   "cell_type": "code",
   "execution_count": 6,
   "metadata": {
    "scrolled": true
   },
   "outputs": [],
   "source": [
    "x_train = list(map(to_month,x_train))\n",
    "x_train = list(map(to_numdays,x_train))"
   ]
  },
  {
   "cell_type": "code",
   "execution_count": 7,
   "metadata": {},
   "outputs": [],
   "source": [
    "x_test = list(map(to_month,x_test))\n",
    "x_test = list(map(to_numdays,x_test))"
   ]
  },
  {
   "cell_type": "markdown",
   "metadata": {},
   "source": [
    "### Save"
   ]
  },
  {
   "cell_type": "code",
   "execution_count": 8,
   "metadata": {},
   "outputs": [
    {
     "data": {
      "text/plain": [
       "Index(['date_block_num', 'shop_id', 'item_id', 'item_category_id',\n",
       "       'first_sale_date_block', 'new_item', 'city', 'item_type', 'item_info',\n",
       "       'prop_median_item_price',\n",
       "       ...\n",
       "       'sum_item_cat_shop_sales_back_12', 'sum_city_back_12',\n",
       "       'sum_itemtype_back_12', 'sum_iteminfo_back_12', 'sum_city_item_back_12',\n",
       "       'sum_city_item_cat_back_12', 'sum_itemtype_shop_back_12',\n",
       "       'sum_itemtype_city_back_12', 'month', 'numdays'],\n",
       "      dtype='object', length=156)"
      ]
     },
     "execution_count": 8,
     "metadata": {},
     "output_type": "execute_result"
    }
   ],
   "source": [
    "x_train[0].columns"
   ]
  },
  {
   "cell_type": "code",
   "execution_count": 9,
   "metadata": {},
   "outputs": [],
   "source": [
    "pickle.dump(x_train,open('../gen_data/x_train--features2.ipynb--.pickle','wb'))\n",
    "pickle.dump(x_test,open('../gen_data/x_test--features2.ipynb--.pickle','wb'))"
   ]
  },
  {
   "cell_type": "code",
   "execution_count": null,
   "metadata": {},
   "outputs": [],
   "source": []
  }
 ],
 "metadata": {
  "kernelspec": {
   "display_name": "Python 3",
   "language": "python",
   "name": "python3"
  },
  "language_info": {
   "codemirror_mode": {
    "name": "ipython",
    "version": 3
   },
   "file_extension": ".py",
   "mimetype": "text/x-python",
   "name": "python",
   "nbconvert_exporter": "python",
   "pygments_lexer": "ipython3",
   "version": "3.7.1"
  }
 },
 "nbformat": 4,
 "nbformat_minor": 2
}
