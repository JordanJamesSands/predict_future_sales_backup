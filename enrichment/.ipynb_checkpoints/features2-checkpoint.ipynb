{
 "cells": [
  {
   "cell_type": "code",
   "execution_count": 1,
   "metadata": {},
   "outputs": [],
   "source": [
    "import pickle\n",
    "import numpy as np\n",
    "import pandas as pd\n",
    "import re"
   ]
  },
  {
   "cell_type": "code",
   "execution_count": 2,
   "metadata": {},
   "outputs": [],
   "source": [
    "x_train = pickle.load(open('../gen_data/x_train--features1.ipynb--.pickle','rb'))\n",
    "x_test = pickle.load(open('../gen_data/x_test--features1.ipynb--.pickle','rb'))"
   ]
  },
  {
   "cell_type": "markdown",
   "metadata": {},
   "source": [
    "# Month Features"
   ]
  },
  {
   "cell_type": "markdown",
   "metadata": {},
   "source": [
    "date_block_num==0 is January 2013"
   ]
  },
  {
   "cell_type": "code",
   "execution_count": 4,
   "metadata": {},
   "outputs": [],
   "source": [
    "def single_to_month(date_block_num):\n",
    "    return ['jan','feb','mar','apr','may','jun','jul','aug','sep','oct','nov','dec'][date_block_num % 12]\n",
    "def to_month(df):\n",
    "    df['month'] = pd.Series(map(single_to_month,df.date_block_num),index=df.index)\n",
    "    return df"
   ]
  },
  {
   "cell_type": "code",
   "execution_count": 5,
   "metadata": {},
   "outputs": [],
   "source": [
    "def single_to_numdays(date_block_num):\n",
    "    return [31,28,31,30,31,30,31,31,30,31,30,31][date_block_num % 12]\n",
    "def to_numdays(df):\n",
    "    df['numdays'] = pd.Series(map(single_to_numdays,df.date_block_num),index=df.index)\n",
    "    return df"
   ]
  },
  {
   "cell_type": "code",
   "execution_count": 6,
   "metadata": {
    "scrolled": true
   },
   "outputs": [],
   "source": [
    "x_train = list(map(to_month,x_train))\n",
    "x_train = list(map(to_numdays,x_train))"
   ]
  },
  {
   "cell_type": "code",
   "execution_count": 9,
   "metadata": {},
   "outputs": [],
   "source": [
    "x_test = list(map(to_month,x_test))\n",
    "x_test = list(map(to_numdays,x_test))"
   ]
  },
  {
   "cell_type": "markdown",
   "metadata": {},
   "source": [
    "### Save"
   ]
  },
  {
   "cell_type": "code",
   "execution_count": 13,
   "metadata": {},
   "outputs": [],
   "source": [
    "pickle.dump(x_train,open('../gen_data/x_train--features2.ipynb--.pickle','wb'))\n",
    "pickle.dump(x_test,open('../gen_data/x_test--features2.ipynb--.pickle','wb'))"
   ]
  }
 ],
 "metadata": {
  "kernelspec": {
   "display_name": "Python 3",
   "language": "python",
   "name": "python3"
  },
  "language_info": {
   "codemirror_mode": {
    "name": "ipython",
    "version": 3
   },
   "file_extension": ".py",
   "mimetype": "text/x-python",
   "name": "python",
   "nbconvert_exporter": "python",
   "pygments_lexer": "ipython3",
   "version": "3.7.1"
  }
 },
 "nbformat": 4,
 "nbformat_minor": 2
}
