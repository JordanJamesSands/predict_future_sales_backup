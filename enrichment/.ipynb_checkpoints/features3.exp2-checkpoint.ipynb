{
 "cells": [
  {
   "cell_type": "code",
   "execution_count": 4,
   "metadata": {},
   "outputs": [],
   "source": [
    "import pandas as pd\n",
    "import numpy as np\n",
    "import pickle"
   ]
  },
  {
   "cell_type": "code",
   "execution_count": 5,
   "metadata": {},
   "outputs": [],
   "source": [
    "SAVE_TIME=False"
   ]
  },
  {
   "cell_type": "code",
   "execution_count": 6,
   "metadata": {},
   "outputs": [],
   "source": [
    "x_train_list = pickle.load(open('../gen_data/x_train--features2.ipynb--.pickle','rb'))\n",
    "x_test_list = pickle.load(open('../gen_data/x_test--features2.ipynb--.pickle','rb'))\n",
    "\n",
    "sales = pd.read_csv('../original_data/sales_train.csv.gz')"
   ]
  },
  {
   "cell_type": "markdown",
   "metadata": {},
   "source": [
    "### Generate time specific market price data"
   ]
  },
  {
   "cell_type": "code",
   "execution_count": 7,
   "metadata": {},
   "outputs": [
    {
     "name": "stdout",
     "output_type": "stream",
     "text": [
      "Generating variables related to month: \n",
      "0, 1, 2, 3, 4, 5, "
     ]
    },
    {
     "name": "stderr",
     "output_type": "stream",
     "text": [
      "C:\\ProgramData\\Anaconda3\\lib\\site-packages\\ipykernel_launcher.py:26: RuntimeWarning: invalid value encountered in sqrt\n"
     ]
    },
    {
     "name": "stdout",
     "output_type": "stream",
     "text": [
      "6, 7, 8, 9, 10, 11, 12, 13, 14, 15, 16, 17, 18, 19, 20, 21, 22, 23, 24, 25, 26, 27, 28, 29, 30, 31, 32, 33, "
     ]
    }
   ],
   "source": [
    "if not SAVE_TIME:\n",
    "    months = range(sales.date_block_num.min() , sales.date_block_num.max() +1 )\n",
    "    #months=range(1,2)\n",
    "    #months=range(19,20)\n",
    "    to_df=[]\n",
    "    print('Generating variables related to month: ')\n",
    "    for month in months:\n",
    "        print(month,end=', ')\n",
    "        dfm = sales[sales.date_block_num==(month-1)]\n",
    "        items= dfm.item_id.unique()\n",
    "        prices=[]\n",
    "        for item in items:\n",
    "            dfmi = dfm[dfm.item_id==item]\n",
    "            pricesum = dfmi.item_price.sum()\n",
    "            count = dfmi.item_cnt_day.sum()\n",
    "\n",
    "            #sdprice=np.nan\n",
    "\n",
    "            if count>0:\n",
    "                meanprice=pricesum/count\n",
    "            else:\n",
    "                meanprice=np.nan\n",
    "                \n",
    "            if count>1:\n",
    "                ss = np.sum(dfmi.item_cnt_day*(dfmi.item_price-meanprice)**2)\n",
    "                sdprice = np.sqrt( ss/(count-1) )\n",
    "            else:\n",
    "                sdprice=np.nan\n",
    "            #sdprice=np.sqrt(dfmi.item_cnt_day.sum()*(price - meanprice)**2/(count-1))\n",
    "            to_df.append([month,item,meanprice,sdprice])\n",
    "\n",
    "    price_data = pd.DataFrame(np.vstack(to_df),columns=['date_block_num','item_id','mean_prevmonth_item_price','sd_prevmonth_item_price'])"
   ]
  },
  {
   "cell_type": "markdown",
   "metadata": {},
   "source": [
    "### add median price (approximation, because some rows have more than 1 sale)"
   ]
  },
  {
   "cell_type": "code",
   "execution_count": 8,
   "metadata": {},
   "outputs": [
    {
     "data": {
      "text/html": [
       "<div>\n",
       "<style scoped>\n",
       "    .dataframe tbody tr th:only-of-type {\n",
       "        vertical-align: middle;\n",
       "    }\n",
       "\n",
       "    .dataframe tbody tr th {\n",
       "        vertical-align: top;\n",
       "    }\n",
       "\n",
       "    .dataframe thead th {\n",
       "        text-align: right;\n",
       "    }\n",
       "</style>\n",
       "<table border=\"1\" class=\"dataframe\">\n",
       "  <thead>\n",
       "    <tr style=\"text-align: right;\">\n",
       "      <th></th>\n",
       "      <th>date_block_num</th>\n",
       "      <th>item_id</th>\n",
       "      <th>mean_prevmonth_item_price</th>\n",
       "      <th>sd_prevmonth_item_price</th>\n",
       "    </tr>\n",
       "  </thead>\n",
       "  <tbody>\n",
       "    <tr>\n",
       "      <th>0</th>\n",
       "      <td>1.0</td>\n",
       "      <td>22154.0</td>\n",
       "      <td>999.00</td>\n",
       "      <td>0.000000</td>\n",
       "    </tr>\n",
       "    <tr>\n",
       "      <th>1</th>\n",
       "      <td>1.0</td>\n",
       "      <td>2552.0</td>\n",
       "      <td>NaN</td>\n",
       "      <td>NaN</td>\n",
       "    </tr>\n",
       "    <tr>\n",
       "      <th>2</th>\n",
       "      <td>1.0</td>\n",
       "      <td>2554.0</td>\n",
       "      <td>1709.05</td>\n",
       "      <td>NaN</td>\n",
       "    </tr>\n",
       "    <tr>\n",
       "      <th>3</th>\n",
       "      <td>1.0</td>\n",
       "      <td>2555.0</td>\n",
       "      <td>1098.85</td>\n",
       "      <td>0.212132</td>\n",
       "    </tr>\n",
       "    <tr>\n",
       "      <th>4</th>\n",
       "      <td>1.0</td>\n",
       "      <td>2564.0</td>\n",
       "      <td>327.60</td>\n",
       "      <td>47.851855</td>\n",
       "    </tr>\n",
       "  </tbody>\n",
       "</table>\n",
       "</div>"
      ],
      "text/plain": [
       "   date_block_num  item_id  mean_prevmonth_item_price  sd_prevmonth_item_price\n",
       "0             1.0  22154.0                     999.00                 0.000000\n",
       "1             1.0   2552.0                        NaN                      NaN\n",
       "2             1.0   2554.0                    1709.05                      NaN\n",
       "3             1.0   2555.0                    1098.85                 0.212132\n",
       "4             1.0   2564.0                     327.60                47.851855"
      ]
     },
     "execution_count": 8,
     "metadata": {},
     "output_type": "execute_result"
    }
   ],
   "source": [
    "price_data.head()"
   ]
  },
  {
   "cell_type": "code",
   "execution_count": 6,
   "metadata": {},
   "outputs": [],
   "source": [
    "#save time\n",
    "if SAVE_TIME:\n",
    "    price_data = pd.read_csv('../gen_data/price_data_for_features3.csv')\n",
    "else:\n",
    "    price_data.to_csv('../gen_data/price_data_for_features3.csv',index=False)"
   ]
  },
  {
   "cell_type": "code",
   "execution_count": 7,
   "metadata": {},
   "outputs": [
    {
     "data": {
      "text/html": [
       "<div>\n",
       "<style scoped>\n",
       "    .dataframe tbody tr th:only-of-type {\n",
       "        vertical-align: middle;\n",
       "    }\n",
       "\n",
       "    .dataframe tbody tr th {\n",
       "        vertical-align: top;\n",
       "    }\n",
       "\n",
       "    .dataframe thead th {\n",
       "        text-align: right;\n",
       "    }\n",
       "</style>\n",
       "<table border=\"1\" class=\"dataframe\">\n",
       "  <thead>\n",
       "    <tr style=\"text-align: right;\">\n",
       "      <th></th>\n",
       "      <th>date_block_num</th>\n",
       "      <th>item_id</th>\n",
       "      <th>mean_prevmonth_item_price</th>\n",
       "      <th>sd_prevmonth_item_price</th>\n",
       "    </tr>\n",
       "  </thead>\n",
       "  <tbody>\n",
       "    <tr>\n",
       "      <th>0</th>\n",
       "      <td>1</td>\n",
       "      <td>22154</td>\n",
       "      <td>999.00</td>\n",
       "      <td>0.000000</td>\n",
       "    </tr>\n",
       "    <tr>\n",
       "      <th>1</th>\n",
       "      <td>1</td>\n",
       "      <td>2552</td>\n",
       "      <td>NaN</td>\n",
       "      <td>NaN</td>\n",
       "    </tr>\n",
       "    <tr>\n",
       "      <th>2</th>\n",
       "      <td>1</td>\n",
       "      <td>2554</td>\n",
       "      <td>1709.05</td>\n",
       "      <td>NaN</td>\n",
       "    </tr>\n",
       "    <tr>\n",
       "      <th>3</th>\n",
       "      <td>1</td>\n",
       "      <td>2555</td>\n",
       "      <td>1098.85</td>\n",
       "      <td>0.212132</td>\n",
       "    </tr>\n",
       "    <tr>\n",
       "      <th>4</th>\n",
       "      <td>1</td>\n",
       "      <td>2564</td>\n",
       "      <td>327.60</td>\n",
       "      <td>47.851855</td>\n",
       "    </tr>\n",
       "  </tbody>\n",
       "</table>\n",
       "</div>"
      ],
      "text/plain": [
       "   date_block_num  item_id  mean_prevmonth_item_price  sd_prevmonth_item_price\n",
       "0               1    22154                     999.00                 0.000000\n",
       "1               1     2552                        NaN                      NaN\n",
       "2               1     2554                    1709.05                      NaN\n",
       "3               1     2555                    1098.85                 0.212132\n",
       "4               1     2564                     327.60                47.851855"
      ]
     },
     "execution_count": 7,
     "metadata": {},
     "output_type": "execute_result"
    }
   ],
   "source": [
    "price_data['date_block_num'] = price_data.date_block_num.astype(np.int32)\n",
    "price_data['item_id'] = price_data.item_id.astype(np.int32)\n",
    "price_data.head()"
   ]
  },
  {
   "cell_type": "markdown",
   "metadata": {},
   "source": [
    "### Generate shop-time price data"
   ]
  },
  {
   "cell_type": "code",
   "execution_count": 8,
   "metadata": {},
   "outputs": [
    {
     "data": {
      "text/html": [
       "<div>\n",
       "<style scoped>\n",
       "    .dataframe tbody tr th:only-of-type {\n",
       "        vertical-align: middle;\n",
       "    }\n",
       "\n",
       "    .dataframe tbody tr th {\n",
       "        vertical-align: top;\n",
       "    }\n",
       "\n",
       "    .dataframe thead th {\n",
       "        text-align: right;\n",
       "    }\n",
       "</style>\n",
       "<table border=\"1\" class=\"dataframe\">\n",
       "  <thead>\n",
       "    <tr style=\"text-align: right;\">\n",
       "      <th></th>\n",
       "      <th>date_block_num</th>\n",
       "      <th>shop_id</th>\n",
       "      <th>item_id</th>\n",
       "      <th>mean_prevmonth_shop_item_price</th>\n",
       "    </tr>\n",
       "  </thead>\n",
       "  <tbody>\n",
       "    <tr>\n",
       "      <th>0</th>\n",
       "      <td>1</td>\n",
       "      <td>0</td>\n",
       "      <td>32</td>\n",
       "      <td>221.0</td>\n",
       "    </tr>\n",
       "    <tr>\n",
       "      <th>1</th>\n",
       "      <td>1</td>\n",
       "      <td>0</td>\n",
       "      <td>33</td>\n",
       "      <td>347.0</td>\n",
       "    </tr>\n",
       "    <tr>\n",
       "      <th>2</th>\n",
       "      <td>1</td>\n",
       "      <td>0</td>\n",
       "      <td>35</td>\n",
       "      <td>247.0</td>\n",
       "    </tr>\n",
       "    <tr>\n",
       "      <th>3</th>\n",
       "      <td>1</td>\n",
       "      <td>0</td>\n",
       "      <td>43</td>\n",
       "      <td>221.0</td>\n",
       "    </tr>\n",
       "    <tr>\n",
       "      <th>4</th>\n",
       "      <td>1</td>\n",
       "      <td>0</td>\n",
       "      <td>51</td>\n",
       "      <td>128.5</td>\n",
       "    </tr>\n",
       "  </tbody>\n",
       "</table>\n",
       "</div>"
      ],
      "text/plain": [
       "   date_block_num  shop_id  item_id  mean_prevmonth_shop_item_price\n",
       "0               1        0       32                           221.0\n",
       "1               1        0       33                           347.0\n",
       "2               1        0       35                           247.0\n",
       "3               1        0       43                           221.0\n",
       "4               1        0       51                           128.5"
      ]
     },
     "execution_count": 8,
     "metadata": {},
     "output_type": "execute_result"
    }
   ],
   "source": [
    "#not gonna worry about getting mean price by transaction, will \n",
    "#settle for mean price by row (which could incnlude many transactions)\n",
    "shop_item_data = sales.groupby(['date_block_num','shop_id','item_id'],as_index=False).item_price.mean()\n",
    "shop_item_data['date_block_num'] += 1\n",
    "shop_item_data.columns = ['date_block_num','shop_id','item_id','mean_prevmonth_shop_item_price']\n",
    "shop_item_data.head()"
   ]
  },
  {
   "cell_type": "code",
   "execution_count": 9,
   "metadata": {},
   "outputs": [],
   "source": [
    "def merge_price_data(df):\n",
    "    return df.merge(price_data,how='left').merge(shop_item_data,how='left')"
   ]
  },
  {
   "cell_type": "code",
   "execution_count": 10,
   "metadata": {},
   "outputs": [],
   "source": [
    "new_x_train_list = list(map(merge_price_data,x_train_list))\n",
    "new_x_test_list = list(map(merge_price_data,x_test_list))"
   ]
  },
  {
   "cell_type": "code",
   "execution_count": 11,
   "metadata": {},
   "outputs": [],
   "source": [
    "def insert_sd_above_market(df):\n",
    "    df['sd_above_market'] = (df.mean_prevmonth_shop_item_price - df.mean_prevmonth_item_price) / df.sd_prevmonth_item_price\n",
    "    return df"
   ]
  },
  {
   "cell_type": "code",
   "execution_count": 12,
   "metadata": {},
   "outputs": [],
   "source": [
    "def cleanup(df):\n",
    "    mean_sd = np.nanmean(df.sd_prevmonth_item_price)\n",
    "    df['sd_prevmonth_item_price'] = df.sd_prevmonth_item_price.fillna(mean_sd)\n",
    "    df['sd_above_market'] = df.sd_above_market.fillna(0)\n",
    "    return df"
   ]
  },
  {
   "cell_type": "code",
   "execution_count": 13,
   "metadata": {},
   "outputs": [],
   "source": [
    "new_x_train_list = list(map(insert_sd_above_market,new_x_train_list))\n",
    "new_x_test_list = list(map(insert_sd_above_market,new_x_test_list))"
   ]
  },
  {
   "cell_type": "code",
   "execution_count": 14,
   "metadata": {},
   "outputs": [
    {
     "name": "stderr",
     "output_type": "stream",
     "text": [
      "C:\\ProgramData\\Anaconda3\\lib\\site-packages\\ipykernel_launcher.py:2: RuntimeWarning: Mean of empty slice\n",
      "  \n"
     ]
    }
   ],
   "source": [
    "new_x_train_list = list(map(cleanup,new_x_train_list))\n",
    "new_x_test_list = list(map(cleanup,new_x_test_list))"
   ]
  },
  {
   "cell_type": "markdown",
   "metadata": {},
   "source": [
    "### Save"
   ]
  },
  {
   "cell_type": "code",
   "execution_count": 15,
   "metadata": {},
   "outputs": [],
   "source": [
    "pickle.dump(new_x_train_list,open('../gen_data/x_train--features3.ipynb--.pickle','wb'))\n",
    "pickle.dump(new_x_test_list,open('../gen_data/x_test--features3.ipynb--.pickle','wb'))"
   ]
  }
 ],
 "metadata": {
  "kernelspec": {
   "display_name": "Python 3",
   "language": "python",
   "name": "python3"
  },
  "language_info": {
   "codemirror_mode": {
    "name": "ipython",
    "version": 3
   },
   "file_extension": ".py",
   "mimetype": "text/x-python",
   "name": "python",
   "nbconvert_exporter": "python",
   "pygments_lexer": "ipython3",
   "version": "3.7.1"
  }
 },
 "nbformat": 4,
 "nbformat_minor": 2
}
