{
 "cells": [
  {
   "cell_type": "code",
   "execution_count": 1,
   "metadata": {},
   "outputs": [],
   "source": [
    "import pandas as pd\n",
    "import numpy as np\n",
    "import pickle"
   ]
  },
  {
   "cell_type": "code",
   "execution_count": 2,
   "metadata": {},
   "outputs": [],
   "source": [
    "y_test = pickle.load(open('../gen_data/y_val--simple_validation_split.ipynb--.pickle','rb'))\n",
    "x_train = pickle.load(open('../gen_data/x_train--simple_validation_split.ipynb--.pickle','rb'))\n",
    "x_test = pickle.load(open('../gen_data/x_val--simple_validation_split.ipynb--.pickle','rb'))"
   ]
  },
  {
   "cell_type": "code",
   "execution_count": 3,
   "metadata": {},
   "outputs": [
    {
     "data": {
      "text/plain": [
       "(214200,)"
      ]
     },
     "execution_count": 3,
     "metadata": {},
     "output_type": "execute_result"
    }
   ],
   "source": [
    "y_test[0].shape"
   ]
  },
  {
   "cell_type": "code",
   "execution_count": 4,
   "metadata": {},
   "outputs": [
    {
     "data": {
      "text/plain": [
       "(214200, 3)"
      ]
     },
     "execution_count": 4,
     "metadata": {},
     "output_type": "execute_result"
    }
   ],
   "source": [
    "x_test[0].shape"
   ]
  },
  {
   "cell_type": "code",
   "execution_count": 5,
   "metadata": {},
   "outputs": [
    {
     "data": {
      "text/html": [
       "<div>\n",
       "<style scoped>\n",
       "    .dataframe tbody tr th:only-of-type {\n",
       "        vertical-align: middle;\n",
       "    }\n",
       "\n",
       "    .dataframe tbody tr th {\n",
       "        vertical-align: top;\n",
       "    }\n",
       "\n",
       "    .dataframe thead th {\n",
       "        text-align: right;\n",
       "    }\n",
       "</style>\n",
       "<table border=\"1\" class=\"dataframe\">\n",
       "  <thead>\n",
       "    <tr style=\"text-align: right;\">\n",
       "      <th></th>\n",
       "      <th>date_block_num</th>\n",
       "      <th>shop_id</th>\n",
       "      <th>item_id</th>\n",
       "      <th>item_category_id</th>\n",
       "      <th>shop_name</th>\n",
       "      <th>item_name</th>\n",
       "      <th>item_category_name</th>\n",
       "    </tr>\n",
       "  </thead>\n",
       "  <tbody>\n",
       "    <tr>\n",
       "      <th>0</th>\n",
       "      <td>0</td>\n",
       "      <td>2</td>\n",
       "      <td>27</td>\n",
       "      <td>19</td>\n",
       "      <td>Адыгея ТЦ \"Мега\"</td>\n",
       "      <td>007 Legends [PS3, русская версия]</td>\n",
       "      <td>Игры - PS3</td>\n",
       "    </tr>\n",
       "    <tr>\n",
       "      <th>1</th>\n",
       "      <td>0</td>\n",
       "      <td>2</td>\n",
       "      <td>33</td>\n",
       "      <td>37</td>\n",
       "      <td>Адыгея ТЦ \"Мега\"</td>\n",
       "      <td>1+1 (BD)</td>\n",
       "      <td>Кино - Blu-Ray</td>\n",
       "    </tr>\n",
       "    <tr>\n",
       "      <th>2</th>\n",
       "      <td>0</td>\n",
       "      <td>2</td>\n",
       "      <td>317</td>\n",
       "      <td>45</td>\n",
       "      <td>Адыгея ТЦ \"Мега\"</td>\n",
       "      <td>1С:Аудиокниги. Мединский В. Мифы о России. О р...</td>\n",
       "      <td>Книги - Аудиокниги 1С</td>\n",
       "    </tr>\n",
       "    <tr>\n",
       "      <th>3</th>\n",
       "      <td>0</td>\n",
       "      <td>2</td>\n",
       "      <td>438</td>\n",
       "      <td>45</td>\n",
       "      <td>Адыгея ТЦ \"Мега\"</td>\n",
       "      <td>1С:Аудиотеатр. Лучшие произведения русских пис...</td>\n",
       "      <td>Книги - Аудиокниги 1С</td>\n",
       "    </tr>\n",
       "    <tr>\n",
       "      <th>4</th>\n",
       "      <td>0</td>\n",
       "      <td>2</td>\n",
       "      <td>471</td>\n",
       "      <td>49</td>\n",
       "      <td>Адыгея ТЦ \"Мега\"</td>\n",
       "      <td>1С:Бухгалтерия 8 (ред.3.0) как на ладони. Изд ...</td>\n",
       "      <td>Книги - Методические материалы 1С</td>\n",
       "    </tr>\n",
       "  </tbody>\n",
       "</table>\n",
       "</div>"
      ],
      "text/plain": [
       "   date_block_num  shop_id  item_id  item_category_id         shop_name  \\\n",
       "0               0        2       27                19  Адыгея ТЦ \"Мега\"   \n",
       "1               0        2       33                37  Адыгея ТЦ \"Мега\"   \n",
       "2               0        2      317                45  Адыгея ТЦ \"Мега\"   \n",
       "3               0        2      438                45  Адыгея ТЦ \"Мега\"   \n",
       "4               0        2      471                49  Адыгея ТЦ \"Мега\"   \n",
       "\n",
       "                                           item_name  \\\n",
       "0                  007 Legends [PS3, русская версия]   \n",
       "1                                           1+1 (BD)   \n",
       "2  1С:Аудиокниги. Мединский В. Мифы о России. О р...   \n",
       "3  1С:Аудиотеатр. Лучшие произведения русских пис...   \n",
       "4  1С:Бухгалтерия 8 (ред.3.0) как на ладони. Изд ...   \n",
       "\n",
       "                  item_category_name  \n",
       "0                         Игры - PS3  \n",
       "1                     Кино - Blu-Ray  \n",
       "2              Книги - Аудиокниги 1С  \n",
       "3              Книги - Аудиокниги 1С  \n",
       "4  Книги - Методические материалы 1С  "
      ]
     },
     "execution_count": 5,
     "metadata": {},
     "output_type": "execute_result"
    }
   ],
   "source": [
    "x_train[0].head()"
   ]
  },
  {
   "cell_type": "markdown",
   "metadata": {},
   "source": [
    "### Need to add information to test dfs "
   ]
  },
  {
   "cell_type": "code",
   "execution_count": 6,
   "metadata": {},
   "outputs": [],
   "source": [
    "def enrich_test(x_train,x_test,y_test):\n",
    "    validation_month = 1 + x_train.date_block_num.max()\n",
    "    x_test['date_block_num'] = validation_month\n",
    "    x_train_item_data = x_train[['item_id','item_category_id','item_name','item_category_name']].drop_duplicates()\n",
    "    x_train_shop_data = x_train[['shop_id','shop_name']].drop_duplicates()\n",
    "    # merge shops an items seperately\n",
    "    \n",
    "    x_test = x_test.merge(x_train_item_data,on=['item_id'],how='left')\n",
    "    x_test = x_test.merge(x_train_shop_data,on=['shop_id'],how='left')\n",
    "    \n",
    "    x_test.drop('ID',axis=1,inplace=True)\n",
    "    \n",
    "    x_train_column_order = x_train.columns.tolist()\n",
    "    x_test = x_test[x_train_column_order]\n",
    "    return x_test,y_test"
   ]
  },
  {
   "cell_type": "code",
   "execution_count": 7,
   "metadata": {},
   "outputs": [],
   "source": [
    "jumbled_list = [enrich_test(xtrain,xtest,ytest) for xtrain , xtest , ytest in zip(x_train,x_test,y_test)]\n",
    "x_test , y_test = list(map(list,zip(*jumbled_list)))"
   ]
  },
  {
   "cell_type": "code",
   "execution_count": 8,
   "metadata": {},
   "outputs": [
    {
     "data": {
      "text/plain": [
       "(214200, 7)"
      ]
     },
     "execution_count": 8,
     "metadata": {},
     "output_type": "execute_result"
    }
   ],
   "source": [
    "x_test[0].shape"
   ]
  },
  {
   "cell_type": "code",
   "execution_count": 9,
   "metadata": {},
   "outputs": [
    {
     "data": {
      "text/plain": [
       "(214200, 7)"
      ]
     },
     "execution_count": 9,
     "metadata": {},
     "output_type": "execute_result"
    }
   ],
   "source": [
    "x_test[1].shape"
   ]
  },
  {
   "cell_type": "code",
   "execution_count": 11,
   "metadata": {},
   "outputs": [
    {
     "data": {
      "text/plain": [
       "(1577593, 7)"
      ]
     },
     "execution_count": 11,
     "metadata": {},
     "output_type": "execute_result"
    }
   ],
   "source": [
    "x_train[0].shape"
   ]
  },
  {
   "cell_type": "markdown",
   "metadata": {},
   "source": [
    "# "
   ]
  },
  {
   "cell_type": "raw",
   "metadata": {},
   "source": [
    "x_test_out , y_test_out = enrich_test(x_train[1],x_test[1],y_test[1])\n",
    "x_test_out.shape"
   ]
  },
  {
   "cell_type": "code",
   "execution_count": null,
   "metadata": {},
   "outputs": [],
   "source": [
    "np.mean(x_test_out.item_category_id.isna())"
   ]
  },
  {
   "cell_type": "code",
   "execution_count": null,
   "metadata": {},
   "outputs": [],
   "source": [
    "x_test_out"
   ]
  }
 ],
 "metadata": {
  "kernelspec": {
   "display_name": "Python 3",
   "language": "python",
   "name": "python3"
  },
  "language_info": {
   "codemirror_mode": {
    "name": "ipython",
    "version": 3
   },
   "file_extension": ".py",
   "mimetype": "text/x-python",
   "name": "python",
   "nbconvert_exporter": "python",
   "pygments_lexer": "ipython3",
   "version": "3.7.1"
  }
 },
 "nbformat": 4,
 "nbformat_minor": 2
}
